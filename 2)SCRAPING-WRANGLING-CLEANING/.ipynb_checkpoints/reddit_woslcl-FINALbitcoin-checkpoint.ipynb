{
 "cells": [
  {
   "cell_type": "code",
   "execution_count": 1,
   "metadata": {},
   "outputs": [
    {
     "name": "stdout",
     "output_type": "stream",
     "text": [
      "Version 5.2.0 of praw is outdated. Version 5.3.0 was released Sunday December 17, 2017.\n"
     ]
    }
   ],
   "source": [
    "import praw\n",
    "import prawcore\n",
    "\n",
    "reddit = praw.Reddit(client_id = 'GeSMulGZbc7PeQ', client_secret = 'uSFY4s3PyufZwc9oHpIVlXpgI5Q', user_agent = 'scrapedata5')\n",
    "\n",
    "subreddit1 = reddit.subreddit('ethereum')\n",
    "submissions = subreddit1.submissions(1515974400,1518652800)\n",
    "#submissions = subreddit1.submissions(1515974400,1518652800)\n",
    "#^^^ currently 1/15/18 to 2/15/18\n"
   ]
  },
  {
   "cell_type": "code",
   "execution_count": 2,
   "metadata": {
    "collapsed": true
   },
   "outputs": [],
   "source": [
    "#submissions = subreddit1.submissions(1513296000,1520467200) --we want this span in the end. dec15 to march8\n",
    "#timestamps will now go from mid-December 2017 to "
   ]
  },
  {
   "cell_type": "code",
   "execution_count": 3,
   "metadata": {},
   "outputs": [],
   "source": [
    "reddits = []\n",
    "\n",
    "#submission.comments.replace_more(limit=None)\n",
    "\n",
    "for submission in submissions:\n",
    "    \n",
    "    submission.comments.replace_more(limit=None)\n",
    "    \n",
    "    post_id = submission.id\n",
    "    post_title = submission.title if submission.title else ''\n",
    "    # assuming it has a body\n",
    "    post_body = submission.selftext if submission.selftext else ''\n",
    "    post_text = post_title + ' ' + post_body\n",
    "    post_time = submission.created\n",
    "    post_type = 'post'\n",
    "    post_doc = {'doc_id': post_id,\n",
    "                'text': post_text,\n",
    "                'timestamp': post_time,\n",
    "                'doc_type': 'post'}\n",
    "    \n",
    "    reddits.append(post_doc)\n",
    "    \n",
    "    #we append to the main list first, then deal with the nesting\n",
    "    \n",
    "    top_level_comments = [comm for comm in submission.comments.list()] #this works just takes a long time\n",
    "    if top_level_comments:\n",
    "        for tlc in top_level_comments:\n",
    "            post_text = tlc.body \n",
    "            post_time = tlc.created\n",
    "            post_doc = {'doc_id': post_id,\n",
    "                        'text': post_text,\n",
    "                        'timestamp': post_time,\n",
    "                        'doc_type': 'comment'}\n",
    "            reddits.append(post_doc)\n",
    "            second_level_comments = [comm for comm in tlc.replies]\n",
    "            if second_level_comments:\n",
    "                for slc in second_level_comments:\n",
    "                    post_text = slc.body \n",
    "                    post_time = slc.created\n",
    "                    post_doc = {'doc_id': post_id,\n",
    "                                'text': post_text,\n",
    "                                'timestamp': post_time,\n",
    "                                'doc_type': 'comment'}\n",
    "                    reddits.append(post_doc)\n",
    "            \n"
   ]
  },
  {
   "cell_type": "code",
   "execution_count": 4,
   "metadata": {
    "collapsed": true
   },
   "outputs": [],
   "source": [
    "import pandas as pd"
   ]
  },
  {
   "cell_type": "code",
   "execution_count": 5,
   "metadata": {
    "collapsed": true
   },
   "outputs": [],
   "source": [
    "df = pd.DataFrame(reddits)"
   ]
  },
  {
   "cell_type": "code",
   "execution_count": 6,
   "metadata": {},
   "outputs": [
    {
     "data": {
      "text/html": [
       "<div>\n",
       "<style>\n",
       "    .dataframe thead tr:only-child th {\n",
       "        text-align: right;\n",
       "    }\n",
       "\n",
       "    .dataframe thead th {\n",
       "        text-align: left;\n",
       "    }\n",
       "\n",
       "    .dataframe tbody tr th {\n",
       "        vertical-align: top;\n",
       "    }\n",
       "</style>\n",
       "<table border=\"1\" class=\"dataframe\">\n",
       "  <thead>\n",
       "    <tr style=\"text-align: right;\">\n",
       "      <th></th>\n",
       "      <th>doc_id</th>\n",
       "      <th>doc_type</th>\n",
       "      <th>text</th>\n",
       "      <th>timestamp</th>\n",
       "    </tr>\n",
       "  </thead>\n",
       "  <tbody>\n",
       "    <tr>\n",
       "      <th>0</th>\n",
       "      <td>7xmgay</td>\n",
       "      <td>post</td>\n",
       "      <td>Lucyd ethereum smart glasses ICO Valuation For...</td>\n",
       "      <td>1.518681e+09</td>\n",
       "    </tr>\n",
       "    <tr>\n",
       "      <th>1</th>\n",
       "      <td>7xm8xl</td>\n",
       "      <td>post</td>\n",
       "      <td>WINGS Beta Bug Bounty - help make our ethereum...</td>\n",
       "      <td>1.518679e+09</td>\n",
       "    </tr>\n",
       "    <tr>\n",
       "      <th>2</th>\n",
       "      <td>7xm6o1</td>\n",
       "      <td>post</td>\n",
       "      <td>GF got me some cool Ethereum shirts for V-day!...</td>\n",
       "      <td>1.518678e+09</td>\n",
       "    </tr>\n",
       "    <tr>\n",
       "      <th>3</th>\n",
       "      <td>7xm6o1</td>\n",
       "      <td>comment</td>\n",
       "      <td>Hodl girlfriend.</td>\n",
       "      <td>1.518693e+09</td>\n",
       "    </tr>\n",
       "    <tr>\n",
       "      <th>4</th>\n",
       "      <td>7xm6o1</td>\n",
       "      <td>comment</td>\n",
       "      <td>Can't find the option to DM you. But am in the...</td>\n",
       "      <td>1.518697e+09</td>\n",
       "    </tr>\n",
       "    <tr>\n",
       "      <th>5</th>\n",
       "      <td>7xm6o1</td>\n",
       "      <td>comment</td>\n",
       "      <td>Sell her for eth. She know eth, She’ll understand</td>\n",
       "      <td>1.518683e+09</td>\n",
       "    </tr>\n",
       "    <tr>\n",
       "      <th>6</th>\n",
       "      <td>7xm6o1</td>\n",
       "      <td>comment</td>\n",
       "      <td>Smart contract, she'll get it :)</td>\n",
       "      <td>1.518684e+09</td>\n",
       "    </tr>\n",
       "    <tr>\n",
       "      <th>7</th>\n",
       "      <td>7xm6o1</td>\n",
       "      <td>comment</td>\n",
       "      <td>First reaction was \"V-day? Puhleez not more Vi...</td>\n",
       "      <td>1.518683e+09</td>\n",
       "    </tr>\n",
       "    <tr>\n",
       "      <th>8</th>\n",
       "      <td>7xm6o1</td>\n",
       "      <td>comment</td>\n",
       "      <td>https://imgur.com/gallery/BhM3r\\n\\nAlready hav...</td>\n",
       "      <td>1.518679e+09</td>\n",
       "    </tr>\n",
       "    <tr>\n",
       "      <th>9</th>\n",
       "      <td>7xm6o1</td>\n",
       "      <td>comment</td>\n",
       "      <td>How else are we to gauge whether a girl is wor...</td>\n",
       "      <td>1.518681e+09</td>\n",
       "    </tr>\n",
       "    <tr>\n",
       "      <th>10</th>\n",
       "      <td>7xm6o1</td>\n",
       "      <td>comment</td>\n",
       "      <td>RUN!!! She’s only with you for your bag!\\n\\nj/k</td>\n",
       "      <td>1.518695e+09</td>\n",
       "    </tr>\n",
       "    <tr>\n",
       "      <th>11</th>\n",
       "      <td>7xm6o1</td>\n",
       "      <td>comment</td>\n",
       "      <td>Don't treat her as a commodity that can be dis...</td>\n",
       "      <td>1.518714e+09</td>\n",
       "    </tr>\n",
       "    <tr>\n",
       "      <th>12</th>\n",
       "      <td>7xm6o1</td>\n",
       "      <td>comment</td>\n",
       "      <td>Could you please ask your sweetheart where she...</td>\n",
       "      <td>1.518715e+09</td>\n",
       "    </tr>\n",
       "    <tr>\n",
       "      <th>13</th>\n",
       "      <td>7xm6o1</td>\n",
       "      <td>comment</td>\n",
       "      <td>Hodl her!!</td>\n",
       "      <td>1.518704e+09</td>\n",
       "    </tr>\n",
       "    <tr>\n",
       "      <th>14</th>\n",
       "      <td>7xm6o1</td>\n",
       "      <td>comment</td>\n",
       "      <td>If you don’t then I call dibs</td>\n",
       "      <td>1.518706e+09</td>\n",
       "    </tr>\n",
       "    <tr>\n",
       "      <th>15</th>\n",
       "      <td>7xm6o1</td>\n",
       "      <td>comment</td>\n",
       "      <td>She invested a tshirt for your eth?</td>\n",
       "      <td>1.518710e+09</td>\n",
       "    </tr>\n",
       "    <tr>\n",
       "      <th>16</th>\n",
       "      <td>7xm6o1</td>\n",
       "      <td>comment</td>\n",
       "      <td>Would you mind telling us where to buy those c...</td>\n",
       "      <td>1.518728e+09</td>\n",
       "    </tr>\n",
       "    <tr>\n",
       "      <th>17</th>\n",
       "      <td>7xm6o1</td>\n",
       "      <td>comment</td>\n",
       "      <td>Should've bought a TRON-shirt or BitConnect-sh...</td>\n",
       "      <td>1.518728e+09</td>\n",
       "    </tr>\n",
       "    <tr>\n",
       "      <th>18</th>\n",
       "      <td>7xm6o1</td>\n",
       "      <td>comment</td>\n",
       "      <td>You should run a blockchain on her. Seems like...</td>\n",
       "      <td>1.518750e+09</td>\n",
       "    </tr>\n",
       "    <tr>\n",
       "      <th>19</th>\n",
       "      <td>7xm6o1</td>\n",
       "      <td>comment</td>\n",
       "      <td>Where can I get that yellow shirt?</td>\n",
       "      <td>1.518779e+09</td>\n",
       "    </tr>\n",
       "  </tbody>\n",
       "</table>\n",
       "</div>"
      ],
      "text/plain": [
       "    doc_id doc_type                                               text  \\\n",
       "0   7xmgay     post  Lucyd ethereum smart glasses ICO Valuation For...   \n",
       "1   7xm8xl     post  WINGS Beta Bug Bounty - help make our ethereum...   \n",
       "2   7xm6o1     post  GF got me some cool Ethereum shirts for V-day!...   \n",
       "3   7xm6o1  comment                                   Hodl girlfriend.   \n",
       "4   7xm6o1  comment  Can't find the option to DM you. But am in the...   \n",
       "5   7xm6o1  comment  Sell her for eth. She know eth, She’ll understand   \n",
       "6   7xm6o1  comment                   Smart contract, she'll get it :)   \n",
       "7   7xm6o1  comment  First reaction was \"V-day? Puhleez not more Vi...   \n",
       "8   7xm6o1  comment  https://imgur.com/gallery/BhM3r\\n\\nAlready hav...   \n",
       "9   7xm6o1  comment  How else are we to gauge whether a girl is wor...   \n",
       "10  7xm6o1  comment    RUN!!! She’s only with you for your bag!\\n\\nj/k   \n",
       "11  7xm6o1  comment  Don't treat her as a commodity that can be dis...   \n",
       "12  7xm6o1  comment  Could you please ask your sweetheart where she...   \n",
       "13  7xm6o1  comment                                         Hodl her!!   \n",
       "14  7xm6o1  comment                     If you don’t then I call dibs    \n",
       "15  7xm6o1  comment                She invested a tshirt for your eth?   \n",
       "16  7xm6o1  comment  Would you mind telling us where to buy those c...   \n",
       "17  7xm6o1  comment  Should've bought a TRON-shirt or BitConnect-sh...   \n",
       "18  7xm6o1  comment  You should run a blockchain on her. Seems like...   \n",
       "19  7xm6o1  comment                 Where can I get that yellow shirt?   \n",
       "\n",
       "       timestamp  \n",
       "0   1.518681e+09  \n",
       "1   1.518679e+09  \n",
       "2   1.518678e+09  \n",
       "3   1.518693e+09  \n",
       "4   1.518697e+09  \n",
       "5   1.518683e+09  \n",
       "6   1.518684e+09  \n",
       "7   1.518683e+09  \n",
       "8   1.518679e+09  \n",
       "9   1.518681e+09  \n",
       "10  1.518695e+09  \n",
       "11  1.518714e+09  \n",
       "12  1.518715e+09  \n",
       "13  1.518704e+09  \n",
       "14  1.518706e+09  \n",
       "15  1.518710e+09  \n",
       "16  1.518728e+09  \n",
       "17  1.518728e+09  \n",
       "18  1.518750e+09  \n",
       "19  1.518779e+09  "
      ]
     },
     "execution_count": 6,
     "metadata": {},
     "output_type": "execute_result"
    }
   ],
   "source": [
    "df.head(20)"
   ]
  },
  {
   "cell_type": "code",
   "execution_count": 7,
   "metadata": {},
   "outputs": [
    {
     "data": {
      "text/plain": [
       "36549"
      ]
     },
     "execution_count": 7,
     "metadata": {},
     "output_type": "execute_result"
    }
   ],
   "source": [
    "len(df)"
   ]
  },
  {
   "cell_type": "code",
   "execution_count": null,
   "metadata": {
    "collapsed": true
   },
   "outputs": [],
   "source": [
    "#now put it into a CSV"
   ]
  },
  {
   "cell_type": "code",
   "execution_count": 8,
   "metadata": {
    "collapsed": true
   },
   "outputs": [],
   "source": [
    "df.to_csv('reddit_ethereum.csv', sep=',')"
   ]
  },
  {
   "cell_type": "code",
   "execution_count": null,
   "metadata": {
    "collapsed": true
   },
   "outputs": [],
   "source": []
  }
 ],
 "metadata": {
  "anaconda-cloud": {},
  "kernelspec": {
   "display_name": "Python 3",
   "language": "python",
   "name": "python3"
  },
  "language_info": {
   "codemirror_mode": {
    "name": "ipython",
    "version": 3
   },
   "file_extension": ".py",
   "mimetype": "text/x-python",
   "name": "python",
   "nbconvert_exporter": "python",
   "pygments_lexer": "ipython3",
   "version": "3.6.1"
  }
 },
 "nbformat": 4,
 "nbformat_minor": 2
}
