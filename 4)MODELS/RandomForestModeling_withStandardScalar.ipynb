{
 "cells": [
  {
   "cell_type": "code",
   "execution_count": 2,
   "metadata": {
    "collapsed": true
   },
   "outputs": [],
   "source": [
    "import pandas as pd\n",
    "import numpy as np\n",
    "import matplotlib.pyplot as plt\n",
    "import sklearn\n",
    "from sklearn.model_selection import GridSearchCV\n",
    "from sklearn.ensemble import RandomForestClassifier\n",
    "from sklearn.ensemble import RandomForestRegressor\n",
    "from sklearn.preprocessing import StandardScaler\n",
    "from sklearn.model_selection import train_test_split"
   ]
  },
  {
   "cell_type": "markdown",
   "metadata": {},
   "source": [
    "## MODELING: Exploring the random forest regressor and classifier to predict price\n",
    "first we read in the data, and also make the classifier target list 'rise_lower' from our existing data frame"
   ]
  },
  {
   "cell_type": "code",
   "execution_count": 3,
   "metadata": {
    "collapsed": true
   },
   "outputs": [],
   "source": [
    "df_ultra_mega_frame = pd.read_csv('../1)DATA/df_ultra_mega_frame1.csv')\n",
    "df_ultra_mega_frame['date'] = pd.to_datetime(df_ultra_mega_frame['date'],infer_datetime_format=True)\n",
    "df_ultra_mega_frame.index = df_ultra_mega_frame['date']\n",
    "#df_ultra_mega_classifier = df_ultra_mega_frame #starting here"
   ]
  },
  {
   "cell_type": "markdown",
   "metadata": {},
   "source": [
    "Below we create 'rise_fall_list' for ethereum that will be inserted back into the dataframe to be used as a feature in the classifier model. We later do this for the other selected features as well. The features we selected were Bitcoin price, Dow Jones Index and google search frequency. Sentiment was included originally but it was deemed to return an \"importance value\" too close to zero to be considered more useful than unuseful to the model due to the curse of dimensionality."
   ]
  },
  {
   "cell_type": "code",
   "execution_count": 4,
   "metadata": {
    "collapsed": true
   },
   "outputs": [],
   "source": [
    "price_list = df_ultra_mega_frame['price_eth']\n",
    "rise_fall_list = []\n",
    "\n",
    "for index, item in enumerate(df_ultra_mega_frame['price_eth']):\n",
    "    if df_ultra_mega_frame['price_eth'].iloc[index-1] < df_ultra_mega_frame['price_eth'].iloc[index]:\n",
    "        rise_fall_list.append(1)\n",
    "    else:\n",
    "        rise_fall_list.append(0)\n",
    "        \n",
    "df_ultra_mega_frame['rise_lower'] = rise_fall_list\n",
    "#df_ultra_mega_classifier = df_ultra_mega_classifier['2017-11-17':]"
   ]
  },
  {
   "cell_type": "code",
   "execution_count": 5,
   "metadata": {},
   "outputs": [
    {
     "data": {
      "text/html": [
       "<div>\n",
       "<style>\n",
       "    .dataframe thead tr:only-child th {\n",
       "        text-align: right;\n",
       "    }\n",
       "\n",
       "    .dataframe thead th {\n",
       "        text-align: left;\n",
       "    }\n",
       "\n",
       "    .dataframe tbody tr th {\n",
       "        vertical-align: top;\n",
       "    }\n",
       "</style>\n",
       "<table border=\"1\" class=\"dataframe\">\n",
       "  <thead>\n",
       "    <tr style=\"text-align: right;\">\n",
       "      <th></th>\n",
       "      <th>date</th>\n",
       "      <th>SearchFrequency</th>\n",
       "      <th>DJI</th>\n",
       "      <th>price_btc</th>\n",
       "      <th>price_eth</th>\n",
       "      <th>sentiment</th>\n",
       "      <th>rise_lower</th>\n",
       "    </tr>\n",
       "    <tr>\n",
       "      <th>date</th>\n",
       "      <th></th>\n",
       "      <th></th>\n",
       "      <th></th>\n",
       "      <th></th>\n",
       "      <th></th>\n",
       "      <th></th>\n",
       "      <th></th>\n",
       "    </tr>\n",
       "  </thead>\n",
       "  <tbody>\n",
       "    <tr>\n",
       "      <th>2017-11-16</th>\n",
       "      <td>2017-11-16</td>\n",
       "      <td>55</td>\n",
       "      <td>23458.359375</td>\n",
       "      <td>7871.69</td>\n",
       "      <td>330.92</td>\n",
       "      <td>0.089579</td>\n",
       "      <td>0</td>\n",
       "    </tr>\n",
       "    <tr>\n",
       "      <th>2017-11-17</th>\n",
       "      <td>2017-11-17</td>\n",
       "      <td>75</td>\n",
       "      <td>23358.240234</td>\n",
       "      <td>7708.99</td>\n",
       "      <td>332.39</td>\n",
       "      <td>0.087821</td>\n",
       "      <td>1</td>\n",
       "    </tr>\n",
       "    <tr>\n",
       "      <th>2017-11-18</th>\n",
       "      <td>2017-11-18</td>\n",
       "      <td>103</td>\n",
       "      <td>23358.240234</td>\n",
       "      <td>7790.15</td>\n",
       "      <td>347.61</td>\n",
       "      <td>0.092867</td>\n",
       "      <td>1</td>\n",
       "    </tr>\n",
       "    <tr>\n",
       "      <th>2017-11-19</th>\n",
       "      <td>2017-11-19</td>\n",
       "      <td>65</td>\n",
       "      <td>23358.240234</td>\n",
       "      <td>8036.49</td>\n",
       "      <td>354.39</td>\n",
       "      <td>0.092423</td>\n",
       "      <td>1</td>\n",
       "    </tr>\n",
       "    <tr>\n",
       "      <th>2017-11-20</th>\n",
       "      <td>2017-11-20</td>\n",
       "      <td>96</td>\n",
       "      <td>23430.330078</td>\n",
       "      <td>8200.64</td>\n",
       "      <td>366.73</td>\n",
       "      <td>0.093611</td>\n",
       "      <td>1</td>\n",
       "    </tr>\n",
       "  </tbody>\n",
       "</table>\n",
       "</div>"
      ],
      "text/plain": [
       "                 date  SearchFrequency           DJI  price_btc  price_eth  \\\n",
       "date                                                                         \n",
       "2017-11-16 2017-11-16               55  23458.359375    7871.69     330.92   \n",
       "2017-11-17 2017-11-17               75  23358.240234    7708.99     332.39   \n",
       "2017-11-18 2017-11-18              103  23358.240234    7790.15     347.61   \n",
       "2017-11-19 2017-11-19               65  23358.240234    8036.49     354.39   \n",
       "2017-11-20 2017-11-20               96  23430.330078    8200.64     366.73   \n",
       "\n",
       "            sentiment  rise_lower  \n",
       "date                               \n",
       "2017-11-16   0.089579           0  \n",
       "2017-11-17   0.087821           1  \n",
       "2017-11-18   0.092867           1  \n",
       "2017-11-19   0.092423           1  \n",
       "2017-11-20   0.093611           1  "
      ]
     },
     "execution_count": 5,
     "metadata": {},
     "output_type": "execute_result"
    }
   ],
   "source": [
    "df_ultra_mega_frame.head()"
   ]
  },
  {
   "cell_type": "markdown",
   "metadata": {},
   "source": [
    "### Random Forest Regressor \n",
    "Here below we convert our y (being the target variable or label by formalism) to a numpy array"
   ]
  },
  {
   "cell_type": "code",
   "execution_count": 6,
   "metadata": {},
   "outputs": [
    {
     "name": "stderr",
     "output_type": "stream",
     "text": [
      "/Users/Alexandra/anaconda/lib/python3.6/site-packages/sklearn/utils/validation.py:475: DataConversionWarning: Data with input dtype int64 was converted to float64 by StandardScaler.\n",
      "  warnings.warn(msg, DataConversionWarning)\n"
     ]
    }
   ],
   "source": [
    "# Feature Scaling\n",
    "\n",
    "df_scaled = df_ultra_mega_frame.copy(deep=True)\n",
    "\n",
    "sc_x = StandardScaler()\n",
    "df_scaled['price_btc'] = sc_x.fit_transform(df_scaled['price_btc'].values.reshape(-1,1))\n",
    "df_scaled['price_eth'] = sc_x.fit_transform(df_scaled['price_eth'].values.reshape(-1,1))\n",
    "df_scaled['sentiment'] = sc_x.fit_transform(df_scaled['sentiment'].values.reshape(-1,1))\n",
    "df_scaled['DJI'] = sc_x.fit_transform(df_scaled['DJI'].values.reshape(-1,1))\n",
    "df_scaled['SearchFrequency'] = sc_x.fit_transform(df_scaled['SearchFrequency'].values.reshape(-1,1))\n"
   ]
  },
  {
   "cell_type": "code",
   "execution_count": 7,
   "metadata": {
    "collapsed": true
   },
   "outputs": [],
   "source": [
    "y = np.array(df_scaled['price_eth'])\n",
    "# Remove the labels from the features\n",
    "# axis 1 refers to the columns\n",
    "features= df_scaled.drop(['price_eth','date','rise_lower'], axis = 1)\n",
    "# Saving feature names for later use\n",
    "feature_list = list(features.columns) #this way we remeber the column names\n",
    "# Convert to numpy array\n",
    "X = np.array(features) #because once we convert to np array it drops the names"
   ]
  },
  {
   "cell_type": "markdown",
   "metadata": {},
   "source": [
    "At this point it's a good moment to to check X.shape and y.shape to make sure our y array is one dimensional and our X array is an 'nd array' with n corresponding to the number of features."
   ]
  },
  {
   "cell_type": "code",
   "execution_count": 8,
   "metadata": {
    "collapsed": true
   },
   "outputs": [],
   "source": [
    "#X.shape\n",
    "#y.shape "
   ]
  },
  {
   "cell_type": "markdown",
   "metadata": {},
   "source": [
    "Now we perform our test train split"
   ]
  },
  {
   "cell_type": "code",
   "execution_count": 9,
   "metadata": {
    "collapsed": true
   },
   "outputs": [],
   "source": [
    "X_train, X_test, Y_train, Y_test = train_test_split(X, y, test_size = 0.25, random_state = 42)"
   ]
  },
  {
   "cell_type": "markdown",
   "metadata": {},
   "source": [
    "And here we instantiate our Random Forest regressor. We first pick max_depth=2 and random_state=0 to begin with and then we later perform a Cv grid search to optimize the parameters."
   ]
  },
  {
   "cell_type": "code",
   "execution_count": 10,
   "metadata": {},
   "outputs": [
    {
     "data": {
      "text/plain": [
       "RandomForestRegressor(bootstrap=True, criterion='mse', max_depth=2,\n",
       "           max_features='auto', max_leaf_nodes=None,\n",
       "           min_impurity_decrease=0.0, min_impurity_split=None,\n",
       "           min_samples_leaf=1, min_samples_split=2,\n",
       "           min_weight_fraction_leaf=0.0, n_estimators=10, n_jobs=1,\n",
       "           oob_score=False, random_state=0, verbose=0, warm_start=False)"
      ]
     },
     "execution_count": 10,
     "metadata": {},
     "output_type": "execute_result"
    }
   ],
   "source": [
    "regr = RandomForestRegressor(max_depth=2, random_state=0)\n",
    "regr.fit(X_train, Y_train)"
   ]
  },
  {
   "cell_type": "markdown",
   "metadata": {},
   "source": [
    "Below we print out our feature importancce values to give us an idea of which feature is the most important to our model. Here we note that any features that go to zero would be considered to not play any role in improving our model. There are two features that are close to zero but still non-zero, so they technically are still marginally improving our model."
   ]
  },
  {
   "cell_type": "code",
   "execution_count": 11,
   "metadata": {
    "scrolled": true
   },
   "outputs": [
    {
     "name": "stdout",
     "output_type": "stream",
     "text": [
      "[ 0.01590281  0.93945925  0.04004606  0.00459188]\n"
     ]
    }
   ],
   "source": [
    "print(regr.feature_importances_) #strength of importance of feature in the model\n",
    "#but is using the other two because they are not zero!!!"
   ]
  },
  {
   "cell_type": "markdown",
   "metadata": {},
   "source": [
    "We originally had input a feature column of the polarity score of Ethereum sentiment for each day (all reddit data that was scraped) and then this feature went to zero so we chose not to include it in our model.\n",
    "\n",
    "when you have more features, you are basically saying you need more data to adequetly sample the space or else you run into the curse of dimensionality. This is what tells you that for the more dimenions you have, you need more data in total in order to sample your entire space. What do you run the risk of otherwise? of being innaccurate. in which way? in the way that your data set you have doesnt adequatley cover sample space."
   ]
  },
  {
   "cell_type": "code",
   "execution_count": 12,
   "metadata": {},
   "outputs": [
    {
     "name": "stdout",
     "output_type": "stream",
     "text": [
      "[ 1.29840676 -0.66727805  0.22906285  1.1913303   0.22906285  1.1913303\n",
      " -0.07214238  0.55813377  0.14497076 -0.07214238 -1.37903784  0.14497076\n",
      " -0.07214238 -0.07214238  0.5724353  -0.73404195  0.35170081 -1.3250675\n",
      "  0.77886826 -1.2583036  -0.07214238 -0.15974958  1.1913303  -1.45561619\n",
      "  0.77886826 -0.07214238  1.1913303  -1.1914769  -0.07214238 -0.07214238\n",
      " -0.07214238 -0.57372288]\n"
     ]
    }
   ],
   "source": [
    "print(regr.predict(X_test)) #predict y given x test"
   ]
  },
  {
   "cell_type": "markdown",
   "metadata": {},
   "source": [
    "As seen above: X_test is the argument taken in, but the output for the predict function is only one dimension just like y. We can later graph this result from predict against Y test to explicitly see if our model worked."
   ]
  },
  {
   "cell_type": "code",
   "execution_count": 13,
   "metadata": {},
   "outputs": [
    {
     "data": {
      "text/plain": [
       "0.80258782274634322"
      ]
     },
     "execution_count": 13,
     "metadata": {},
     "output_type": "execute_result"
    }
   ],
   "source": [
    "#now can compare with the original X and Y_train!!!\n",
    "#using score \n",
    "regr.score(X_test, Y_test) #X_test , as seen above...X_test has more dimensions than the output on predict"
   ]
  },
  {
   "cell_type": "markdown",
   "metadata": {},
   "source": [
    "This score returns an r squared value. It is a percentage, how well the variablity of your data is captured by a given model comparisons betweeen different models scores tells you which model is better.\n",
    "\n",
    "below we perform a CV grid search across the following parameters: \"criterion\": [\"mse\", \"mae\"], \"max_depth\": [2, 6, 8], \"n_estimators\":[50, 100, 200], and we optimize our score based off of the grid search. We also see that we perporm a cross validation of 5."
   ]
  },
  {
   "cell_type": "code",
   "execution_count": 14,
   "metadata": {},
   "outputs": [
    {
     "data": {
      "text/plain": [
       "GridSearchCV(cv=5, error_score='raise',\n",
       "       estimator=RandomForestRegressor(bootstrap=True, criterion='mse', max_depth=2,\n",
       "           max_features='auto', max_leaf_nodes=None,\n",
       "           min_impurity_decrease=0.0, min_impurity_split=None,\n",
       "           min_samples_leaf=1, min_samples_split=2,\n",
       "           min_weight_fraction_leaf=0.0, n_estimators=10, n_jobs=1,\n",
       "           oob_score=False, random_state=0, verbose=0, warm_start=False),\n",
       "       fit_params=None, iid=True, n_jobs=1,\n",
       "       param_grid={'criterion': ['mse', 'mae'], 'max_depth': [2, 6, 8], 'n_estimators': [50, 100, 200]},\n",
       "       pre_dispatch='2*n_jobs', refit=True, return_train_score='warn',\n",
       "       scoring=None, verbose=0)"
      ]
     },
     "execution_count": 14,
     "metadata": {},
     "output_type": "execute_result"
    }
   ],
   "source": [
    "#use a grid search\n",
    "param_grid = {\"criterion\": [\"mse\", \"mae\"], #mean squared error and mean absolute error in documentation\n",
    "              #\"min_samples_split\": [10, 20, 40],\n",
    "              \"max_depth\": [2, 6, 8],\n",
    "              \"n_estimators\":[50, 100, 200]\n",
    "              #\"min_samples_leaf\": [20, 40, 100],\n",
    "              #\"max_leaf_nodes\": [5, 20, 100, 500, 800],\n",
    "              }\n",
    "\n",
    "grid_cv_regr = GridSearchCV(regr, param_grid, cv=5)\n",
    "\n",
    "grid_cv_regr.fit(X_train, Y_train) #features and labels"
   ]
  },
  {
   "cell_type": "code",
   "execution_count": 15,
   "metadata": {},
   "outputs": [
    {
     "name": "stdout",
     "output_type": "stream",
     "text": [
      "R-Squared::0.7548945638451127\n",
      "Best Hyperparameters::\n",
      "{'criterion': 'mse', 'max_depth': 8, 'n_estimators': 200}\n"
     ]
    }
   ],
   "source": [
    "print(\"R-Squared::{}\".format(grid_cv_regr.best_score_))\n",
    "print(\"Best Hyperparameters::\\n{}\".format(grid_cv_regr.best_params_))\n",
    "\n",
    "#random forest builds multiple decision trees \n",
    "#best number of decision trees\n",
    "#depth of each tree shouldnt be more than 8 levels\n",
    "#go down to 8 levels(splits) but dont split it further"
   ]
  },
  {
   "cell_type": "markdown",
   "metadata": {},
   "source": [
    "How is it that after the hyperparameter tuning, our R squared went down? difference between rsquared is that this one tells how well did this model work for hyperparametrization on the train data, because we dont give it the test data. You don't want any part of you model to be trained on the test data. So this part is NOT the same R squared from our score output."
   ]
  },
  {
   "cell_type": "code",
   "execution_count": 16,
   "metadata": {},
   "outputs": [
    {
     "name": "stderr",
     "output_type": "stream",
     "text": [
      "/Users/Alexandra/anaconda/lib/python3.6/site-packages/sklearn/utils/deprecation.py:122: FutureWarning: You are accessing a training score ('mean_train_score'), which will not be available by default any more in 0.21. If you need training scores, please set return_train_score=True\n",
      "  warnings.warn(*warn_args, **warn_kwargs)\n",
      "/Users/Alexandra/anaconda/lib/python3.6/site-packages/sklearn/utils/deprecation.py:122: FutureWarning: You are accessing a training score ('split0_train_score'), which will not be available by default any more in 0.21. If you need training scores, please set return_train_score=True\n",
      "  warnings.warn(*warn_args, **warn_kwargs)\n",
      "/Users/Alexandra/anaconda/lib/python3.6/site-packages/sklearn/utils/deprecation.py:122: FutureWarning: You are accessing a training score ('split1_train_score'), which will not be available by default any more in 0.21. If you need training scores, please set return_train_score=True\n",
      "  warnings.warn(*warn_args, **warn_kwargs)\n",
      "/Users/Alexandra/anaconda/lib/python3.6/site-packages/sklearn/utils/deprecation.py:122: FutureWarning: You are accessing a training score ('split2_train_score'), which will not be available by default any more in 0.21. If you need training scores, please set return_train_score=True\n",
      "  warnings.warn(*warn_args, **warn_kwargs)\n",
      "/Users/Alexandra/anaconda/lib/python3.6/site-packages/sklearn/utils/deprecation.py:122: FutureWarning: You are accessing a training score ('split3_train_score'), which will not be available by default any more in 0.21. If you need training scores, please set return_train_score=True\n",
      "  warnings.warn(*warn_args, **warn_kwargs)\n",
      "/Users/Alexandra/anaconda/lib/python3.6/site-packages/sklearn/utils/deprecation.py:122: FutureWarning: You are accessing a training score ('split4_train_score'), which will not be available by default any more in 0.21. If you need training scores, please set return_train_score=True\n",
      "  warnings.warn(*warn_args, **warn_kwargs)\n",
      "/Users/Alexandra/anaconda/lib/python3.6/site-packages/sklearn/utils/deprecation.py:122: FutureWarning: You are accessing a training score ('std_train_score'), which will not be available by default any more in 0.21. If you need training scores, please set return_train_score=True\n",
      "  warnings.warn(*warn_args, **warn_kwargs)\n"
     ]
    },
    {
     "data": {
      "text/html": [
       "<div>\n",
       "<style>\n",
       "    .dataframe thead tr:only-child th {\n",
       "        text-align: right;\n",
       "    }\n",
       "\n",
       "    .dataframe thead th {\n",
       "        text-align: left;\n",
       "    }\n",
       "\n",
       "    .dataframe tbody tr th {\n",
       "        vertical-align: top;\n",
       "    }\n",
       "</style>\n",
       "<table border=\"1\" class=\"dataframe\">\n",
       "  <thead>\n",
       "    <tr style=\"text-align: right;\">\n",
       "      <th></th>\n",
       "      <th>mean_fit_time</th>\n",
       "      <th>mean_score_time</th>\n",
       "      <th>mean_test_score</th>\n",
       "      <th>mean_train_score</th>\n",
       "      <th>param_criterion</th>\n",
       "      <th>param_max_depth</th>\n",
       "      <th>param_n_estimators</th>\n",
       "      <th>params</th>\n",
       "      <th>rank_test_score</th>\n",
       "      <th>split0_test_score</th>\n",
       "      <th>...</th>\n",
       "      <th>split2_test_score</th>\n",
       "      <th>split2_train_score</th>\n",
       "      <th>split3_test_score</th>\n",
       "      <th>split3_train_score</th>\n",
       "      <th>split4_test_score</th>\n",
       "      <th>split4_train_score</th>\n",
       "      <th>std_fit_time</th>\n",
       "      <th>std_score_time</th>\n",
       "      <th>std_test_score</th>\n",
       "      <th>std_train_score</th>\n",
       "    </tr>\n",
       "  </thead>\n",
       "  <tbody>\n",
       "    <tr>\n",
       "      <th>0</th>\n",
       "      <td>0.048487</td>\n",
       "      <td>0.002198</td>\n",
       "      <td>0.633243</td>\n",
       "      <td>0.780480</td>\n",
       "      <td>mse</td>\n",
       "      <td>2</td>\n",
       "      <td>50</td>\n",
       "      <td>{'criterion': 'mse', 'max_depth': 2, 'n_estima...</td>\n",
       "      <td>15</td>\n",
       "      <td>0.617288</td>\n",
       "      <td>...</td>\n",
       "      <td>0.446965</td>\n",
       "      <td>0.805065</td>\n",
       "      <td>0.646998</td>\n",
       "      <td>0.759603</td>\n",
       "      <td>0.675887</td>\n",
       "      <td>0.793992</td>\n",
       "      <td>0.008870</td>\n",
       "      <td>0.000354</td>\n",
       "      <td>0.109012</td>\n",
       "      <td>0.016837</td>\n",
       "    </tr>\n",
       "    <tr>\n",
       "      <th>1</th>\n",
       "      <td>0.088055</td>\n",
       "      <td>0.003461</td>\n",
       "      <td>0.639052</td>\n",
       "      <td>0.785303</td>\n",
       "      <td>mse</td>\n",
       "      <td>2</td>\n",
       "      <td>100</td>\n",
       "      <td>{'criterion': 'mse', 'max_depth': 2, 'n_estima...</td>\n",
       "      <td>14</td>\n",
       "      <td>0.635662</td>\n",
       "      <td>...</td>\n",
       "      <td>0.448929</td>\n",
       "      <td>0.807839</td>\n",
       "      <td>0.651251</td>\n",
       "      <td>0.764959</td>\n",
       "      <td>0.672122</td>\n",
       "      <td>0.798328</td>\n",
       "      <td>0.007767</td>\n",
       "      <td>0.000029</td>\n",
       "      <td>0.109977</td>\n",
       "      <td>0.016207</td>\n",
       "    </tr>\n",
       "    <tr>\n",
       "      <th>2</th>\n",
       "      <td>0.169228</td>\n",
       "      <td>0.006827</td>\n",
       "      <td>0.643440</td>\n",
       "      <td>0.785800</td>\n",
       "      <td>mse</td>\n",
       "      <td>2</td>\n",
       "      <td>200</td>\n",
       "      <td>{'criterion': 'mse', 'max_depth': 2, 'n_estima...</td>\n",
       "      <td>13</td>\n",
       "      <td>0.652159</td>\n",
       "      <td>...</td>\n",
       "      <td>0.458513</td>\n",
       "      <td>0.809231</td>\n",
       "      <td>0.651452</td>\n",
       "      <td>0.767872</td>\n",
       "      <td>0.666161</td>\n",
       "      <td>0.795866</td>\n",
       "      <td>0.004291</td>\n",
       "      <td>0.000373</td>\n",
       "      <td>0.106713</td>\n",
       "      <td>0.015444</td>\n",
       "    </tr>\n",
       "    <tr>\n",
       "      <th>3</th>\n",
       "      <td>0.045049</td>\n",
       "      <td>0.002045</td>\n",
       "      <td>0.748246</td>\n",
       "      <td>0.961144</td>\n",
       "      <td>mse</td>\n",
       "      <td>6</td>\n",
       "      <td>50</td>\n",
       "      <td>{'criterion': 'mse', 'max_depth': 6, 'n_estima...</td>\n",
       "      <td>6</td>\n",
       "      <td>0.806165</td>\n",
       "      <td>...</td>\n",
       "      <td>0.518036</td>\n",
       "      <td>0.968007</td>\n",
       "      <td>0.814592</td>\n",
       "      <td>0.962139</td>\n",
       "      <td>0.758418</td>\n",
       "      <td>0.955782</td>\n",
       "      <td>0.000917</td>\n",
       "      <td>0.000099</td>\n",
       "      <td>0.119057</td>\n",
       "      <td>0.003999</td>\n",
       "    </tr>\n",
       "    <tr>\n",
       "      <th>4</th>\n",
       "      <td>0.087269</td>\n",
       "      <td>0.003795</td>\n",
       "      <td>0.749679</td>\n",
       "      <td>0.962400</td>\n",
       "      <td>mse</td>\n",
       "      <td>6</td>\n",
       "      <td>100</td>\n",
       "      <td>{'criterion': 'mse', 'max_depth': 6, 'n_estima...</td>\n",
       "      <td>5</td>\n",
       "      <td>0.807294</td>\n",
       "      <td>...</td>\n",
       "      <td>0.509267</td>\n",
       "      <td>0.969506</td>\n",
       "      <td>0.812501</td>\n",
       "      <td>0.961467</td>\n",
       "      <td>0.758523</td>\n",
       "      <td>0.955926</td>\n",
       "      <td>0.001709</td>\n",
       "      <td>0.000194</td>\n",
       "      <td>0.125234</td>\n",
       "      <td>0.004363</td>\n",
       "    </tr>\n",
       "  </tbody>\n",
       "</table>\n",
       "<p>5 rows × 23 columns</p>\n",
       "</div>"
      ],
      "text/plain": [
       "   mean_fit_time  mean_score_time  mean_test_score  mean_train_score  \\\n",
       "0       0.048487         0.002198         0.633243          0.780480   \n",
       "1       0.088055         0.003461         0.639052          0.785303   \n",
       "2       0.169228         0.006827         0.643440          0.785800   \n",
       "3       0.045049         0.002045         0.748246          0.961144   \n",
       "4       0.087269         0.003795         0.749679          0.962400   \n",
       "\n",
       "  param_criterion param_max_depth param_n_estimators  \\\n",
       "0             mse               2                 50   \n",
       "1             mse               2                100   \n",
       "2             mse               2                200   \n",
       "3             mse               6                 50   \n",
       "4             mse               6                100   \n",
       "\n",
       "                                              params  rank_test_score  \\\n",
       "0  {'criterion': 'mse', 'max_depth': 2, 'n_estima...               15   \n",
       "1  {'criterion': 'mse', 'max_depth': 2, 'n_estima...               14   \n",
       "2  {'criterion': 'mse', 'max_depth': 2, 'n_estima...               13   \n",
       "3  {'criterion': 'mse', 'max_depth': 6, 'n_estima...                6   \n",
       "4  {'criterion': 'mse', 'max_depth': 6, 'n_estima...                5   \n",
       "\n",
       "   split0_test_score       ...         split2_test_score  split2_train_score  \\\n",
       "0           0.617288       ...                  0.446965            0.805065   \n",
       "1           0.635662       ...                  0.448929            0.807839   \n",
       "2           0.652159       ...                  0.458513            0.809231   \n",
       "3           0.806165       ...                  0.518036            0.968007   \n",
       "4           0.807294       ...                  0.509267            0.969506   \n",
       "\n",
       "   split3_test_score  split3_train_score  split4_test_score  \\\n",
       "0           0.646998            0.759603           0.675887   \n",
       "1           0.651251            0.764959           0.672122   \n",
       "2           0.651452            0.767872           0.666161   \n",
       "3           0.814592            0.962139           0.758418   \n",
       "4           0.812501            0.961467           0.758523   \n",
       "\n",
       "   split4_train_score  std_fit_time  std_score_time  std_test_score  \\\n",
       "0            0.793992      0.008870        0.000354        0.109012   \n",
       "1            0.798328      0.007767        0.000029        0.109977   \n",
       "2            0.795866      0.004291        0.000373        0.106713   \n",
       "3            0.955782      0.000917        0.000099        0.119057   \n",
       "4            0.955926      0.001709        0.000194        0.125234   \n",
       "\n",
       "   std_train_score  \n",
       "0         0.016837  \n",
       "1         0.016207  \n",
       "2         0.015444  \n",
       "3         0.003999  \n",
       "4         0.004363  \n",
       "\n",
       "[5 rows x 23 columns]"
      ]
     },
     "execution_count": 16,
     "metadata": {},
     "output_type": "execute_result"
    }
   ],
   "source": [
    "df = pd.DataFrame(data=grid_cv_regr.cv_results_)\n",
    "df.head()"
   ]
  },
  {
   "cell_type": "code",
   "execution_count": 17,
   "metadata": {},
   "outputs": [
    {
     "name": "stdout",
     "output_type": "stream",
     "text": [
      "{'criterion': 'mse', 'max_depth': 2, 'n_estimators': 50} 0.6332 0.109\n",
      "{'criterion': 'mse', 'max_depth': 2, 'n_estimators': 100} 0.6391 0.11\n",
      "{'criterion': 'mse', 'max_depth': 2, 'n_estimators': 200} 0.6434 0.1067\n",
      "{'criterion': 'mse', 'max_depth': 6, 'n_estimators': 50} 0.7482 0.1191\n",
      "{'criterion': 'mse', 'max_depth': 6, 'n_estimators': 100} 0.7497 0.1252\n",
      "{'criterion': 'mse', 'max_depth': 6, 'n_estimators': 200} 0.754 0.1187\n",
      "{'criterion': 'mse', 'max_depth': 8, 'n_estimators': 50} 0.751 0.1158\n",
      "{'criterion': 'mse', 'max_depth': 8, 'n_estimators': 100} 0.7498 0.1262\n",
      "{'criterion': 'mse', 'max_depth': 8, 'n_estimators': 200} 0.7549 0.1193\n",
      "{'criterion': 'mae', 'max_depth': 2, 'n_estimators': 50} 0.5836 0.1616\n",
      "{'criterion': 'mae', 'max_depth': 2, 'n_estimators': 100} 0.5973 0.1592\n",
      "{'criterion': 'mae', 'max_depth': 2, 'n_estimators': 200} 0.598 0.1681\n",
      "{'criterion': 'mae', 'max_depth': 6, 'n_estimators': 50} 0.7102 0.1704\n",
      "{'criterion': 'mae', 'max_depth': 6, 'n_estimators': 100} 0.7181 0.1701\n",
      "{'criterion': 'mae', 'max_depth': 6, 'n_estimators': 200} 0.7246 0.1726\n",
      "{'criterion': 'mae', 'max_depth': 8, 'n_estimators': 50} 0.7204 0.167\n",
      "{'criterion': 'mae', 'max_depth': 8, 'n_estimators': 100} 0.7297 0.1708\n",
      "{'criterion': 'mae', 'max_depth': 8, 'n_estimators': 200} 0.731 0.1761\n"
     ]
    }
   ],
   "source": [
    "results = grid_cv_regr.cv_results_\n",
    "for param, score_mean, score_sd in zip(results['params'], results['mean_test_score'], results['std_test_score']):\n",
    "    print(param, round(score_mean, 4), round(score_sd, 4))\n",
    "    \n",
    "#the highest is n=100, and mx depth 8 "
   ]
  },
  {
   "cell_type": "code",
   "execution_count": 18,
   "metadata": {},
   "outputs": [
    {
     "data": {
      "text/plain": [
       "0.92367438226966869"
      ]
     },
     "execution_count": 18,
     "metadata": {},
     "output_type": "execute_result"
    }
   ],
   "source": [
    "grid_cv_regr.score(X_test, Y_test) #this is really great!!!"
   ]
  },
  {
   "cell_type": "markdown",
   "metadata": {},
   "source": [
    "This was a good score! since the feature of 'sentiment' was so close to zero, lets see if removing the feasture improves the accuracy of the model! "
   ]
  },
  {
   "cell_type": "markdown",
   "metadata": {},
   "source": [
    "## Now compare to dropping a feature"
   ]
  },
  {
   "cell_type": "code",
   "execution_count": 19,
   "metadata": {
    "collapsed": true
   },
   "outputs": [],
   "source": [
    "y = np.array(df_scaled['price_eth'])\n",
    "# Remove the labels from the features\n",
    "# axis 1 refers to the columns\n",
    "features= df_scaled.drop(['price_eth','date','rise_lower','sentiment'], axis = 1)\n",
    "# Saving feature names for later use\n",
    "feature_list = list(features.columns) #this way we remeber the column names\n",
    "# Convert to numpy array\n",
    "X = np.array(features) #because once we convert to np array it drops the names"
   ]
  },
  {
   "cell_type": "code",
   "execution_count": 20,
   "metadata": {
    "collapsed": true
   },
   "outputs": [],
   "source": [
    "# Using Skicit-learn to split data into training and testing sets\n",
    "from sklearn.model_selection import train_test_split\n",
    "# Split the data into training and testing sets\n",
    "X_train, X_test, Y_train, Y_test = train_test_split(X, y, test_size = 0.25, random_state = 42)"
   ]
  },
  {
   "cell_type": "code",
   "execution_count": 21,
   "metadata": {},
   "outputs": [
    {
     "data": {
      "text/plain": [
       "RandomForestRegressor(bootstrap=True, criterion='mse', max_depth=2,\n",
       "           max_features='auto', max_leaf_nodes=None,\n",
       "           min_impurity_decrease=0.0, min_impurity_split=None,\n",
       "           min_samples_leaf=1, min_samples_split=2,\n",
       "           min_weight_fraction_leaf=0.0, n_estimators=10, n_jobs=1,\n",
       "           oob_score=False, random_state=0, verbose=0, warm_start=False)"
      ]
     },
     "execution_count": 21,
     "metadata": {},
     "output_type": "execute_result"
    }
   ],
   "source": [
    "regr = RandomForestRegressor(max_depth=2, random_state=0)\n",
    "regr.fit(X_train, Y_train)"
   ]
  },
  {
   "cell_type": "code",
   "execution_count": 22,
   "metadata": {
    "scrolled": true
   },
   "outputs": [
    {
     "name": "stdout",
     "output_type": "stream",
     "text": [
      "[ 0.01590281  0.94405113  0.04004606]\n"
     ]
    }
   ],
   "source": [
    "print(regr.feature_importances_) #strength of importance of feature in the model\n",
    "#but is using the other two because they are not zero!!!"
   ]
  },
  {
   "cell_type": "code",
   "execution_count": 23,
   "metadata": {},
   "outputs": [
    {
     "name": "stdout",
     "output_type": "stream",
     "text": [
      "[ 1.29840676 -0.67951349  0.22906285  1.1913303   0.22906285  1.1913303\n",
      " -0.07214238  0.55813377  0.14497076 -0.07214238 -1.39635725  0.14497076\n",
      " -0.07214238 -0.07214238  0.5724353  -0.67951349  0.35170081 -1.3423869\n",
      "  0.77886826 -1.3423869  -0.07214238 -0.15974958  1.1913303  -1.4729356\n",
      "  0.77886826 -0.07214238  1.1913303  -1.13694844 -0.07214238 -0.07214238\n",
      " -0.07214238 -0.58595832]\n"
     ]
    }
   ],
   "source": [
    "print(regr.predict(X_test)) #predict y given x test"
   ]
  },
  {
   "cell_type": "code",
   "execution_count": 24,
   "metadata": {},
   "outputs": [
    {
     "data": {
      "text/plain": [
       "0.8017445780922452"
      ]
     },
     "execution_count": 24,
     "metadata": {},
     "output_type": "execute_result"
    }
   ],
   "source": [
    "#now can compare with the original X_train!!!\n",
    "#using score \n",
    "regr.score(X_test, Y_test) #X_test , as seen above...X_test has more dimensions than the output on predict"
   ]
  },
  {
   "cell_type": "code",
   "execution_count": 25,
   "metadata": {},
   "outputs": [
    {
     "data": {
      "text/plain": [
       "GridSearchCV(cv=5, error_score='raise',\n",
       "       estimator=RandomForestRegressor(bootstrap=True, criterion='mse', max_depth=2,\n",
       "           max_features='auto', max_leaf_nodes=None,\n",
       "           min_impurity_decrease=0.0, min_impurity_split=None,\n",
       "           min_samples_leaf=1, min_samples_split=2,\n",
       "           min_weight_fraction_leaf=0.0, n_estimators=10, n_jobs=1,\n",
       "           oob_score=False, random_state=0, verbose=0, warm_start=False),\n",
       "       fit_params=None, iid=True, n_jobs=1,\n",
       "       param_grid={'criterion': ['mse', 'mae'], 'max_depth': [2, 6, 8], 'n_estimators': [50, 100, 200]},\n",
       "       pre_dispatch='2*n_jobs', refit=True, return_train_score='warn',\n",
       "       scoring=None, verbose=0)"
      ]
     },
     "execution_count": 25,
     "metadata": {},
     "output_type": "execute_result"
    }
   ],
   "source": [
    "#use a grid search\n",
    "param_grid = {\"criterion\": [\"mse\", \"mae\"], #mean squared error and mean absolute error in documentation\n",
    "              #\"min_samples_split\": [10, 20, 40],\n",
    "              \"max_depth\": [2, 6, 8],\n",
    "              \"n_estimators\":[50, 100, 200]\n",
    "              #\"min_samples_leaf\": [20, 40, 100],\n",
    "              #\"max_leaf_nodes\": [5, 20, 100, 500, 800],\n",
    "              }\n",
    "\n",
    "grid_cv_regr = GridSearchCV(regr, param_grid, cv=5)\n",
    "\n",
    "grid_cv_regr.fit(X_train, Y_train) #features and labels"
   ]
  },
  {
   "cell_type": "code",
   "execution_count": 26,
   "metadata": {},
   "outputs": [
    {
     "data": {
      "text/plain": [
       "array([ 1.34732078, -1.10077371,  0.15225588,  1.04102542,  0.54279816,\n",
       "        0.95300051, -0.28442067,  1.13001283, -0.08909218, -0.1545077 ,\n",
       "       -1.48859989,  0.46508354, -0.03371684, -0.00196058,  0.58260302,\n",
       "       -1.20496377,  0.67904536, -1.26801797,  1.54458964, -1.3035733 ,\n",
       "       -0.09655548, -0.20795975,  1.02504117, -1.48727896,  1.5853497 ,\n",
       "       -0.14698618,  1.0072227 , -1.33368201,  0.16739109, -0.52264231,\n",
       "       -0.09228813, -1.12636684])"
      ]
     },
     "execution_count": 26,
     "metadata": {},
     "output_type": "execute_result"
    }
   ],
   "source": [
    "grid_cv_regr.predict(X_test) "
   ]
  },
  {
   "cell_type": "markdown",
   "metadata": {},
   "source": [
    "We check the output and notice that its one dimensional which is what we want. We now set this variable to Y_predicted so that we can later graph it against Y_test."
   ]
  },
  {
   "cell_type": "code",
   "execution_count": 27,
   "metadata": {
    "collapsed": true
   },
   "outputs": [],
   "source": [
    "Y_predicted = grid_cv_regr.predict(X_test)"
   ]
  },
  {
   "cell_type": "code",
   "execution_count": 28,
   "metadata": {},
   "outputs": [
    {
     "name": "stdout",
     "output_type": "stream",
     "text": [
      "R-Squared::0.7797755498836152\n",
      "Best Hyperparameters::\n",
      "{'criterion': 'mse', 'max_depth': 8, 'n_estimators': 100}\n"
     ]
    }
   ],
   "source": [
    "print(\"R-Squared::{}\".format(grid_cv_regr.best_score_))\n",
    "print(\"Best Hyperparameters::\\n{}\".format(grid_cv_regr.best_params_))\n",
    "\n",
    "#random forest builds multiple decision trees \n",
    "#best number of decision trees\n",
    "#depth of each tree shouldnt be more than 8 levels\n",
    "#go down to 8 levels(splits) but dont split it further"
   ]
  },
  {
   "cell_type": "code",
   "execution_count": 29,
   "metadata": {},
   "outputs": [
    {
     "name": "stderr",
     "output_type": "stream",
     "text": [
      "/Users/Alexandra/anaconda/lib/python3.6/site-packages/sklearn/utils/deprecation.py:122: FutureWarning: You are accessing a training score ('mean_train_score'), which will not be available by default any more in 0.21. If you need training scores, please set return_train_score=True\n",
      "  warnings.warn(*warn_args, **warn_kwargs)\n",
      "/Users/Alexandra/anaconda/lib/python3.6/site-packages/sklearn/utils/deprecation.py:122: FutureWarning: You are accessing a training score ('split0_train_score'), which will not be available by default any more in 0.21. If you need training scores, please set return_train_score=True\n",
      "  warnings.warn(*warn_args, **warn_kwargs)\n",
      "/Users/Alexandra/anaconda/lib/python3.6/site-packages/sklearn/utils/deprecation.py:122: FutureWarning: You are accessing a training score ('split1_train_score'), which will not be available by default any more in 0.21. If you need training scores, please set return_train_score=True\n",
      "  warnings.warn(*warn_args, **warn_kwargs)\n",
      "/Users/Alexandra/anaconda/lib/python3.6/site-packages/sklearn/utils/deprecation.py:122: FutureWarning: You are accessing a training score ('split2_train_score'), which will not be available by default any more in 0.21. If you need training scores, please set return_train_score=True\n",
      "  warnings.warn(*warn_args, **warn_kwargs)\n",
      "/Users/Alexandra/anaconda/lib/python3.6/site-packages/sklearn/utils/deprecation.py:122: FutureWarning: You are accessing a training score ('split3_train_score'), which will not be available by default any more in 0.21. If you need training scores, please set return_train_score=True\n",
      "  warnings.warn(*warn_args, **warn_kwargs)\n",
      "/Users/Alexandra/anaconda/lib/python3.6/site-packages/sklearn/utils/deprecation.py:122: FutureWarning: You are accessing a training score ('split4_train_score'), which will not be available by default any more in 0.21. If you need training scores, please set return_train_score=True\n",
      "  warnings.warn(*warn_args, **warn_kwargs)\n",
      "/Users/Alexandra/anaconda/lib/python3.6/site-packages/sklearn/utils/deprecation.py:122: FutureWarning: You are accessing a training score ('std_train_score'), which will not be available by default any more in 0.21. If you need training scores, please set return_train_score=True\n",
      "  warnings.warn(*warn_args, **warn_kwargs)\n"
     ]
    },
    {
     "data": {
      "text/html": [
       "<div>\n",
       "<style>\n",
       "    .dataframe thead tr:only-child th {\n",
       "        text-align: right;\n",
       "    }\n",
       "\n",
       "    .dataframe thead th {\n",
       "        text-align: left;\n",
       "    }\n",
       "\n",
       "    .dataframe tbody tr th {\n",
       "        vertical-align: top;\n",
       "    }\n",
       "</style>\n",
       "<table border=\"1\" class=\"dataframe\">\n",
       "  <thead>\n",
       "    <tr style=\"text-align: right;\">\n",
       "      <th></th>\n",
       "      <th>mean_fit_time</th>\n",
       "      <th>mean_score_time</th>\n",
       "      <th>mean_test_score</th>\n",
       "      <th>mean_train_score</th>\n",
       "      <th>param_criterion</th>\n",
       "      <th>param_max_depth</th>\n",
       "      <th>param_n_estimators</th>\n",
       "      <th>params</th>\n",
       "      <th>rank_test_score</th>\n",
       "      <th>split0_test_score</th>\n",
       "      <th>...</th>\n",
       "      <th>split2_test_score</th>\n",
       "      <th>split2_train_score</th>\n",
       "      <th>split3_test_score</th>\n",
       "      <th>split3_train_score</th>\n",
       "      <th>split4_test_score</th>\n",
       "      <th>split4_train_score</th>\n",
       "      <th>std_fit_time</th>\n",
       "      <th>std_score_time</th>\n",
       "      <th>std_test_score</th>\n",
       "      <th>std_train_score</th>\n",
       "    </tr>\n",
       "  </thead>\n",
       "  <tbody>\n",
       "    <tr>\n",
       "      <th>0</th>\n",
       "      <td>0.051294</td>\n",
       "      <td>0.002151</td>\n",
       "      <td>0.635147</td>\n",
       "      <td>0.778980</td>\n",
       "      <td>mse</td>\n",
       "      <td>2</td>\n",
       "      <td>50</td>\n",
       "      <td>{'criterion': 'mse', 'max_depth': 2, 'n_estima...</td>\n",
       "      <td>15</td>\n",
       "      <td>0.614212</td>\n",
       "      <td>...</td>\n",
       "      <td>0.450696</td>\n",
       "      <td>0.803998</td>\n",
       "      <td>0.656762</td>\n",
       "      <td>0.758853</td>\n",
       "      <td>0.675603</td>\n",
       "      <td>0.792493</td>\n",
       "      <td>0.010318</td>\n",
       "      <td>0.000283</td>\n",
       "      <td>0.107932</td>\n",
       "      <td>0.016908</td>\n",
       "    </tr>\n",
       "    <tr>\n",
       "      <th>1</th>\n",
       "      <td>0.084340</td>\n",
       "      <td>0.003847</td>\n",
       "      <td>0.641909</td>\n",
       "      <td>0.783677</td>\n",
       "      <td>mse</td>\n",
       "      <td>2</td>\n",
       "      <td>100</td>\n",
       "      <td>{'criterion': 'mse', 'max_depth': 2, 'n_estima...</td>\n",
       "      <td>14</td>\n",
       "      <td>0.632573</td>\n",
       "      <td>...</td>\n",
       "      <td>0.450889</td>\n",
       "      <td>0.807285</td>\n",
       "      <td>0.661534</td>\n",
       "      <td>0.762090</td>\n",
       "      <td>0.677862</td>\n",
       "      <td>0.795574</td>\n",
       "      <td>0.003710</td>\n",
       "      <td>0.000417</td>\n",
       "      <td>0.109848</td>\n",
       "      <td>0.016572</td>\n",
       "    </tr>\n",
       "    <tr>\n",
       "      <th>2</th>\n",
       "      <td>0.173179</td>\n",
       "      <td>0.007047</td>\n",
       "      <td>0.644673</td>\n",
       "      <td>0.783179</td>\n",
       "      <td>mse</td>\n",
       "      <td>2</td>\n",
       "      <td>200</td>\n",
       "      <td>{'criterion': 'mse', 'max_depth': 2, 'n_estima...</td>\n",
       "      <td>13</td>\n",
       "      <td>0.646722</td>\n",
       "      <td>...</td>\n",
       "      <td>0.453440</td>\n",
       "      <td>0.809010</td>\n",
       "      <td>0.663916</td>\n",
       "      <td>0.762463</td>\n",
       "      <td>0.673048</td>\n",
       "      <td>0.792382</td>\n",
       "      <td>0.012647</td>\n",
       "      <td>0.000881</td>\n",
       "      <td>0.108437</td>\n",
       "      <td>0.016650</td>\n",
       "    </tr>\n",
       "    <tr>\n",
       "      <th>3</th>\n",
       "      <td>0.043909</td>\n",
       "      <td>0.002241</td>\n",
       "      <td>0.772992</td>\n",
       "      <td>0.966542</td>\n",
       "      <td>mse</td>\n",
       "      <td>6</td>\n",
       "      <td>50</td>\n",
       "      <td>{'criterion': 'mse', 'max_depth': 6, 'n_estima...</td>\n",
       "      <td>6</td>\n",
       "      <td>0.776002</td>\n",
       "      <td>...</td>\n",
       "      <td>0.534217</td>\n",
       "      <td>0.973138</td>\n",
       "      <td>0.833173</td>\n",
       "      <td>0.969704</td>\n",
       "      <td>0.827960</td>\n",
       "      <td>0.963136</td>\n",
       "      <td>0.001836</td>\n",
       "      <td>0.000372</td>\n",
       "      <td>0.126173</td>\n",
       "      <td>0.004176</td>\n",
       "    </tr>\n",
       "    <tr>\n",
       "      <th>4</th>\n",
       "      <td>0.088370</td>\n",
       "      <td>0.004095</td>\n",
       "      <td>0.779517</td>\n",
       "      <td>0.967336</td>\n",
       "      <td>mse</td>\n",
       "      <td>6</td>\n",
       "      <td>100</td>\n",
       "      <td>{'criterion': 'mse', 'max_depth': 6, 'n_estima...</td>\n",
       "      <td>2</td>\n",
       "      <td>0.775295</td>\n",
       "      <td>...</td>\n",
       "      <td>0.534746</td>\n",
       "      <td>0.972878</td>\n",
       "      <td>0.842237</td>\n",
       "      <td>0.968291</td>\n",
       "      <td>0.846299</td>\n",
       "      <td>0.964258</td>\n",
       "      <td>0.005556</td>\n",
       "      <td>0.000778</td>\n",
       "      <td>0.129696</td>\n",
       "      <td>0.003175</td>\n",
       "    </tr>\n",
       "  </tbody>\n",
       "</table>\n",
       "<p>5 rows × 23 columns</p>\n",
       "</div>"
      ],
      "text/plain": [
       "   mean_fit_time  mean_score_time  mean_test_score  mean_train_score  \\\n",
       "0       0.051294         0.002151         0.635147          0.778980   \n",
       "1       0.084340         0.003847         0.641909          0.783677   \n",
       "2       0.173179         0.007047         0.644673          0.783179   \n",
       "3       0.043909         0.002241         0.772992          0.966542   \n",
       "4       0.088370         0.004095         0.779517          0.967336   \n",
       "\n",
       "  param_criterion param_max_depth param_n_estimators  \\\n",
       "0             mse               2                 50   \n",
       "1             mse               2                100   \n",
       "2             mse               2                200   \n",
       "3             mse               6                 50   \n",
       "4             mse               6                100   \n",
       "\n",
       "                                              params  rank_test_score  \\\n",
       "0  {'criterion': 'mse', 'max_depth': 2, 'n_estima...               15   \n",
       "1  {'criterion': 'mse', 'max_depth': 2, 'n_estima...               14   \n",
       "2  {'criterion': 'mse', 'max_depth': 2, 'n_estima...               13   \n",
       "3  {'criterion': 'mse', 'max_depth': 6, 'n_estima...                6   \n",
       "4  {'criterion': 'mse', 'max_depth': 6, 'n_estima...                2   \n",
       "\n",
       "   split0_test_score       ...         split2_test_score  split2_train_score  \\\n",
       "0           0.614212       ...                  0.450696            0.803998   \n",
       "1           0.632573       ...                  0.450889            0.807285   \n",
       "2           0.646722       ...                  0.453440            0.809010   \n",
       "3           0.776002       ...                  0.534217            0.973138   \n",
       "4           0.775295       ...                  0.534746            0.972878   \n",
       "\n",
       "   split3_test_score  split3_train_score  split4_test_score  \\\n",
       "0           0.656762            0.758853           0.675603   \n",
       "1           0.661534            0.762090           0.677862   \n",
       "2           0.663916            0.762463           0.673048   \n",
       "3           0.833173            0.969704           0.827960   \n",
       "4           0.842237            0.968291           0.846299   \n",
       "\n",
       "   split4_train_score  std_fit_time  std_score_time  std_test_score  \\\n",
       "0            0.792493      0.010318        0.000283        0.107932   \n",
       "1            0.795574      0.003710        0.000417        0.109848   \n",
       "2            0.792382      0.012647        0.000881        0.108437   \n",
       "3            0.963136      0.001836        0.000372        0.126173   \n",
       "4            0.964258      0.005556        0.000778        0.129696   \n",
       "\n",
       "   std_train_score  \n",
       "0         0.016908  \n",
       "1         0.016572  \n",
       "2         0.016650  \n",
       "3         0.004176  \n",
       "4         0.003175  \n",
       "\n",
       "[5 rows x 23 columns]"
      ]
     },
     "execution_count": 29,
     "metadata": {},
     "output_type": "execute_result"
    }
   ],
   "source": [
    "df = pd.DataFrame(data=grid_cv_regr.cv_results_)\n",
    "df.head()"
   ]
  },
  {
   "cell_type": "code",
   "execution_count": 30,
   "metadata": {},
   "outputs": [
    {
     "name": "stdout",
     "output_type": "stream",
     "text": [
      "{'criterion': 'mse', 'max_depth': 2, 'n_estimators': 50} 0.6351 0.1079\n",
      "{'criterion': 'mse', 'max_depth': 2, 'n_estimators': 100} 0.6419 0.1098\n",
      "{'criterion': 'mse', 'max_depth': 2, 'n_estimators': 200} 0.6447 0.1084\n",
      "{'criterion': 'mse', 'max_depth': 6, 'n_estimators': 50} 0.773 0.1262\n",
      "{'criterion': 'mse', 'max_depth': 6, 'n_estimators': 100} 0.7795 0.1297\n",
      "{'criterion': 'mse', 'max_depth': 6, 'n_estimators': 200} 0.776 0.1279\n",
      "{'criterion': 'mse', 'max_depth': 8, 'n_estimators': 50} 0.7753 0.1273\n",
      "{'criterion': 'mse', 'max_depth': 8, 'n_estimators': 100} 0.7798 0.1331\n",
      "{'criterion': 'mse', 'max_depth': 8, 'n_estimators': 200} 0.7775 0.1307\n",
      "{'criterion': 'mae', 'max_depth': 2, 'n_estimators': 50} 0.589 0.1616\n",
      "{'criterion': 'mae', 'max_depth': 2, 'n_estimators': 100} 0.6 0.1608\n",
      "{'criterion': 'mae', 'max_depth': 2, 'n_estimators': 200} 0.6016 0.1702\n",
      "{'criterion': 'mae', 'max_depth': 6, 'n_estimators': 50} 0.7343 0.1623\n",
      "{'criterion': 'mae', 'max_depth': 6, 'n_estimators': 100} 0.7366 0.1553\n",
      "{'criterion': 'mae', 'max_depth': 6, 'n_estimators': 200} 0.737 0.1623\n",
      "{'criterion': 'mae', 'max_depth': 8, 'n_estimators': 50} 0.7359 0.1646\n",
      "{'criterion': 'mae', 'max_depth': 8, 'n_estimators': 100} 0.7432 0.1548\n",
      "{'criterion': 'mae', 'max_depth': 8, 'n_estimators': 200} 0.7419 0.1622\n"
     ]
    }
   ],
   "source": [
    "results = grid_cv_regr.cv_results_\n",
    "for param, score_mean, score_sd in zip(results['params'], results['mean_test_score'], results['std_test_score']):\n",
    "    print(param, round(score_mean, 4), round(score_sd, 4))\n",
    "    \n",
    "#the highest is n=100, and mx depth 8 "
   ]
  },
  {
   "cell_type": "code",
   "execution_count": 31,
   "metadata": {},
   "outputs": [
    {
     "data": {
      "text/plain": [
       "0.94480712245706144"
      ]
     },
     "execution_count": 31,
     "metadata": {},
     "output_type": "execute_result"
    }
   ],
   "source": [
    "grid_cv_regr.score(X_test, Y_test) #this is really great!!!"
   ]
  },
  {
   "cell_type": "markdown",
   "metadata": {},
   "source": [
    "From here we see that hyperparameterization worked!!"
   ]
  },
  {
   "cell_type": "code",
   "execution_count": 32,
   "metadata": {
    "scrolled": false
   },
   "outputs": [
    {
     "data": {
      "image/png": "[encoded data removed]",
      "text/plain": [
       "<Figure size 1224x720 with 1 Axes>"
      ]
     },
     "metadata": {},
     "output_type": "display_data"
    }
   ],
   "source": [
    "plt.figure(figsize=(17, 10))\n",
    "plt.plot(Y_test, alpha = 0.3)\n",
    "plt.plot(Y_predicted, alpha = 0.4)\n",
    "\n",
    "# need to add legend\n",
    "plt.ylabel('normalized scale')\n",
    "plt.xticks(rotation=70)\n",
    "plt.show()"
   ]
  },
  {
   "cell_type": "markdown",
   "metadata": {},
   "source": [
    "grid_cv_regr.score(X_test, Y_test), performs the same thing, (notice the number is the same) it runs the model again with the optimized parameters\n",
    "\n",
    "Note: this doesn't forcast what is to come. This model tells us How changes in the Dow Jones (and other features) might cause changes in ethereum. If you can use Time series analysis to forecast changes in the dow jones, you might be able to predict changes in ethereum, but you dont have the ability to do forecasting with this model.\n",
    "\n",
    "Can A Regression model forecast? The most you can forcast Is If you predicted dow jones values and fed that prediction into a model to forcast ethereum price. Dow jones index has a lot of historical data backing it up as opposed to etheruem, so thats why it could posible be used as an exogeneous variable in a time series model (ARIMAX was looked into breifly for this prroject and more will be included on that.\n",
    "\n",
    "A classification model can be put into place in order to predict if the price of ethereum will go up or down. In order to do this all of the features that are deemed significant must also be converted to a binary list of 0's or 1's. A 0 signifying that the price dropped since the day before and a 1 signifying that the price rose since then.\n",
    "\n",
    "We will now look at classification and for this we weill drop the sentiment feature."
   ]
  },
  {
   "cell_type": "markdown",
   "metadata": {},
   "source": [
    "### now for classification "
   ]
  },
  {
   "cell_type": "code",
   "execution_count": 33,
   "metadata": {
    "collapsed": true
   },
   "outputs": [],
   "source": [
    "y = df_scaled['rise_lower']"
   ]
  },
  {
   "cell_type": "code",
   "execution_count": 34,
   "metadata": {
    "collapsed": true
   },
   "outputs": [],
   "source": [
    "y = np.array(df_scaled['rise_lower'])\n",
    "# Remove the labels from the features\n",
    "# axis 1 refers to the columns\n",
    "features= df_scaled.drop(['date','rise_lower','price_eth','sentiment'], axis = 1)\n",
    "# Saving feature names for later use\n",
    "feature_list = list(features.columns) #this way we remeber the column names\n",
    "# Convert to numpy array\n",
    "X = np.array(features) #because once we convert to np array it drops the names"
   ]
  },
  {
   "cell_type": "code",
   "execution_count": 35,
   "metadata": {
    "collapsed": true
   },
   "outputs": [],
   "source": [
    "#features #toggle this to double check"
   ]
  },
  {
   "cell_type": "code",
   "execution_count": 59,
   "metadata": {
    "collapsed": true
   },
   "outputs": [],
   "source": [
    "from sklearn.model_selection import train_test_split\n",
    "# Split the data into training and testing sets\n",
    "\n",
    "X_train, X_test, Y_train, Y_test = train_test_split(X, y, test_size = 0.25, random_state = 42)"
   ]
  },
  {
   "cell_type": "code",
   "execution_count": 60,
   "metadata": {},
   "outputs": [
    {
     "data": {
      "text/plain": [
       "RandomForestClassifier(bootstrap=True, class_weight=None, criterion='gini',\n",
       "            max_depth=2, max_features='auto', max_leaf_nodes=None,\n",
       "            min_impurity_split=1e-07, min_samples_leaf=1,\n",
       "            min_samples_split=2, min_weight_fraction_leaf=0.0,\n",
       "            n_estimators=10, n_jobs=1, oob_score=False, random_state=0,\n",
       "            verbose=0, warm_start=False)"
      ]
     },
     "execution_count": 60,
     "metadata": {},
     "output_type": "execute_result"
    }
   ],
   "source": [
    "clf = RandomForestClassifier(max_depth=2, random_state=0)\n",
    "clf.fit(X_train, Y_train)"
   ]
  },
  {
   "cell_type": "code",
   "execution_count": 61,
   "metadata": {},
   "outputs": [
    {
     "data": {
      "text/plain": [
       "array([0.28857295, 0.24358315, 0.46784389])"
      ]
     },
     "execution_count": 61,
     "metadata": {},
     "output_type": "execute_result"
    }
   ],
   "source": [
    "clf.feature_importances_"
   ]
  },
  {
   "cell_type": "code",
   "execution_count": 62,
   "metadata": {
    "collapsed": true
   },
   "outputs": [],
   "source": [
    "#features"
   ]
  },
  {
   "cell_type": "code",
   "execution_count": 63,
   "metadata": {},
   "outputs": [
    {
     "data": {
      "text/plain": [
       "array([1, 1, 0, 0, 1, 0, 1, 1, 1, 1, 1, 1, 0, 0, 0, 1, 0, 1, 1, 1, 1, 1,\n",
       "       0, 1, 0, 1, 0, 1, 1, 1, 1, 1])"
      ]
     },
     "execution_count": 63,
     "metadata": {},
     "output_type": "execute_result"
    }
   ],
   "source": [
    "clf.predict(X_test)"
   ]
  },
  {
   "cell_type": "code",
   "execution_count": 64,
   "metadata": {},
   "outputs": [
    {
     "data": {
      "text/plain": [
       "0.59375"
      ]
     },
     "execution_count": 64,
     "metadata": {},
     "output_type": "execute_result"
    }
   ],
   "source": [
    "clf.score(X_test, Y_test)"
   ]
  },
  {
   "cell_type": "code",
   "execution_count": 65,
   "metadata": {},
   "outputs": [
    {
     "data": {
      "text/plain": [
       "GridSearchCV(cv=5, error_score='raise',\n",
       "       estimator=RandomForestClassifier(bootstrap=True, class_weight=None, criterion='gini',\n",
       "            max_depth=2, max_features='auto', max_leaf_nodes=None,\n",
       "            min_impurity_split=1e-07, min_samples_leaf=1,\n",
       "            min_samples_split=2, min_weight_fraction_leaf=0.0,\n",
       "            n_estimators=10, n_jobs=1, oob_score=False, random_state=0,\n",
       "            verbose=0, warm_start=False),\n",
       "       fit_params={}, iid=True, n_jobs=1,\n",
       "       param_grid={'max_depth': [2, 6, 8], 'n_estimators': [50, 100, 200]},\n",
       "       pre_dispatch='2*n_jobs', refit=True, return_train_score=True,\n",
       "       scoring=None, verbose=0)"
      ]
     },
     "execution_count": 65,
     "metadata": {},
     "output_type": "execute_result"
    }
   ],
   "source": [
    "#use a grid search\n",
    "\n",
    "param_grid = {#\"criterion\": [\"mse\", \"mae\"], #mean squared error and mean absolute error in documentation\n",
    "              #\"min_samples_split\": [10, 20, 40],\n",
    "              \"max_depth\": [2, 6, 8],\n",
    "              \"n_estimators\":[50, 100, 200]\n",
    "              #\"min_samples_leaf\": [20, 40, 100],\n",
    "              #\"max_leaf_nodes\": [5, 20, 100, 500, 800],\n",
    "              }\n",
    "\n",
    "grid_cv_clf = GridSearchCV(clf, param_grid, cv=5)\n",
    "grid_cv_clf.fit(X_train, Y_train) #features and labels"
   ]
  },
  {
   "cell_type": "code",
   "execution_count": 66,
   "metadata": {},
   "outputs": [
    {
     "name": "stdout",
     "output_type": "stream",
     "text": [
      "R-Squared::0.7797755498836152\n",
      "Best Hyperparameters::\n",
      "{'criterion': 'mse', 'max_depth': 8, 'n_estimators': 100}\n"
     ]
    }
   ],
   "source": [
    "print(\"R-Squared::{}\".format(grid_cv_regr.best_score_))\n",
    "print(\"Best Hyperparameters::\\n{}\".format(grid_cv_regr.best_params_))\n",
    "\n",
    "#random forest builds multiple decision trees \n",
    "#best number of decision trees\n",
    "#depth of each tree shouldnt be more than 8 levels\n",
    "#go down to 8 levels(splits) but dont split it further"
   ]
  },
  {
   "cell_type": "code",
   "execution_count": 67,
   "metadata": {},
   "outputs": [
    {
     "data": {
      "text/html": [
       "<div>\n",
       "<style>\n",
       "    .dataframe thead tr:only-child th {\n",
       "        text-align: right;\n",
       "    }\n",
       "\n",
       "    .dataframe thead th {\n",
       "        text-align: left;\n",
       "    }\n",
       "\n",
       "    .dataframe tbody tr th {\n",
       "        vertical-align: top;\n",
       "    }\n",
       "</style>\n",
       "<table border=\"1\" class=\"dataframe\">\n",
       "  <thead>\n",
       "    <tr style=\"text-align: right;\">\n",
       "      <th></th>\n",
       "      <th>mean_fit_time</th>\n",
       "      <th>mean_score_time</th>\n",
       "      <th>mean_test_score</th>\n",
       "      <th>mean_train_score</th>\n",
       "      <th>param_criterion</th>\n",
       "      <th>param_max_depth</th>\n",
       "      <th>param_n_estimators</th>\n",
       "      <th>params</th>\n",
       "      <th>rank_test_score</th>\n",
       "      <th>split0_test_score</th>\n",
       "      <th>...</th>\n",
       "      <th>split2_test_score</th>\n",
       "      <th>split2_train_score</th>\n",
       "      <th>split3_test_score</th>\n",
       "      <th>split3_train_score</th>\n",
       "      <th>split4_test_score</th>\n",
       "      <th>split4_train_score</th>\n",
       "      <th>std_fit_time</th>\n",
       "      <th>std_score_time</th>\n",
       "      <th>std_test_score</th>\n",
       "      <th>std_train_score</th>\n",
       "    </tr>\n",
       "  </thead>\n",
       "  <tbody>\n",
       "    <tr>\n",
       "      <th>0</th>\n",
       "      <td>0.042540</td>\n",
       "      <td>0.002584</td>\n",
       "      <td>0.635147</td>\n",
       "      <td>0.778980</td>\n",
       "      <td>mse</td>\n",
       "      <td>2</td>\n",
       "      <td>50</td>\n",
       "      <td>{'criterion': 'mse', 'max_depth': 2, 'n_estima...</td>\n",
       "      <td>15</td>\n",
       "      <td>0.614212</td>\n",
       "      <td>...</td>\n",
       "      <td>0.450696</td>\n",
       "      <td>0.803998</td>\n",
       "      <td>0.656762</td>\n",
       "      <td>0.758853</td>\n",
       "      <td>0.675603</td>\n",
       "      <td>0.792493</td>\n",
       "      <td>0.004989</td>\n",
       "      <td>0.000234</td>\n",
       "      <td>0.107932</td>\n",
       "      <td>0.016908</td>\n",
       "    </tr>\n",
       "    <tr>\n",
       "      <th>1</th>\n",
       "      <td>0.080937</td>\n",
       "      <td>0.004915</td>\n",
       "      <td>0.641909</td>\n",
       "      <td>0.783677</td>\n",
       "      <td>mse</td>\n",
       "      <td>2</td>\n",
       "      <td>100</td>\n",
       "      <td>{'criterion': 'mse', 'max_depth': 2, 'n_estima...</td>\n",
       "      <td>14</td>\n",
       "      <td>0.632573</td>\n",
       "      <td>...</td>\n",
       "      <td>0.450889</td>\n",
       "      <td>0.807285</td>\n",
       "      <td>0.661534</td>\n",
       "      <td>0.762090</td>\n",
       "      <td>0.677862</td>\n",
       "      <td>0.795574</td>\n",
       "      <td>0.006396</td>\n",
       "      <td>0.000734</td>\n",
       "      <td>0.109848</td>\n",
       "      <td>0.016572</td>\n",
       "    </tr>\n",
       "    <tr>\n",
       "      <th>2</th>\n",
       "      <td>0.160024</td>\n",
       "      <td>0.008687</td>\n",
       "      <td>0.644673</td>\n",
       "      <td>0.783179</td>\n",
       "      <td>mse</td>\n",
       "      <td>2</td>\n",
       "      <td>200</td>\n",
       "      <td>{'criterion': 'mse', 'max_depth': 2, 'n_estima...</td>\n",
       "      <td>13</td>\n",
       "      <td>0.646722</td>\n",
       "      <td>...</td>\n",
       "      <td>0.453440</td>\n",
       "      <td>0.809010</td>\n",
       "      <td>0.663916</td>\n",
       "      <td>0.762463</td>\n",
       "      <td>0.673048</td>\n",
       "      <td>0.792382</td>\n",
       "      <td>0.011674</td>\n",
       "      <td>0.000278</td>\n",
       "      <td>0.108437</td>\n",
       "      <td>0.016650</td>\n",
       "    </tr>\n",
       "    <tr>\n",
       "      <th>3</th>\n",
       "      <td>0.041521</td>\n",
       "      <td>0.002519</td>\n",
       "      <td>0.772992</td>\n",
       "      <td>0.966542</td>\n",
       "      <td>mse</td>\n",
       "      <td>6</td>\n",
       "      <td>50</td>\n",
       "      <td>{'criterion': 'mse', 'max_depth': 6, 'n_estima...</td>\n",
       "      <td>6</td>\n",
       "      <td>0.776002</td>\n",
       "      <td>...</td>\n",
       "      <td>0.534217</td>\n",
       "      <td>0.973138</td>\n",
       "      <td>0.833173</td>\n",
       "      <td>0.969704</td>\n",
       "      <td>0.827960</td>\n",
       "      <td>0.963136</td>\n",
       "      <td>0.001249</td>\n",
       "      <td>0.000043</td>\n",
       "      <td>0.126173</td>\n",
       "      <td>0.004176</td>\n",
       "    </tr>\n",
       "    <tr>\n",
       "      <th>4</th>\n",
       "      <td>0.082450</td>\n",
       "      <td>0.005063</td>\n",
       "      <td>0.779517</td>\n",
       "      <td>0.967336</td>\n",
       "      <td>mse</td>\n",
       "      <td>6</td>\n",
       "      <td>100</td>\n",
       "      <td>{'criterion': 'mse', 'max_depth': 6, 'n_estima...</td>\n",
       "      <td>2</td>\n",
       "      <td>0.775295</td>\n",
       "      <td>...</td>\n",
       "      <td>0.534746</td>\n",
       "      <td>0.972878</td>\n",
       "      <td>0.842237</td>\n",
       "      <td>0.968291</td>\n",
       "      <td>0.846299</td>\n",
       "      <td>0.964258</td>\n",
       "      <td>0.003932</td>\n",
       "      <td>0.001008</td>\n",
       "      <td>0.129696</td>\n",
       "      <td>0.003175</td>\n",
       "    </tr>\n",
       "  </tbody>\n",
       "</table>\n",
       "<p>5 rows × 23 columns</p>\n",
       "</div>"
      ],
      "text/plain": [
       "   mean_fit_time  mean_score_time  mean_test_score  mean_train_score  \\\n",
       "0       0.042540         0.002584         0.635147          0.778980   \n",
       "1       0.080937         0.004915         0.641909          0.783677   \n",
       "2       0.160024         0.008687         0.644673          0.783179   \n",
       "3       0.041521         0.002519         0.772992          0.966542   \n",
       "4       0.082450         0.005063         0.779517          0.967336   \n",
       "\n",
       "  param_criterion param_max_depth param_n_estimators  \\\n",
       "0             mse               2                 50   \n",
       "1             mse               2                100   \n",
       "2             mse               2                200   \n",
       "3             mse               6                 50   \n",
       "4             mse               6                100   \n",
       "\n",
       "                                              params  rank_test_score  \\\n",
       "0  {'criterion': 'mse', 'max_depth': 2, 'n_estima...               15   \n",
       "1  {'criterion': 'mse', 'max_depth': 2, 'n_estima...               14   \n",
       "2  {'criterion': 'mse', 'max_depth': 2, 'n_estima...               13   \n",
       "3  {'criterion': 'mse', 'max_depth': 6, 'n_estima...                6   \n",
       "4  {'criterion': 'mse', 'max_depth': 6, 'n_estima...                2   \n",
       "\n",
       "   split0_test_score       ...         split2_test_score  split2_train_score  \\\n",
       "0           0.614212       ...                  0.450696            0.803998   \n",
       "1           0.632573       ...                  0.450889            0.807285   \n",
       "2           0.646722       ...                  0.453440            0.809010   \n",
       "3           0.776002       ...                  0.534217            0.973138   \n",
       "4           0.775295       ...                  0.534746            0.972878   \n",
       "\n",
       "   split3_test_score  split3_train_score  split4_test_score  \\\n",
       "0           0.656762            0.758853           0.675603   \n",
       "1           0.661534            0.762090           0.677862   \n",
       "2           0.663916            0.762463           0.673048   \n",
       "3           0.833173            0.969704           0.827960   \n",
       "4           0.842237            0.968291           0.846299   \n",
       "\n",
       "   split4_train_score  std_fit_time  std_score_time  std_test_score  \\\n",
       "0            0.792493      0.004989        0.000234        0.107932   \n",
       "1            0.795574      0.006396        0.000734        0.109848   \n",
       "2            0.792382      0.011674        0.000278        0.108437   \n",
       "3            0.963136      0.001249        0.000043        0.126173   \n",
       "4            0.964258      0.003932        0.001008        0.129696   \n",
       "\n",
       "   std_train_score  \n",
       "0         0.016908  \n",
       "1         0.016572  \n",
       "2         0.016650  \n",
       "3         0.004176  \n",
       "4         0.003175  \n",
       "\n",
       "[5 rows x 23 columns]"
      ]
     },
     "execution_count": 67,
     "metadata": {},
     "output_type": "execute_result"
    }
   ],
   "source": [
    "df = pd.DataFrame(data=grid_cv_regr.cv_results_)\n",
    "df.head()"
   ]
  },
  {
   "cell_type": "code",
   "execution_count": 68,
   "metadata": {},
   "outputs": [
    {
     "data": {
      "text/plain": [
       "0.46875"
      ]
     },
     "execution_count": 68,
     "metadata": {},
     "output_type": "execute_result"
    }
   ],
   "source": [
    "grid_cv_clf.score(X_test, Y_test)"
   ]
  },
  {
   "cell_type": "markdown",
   "metadata": {},
   "source": [
    "It feels as if what we did here was comparing apples and oranges. Comparing apples with apples would be more like, did dow jones increase? did google search frequency increase? a score around 50 percent is actually a likely result here, because this is a binary target, and nothing in my features say anything about the previous day. Here we are taking a bunch of values and trying to figure out weather these values were higher or lower than the previous day, but we have no information about the previous day in our dfeatures matrix. For example when looking at one line of data from our features matrix, does any cell in this line tell us something about the previous day? On any given line how does it compare to the one before it? All these values are independent from the day before, acording to my model, because we are not saying how they are related.\n",
    "\n",
    "Now we will explore another idea for a classifier. For every single feature, make it an up or down binary vector. We should get way better results because we are not simply flipping a coin anymore. The binary of dow jones having gone up or down up or down should be more predictive."
   ]
  },
  {
   "cell_type": "markdown",
   "metadata": {
    "collapsed": true
   },
   "source": [
    "### Classification with binary features:\n",
    "first we will make some binary features from lists utilizing the enumerate function. What the binary representation will indicate is the following: if the value went up from the day before we will attribute a 1 to that value. Each element in the vector is saying something about what direction price went from the day before."
   ]
  },
  {
   "cell_type": "code",
   "execution_count": 69,
   "metadata": {
    "collapsed": true
   },
   "outputs": [],
   "source": [
    "rise_fall_list_DJI = []\n",
    "\n",
    "for index, item in enumerate(df_ultra_mega_frame['DJI']):\n",
    "    if df_ultra_mega_frame['DJI'].iloc[index-1] < df_ultra_mega_frame['DJI'].iloc[index]:\n",
    "        rise_fall_list_DJI.append(1)\n",
    "    else:\n",
    "        rise_fall_list_DJI.append(0)\n",
    "        \n",
    "\n",
    "df_ultra_mega_frame['rise_lower_dji'] = rise_fall_list_DJI\n",
    "\n",
    "#--------\n",
    "rise_fall_list_BTC = []\n",
    "\n",
    "for index, item in enumerate(df_ultra_mega_frame['price_btc']):\n",
    "    if df_ultra_mega_frame['price_btc'].iloc[index-1] < df_ultra_mega_frame['price_btc'].iloc[index]:\n",
    "        rise_fall_list_BTC.append(1)\n",
    "    else:\n",
    "        rise_fall_list_BTC.append(0)\n",
    "        \n",
    "\n",
    "df_ultra_mega_frame['rise_lower_btc'] = rise_fall_list_BTC\n",
    "\n",
    "#---------\n",
    "rise_fall_list_SF = []\n",
    "\n",
    "for index, item in enumerate(df_ultra_mega_frame['SearchFrequency']):\n",
    "    if df_ultra_mega_frame['SearchFrequency'].iloc[index-1] < df_ultra_mega_frame['SearchFrequency'].iloc[index]:\n",
    "        rise_fall_list_SF.append(1)\n",
    "    else:\n",
    "        rise_fall_list_SF.append(0)\n",
    "        \n",
    "\n",
    "df_ultra_mega_frame['rise_lower_sf'] = rise_fall_list_SF\n",
    "\n",
    "df_ultra_mega_frame = df_ultra_mega_frame['2017-11-17':]"
   ]
  },
  {
   "cell_type": "markdown",
   "metadata": {},
   "source": [
    "Note that at the bottom of this code block we chop off the first line of the data frame because at this pint we are only dealing with the binary features and we do not have information to say whether the first element of our data set rose in price or fell in price."
   ]
  },
  {
   "cell_type": "code",
   "execution_count": 70,
   "metadata": {
    "collapsed": true
   },
   "outputs": [],
   "source": [
    "y = df_ultra_mega_frame['rise_lower'] #setting our label y"
   ]
  },
  {
   "cell_type": "code",
   "execution_count": 71,
   "metadata": {
    "collapsed": true
   },
   "outputs": [],
   "source": [
    "y = np.array(df_ultra_mega_frame['rise_lower'])\n",
    "# Remove the labels from the features\n",
    "# axis 1 refers to the columns\n",
    "features= df_ultra_mega_frame.filter(['rise_lower_dji','rise_lower_btc','rise_lower_sf'], axis = 1)\n",
    "# Saving feature names for later use\n",
    "feature_list = list(features.columns) #this way we remeber the column names\n",
    "# Convert to numpy array\n",
    "X = np.array(features) #because once we convert to np array it drops the names"
   ]
  },
  {
   "cell_type": "code",
   "execution_count": 72,
   "metadata": {
    "collapsed": true
   },
   "outputs": [],
   "source": [
    "#features"
   ]
  },
  {
   "cell_type": "code",
   "execution_count": 73,
   "metadata": {},
   "outputs": [
    {
     "data": {
      "text/plain": [
       "RandomForestClassifier(bootstrap=True, class_weight=None, criterion='gini',\n",
       "            max_depth=2, max_features='auto', max_leaf_nodes=None,\n",
       "            min_impurity_split=1e-07, min_samples_leaf=1,\n",
       "            min_samples_split=2, min_weight_fraction_leaf=0.0,\n",
       "            n_estimators=10, n_jobs=1, oob_score=False, random_state=0,\n",
       "            verbose=0, warm_start=False)"
      ]
     },
     "execution_count": 73,
     "metadata": {},
     "output_type": "execute_result"
    }
   ],
   "source": [
    "X_train, X_test, Y_train, Y_test = train_test_split(X, y, test_size = 0.25, random_state = 42)\n",
    "clf = RandomForestClassifier(max_depth=2, random_state=0)\n",
    "clf.fit(X_train, Y_train)"
   ]
  },
  {
   "cell_type": "code",
   "execution_count": 74,
   "metadata": {},
   "outputs": [
    {
     "data": {
      "text/plain": [
       "array([0.12937936, 0.78567976, 0.08494088])"
      ]
     },
     "execution_count": 74,
     "metadata": {},
     "output_type": "execute_result"
    }
   ],
   "source": [
    "clf.feature_importances_"
   ]
  },
  {
   "cell_type": "code",
   "execution_count": 75,
   "metadata": {},
   "outputs": [
    {
     "data": {
      "text/plain": [
       "array([1, 1, 1, 0, 0, 1, 1, 1, 0, 0, 1, 0, 1, 0, 1, 0, 1, 1, 1, 1, 1, 1,\n",
       "       0, 0, 0, 0, 0, 1, 0, 1, 1, 0])"
      ]
     },
     "execution_count": 75,
     "metadata": {},
     "output_type": "execute_result"
    }
   ],
   "source": [
    "clf.predict(X_test)"
   ]
  },
  {
   "cell_type": "code",
   "execution_count": 76,
   "metadata": {},
   "outputs": [
    {
     "data": {
      "text/plain": [
       "0.6875"
      ]
     },
     "execution_count": 76,
     "metadata": {},
     "output_type": "execute_result"
    }
   ],
   "source": [
    "clf.score(X_test, Y_test)"
   ]
  },
  {
   "cell_type": "code",
   "execution_count": 77,
   "metadata": {},
   "outputs": [
    {
     "data": {
      "text/plain": [
       "GridSearchCV(cv=5, error_score='raise',\n",
       "       estimator=RandomForestClassifier(bootstrap=True, class_weight=None, criterion='gini',\n",
       "            max_depth=2, max_features='auto', max_leaf_nodes=None,\n",
       "            min_impurity_split=1e-07, min_samples_leaf=1,\n",
       "            min_samples_split=2, min_weight_fraction_leaf=0.0,\n",
       "            n_estimators=10, n_jobs=1, oob_score=False, random_state=0,\n",
       "            verbose=0, warm_start=False),\n",
       "       fit_params={}, iid=True, n_jobs=1,\n",
       "       param_grid={'max_depth': [2, 6, 8], 'n_estimators': [50, 100, 200]},\n",
       "       pre_dispatch='2*n_jobs', refit=True, return_train_score=True,\n",
       "       scoring=None, verbose=0)"
      ]
     },
     "execution_count": 77,
     "metadata": {},
     "output_type": "execute_result"
    }
   ],
   "source": [
    "#use a grid search\n",
    "\n",
    "param_grid = {#\"criterion\": [\"mse\", \"mae\"], #mean squared error and mean absolute error in documentation\n",
    "              #\"min_samples_split\": [10, 20, 40],\n",
    "              \"max_depth\": [2, 6, 8],\n",
    "              \"n_estimators\":[50, 100, 200]\n",
    "              #\"min_samples_leaf\": [20, 40, 100],\n",
    "              #\"max_leaf_nodes\": [5, 20, 100, 500, 800],\n",
    "              }\n",
    "\n",
    "grid_cv_clf = GridSearchCV(clf, param_grid, cv=5)\n",
    "\n",
    "grid_cv_clf.fit(X_train, Y_train) #features and labels"
   ]
  },
  {
   "cell_type": "code",
   "execution_count": 78,
   "metadata": {},
   "outputs": [
    {
     "name": "stdout",
     "output_type": "stream",
     "text": [
      "R-Squared::0.7797755498836152\n",
      "Best Hyperparameters::\n",
      "{'criterion': 'mse', 'max_depth': 8, 'n_estimators': 100}\n"
     ]
    }
   ],
   "source": [
    "print(\"R-Squared::{}\".format(grid_cv_regr.best_score_))\n",
    "print(\"Best Hyperparameters::\\n{}\".format(grid_cv_regr.best_params_))\n",
    "\n",
    "#random forest builds multiple decision trees \n",
    "#best number of decision trees\n",
    "#depth of each tree shouldnt be more than 8 levels\n",
    "#go down to 8 levels(splits) but dont split it further"
   ]
  },
  {
   "cell_type": "code",
   "execution_count": 79,
   "metadata": {},
   "outputs": [
    {
     "data": {
      "text/html": [
       "<div>\n",
       "<style>\n",
       "    .dataframe thead tr:only-child th {\n",
       "        text-align: right;\n",
       "    }\n",
       "\n",
       "    .dataframe thead th {\n",
       "        text-align: left;\n",
       "    }\n",
       "\n",
       "    .dataframe tbody tr th {\n",
       "        vertical-align: top;\n",
       "    }\n",
       "</style>\n",
       "<table border=\"1\" class=\"dataframe\">\n",
       "  <thead>\n",
       "    <tr style=\"text-align: right;\">\n",
       "      <th></th>\n",
       "      <th>mean_fit_time</th>\n",
       "      <th>mean_score_time</th>\n",
       "      <th>mean_test_score</th>\n",
       "      <th>mean_train_score</th>\n",
       "      <th>param_criterion</th>\n",
       "      <th>param_max_depth</th>\n",
       "      <th>param_n_estimators</th>\n",
       "      <th>params</th>\n",
       "      <th>rank_test_score</th>\n",
       "      <th>split0_test_score</th>\n",
       "      <th>...</th>\n",
       "      <th>split2_test_score</th>\n",
       "      <th>split2_train_score</th>\n",
       "      <th>split3_test_score</th>\n",
       "      <th>split3_train_score</th>\n",
       "      <th>split4_test_score</th>\n",
       "      <th>split4_train_score</th>\n",
       "      <th>std_fit_time</th>\n",
       "      <th>std_score_time</th>\n",
       "      <th>std_test_score</th>\n",
       "      <th>std_train_score</th>\n",
       "    </tr>\n",
       "  </thead>\n",
       "  <tbody>\n",
       "    <tr>\n",
       "      <th>0</th>\n",
       "      <td>0.042540</td>\n",
       "      <td>0.002584</td>\n",
       "      <td>0.635147</td>\n",
       "      <td>0.778980</td>\n",
       "      <td>mse</td>\n",
       "      <td>2</td>\n",
       "      <td>50</td>\n",
       "      <td>{'criterion': 'mse', 'max_depth': 2, 'n_estima...</td>\n",
       "      <td>15</td>\n",
       "      <td>0.614212</td>\n",
       "      <td>...</td>\n",
       "      <td>0.450696</td>\n",
       "      <td>0.803998</td>\n",
       "      <td>0.656762</td>\n",
       "      <td>0.758853</td>\n",
       "      <td>0.675603</td>\n",
       "      <td>0.792493</td>\n",
       "      <td>0.004989</td>\n",
       "      <td>0.000234</td>\n",
       "      <td>0.107932</td>\n",
       "      <td>0.016908</td>\n",
       "    </tr>\n",
       "    <tr>\n",
       "      <th>1</th>\n",
       "      <td>0.080937</td>\n",
       "      <td>0.004915</td>\n",
       "      <td>0.641909</td>\n",
       "      <td>0.783677</td>\n",
       "      <td>mse</td>\n",
       "      <td>2</td>\n",
       "      <td>100</td>\n",
       "      <td>{'criterion': 'mse', 'max_depth': 2, 'n_estima...</td>\n",
       "      <td>14</td>\n",
       "      <td>0.632573</td>\n",
       "      <td>...</td>\n",
       "      <td>0.450889</td>\n",
       "      <td>0.807285</td>\n",
       "      <td>0.661534</td>\n",
       "      <td>0.762090</td>\n",
       "      <td>0.677862</td>\n",
       "      <td>0.795574</td>\n",
       "      <td>0.006396</td>\n",
       "      <td>0.000734</td>\n",
       "      <td>0.109848</td>\n",
       "      <td>0.016572</td>\n",
       "    </tr>\n",
       "    <tr>\n",
       "      <th>2</th>\n",
       "      <td>0.160024</td>\n",
       "      <td>0.008687</td>\n",
       "      <td>0.644673</td>\n",
       "      <td>0.783179</td>\n",
       "      <td>mse</td>\n",
       "      <td>2</td>\n",
       "      <td>200</td>\n",
       "      <td>{'criterion': 'mse', 'max_depth': 2, 'n_estima...</td>\n",
       "      <td>13</td>\n",
       "      <td>0.646722</td>\n",
       "      <td>...</td>\n",
       "      <td>0.453440</td>\n",
       "      <td>0.809010</td>\n",
       "      <td>0.663916</td>\n",
       "      <td>0.762463</td>\n",
       "      <td>0.673048</td>\n",
       "      <td>0.792382</td>\n",
       "      <td>0.011674</td>\n",
       "      <td>0.000278</td>\n",
       "      <td>0.108437</td>\n",
       "      <td>0.016650</td>\n",
       "    </tr>\n",
       "    <tr>\n",
       "      <th>3</th>\n",
       "      <td>0.041521</td>\n",
       "      <td>0.002519</td>\n",
       "      <td>0.772992</td>\n",
       "      <td>0.966542</td>\n",
       "      <td>mse</td>\n",
       "      <td>6</td>\n",
       "      <td>50</td>\n",
       "      <td>{'criterion': 'mse', 'max_depth': 6, 'n_estima...</td>\n",
       "      <td>6</td>\n",
       "      <td>0.776002</td>\n",
       "      <td>...</td>\n",
       "      <td>0.534217</td>\n",
       "      <td>0.973138</td>\n",
       "      <td>0.833173</td>\n",
       "      <td>0.969704</td>\n",
       "      <td>0.827960</td>\n",
       "      <td>0.963136</td>\n",
       "      <td>0.001249</td>\n",
       "      <td>0.000043</td>\n",
       "      <td>0.126173</td>\n",
       "      <td>0.004176</td>\n",
       "    </tr>\n",
       "    <tr>\n",
       "      <th>4</th>\n",
       "      <td>0.082450</td>\n",
       "      <td>0.005063</td>\n",
       "      <td>0.779517</td>\n",
       "      <td>0.967336</td>\n",
       "      <td>mse</td>\n",
       "      <td>6</td>\n",
       "      <td>100</td>\n",
       "      <td>{'criterion': 'mse', 'max_depth': 6, 'n_estima...</td>\n",
       "      <td>2</td>\n",
       "      <td>0.775295</td>\n",
       "      <td>...</td>\n",
       "      <td>0.534746</td>\n",
       "      <td>0.972878</td>\n",
       "      <td>0.842237</td>\n",
       "      <td>0.968291</td>\n",
       "      <td>0.846299</td>\n",
       "      <td>0.964258</td>\n",
       "      <td>0.003932</td>\n",
       "      <td>0.001008</td>\n",
       "      <td>0.129696</td>\n",
       "      <td>0.003175</td>\n",
       "    </tr>\n",
       "  </tbody>\n",
       "</table>\n",
       "<p>5 rows × 23 columns</p>\n",
       "</div>"
      ],
      "text/plain": [
       "   mean_fit_time  mean_score_time  mean_test_score  mean_train_score  \\\n",
       "0       0.042540         0.002584         0.635147          0.778980   \n",
       "1       0.080937         0.004915         0.641909          0.783677   \n",
       "2       0.160024         0.008687         0.644673          0.783179   \n",
       "3       0.041521         0.002519         0.772992          0.966542   \n",
       "4       0.082450         0.005063         0.779517          0.967336   \n",
       "\n",
       "  param_criterion param_max_depth param_n_estimators  \\\n",
       "0             mse               2                 50   \n",
       "1             mse               2                100   \n",
       "2             mse               2                200   \n",
       "3             mse               6                 50   \n",
       "4             mse               6                100   \n",
       "\n",
       "                                              params  rank_test_score  \\\n",
       "0  {'criterion': 'mse', 'max_depth': 2, 'n_estima...               15   \n",
       "1  {'criterion': 'mse', 'max_depth': 2, 'n_estima...               14   \n",
       "2  {'criterion': 'mse', 'max_depth': 2, 'n_estima...               13   \n",
       "3  {'criterion': 'mse', 'max_depth': 6, 'n_estima...                6   \n",
       "4  {'criterion': 'mse', 'max_depth': 6, 'n_estima...                2   \n",
       "\n",
       "   split0_test_score       ...         split2_test_score  split2_train_score  \\\n",
       "0           0.614212       ...                  0.450696            0.803998   \n",
       "1           0.632573       ...                  0.450889            0.807285   \n",
       "2           0.646722       ...                  0.453440            0.809010   \n",
       "3           0.776002       ...                  0.534217            0.973138   \n",
       "4           0.775295       ...                  0.534746            0.972878   \n",
       "\n",
       "   split3_test_score  split3_train_score  split4_test_score  \\\n",
       "0           0.656762            0.758853           0.675603   \n",
       "1           0.661534            0.762090           0.677862   \n",
       "2           0.663916            0.762463           0.673048   \n",
       "3           0.833173            0.969704           0.827960   \n",
       "4           0.842237            0.968291           0.846299   \n",
       "\n",
       "   split4_train_score  std_fit_time  std_score_time  std_test_score  \\\n",
       "0            0.792493      0.004989        0.000234        0.107932   \n",
       "1            0.795574      0.006396        0.000734        0.109848   \n",
       "2            0.792382      0.011674        0.000278        0.108437   \n",
       "3            0.963136      0.001249        0.000043        0.126173   \n",
       "4            0.964258      0.003932        0.001008        0.129696   \n",
       "\n",
       "   std_train_score  \n",
       "0         0.016908  \n",
       "1         0.016572  \n",
       "2         0.016650  \n",
       "3         0.004176  \n",
       "4         0.003175  \n",
       "\n",
       "[5 rows x 23 columns]"
      ]
     },
     "execution_count": 79,
     "metadata": {},
     "output_type": "execute_result"
    }
   ],
   "source": [
    "df = pd.DataFrame(data=grid_cv_regr.cv_results_)\n",
    "df.head()"
   ]
  },
  {
   "cell_type": "code",
   "execution_count": 80,
   "metadata": {},
   "outputs": [
    {
     "data": {
      "text/plain": [
       "0.6875"
      ]
     },
     "execution_count": 80,
     "metadata": {},
     "output_type": "execute_result"
    }
   ],
   "source": [
    "grid_cv_clf.score(X_test,Y_test)"
   ]
  },
  {
   "cell_type": "markdown",
   "metadata": {},
   "source": [
    "here hyperparameterization did not improve!"
   ]
  },
  {
   "cell_type": "code",
   "execution_count": null,
   "metadata": {
    "collapsed": true
   },
   "outputs": [],
   "source": []
  }
 ],
 "metadata": {
  "anaconda-cloud": {},
  "kernelspec": {
   "display_name": "Python 3",
   "language": "python",
   "name": "python3"
  },
  "language_info": {
   "codemirror_mode": {
    "name": "ipython",
    "version": 3
   },
   "file_extension": ".py",
   "mimetype": "text/x-python",
   "name": "python",
   "nbconvert_exporter": "python",
   "pygments_lexer": "ipython3",
   "version": "3.6.5"
  }
 },
 "nbformat": 4,
 "nbformat_minor": 2
}
