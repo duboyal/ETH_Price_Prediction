{
 "cells": [
  {
   "cell_type": "markdown",
   "metadata": {},
   "source": [
    "### Now Candlestick"
   ]
  },
  {
   "cell_type": "code",
   "execution_count": 62,
   "metadata": {
    "collapsed": true
   },
   "outputs": [],
   "source": [
    "df2 = pd.read_csv('ether.csv')"
   ]
  },
  {
   "cell_type": "code",
   "execution_count": 67,
   "metadata": {},
   "outputs": [],
   "source": [
    "#df2\n",
    "df2 = df2[['Date','Open','High','Low','Close']]"
   ]
  },
  {
   "cell_type": "code",
   "execution_count": 76,
   "metadata": {},
   "outputs": [
    {
     "data": {
      "text/plain": [
       "pandas._libs.tslib.Timestamp"
      ]
     },
     "execution_count": 76,
     "metadata": {},
     "output_type": "execute_result"
    }
   ],
   "source": [
    "type(df2.iloc[0]['Date']) #ok this needs to be converted from tring to datetime"
   ]
  },
  {
   "cell_type": "code",
   "execution_count": 75,
   "metadata": {
    "collapsed": true
   },
   "outputs": [],
   "source": [
    "df2['Date'] = pd.to_datetime(df2['Date'],infer_datetime_format=True)"
   ]
  },
  {
   "cell_type": "markdown",
   "metadata": {},
   "source": [
    "### Candlestick"
   ]
  },
  {
   "cell_type": "code",
   "execution_count": 78,
   "metadata": {
    "collapsed": true
   },
   "outputs": [],
   "source": [
    "import matplotlib.pyplot as plt\n",
    "import requests\n",
    "import json\n",
    "import pandas as pd\n",
    "from pandas.io.json import json_normalize\n",
    "import datetime\n",
    "from pytrends.request import TrendReq\n",
    "%matplotlib inline"
   ]
  },
  {
   "cell_type": "code",
   "execution_count": 79,
   "metadata": {},
   "outputs": [
    {
     "data": {
      "text/html": [
       "<script>requirejs.config({paths: { 'plotly': ['https://cdn.plot.ly/plotly-latest.min']},});if(!window.Plotly) {{require(['plotly'],function(plotly) {window.Plotly=plotly;});}}</script>"
      ],
      "text/vnd.plotly.v1+html": [
       "<script>requirejs.config({paths: { 'plotly': ['https://cdn.plot.ly/plotly-latest.min']},});if(!window.Plotly) {{require(['plotly'],function(plotly) {window.Plotly=plotly;});}}</script>"
      ]
     },
     "metadata": {},
     "output_type": "display_data"
    }
   ],
   "source": [
    "import matplotlib.pyplot as plt\n",
    "import matplotlib\n",
    "import plotly.plotly as py\n",
    "import datetime as dt\n",
    "import matplotlib.dates as mdates \n",
    "plt.style.use('fivethirtyeight')\n",
    "import plotly.graph_objs as go\n",
    "from plotly.offline import download_plotlyjs,init_notebook_mode,plot,iplot\n",
    "init_notebook_mode(connected=True)\n",
    "import seaborn as sns \n",
    "import numpy as np\n",
    "import pandas as pd\n",
    "import numpy as np\n",
    "import random as rnd\n",
    "import re\n",
    "import io\n",
    "from sklearn.metrics import confusion_matrix\n",
    "import seaborn as sns\n",
    "import matplotlib.gridspec as gridspec\n",
    "from sklearn.preprocessing import StandardScaler\n",
    "from numpy import genfromtxt\n",
    "from scipy.stats import multivariate_normal\n",
    "from sklearn.metrics import f1_score\n",
    "from sklearn.metrics import recall_score , average_precision_score\n",
    "from sklearn.metrics import precision_score, precision_recall_curve\n",
    "%matplotlib inline\n",
    "\n",
    "#from mpl_toolkits.basemap import Basemap\n",
    "from matplotlib import animation, rc\n",
    "from IPython.display import HTML\n",
    "\n",
    "import warnings\n",
    "warnings.filterwarnings('ignore')\n",
    "\n",
    "import base64\n",
    "from IPython.display import HTML, display\n",
    "import warnings\n",
    "warnings.filterwarnings('ignore')\n",
    "from scipy.misc import imread\n",
    "import codecs"
   ]
  },
  {
   "cell_type": "code",
   "execution_count": 80,
   "metadata": {},
   "outputs": [],
   "source": [
    "import datetime as dt\n",
    "import time\n",
    "from matplotlib import dates\n",
    "\n",
    "#Bitcoin = Allcrypto[Allcrypto['ranknow'] == 1]\n",
    "#Ethereum = Allcrypto[Allcrypto['ranknow'] == 2]\n",
    "#Ripple  = Allcrypto[Allcrypto['ranknow'] == 3]\n",
    "import mpl_finance\n",
    "from mpl_finance import candlestick_ohlc\n",
    "#from matplotlib.finance import candlestick_ohalc\n",
    "#BitcoinOHLC = Bitcoin[['Date','Open','High','Low','Close']]\n",
    "EthereumOHLC = df2[['Date','Open','High','Low','Close']]\n",
    "#RippleOHLC = Ripple[['date','open','high','low','close']]\n",
    "\n",
    "import matplotlib.dates as mdates\n",
    "#BitcoinOHLC['date'] = pd.to_datetime(BitcoinOHLC['date'])\n",
    "#BitcoinOHLC['date'] = mdates.date2num(BitcoinOHLC['date'].astype(dt.date))\n",
    "#RippleOHLC['date'] = pd.to_datetime(RippleOHLC['date'])\n",
    "#RippleOHLC['date'] = mdates.date2num(RippleOHLC['date'].astype(dt.date))\n",
    "\n",
    "#EthereumOHLC['Date'] = pd.to_datetime(EthereumOHLC['Date'])\n",
    "EthereumOHLC['Date'] = mdates.date2num(EthereumOHLC['Date'].astype(dt.date))\n",
    "\n",
    "EthereumOHLC['Open'] = EthereumOHLC['Open'].convert_objects(convert_numeric=True)\n",
    "EthereumOHLC['High'] = EthereumOHLC['High'].convert_objects(convert_numeric=True)\n",
    "EthereumOHLC['Low'] = EthereumOHLC['Low'].convert_objects(convert_numeric=True)\n",
    "EthereumOHLC['Close'] = EthereumOHLC['Close'].convert_objects(convert_numeric=True)\n",
    "\n",
    "\n"
   ]
  },
  {
   "cell_type": "code",
   "execution_count": 81,
   "metadata": {},
   "outputs": [
    {
     "data": {
      "text/html": [
       "<div>\n",
       "<style>\n",
       "    .dataframe thead tr:only-child th {\n",
       "        text-align: right;\n",
       "    }\n",
       "\n",
       "    .dataframe thead th {\n",
       "        text-align: left;\n",
       "    }\n",
       "\n",
       "    .dataframe tbody tr th {\n",
       "        vertical-align: top;\n",
       "    }\n",
       "</style>\n",
       "<table border=\"1\" class=\"dataframe\">\n",
       "  <thead>\n",
       "    <tr style=\"text-align: right;\">\n",
       "      <th></th>\n",
       "      <th>Date</th>\n",
       "      <th>Open</th>\n",
       "      <th>High</th>\n",
       "      <th>Low</th>\n",
       "      <th>Close</th>\n",
       "    </tr>\n",
       "  </thead>\n",
       "  <tbody>\n",
       "    <tr>\n",
       "      <th>0</th>\n",
       "      <td>736648.0</td>\n",
       "      <td>337.96</td>\n",
       "      <td>340.91</td>\n",
       "      <td>329.81</td>\n",
       "      <td>333.36</td>\n",
       "    </tr>\n",
       "    <tr>\n",
       "      <th>1</th>\n",
       "      <td>736649.0</td>\n",
       "      <td>333.44</td>\n",
       "      <td>336.16</td>\n",
       "      <td>323.61</td>\n",
       "      <td>330.92</td>\n",
       "    </tr>\n",
       "    <tr>\n",
       "      <th>2</th>\n",
       "      <td>736650.0</td>\n",
       "      <td>330.17</td>\n",
       "      <td>334.96</td>\n",
       "      <td>327.52</td>\n",
       "      <td>332.39</td>\n",
       "    </tr>\n",
       "    <tr>\n",
       "      <th>3</th>\n",
       "      <td>736651.0</td>\n",
       "      <td>331.98</td>\n",
       "      <td>349.62</td>\n",
       "      <td>327.69</td>\n",
       "      <td>347.61</td>\n",
       "    </tr>\n",
       "    <tr>\n",
       "      <th>4</th>\n",
       "      <td>736652.0</td>\n",
       "      <td>347.40</td>\n",
       "      <td>371.29</td>\n",
       "      <td>344.74</td>\n",
       "      <td>354.39</td>\n",
       "    </tr>\n",
       "  </tbody>\n",
       "</table>\n",
       "</div>"
      ],
      "text/plain": [
       "       Date    Open    High     Low   Close\n",
       "0  736648.0  337.96  340.91  329.81  333.36\n",
       "1  736649.0  333.44  336.16  323.61  330.92\n",
       "2  736650.0  330.17  334.96  327.52  332.39\n",
       "3  736651.0  331.98  349.62  327.69  347.61\n",
       "4  736652.0  347.40  371.29  344.74  354.39"
      ]
     },
     "execution_count": 81,
     "metadata": {},
     "output_type": "execute_result"
    }
   ],
   "source": [
    "EthereumOHLC.head()"
   ]
  },
  {
   "cell_type": "code",
   "execution_count": 82,
   "metadata": {
    "collapsed": true
   },
   "outputs": [],
   "source": [
    "#EthereumOHLC.values"
   ]
  },
  {
   "cell_type": "markdown",
   "metadata": {},
   "source": [
    "### Ethereum candlestick"
   ]
  },
  {
   "cell_type": "code",
   "execution_count": 83,
   "metadata": {},
   "outputs": [
    {
     "data": {
      "image/png": "[encoded data removed]",
      "text/plain": [
       "<Figure size 1080x792 with 1 Axes>"
      ]
     },
     "metadata": {},
     "output_type": "display_data"
    }
   ],
   "source": [
    "f,ax=plt.subplots(figsize=(15,11))#\n",
    "ax.xaxis_date()\n",
    "plt.xlabel(\"Date\")\n",
    "candlestick_ohlc(ax,EthereumOHLC.values,width=5, colorup='g', colordown='r',alpha=0.75)\n",
    "ax.set_xticklabels(ax.get_xticks(),rotation=70)\n",
    "\n",
    "hfmt = dates.DateFormatter('%m/%d/%y')\n",
    "ax.xaxis.set_major_formatter(hfmt)\n",
    "plt.ylabel(\"Price\")\n",
    "#plt.legend()\n",
    "plt.show()"
   ]
  },
  {
   "cell_type": "code",
   "execution_count": null,
   "metadata": {
    "collapsed": true
   },
   "outputs": [],
   "source": []
  },
  {
   "cell_type": "code",
   "execution_count": null,
   "metadata": {
    "collapsed": true
   },
   "outputs": [],
   "source": []
  }
 ],
 "metadata": {
  "kernelspec": {
   "display_name": "Python 3",
   "language": "python",
   "name": "python3"
  },
  "language_info": {
   "codemirror_mode": {
    "name": "ipython",
    "version": 3
   },
   "file_extension": ".py",
   "mimetype": "text/x-python",
   "name": "python",
   "nbconvert_exporter": "python",
   "pygments_lexer": "ipython3",
   "version": "3.6.5"
  }
 },
 "nbformat": 4,
 "nbformat_minor": 2
}
