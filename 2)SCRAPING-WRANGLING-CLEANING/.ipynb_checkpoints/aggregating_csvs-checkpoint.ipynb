{
 "cells": [
  {
   "cell_type": "markdown",
   "metadata": {},
   "source": [
    "### Concatenating to one large csv from serveral smaller ones\n",
    "Scraping 4 months worth of posts from an active subreddit resulted in quite a bit of data, where it was taxing on the API (would usually time out if I tried to scrape too much at a time) that scraping process needed to be chunked up, and incrementally output to csv files. The mulitple output files accumulated and this notebook was used to concatenate all of them.\n",
    "\n",
    "please refer to the jupyter notebook \"scraping_reddit_posts\" to understand why we would have multiple ouput files to concatenate into a larger data frame. The ability to keep connection to the API was limited, and the scraping of data had to be done in steps therefore we had many outputfiles from these many steps."
   ]
  },
  {
   "cell_type": "code",
   "execution_count": 26,
   "metadata": {
    "collapsed": true
   },
   "outputs": [],
   "source": [
    "import pandas as pd\n",
    "import numpy\n",
    "\n",
    "df_mega_49 = pd.read_csv('df_mega_49.csv', index_col=0, parse_dates=True)\n",
    "df_mega_99 = pd.read_csv('df_mega_99.csv', index_col=0, parse_dates=True)\n",
    "df_mega_109 = pd.read_csv('df_mega_109.csv', index_col=0, parse_dates=True)\n",
    "df_mega_126 = pd.read_csv('df_mega_126.csv', index_col=0, parse_dates=True)\n",
    "\n",
    "df_array1 = [df_mega_49, df_mega_99, df_mega_109, df_mega_126]\n",
    "\n",
    "df_mega1 = pd.concat(df_array1)"
   ]
  },
  {
   "cell_type": "code",
   "execution_count": 27,
   "metadata": {},
   "outputs": [
    {
     "data": {
      "text/plain": [
       "168468"
      ]
     },
     "execution_count": 27,
     "metadata": {},
     "output_type": "execute_result"
    }
   ],
   "source": [
    "len(df_mega1)"
   ]
  },
  {
   "cell_type": "markdown",
   "metadata": {},
   "source": [
    "*Note that df_mega_49.csv, df_mega_99.csv, df_mega_109.csv, df_mega_126.csv, must exist in the directory you wish to run this notebook from. "
   ]
  },
  {
   "cell_type": "code",
   "execution_count": 28,
   "metadata": {
    "collapsed": true
   },
   "outputs": [],
   "source": [
    "df_mega1.to_csv('../1)DATA/reddit_posts/df_mega_decent.csv', sep=',')\n",
    "#df_mega1.to_csv('../1)DATA/reddit_posts/df_mega_decent.csv', sep=',')"
   ]
  },
  {
   "cell_type": "markdown",
   "metadata": {
    "collapsed": true
   },
   "source": [
    "##### Path:\n",
    "for the above cell, toggle either line with a comment '#' depending on where you want the final csv saved. if you are working within this entire file system that you downloaded, the first line is appropriate, and if you are running this particular notebook in a different directory the second line will save it to your current working directory"
   ]
  },
  {
   "cell_type": "code",
   "execution_count": null,
   "metadata": {
    "collapsed": true
   },
   "outputs": [],
   "source": []
  }
 ],
 "metadata": {
  "kernelspec": {
   "display_name": "Python 3",
   "language": "python",
   "name": "python3"
  },
  "language_info": {
   "codemirror_mode": {
    "name": "ipython",
    "version": 3
   },
   "file_extension": ".py",
   "mimetype": "text/x-python",
   "name": "python",
   "nbconvert_exporter": "python",
   "pygments_lexer": "ipython3",
   "version": "3.6.5"
  }
 },
 "nbformat": 4,
 "nbformat_minor": 2
}
