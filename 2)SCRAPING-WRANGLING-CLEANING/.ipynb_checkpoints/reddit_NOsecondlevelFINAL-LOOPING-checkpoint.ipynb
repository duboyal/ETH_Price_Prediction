{
 "cells": [
  {
   "cell_type": "code",
   "execution_count": 1,
   "metadata": {},
   "outputs": [
    {
     "name": "stdout",
     "output_type": "stream",
     "text": [
      "Version 5.2.0 of praw is outdated. Version 5.3.0 was released Sunday December 17, 2017.\n"
     ]
    }
   ],
   "source": [
    "import praw\n",
    "import prawcore\n",
    "\n",
    "reddit = praw.Reddit(client_id = 'GeSMulGZbc7PeQ', client_secret = 'uSFY4s3PyufZwc9oHpIVlXpgI5Q', user_agent = 'scrapedata5')\n",
    "\n",
    "subreddit1 = reddit.subreddit('bitcoin')\n",
    "#1/16-1/19\n",
    "submissions = subreddit1.submissions(1516060800,1516320000)\n",
    "#submissions = subreddit1.submissions(1515974400,1518652800)\n",
    "#^^^ currently 1/15/18 to 2/15/18\n"
   ]
  },
  {
   "cell_type": "code",
   "execution_count": 2,
   "metadata": {
    "collapsed": true
   },
   "outputs": [],
   "source": [
    "#submissions = subreddit1.submissions(1513296000,1520467200) --we want this span in the end. dec15 to march8\n",
    "#timestamps will now go from mid-December 2017 to "
   ]
  },
  {
   "cell_type": "code",
   "execution_count": 3,
   "metadata": {},
   "outputs": [],
   "source": [
    "reddits = []\n",
    "\n",
    "#submission.comments.replace_more(limit=None)\n",
    "\n",
    "for submission in submissions:\n",
    "    \n",
    "    submission.comments.replace_more(limit=None)\n",
    "    \n",
    "    post_id = submission.id\n",
    "    post_title = submission.title if submission.title else ''\n",
    "    # assuming it has a body\n",
    "    post_body = submission.selftext if submission.selftext else ''\n",
    "    post_text = post_title + ' ' + post_body\n",
    "    post_time = submission.created\n",
    "    post_type = 'post'\n",
    "    post_doc = {'doc_id': post_id,\n",
    "                'text': post_text,\n",
    "                'timestamp': post_time,\n",
    "                'doc_type': 'post'}\n",
    "    \n",
    "    reddits.append(post_doc)\n",
    "    \n",
    "    #we append to the main list first, then deal with the nesting\n",
    "    \n",
    "    top_level_comments = [comm for comm in submission.comments.list()] #this works just takes a long time\n",
    "    if top_level_comments:\n",
    "        for tlc in top_level_comments:\n",
    "            post_text = tlc.body \n",
    "            post_time = tlc.created\n",
    "            post_doc = {'doc_id': post_id,\n",
    "                        'text': post_text,\n",
    "                        'timestamp': post_time,\n",
    "                        'doc_type': 'comment'}\n",
    "            reddits.append(post_doc)\n",
    "            '''\n",
    "            second_level_comments = [comm for comm in tlc.replies]\n",
    "            if second_level_comments:\n",
    "                for slc in second_level_comments:\n",
    "                    post_text = slc.body \n",
    "                    post_time = slc.created\n",
    "                    post_doc = {'doc_id': post_id,\n",
    "                                'text': post_text,\n",
    "                                'timestamp': post_time,\n",
    "                                'doc_type': 'comment'}\n",
    "                    reddits.append(post_doc)\n",
    "            '''\n"
   ]
  },
  {
   "cell_type": "code",
   "execution_count": 4,
   "metadata": {
    "collapsed": true
   },
   "outputs": [],
   "source": [
    "import pandas as pd"
   ]
  },
  {
   "cell_type": "code",
   "execution_count": 5,
   "metadata": {
    "collapsed": true
   },
   "outputs": [],
   "source": [
    "df = pd.DataFrame(reddits)"
   ]
  },
  {
   "cell_type": "code",
   "execution_count": 6,
   "metadata": {},
   "outputs": [
    {
     "data": {
      "text/html": [
       "<div>\n",
       "<style>\n",
       "    .dataframe thead tr:only-child th {\n",
       "        text-align: right;\n",
       "    }\n",
       "\n",
       "    .dataframe thead th {\n",
       "        text-align: left;\n",
       "    }\n",
       "\n",
       "    .dataframe tbody tr th {\n",
       "        vertical-align: top;\n",
       "    }\n",
       "</style>\n",
       "<table border=\"1\" class=\"dataframe\">\n",
       "  <thead>\n",
       "    <tr style=\"text-align: right;\">\n",
       "      <th></th>\n",
       "      <th>doc_id</th>\n",
       "      <th>doc_type</th>\n",
       "      <th>text</th>\n",
       "      <th>timestamp</th>\n",
       "    </tr>\n",
       "  </thead>\n",
       "  <tbody>\n",
       "    <tr>\n",
       "      <th>0</th>\n",
       "      <td>7re5xi</td>\n",
       "      <td>post</td>\n",
       "      <td>[help]I sent some BTC to my bitcoin core walle...</td>\n",
       "      <td>1.516348e+09</td>\n",
       "    </tr>\n",
       "    <tr>\n",
       "      <th>1</th>\n",
       "      <td>7re5xi</td>\n",
       "      <td>comment</td>\n",
       "      <td>If the fee was low, the transaction might expi...</td>\n",
       "      <td>1.516350e+09</td>\n",
       "    </tr>\n",
       "    <tr>\n",
       "      <th>2</th>\n",
       "      <td>7re5aw</td>\n",
       "      <td>post</td>\n",
       "      <td>Anyone else having transaction delays with Coi...</td>\n",
       "      <td>1.516348e+09</td>\n",
       "    </tr>\n",
       "    <tr>\n",
       "      <th>3</th>\n",
       "      <td>7re5aw</td>\n",
       "      <td>comment</td>\n",
       "      <td>I don t think they are stealing I think they a...</td>\n",
       "      <td>1.516349e+09</td>\n",
       "    </tr>\n",
       "    <tr>\n",
       "      <th>4</th>\n",
       "      <td>7re5aw</td>\n",
       "      <td>comment</td>\n",
       "      <td>This sub is not a forum for your problems with...</td>\n",
       "      <td>1.516349e+09</td>\n",
       "    </tr>\n",
       "    <tr>\n",
       "      <th>5</th>\n",
       "      <td>7re5aw</td>\n",
       "      <td>comment</td>\n",
       "      <td>Yeah, I had delays in the other direction back...</td>\n",
       "      <td>1.516349e+09</td>\n",
       "    </tr>\n",
       "    <tr>\n",
       "      <th>6</th>\n",
       "      <td>7re4jo</td>\n",
       "      <td>post</td>\n",
       "      <td>Bitcoin Versus Apple Microsoft Amazon - A Bitc...</td>\n",
       "      <td>1.516348e+09</td>\n",
       "    </tr>\n",
       "    <tr>\n",
       "      <th>7</th>\n",
       "      <td>7re4jo</td>\n",
       "      <td>comment</td>\n",
       "      <td>But all of these companies are worth more than...</td>\n",
       "      <td>1.516352e+09</td>\n",
       "    </tr>\n",
       "    <tr>\n",
       "      <th>8</th>\n",
       "      <td>7re4jo</td>\n",
       "      <td>comment</td>\n",
       "      <td>Fallacy</td>\n",
       "      <td>1.516370e+09</td>\n",
       "    </tr>\n",
       "    <tr>\n",
       "      <th>9</th>\n",
       "      <td>7re4jo</td>\n",
       "      <td>comment</td>\n",
       "      <td>Microsoft: https://support.microsoft.com/en-us...</td>\n",
       "      <td>1.516357e+09</td>\n",
       "    </tr>\n",
       "    <tr>\n",
       "      <th>10</th>\n",
       "      <td>7re4jo</td>\n",
       "      <td>comment</td>\n",
       "      <td>Seeing isn't believing. Believing is seeing.</td>\n",
       "      <td>1.516353e+09</td>\n",
       "    </tr>\n",
       "    <tr>\n",
       "      <th>11</th>\n",
       "      <td>7re4jo</td>\n",
       "      <td>comment</td>\n",
       "      <td>But I don’t believe 😂😂😂</td>\n",
       "      <td>1.516359e+09</td>\n",
       "    </tr>\n",
       "    <tr>\n",
       "      <th>12</th>\n",
       "      <td>7re3nr</td>\n",
       "      <td>post</td>\n",
       "      <td>Not sure, I am new at trading but I have made ...</td>\n",
       "      <td>1.516348e+09</td>\n",
       "    </tr>\n",
       "    <tr>\n",
       "      <th>13</th>\n",
       "      <td>7re3ew</td>\n",
       "      <td>post</td>\n",
       "      <td>Lambos galore at Bitcoin Miami</td>\n",
       "      <td>1.516348e+09</td>\n",
       "    </tr>\n",
       "    <tr>\n",
       "      <th>14</th>\n",
       "      <td>7re1cb</td>\n",
       "      <td>post</td>\n",
       "      <td>‘BITCOIN is impossible’ Banks warned cryptocur...</td>\n",
       "      <td>1.516347e+09</td>\n",
       "    </tr>\n",
       "    <tr>\n",
       "      <th>15</th>\n",
       "      <td>7re1cb</td>\n",
       "      <td>comment</td>\n",
       "      <td>Some quote by a guy from aidcoin.  Clickbate. ...</td>\n",
       "      <td>1.516348e+09</td>\n",
       "    </tr>\n",
       "    <tr>\n",
       "      <th>16</th>\n",
       "      <td>7re1cb</td>\n",
       "      <td>comment</td>\n",
       "      <td>Dont click this link</td>\n",
       "      <td>1.516354e+09</td>\n",
       "    </tr>\n",
       "    <tr>\n",
       "      <th>17</th>\n",
       "      <td>7re1cb</td>\n",
       "      <td>comment</td>\n",
       "      <td>Whats a \"cyrptocurrencie\"</td>\n",
       "      <td>1.516349e+09</td>\n",
       "    </tr>\n",
       "    <tr>\n",
       "      <th>18</th>\n",
       "      <td>7re1cb</td>\n",
       "      <td>comment</td>\n",
       "      <td>https://i.imgur.com/pft1XHj.jpg</td>\n",
       "      <td>1.516355e+09</td>\n",
       "    </tr>\n",
       "    <tr>\n",
       "      <th>19</th>\n",
       "      <td>7re1cb</td>\n",
       "      <td>comment</td>\n",
       "      <td>Clickbait alert!</td>\n",
       "      <td>1.516381e+09</td>\n",
       "    </tr>\n",
       "  </tbody>\n",
       "</table>\n",
       "</div>"
      ],
      "text/plain": [
       "    doc_id doc_type                                               text  \\\n",
       "0   7re5xi     post  [help]I sent some BTC to my bitcoin core walle...   \n",
       "1   7re5xi  comment  If the fee was low, the transaction might expi...   \n",
       "2   7re5aw     post  Anyone else having transaction delays with Coi...   \n",
       "3   7re5aw  comment  I don t think they are stealing I think they a...   \n",
       "4   7re5aw  comment  This sub is not a forum for your problems with...   \n",
       "5   7re5aw  comment  Yeah, I had delays in the other direction back...   \n",
       "6   7re4jo     post  Bitcoin Versus Apple Microsoft Amazon - A Bitc...   \n",
       "7   7re4jo  comment  But all of these companies are worth more than...   \n",
       "8   7re4jo  comment                                            Fallacy   \n",
       "9   7re4jo  comment  Microsoft: https://support.microsoft.com/en-us...   \n",
       "10  7re4jo  comment       Seeing isn't believing. Believing is seeing.   \n",
       "11  7re4jo  comment                            But I don’t believe 😂😂😂   \n",
       "12  7re3nr     post  Not sure, I am new at trading but I have made ...   \n",
       "13  7re3ew     post                    Lambos galore at Bitcoin Miami    \n",
       "14  7re1cb     post  ‘BITCOIN is impossible’ Banks warned cryptocur...   \n",
       "15  7re1cb  comment  Some quote by a guy from aidcoin.  Clickbate. ...   \n",
       "16  7re1cb  comment                              Dont click this link    \n",
       "17  7re1cb  comment                          Whats a \"cyrptocurrencie\"   \n",
       "18  7re1cb  comment                    https://i.imgur.com/pft1XHj.jpg   \n",
       "19  7re1cb  comment                                   Clickbait alert!   \n",
       "\n",
       "       timestamp  \n",
       "0   1.516348e+09  \n",
       "1   1.516350e+09  \n",
       "2   1.516348e+09  \n",
       "3   1.516349e+09  \n",
       "4   1.516349e+09  \n",
       "5   1.516349e+09  \n",
       "6   1.516348e+09  \n",
       "7   1.516352e+09  \n",
       "8   1.516370e+09  \n",
       "9   1.516357e+09  \n",
       "10  1.516353e+09  \n",
       "11  1.516359e+09  \n",
       "12  1.516348e+09  \n",
       "13  1.516348e+09  \n",
       "14  1.516347e+09  \n",
       "15  1.516348e+09  \n",
       "16  1.516354e+09  \n",
       "17  1.516349e+09  \n",
       "18  1.516355e+09  \n",
       "19  1.516381e+09  "
      ]
     },
     "execution_count": 6,
     "metadata": {},
     "output_type": "execute_result"
    }
   ],
   "source": [
    "df.head(20)"
   ]
  },
  {
   "cell_type": "code",
   "execution_count": 7,
   "metadata": {},
   "outputs": [
    {
     "data": {
      "text/plain": [
       "34515"
      ]
     },
     "execution_count": 7,
     "metadata": {},
     "output_type": "execute_result"
    }
   ],
   "source": [
    "len(df)"
   ]
  },
  {
   "cell_type": "code",
   "execution_count": null,
   "metadata": {
    "collapsed": true
   },
   "outputs": [],
   "source": [
    "#now put it into a CSV"
   ]
  },
  {
   "cell_type": "code",
   "execution_count": 8,
   "metadata": {
    "collapsed": true
   },
   "outputs": [],
   "source": [
    "df.to_csv('reddit_bitcoin_1_16_1_19.csv', sep=',')"
   ]
  },
  {
   "cell_type": "code",
   "execution_count": null,
   "metadata": {
    "collapsed": true
   },
   "outputs": [],
   "source": []
  }
 ],
 "metadata": {
  "anaconda-cloud": {},
  "kernelspec": {
   "display_name": "Python 3",
   "language": "python",
   "name": "python3"
  },
  "language_info": {
   "codemirror_mode": {
    "name": "ipython",
    "version": 3
   },
   "file_extension": ".py",
   "mimetype": "text/x-python",
   "name": "python",
   "nbconvert_exporter": "python",
   "pygments_lexer": "ipython3",
   "version": "3.6.1"
  }
 },
 "nbformat": 4,
 "nbformat_minor": 2
}
