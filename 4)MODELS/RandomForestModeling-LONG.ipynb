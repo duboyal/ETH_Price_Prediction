{
 "cells": [
  {
   "cell_type": "code",
   "execution_count": 1,
   "metadata": {
    "collapsed": true
   },
   "outputs": [],
   "source": [
    "import pandas as pd\n",
    "import numpy as np\n",
    "import matplotlib.pyplot as plt\n",
    "from sklearn.model_selection import GridSearchCV\n",
    "from sklearn.ensemble import RandomForestClassifier\n",
    "from sklearn.ensemble import RandomForestRegressor\n",
    "from sklearn.model_selection import train_test_split"
   ]
  },
  {
   "cell_type": "markdown",
   "metadata": {},
   "source": [
    "## MODELING: Exploring the random forest regressor and classifier to predict price\n",
    "first we read in the data, and also make the classifier target list 'rise_lower' from our existing data frame"
   ]
  },
  {
   "cell_type": "code",
   "execution_count": 2,
   "metadata": {
    "collapsed": true
   },
   "outputs": [],
   "source": [
    "df_ultra_mega_frame = pd.read_csv('../1)DATA/df_ultra_mega_frame2.csv')\n",
    "df_ultra_mega_frame['date'] = pd.to_datetime(df_ultra_mega_frame['date'],infer_datetime_format=True)\n",
    "df_ultra_mega_frame.index = df_ultra_mega_frame['date']\n",
    "#df_ultra_mega_classifier = df_ultra_mega_frame #starting here"
   ]
  },
  {
   "cell_type": "code",
   "execution_count": 3,
   "metadata": {
    "collapsed": true
   },
   "outputs": [],
   "source": [
    "df_ultra_mega_frame['neg_count'] = df_ultra_mega_frame['neg_count']*(-1)\n",
    "df_ultra_mega_frame['neg_count'] = df_ultra_mega_frame['neg_count'] - df_ultra_mega_frame['neg_count'].min()"
   ]
  },
  {
   "cell_type": "code",
   "execution_count": 4,
   "metadata": {},
   "outputs": [
    {
     "data": {
      "text/plain": [
       "90"
      ]
     },
     "execution_count": 4,
     "metadata": {},
     "output_type": "execute_result"
    }
   ],
   "source": [
    "df_ultra_mega_frame['neg_count'].max()"
   ]
  },
  {
   "cell_type": "code",
   "execution_count": 5,
   "metadata": {
    "collapsed": true
   },
   "outputs": [],
   "source": [
    "df_ultra_mega_frame['count'] = df_ultra_mega_frame['neg_count'] + df_ultra_mega_frame['pos_count']"
   ]
  },
  {
   "cell_type": "code",
   "execution_count": 6,
   "metadata": {},
   "outputs": [
    {
     "data": {
      "text/html": [
       "<div>\n",
       "<style>\n",
       "    .dataframe thead tr:only-child th {\n",
       "        text-align: right;\n",
       "    }\n",
       "\n",
       "    .dataframe thead th {\n",
       "        text-align: left;\n",
       "    }\n",
       "\n",
       "    .dataframe tbody tr th {\n",
       "        vertical-align: top;\n",
       "    }\n",
       "</style>\n",
       "<table border=\"1\" class=\"dataframe\">\n",
       "  <thead>\n",
       "    <tr style=\"text-align: right;\">\n",
       "      <th></th>\n",
       "      <th>date</th>\n",
       "      <th>SearchFrequency</th>\n",
       "      <th>DJI</th>\n",
       "      <th>price_btc</th>\n",
       "      <th>price_eth</th>\n",
       "      <th>sentiment</th>\n",
       "      <th>pos_count</th>\n",
       "      <th>neg_count</th>\n",
       "      <th>count</th>\n",
       "    </tr>\n",
       "    <tr>\n",
       "      <th>date</th>\n",
       "      <th></th>\n",
       "      <th></th>\n",
       "      <th></th>\n",
       "      <th></th>\n",
       "      <th></th>\n",
       "      <th></th>\n",
       "      <th></th>\n",
       "      <th></th>\n",
       "      <th></th>\n",
       "    </tr>\n",
       "  </thead>\n",
       "  <tbody>\n",
       "    <tr>\n",
       "      <th>2017-11-16</th>\n",
       "      <td>2017-11-16</td>\n",
       "      <td>55</td>\n",
       "      <td>23458.359375</td>\n",
       "      <td>7871.69</td>\n",
       "      <td>330.92</td>\n",
       "      <td>0.089579</td>\n",
       "      <td>14</td>\n",
       "      <td>75</td>\n",
       "      <td>89</td>\n",
       "    </tr>\n",
       "    <tr>\n",
       "      <th>2017-11-17</th>\n",
       "      <td>2017-11-17</td>\n",
       "      <td>75</td>\n",
       "      <td>23358.240234</td>\n",
       "      <td>7708.99</td>\n",
       "      <td>332.39</td>\n",
       "      <td>0.087821</td>\n",
       "      <td>8</td>\n",
       "      <td>59</td>\n",
       "      <td>67</td>\n",
       "    </tr>\n",
       "    <tr>\n",
       "      <th>2017-11-18</th>\n",
       "      <td>2017-11-18</td>\n",
       "      <td>103</td>\n",
       "      <td>23358.240234</td>\n",
       "      <td>7790.15</td>\n",
       "      <td>347.61</td>\n",
       "      <td>0.092867</td>\n",
       "      <td>5</td>\n",
       "      <td>82</td>\n",
       "      <td>87</td>\n",
       "    </tr>\n",
       "    <tr>\n",
       "      <th>2017-11-19</th>\n",
       "      <td>2017-11-19</td>\n",
       "      <td>65</td>\n",
       "      <td>23358.240234</td>\n",
       "      <td>8036.49</td>\n",
       "      <td>354.39</td>\n",
       "      <td>0.092423</td>\n",
       "      <td>3</td>\n",
       "      <td>78</td>\n",
       "      <td>81</td>\n",
       "    </tr>\n",
       "    <tr>\n",
       "      <th>2017-11-20</th>\n",
       "      <td>2017-11-20</td>\n",
       "      <td>96</td>\n",
       "      <td>23430.330078</td>\n",
       "      <td>8200.64</td>\n",
       "      <td>366.73</td>\n",
       "      <td>0.093611</td>\n",
       "      <td>7</td>\n",
       "      <td>80</td>\n",
       "      <td>87</td>\n",
       "    </tr>\n",
       "  </tbody>\n",
       "</table>\n",
       "</div>"
      ],
      "text/plain": [
       "                 date  SearchFrequency           DJI  price_btc  price_eth  \\\n",
       "date                                                                         \n",
       "2017-11-16 2017-11-16               55  23458.359375    7871.69     330.92   \n",
       "2017-11-17 2017-11-17               75  23358.240234    7708.99     332.39   \n",
       "2017-11-18 2017-11-18              103  23358.240234    7790.15     347.61   \n",
       "2017-11-19 2017-11-19               65  23358.240234    8036.49     354.39   \n",
       "2017-11-20 2017-11-20               96  23430.330078    8200.64     366.73   \n",
       "\n",
       "            sentiment  pos_count  neg_count  count  \n",
       "date                                                \n",
       "2017-11-16   0.089579         14         75     89  \n",
       "2017-11-17   0.087821          8         59     67  \n",
       "2017-11-18   0.092867          5         82     87  \n",
       "2017-11-19   0.092423          3         78     81  \n",
       "2017-11-20   0.093611          7         80     87  "
      ]
     },
     "execution_count": 6,
     "metadata": {},
     "output_type": "execute_result"
    }
   ],
   "source": [
    "df_ultra_mega_frame.head()"
   ]
  },
  {
   "cell_type": "markdown",
   "metadata": {},
   "source": [
    "Below we create 'rise_fall_list' for ethereum that will be inserted back into the dataframe to be used as a feature in the classifier model. We later do this for the other selected features as well. The features we selected were Bitcoin price, Dow Jones Index and google search frequency. Sentiment was included originally but it was deemed to return an \"importance value\" too close to zero to be considered more useful than unuseful to the model due to the curse of dimensionality."
   ]
  },
  {
   "cell_type": "code",
   "execution_count": 7,
   "metadata": {
    "collapsed": true
   },
   "outputs": [],
   "source": [
    "price_list = df_ultra_mega_frame['price_eth']\n",
    "rise_fall_list = []\n",
    "\n",
    "for index, item in enumerate(df_ultra_mega_frame['price_eth']):\n",
    "    if df_ultra_mega_frame['price_eth'].iloc[index-1] < df_ultra_mega_frame['price_eth'].iloc[index]:\n",
    "        rise_fall_list.append(1)\n",
    "    else:\n",
    "        rise_fall_list.append(0)\n",
    "        \n",
    "df_ultra_mega_frame['rise_lower'] = rise_fall_list\n",
    "#df_ultra_mega_classifier = df_ultra_mega_classifier['2017-11-17':]"
   ]
  },
  {
   "cell_type": "markdown",
   "metadata": {},
   "source": [
    "### Random Forest Regressor \n",
    "Here below we convert our y (being the target variable or label by formalism) to a numpy array"
   ]
  },
  {
   "cell_type": "code",
   "execution_count": 8,
   "metadata": {
    "collapsed": true
   },
   "outputs": [],
   "source": [
    "y = np.array(df_ultra_mega_frame['price_eth'])\n",
    "# Remove the labels from the features\n",
    "# axis 1 refers to the columns\n",
    "features= df_ultra_mega_frame.drop(['price_eth','date','rise_lower'], axis = 1) #'pos_count','neg_count' \n",
    "# Saving feature names for later use\n",
    "feature_list = list(features.columns) #this way we remeber the column names\n",
    "# Convert to numpy array\n",
    "X = np.array(features) #because once we convert to np array it drops the names"
   ]
  },
  {
   "cell_type": "markdown",
   "metadata": {},
   "source": [
    "At this point it's a good moment to to check X.shape and y.shape to make sure our y array is one dimensional and our X array is an 'nd array' with n corresponding to the number of features."
   ]
  },
  {
   "cell_type": "code",
   "execution_count": 9,
   "metadata": {
    "collapsed": true
   },
   "outputs": [],
   "source": [
    "#X.shape\n",
    "#y.shape "
   ]
  },
  {
   "cell_type": "markdown",
   "metadata": {},
   "source": [
    "Now we perform our test train split"
   ]
  },
  {
   "cell_type": "code",
   "execution_count": 10,
   "metadata": {
    "collapsed": true
   },
   "outputs": [],
   "source": [
    "X_train, X_test, Y_train, Y_test = train_test_split(X, y, test_size = 0.25, random_state = 42)"
   ]
  },
  {
   "cell_type": "markdown",
   "metadata": {},
   "source": [
    "And here we instantiate our Random Forest regressor. We first pick max_depth=2 and random_state=0 to begin with and then we later perform a Cv grid search to optimize the parameters."
   ]
  },
  {
   "cell_type": "code",
   "execution_count": 11,
   "metadata": {},
   "outputs": [
    {
     "data": {
      "text/plain": [
       "RandomForestRegressor(bootstrap=True, criterion='mse', max_depth=2,\n",
       "           max_features='auto', max_leaf_nodes=None,\n",
       "           min_impurity_split=1e-07, min_samples_leaf=1,\n",
       "           min_samples_split=2, min_weight_fraction_leaf=0.0,\n",
       "           n_estimators=10, n_jobs=1, oob_score=False, random_state=0,\n",
       "           verbose=0, warm_start=False)"
      ]
     },
     "execution_count": 11,
     "metadata": {},
     "output_type": "execute_result"
    }
   ],
   "source": [
    "regr = RandomForestRegressor(max_depth=2, random_state=0)\n",
    "regr.fit(X_train, Y_train)"
   ]
  },
  {
   "cell_type": "markdown",
   "metadata": {},
   "source": [
    "Below we print out our feature importancce values to give us an idea of which feature is the most important to our model. Here we note that any features that go to zero would be considered to not play any role in improving our model. There are two features that are close to zero but still non-zero, so they technically are still marginally improving our model."
   ]
  },
  {
   "cell_type": "code",
   "execution_count": 12,
   "metadata": {},
   "outputs": [
    {
     "data": {
      "text/html": [
       "<div>\n",
       "<style>\n",
       "    .dataframe thead tr:only-child th {\n",
       "        text-align: right;\n",
       "    }\n",
       "\n",
       "    .dataframe thead th {\n",
       "        text-align: left;\n",
       "    }\n",
       "\n",
       "    .dataframe tbody tr th {\n",
       "        vertical-align: top;\n",
       "    }\n",
       "</style>\n",
       "<table border=\"1\" class=\"dataframe\">\n",
       "  <thead>\n",
       "    <tr style=\"text-align: right;\">\n",
       "      <th></th>\n",
       "      <th>SearchFrequency</th>\n",
       "      <th>DJI</th>\n",
       "      <th>price_btc</th>\n",
       "      <th>sentiment</th>\n",
       "      <th>pos_count</th>\n",
       "      <th>neg_count</th>\n",
       "      <th>count</th>\n",
       "    </tr>\n",
       "    <tr>\n",
       "      <th>date</th>\n",
       "      <th></th>\n",
       "      <th></th>\n",
       "      <th></th>\n",
       "      <th></th>\n",
       "      <th></th>\n",
       "      <th></th>\n",
       "      <th></th>\n",
       "    </tr>\n",
       "  </thead>\n",
       "  <tbody>\n",
       "    <tr>\n",
       "      <th>2017-11-16</th>\n",
       "      <td>55</td>\n",
       "      <td>23458.359375</td>\n",
       "      <td>7871.69</td>\n",
       "      <td>0.089579</td>\n",
       "      <td>14</td>\n",
       "      <td>75</td>\n",
       "      <td>89</td>\n",
       "    </tr>\n",
       "    <tr>\n",
       "      <th>2017-11-17</th>\n",
       "      <td>75</td>\n",
       "      <td>23358.240234</td>\n",
       "      <td>7708.99</td>\n",
       "      <td>0.087821</td>\n",
       "      <td>8</td>\n",
       "      <td>59</td>\n",
       "      <td>67</td>\n",
       "    </tr>\n",
       "    <tr>\n",
       "      <th>2017-11-18</th>\n",
       "      <td>103</td>\n",
       "      <td>23358.240234</td>\n",
       "      <td>7790.15</td>\n",
       "      <td>0.092867</td>\n",
       "      <td>5</td>\n",
       "      <td>82</td>\n",
       "      <td>87</td>\n",
       "    </tr>\n",
       "    <tr>\n",
       "      <th>2017-11-19</th>\n",
       "      <td>65</td>\n",
       "      <td>23358.240234</td>\n",
       "      <td>8036.49</td>\n",
       "      <td>0.092423</td>\n",
       "      <td>3</td>\n",
       "      <td>78</td>\n",
       "      <td>81</td>\n",
       "    </tr>\n",
       "    <tr>\n",
       "      <th>2017-11-20</th>\n",
       "      <td>96</td>\n",
       "      <td>23430.330078</td>\n",
       "      <td>8200.64</td>\n",
       "      <td>0.093611</td>\n",
       "      <td>7</td>\n",
       "      <td>80</td>\n",
       "      <td>87</td>\n",
       "    </tr>\n",
       "  </tbody>\n",
       "</table>\n",
       "</div>"
      ],
      "text/plain": [
       "            SearchFrequency           DJI  price_btc  sentiment  pos_count  \\\n",
       "date                                                                         \n",
       "2017-11-16               55  23458.359375    7871.69   0.089579         14   \n",
       "2017-11-17               75  23358.240234    7708.99   0.087821          8   \n",
       "2017-11-18              103  23358.240234    7790.15   0.092867          5   \n",
       "2017-11-19               65  23358.240234    8036.49   0.092423          3   \n",
       "2017-11-20               96  23430.330078    8200.64   0.093611          7   \n",
       "\n",
       "            neg_count  count  \n",
       "date                          \n",
       "2017-11-16         75     89  \n",
       "2017-11-17         59     67  \n",
       "2017-11-18         82     87  \n",
       "2017-11-19         78     81  \n",
       "2017-11-20         80     87  "
      ]
     },
     "execution_count": 12,
     "metadata": {},
     "output_type": "execute_result"
    }
   ],
   "source": [
    "features.head()"
   ]
  },
  {
   "cell_type": "code",
   "execution_count": 13,
   "metadata": {
    "scrolled": true
   },
   "outputs": [
    {
     "name": "stdout",
     "output_type": "stream",
     "text": [
      "[0.01590281 0.93784831 0.03763274 0.00459188 0.00402426 0.\n",
      " 0.        ]\n"
     ]
    }
   ],
   "source": [
    "print(regr.feature_importances_) #strength of importance of feature in the model\n",
    "#but is using the other two because they are not zero!!!"
   ]
  },
  {
   "cell_type": "markdown",
   "metadata": {},
   "source": [
    "The above numbers signify the following features respectivley\n",
    "\n",
    "1)  search frequency\n",
    "2)  Dow Jones Index\n",
    "3)  Bitcoin Price \n",
    "4)  sentiment\n",
    "5)  count of positive n-gram\n",
    "\n",
    "6)  count of negative n gram (effective net by first multiplying the vector by a negative 1 then substracting its minimum)\n",
    "\n",
    "7)  the addition of the last two\n",
    "\n",
    "We originally had input a feature column of the polarity score of Ethereum sentiment for each day (all reddit data that was scraped) and then another as well a feature called pos_count and  feature went to zero so we chose not to include it in our model.\n",
    "\n",
    "when you have more features, you are basically saying you need more data to adequetly sample the space or else you run into the curse of dimensionality. This is what tells you that for the more dimenions you have, you need more data in total in order to sample your entire space. What do you run the risk of otherwise? of being innaccurate. in which way? in the way that your data set you have doesnt adequatley cover sample space."
   ]
  },
  {
   "cell_type": "code",
   "execution_count": 14,
   "metadata": {},
   "outputs": [
    {
     "name": "stdout",
     "output_type": "stream",
     "text": [
      "[1114.12674763  615.17481678  845.8458259  1087.26301234  845.8458259\n",
      " 1087.26301234  770.27835392  928.40434538  824.74849407  770.27835392\n",
      "  450.14618843  824.74849407  770.27835392  770.27835392  931.99236558\n",
      "  598.42484535  876.61368701  450.14618843  983.78302396  466.89615986\n",
      "  770.27835392  748.29913732 1087.26301234  430.93393129  983.78302396\n",
      "  770.27835392 1087.26301234  483.66188623  770.27835392  770.27835392\n",
      "  770.27835392  638.64628106]\n"
     ]
    }
   ],
   "source": [
    "print(regr.predict(X_test)) #predict y given x test"
   ]
  },
  {
   "cell_type": "markdown",
   "metadata": {},
   "source": [
    "As seen above: X_test is the argument taken in, but the output for the predict function is only one dimension just like y. We can later graph this result from predict against Y test to explicitly see if our model worked."
   ]
  },
  {
   "cell_type": "code",
   "execution_count": 15,
   "metadata": {},
   "outputs": [
    {
     "data": {
      "text/plain": [
       "0.8038670793562294"
      ]
     },
     "execution_count": 15,
     "metadata": {},
     "output_type": "execute_result"
    }
   ],
   "source": [
    "#now can compare with the original X and Y_train!!!\n",
    "#using score \n",
    "regr.score(X_test, Y_test) #X_test , as seen above...X_test has more dimensions than the output on predict"
   ]
  },
  {
   "cell_type": "markdown",
   "metadata": {},
   "source": [
    "This score returns an r squared value. It is a percentage, how well the variablity of your data is captured by a given model comparisons betweeen different models scores tells you which model is better.\n",
    "\n",
    "below we perform a CV grid search across the following parameters: \"criterion\": [\"mse\", \"mae\"], \"max_depth\": [2, 6, 8], \"n_estimators\":[50, 100, 200], and we optimize our score based off of the grid search. We also see that we perporm a cross validation of 5."
   ]
  },
  {
   "cell_type": "code",
   "execution_count": 16,
   "metadata": {},
   "outputs": [
    {
     "data": {
      "text/plain": [
       "GridSearchCV(cv=5, error_score='raise',\n",
       "       estimator=RandomForestRegressor(bootstrap=True, criterion='mse', max_depth=2,\n",
       "           max_features='auto', max_leaf_nodes=None,\n",
       "           min_impurity_split=1e-07, min_samples_leaf=1,\n",
       "           min_samples_split=2, min_weight_fraction_leaf=0.0,\n",
       "           n_estimators=10, n_jobs=1, oob_score=False, random_state=0,\n",
       "           verbose=0, warm_start=False),\n",
       "       fit_params={}, iid=True, n_jobs=1,\n",
       "       param_grid={'criterion': ['mse', 'mae'], 'max_depth': [2, 6, 8], 'n_estimators': [50, 100, 200]},\n",
       "       pre_dispatch='2*n_jobs', refit=True, return_train_score=True,\n",
       "       scoring=None, verbose=0)"
      ]
     },
     "execution_count": 16,
     "metadata": {},
     "output_type": "execute_result"
    }
   ],
   "source": [
    "#use a grid search\n",
    "param_grid = {\"criterion\": [\"mse\", \"mae\"], #mean squared error and mean absolute error in documentation\n",
    "              #\"min_samples_split\": [10, 20, 40],\n",
    "              \"max_depth\": [2, 6, 8],\n",
    "              \"n_estimators\":[50, 100, 200]\n",
    "              #\"min_samples_leaf\": [20, 40, 100],\n",
    "              #\"max_leaf_nodes\": [5, 20, 100, 500, 800],\n",
    "              }\n",
    "\n",
    "grid_cv_regr = GridSearchCV(regr, param_grid, cv=5)\n",
    "\n",
    "grid_cv_regr.fit(X_train, Y_train) #features and labels"
   ]
  },
  {
   "cell_type": "code",
   "execution_count": 17,
   "metadata": {},
   "outputs": [
    {
     "name": "stdout",
     "output_type": "stream",
     "text": [
      "R-Squared::0.7366751155318549\n",
      "Best Hyperparameters::\n",
      "{'criterion': 'mse', 'max_depth': 8, 'n_estimators': 200}\n"
     ]
    }
   ],
   "source": [
    "print(\"R-Squared::{}\".format(grid_cv_regr.best_score_))\n",
    "print(\"Best Hyperparameters::\\n{}\".format(grid_cv_regr.best_params_))\n",
    "\n",
    "#random forest builds multiple decision trees \n",
    "#best number of decision trees\n",
    "#depth of each tree shouldnt be more than 8 levels\n",
    "#go down to 8 levels(splits) but dont split it further"
   ]
  },
  {
   "cell_type": "markdown",
   "metadata": {},
   "source": [
    "How is it that after the hyperparameter tuning, our R squared went down? difference between rsquared is that this one tells how well did this model work for hyperparametrization on the train data, because we dont give it the test data. You don't want any part of you model to be trained on the test data. So this part is NOT the same R squared from our score output."
   ]
  },
  {
   "cell_type": "code",
   "execution_count": 18,
   "metadata": {},
   "outputs": [
    {
     "data": {
      "text/html": [
       "<div>\n",
       "<style>\n",
       "    .dataframe thead tr:only-child th {\n",
       "        text-align: right;\n",
       "    }\n",
       "\n",
       "    .dataframe thead th {\n",
       "        text-align: left;\n",
       "    }\n",
       "\n",
       "    .dataframe tbody tr th {\n",
       "        vertical-align: top;\n",
       "    }\n",
       "</style>\n",
       "<table border=\"1\" class=\"dataframe\">\n",
       "  <thead>\n",
       "    <tr style=\"text-align: right;\">\n",
       "      <th></th>\n",
       "      <th>mean_fit_time</th>\n",
       "      <th>mean_score_time</th>\n",
       "      <th>mean_test_score</th>\n",
       "      <th>mean_train_score</th>\n",
       "      <th>param_criterion</th>\n",
       "      <th>param_max_depth</th>\n",
       "      <th>param_n_estimators</th>\n",
       "      <th>params</th>\n",
       "      <th>rank_test_score</th>\n",
       "      <th>split0_test_score</th>\n",
       "      <th>...</th>\n",
       "      <th>split2_test_score</th>\n",
       "      <th>split2_train_score</th>\n",
       "      <th>split3_test_score</th>\n",
       "      <th>split3_train_score</th>\n",
       "      <th>split4_test_score</th>\n",
       "      <th>split4_train_score</th>\n",
       "      <th>std_fit_time</th>\n",
       "      <th>std_score_time</th>\n",
       "      <th>std_test_score</th>\n",
       "      <th>std_train_score</th>\n",
       "    </tr>\n",
       "  </thead>\n",
       "  <tbody>\n",
       "    <tr>\n",
       "      <th>0</th>\n",
       "      <td>0.051947</td>\n",
       "      <td>0.003490</td>\n",
       "      <td>0.619308</td>\n",
       "      <td>0.787531</td>\n",
       "      <td>mse</td>\n",
       "      <td>2</td>\n",
       "      <td>50</td>\n",
       "      <td>{'criterion': 'mse', 'max_depth': 2, 'n_estima...</td>\n",
       "      <td>15</td>\n",
       "      <td>0.623562</td>\n",
       "      <td>...</td>\n",
       "      <td>0.445171</td>\n",
       "      <td>0.811491</td>\n",
       "      <td>0.651783</td>\n",
       "      <td>0.766787</td>\n",
       "      <td>0.678517</td>\n",
       "      <td>0.796836</td>\n",
       "      <td>0.008925</td>\n",
       "      <td>0.001079</td>\n",
       "      <td>0.091400</td>\n",
       "      <td>0.015349</td>\n",
       "    </tr>\n",
       "    <tr>\n",
       "      <th>1</th>\n",
       "      <td>0.081719</td>\n",
       "      <td>0.004901</td>\n",
       "      <td>0.621898</td>\n",
       "      <td>0.790982</td>\n",
       "      <td>mse</td>\n",
       "      <td>2</td>\n",
       "      <td>100</td>\n",
       "      <td>{'criterion': 'mse', 'max_depth': 2, 'n_estima...</td>\n",
       "      <td>14</td>\n",
       "      <td>0.633859</td>\n",
       "      <td>...</td>\n",
       "      <td>0.452479</td>\n",
       "      <td>0.811443</td>\n",
       "      <td>0.656320</td>\n",
       "      <td>0.769239</td>\n",
       "      <td>0.671960</td>\n",
       "      <td>0.800334</td>\n",
       "      <td>0.001754</td>\n",
       "      <td>0.000998</td>\n",
       "      <td>0.087781</td>\n",
       "      <td>0.014223</td>\n",
       "    </tr>\n",
       "    <tr>\n",
       "      <th>2</th>\n",
       "      <td>0.171809</td>\n",
       "      <td>0.008545</td>\n",
       "      <td>0.630687</td>\n",
       "      <td>0.791223</td>\n",
       "      <td>mse</td>\n",
       "      <td>2</td>\n",
       "      <td>200</td>\n",
       "      <td>{'criterion': 'mse', 'max_depth': 2, 'n_estima...</td>\n",
       "      <td>13</td>\n",
       "      <td>0.653439</td>\n",
       "      <td>...</td>\n",
       "      <td>0.462606</td>\n",
       "      <td>0.813729</td>\n",
       "      <td>0.655571</td>\n",
       "      <td>0.772877</td>\n",
       "      <td>0.668467</td>\n",
       "      <td>0.797499</td>\n",
       "      <td>0.014097</td>\n",
       "      <td>0.000185</td>\n",
       "      <td>0.087533</td>\n",
       "      <td>0.013693</td>\n",
       "    </tr>\n",
       "    <tr>\n",
       "      <th>3</th>\n",
       "      <td>0.044912</td>\n",
       "      <td>0.002565</td>\n",
       "      <td>0.728748</td>\n",
       "      <td>0.960129</td>\n",
       "      <td>mse</td>\n",
       "      <td>6</td>\n",
       "      <td>50</td>\n",
       "      <td>{'criterion': 'mse', 'max_depth': 6, 'n_estima...</td>\n",
       "      <td>6</td>\n",
       "      <td>0.831639</td>\n",
       "      <td>...</td>\n",
       "      <td>0.484078</td>\n",
       "      <td>0.965610</td>\n",
       "      <td>0.820833</td>\n",
       "      <td>0.960208</td>\n",
       "      <td>0.715600</td>\n",
       "      <td>0.959796</td>\n",
       "      <td>0.002269</td>\n",
       "      <td>0.000116</td>\n",
       "      <td>0.129490</td>\n",
       "      <td>0.003040</td>\n",
       "    </tr>\n",
       "    <tr>\n",
       "      <th>4</th>\n",
       "      <td>0.088961</td>\n",
       "      <td>0.004703</td>\n",
       "      <td>0.732487</td>\n",
       "      <td>0.960131</td>\n",
       "      <td>mse</td>\n",
       "      <td>6</td>\n",
       "      <td>100</td>\n",
       "      <td>{'criterion': 'mse', 'max_depth': 6, 'n_estima...</td>\n",
       "      <td>3</td>\n",
       "      <td>0.802100</td>\n",
       "      <td>...</td>\n",
       "      <td>0.486381</td>\n",
       "      <td>0.967706</td>\n",
       "      <td>0.814809</td>\n",
       "      <td>0.958623</td>\n",
       "      <td>0.746659</td>\n",
       "      <td>0.956543</td>\n",
       "      <td>0.002450</td>\n",
       "      <td>0.000206</td>\n",
       "      <td>0.126286</td>\n",
       "      <td>0.003935</td>\n",
       "    </tr>\n",
       "  </tbody>\n",
       "</table>\n",
       "<p>5 rows × 23 columns</p>\n",
       "</div>"
      ],
      "text/plain": [
       "   mean_fit_time  mean_score_time  mean_test_score  mean_train_score  \\\n",
       "0       0.051947         0.003490         0.619308          0.787531   \n",
       "1       0.081719         0.004901         0.621898          0.790982   \n",
       "2       0.171809         0.008545         0.630687          0.791223   \n",
       "3       0.044912         0.002565         0.728748          0.960129   \n",
       "4       0.088961         0.004703         0.732487          0.960131   \n",
       "\n",
       "  param_criterion param_max_depth param_n_estimators  \\\n",
       "0             mse               2                 50   \n",
       "1             mse               2                100   \n",
       "2             mse               2                200   \n",
       "3             mse               6                 50   \n",
       "4             mse               6                100   \n",
       "\n",
       "                                              params  rank_test_score  \\\n",
       "0  {'criterion': 'mse', 'max_depth': 2, 'n_estima...               15   \n",
       "1  {'criterion': 'mse', 'max_depth': 2, 'n_estima...               14   \n",
       "2  {'criterion': 'mse', 'max_depth': 2, 'n_estima...               13   \n",
       "3  {'criterion': 'mse', 'max_depth': 6, 'n_estima...                6   \n",
       "4  {'criterion': 'mse', 'max_depth': 6, 'n_estima...                3   \n",
       "\n",
       "   split0_test_score       ...         split2_test_score  split2_train_score  \\\n",
       "0           0.623562       ...                  0.445171            0.811491   \n",
       "1           0.633859       ...                  0.452479            0.811443   \n",
       "2           0.653439       ...                  0.462606            0.813729   \n",
       "3           0.831639       ...                  0.484078            0.965610   \n",
       "4           0.802100       ...                  0.486381            0.967706   \n",
       "\n",
       "   split3_test_score  split3_train_score  split4_test_score  \\\n",
       "0           0.651783            0.766787           0.678517   \n",
       "1           0.656320            0.769239           0.671960   \n",
       "2           0.655571            0.772877           0.668467   \n",
       "3           0.820833            0.960208           0.715600   \n",
       "4           0.814809            0.958623           0.746659   \n",
       "\n",
       "   split4_train_score  std_fit_time  std_score_time  std_test_score  \\\n",
       "0            0.796836      0.008925        0.001079        0.091400   \n",
       "1            0.800334      0.001754        0.000998        0.087781   \n",
       "2            0.797499      0.014097        0.000185        0.087533   \n",
       "3            0.959796      0.002269        0.000116        0.129490   \n",
       "4            0.956543      0.002450        0.000206        0.126286   \n",
       "\n",
       "   std_train_score  \n",
       "0         0.015349  \n",
       "1         0.014223  \n",
       "2         0.013693  \n",
       "3         0.003040  \n",
       "4         0.003935  \n",
       "\n",
       "[5 rows x 23 columns]"
      ]
     },
     "execution_count": 18,
     "metadata": {},
     "output_type": "execute_result"
    }
   ],
   "source": [
    "df = pd.DataFrame(data=grid_cv_regr.cv_results_)\n",
    "df.head()"
   ]
  },
  {
   "cell_type": "code",
   "execution_count": 19,
   "metadata": {},
   "outputs": [
    {
     "name": "stdout",
     "output_type": "stream",
     "text": [
      "{'criterion': 'mse', 'max_depth': 2, 'n_estimators': 50} 0.6193 0.0914\n",
      "{'criterion': 'mse', 'max_depth': 2, 'n_estimators': 100} 0.6219 0.0878\n",
      "{'criterion': 'mse', 'max_depth': 2, 'n_estimators': 200} 0.6307 0.0875\n",
      "{'criterion': 'mse', 'max_depth': 6, 'n_estimators': 50} 0.7287 0.1295\n",
      "{'criterion': 'mse', 'max_depth': 6, 'n_estimators': 100} 0.7325 0.1263\n",
      "{'criterion': 'mse', 'max_depth': 6, 'n_estimators': 200} 0.7353 0.1281\n",
      "{'criterion': 'mse', 'max_depth': 8, 'n_estimators': 50} 0.7324 0.1274\n",
      "{'criterion': 'mse', 'max_depth': 8, 'n_estimators': 100} 0.7324 0.1265\n",
      "{'criterion': 'mse', 'max_depth': 8, 'n_estimators': 200} 0.7367 0.1273\n",
      "{'criterion': 'mae', 'max_depth': 2, 'n_estimators': 50} 0.5699 0.1262\n",
      "{'criterion': 'mae', 'max_depth': 2, 'n_estimators': 100} 0.5937 0.1287\n",
      "{'criterion': 'mae', 'max_depth': 2, 'n_estimators': 200} 0.5983 0.1405\n",
      "{'criterion': 'mae', 'max_depth': 6, 'n_estimators': 50} 0.6998 0.1691\n",
      "{'criterion': 'mae', 'max_depth': 6, 'n_estimators': 100} 0.7132 0.1678\n",
      "{'criterion': 'mae', 'max_depth': 6, 'n_estimators': 200} 0.7158 0.1732\n",
      "{'criterion': 'mae', 'max_depth': 8, 'n_estimators': 50} 0.6999 0.1766\n",
      "{'criterion': 'mae', 'max_depth': 8, 'n_estimators': 100} 0.7154 0.1722\n",
      "{'criterion': 'mae', 'max_depth': 8, 'n_estimators': 200} 0.7194 0.1749\n"
     ]
    }
   ],
   "source": [
    "results = grid_cv_regr.cv_results_\n",
    "for param, score_mean, score_sd in zip(results['params'], results['mean_test_score'], results['std_test_score']):\n",
    "    print(param, round(score_mean, 4), round(score_sd, 4))\n",
    "    \n",
    "#the highest is n=100, and mx depth 8 "
   ]
  },
  {
   "cell_type": "code",
   "execution_count": 20,
   "metadata": {},
   "outputs": [
    {
     "data": {
      "text/plain": [
       "0.9245428491244888"
      ]
     },
     "execution_count": 20,
     "metadata": {},
     "output_type": "execute_result"
    }
   ],
   "source": [
    "grid_cv_regr.score(X_test, Y_test) #this is really great!!!"
   ]
  },
  {
   "cell_type": "markdown",
   "metadata": {},
   "source": [
    "This was a good score! since the feature of 'sentiment' was so close to zero, lets see if removing the feasture improves the accuracy of the model! "
   ]
  },
  {
   "cell_type": "markdown",
   "metadata": {},
   "source": [
    "## Now compare to dropping features"
   ]
  },
  {
   "cell_type": "code",
   "execution_count": 21,
   "metadata": {
    "collapsed": true
   },
   "outputs": [],
   "source": [
    "y = np.array(df_ultra_mega_frame['price_eth'])\n",
    "# Remove the labels from the features\n",
    "# axis 1 refers to the columns\n",
    "features= df_ultra_mega_frame.drop(['price_eth','date','rise_lower','sentiment','pos_count', 'neg_count',\n",
    "       'count'], axis = 1)\n",
    "# Saving feature names for later use\n",
    "feature_list = list(features.columns) #this way we remeber the column names\n",
    "# Convert to numpy array\n",
    "X = np.array(features) #because once we convert to np array it drops the names"
   ]
  },
  {
   "cell_type": "code",
   "execution_count": 22,
   "metadata": {
    "collapsed": true
   },
   "outputs": [],
   "source": [
    "# Using Skicit-learn to split data into training and testing sets\n",
    "from sklearn.model_selection import train_test_split\n",
    "# Split the data into training and testing sets\n",
    "X_train, X_test, Y_train, Y_test = train_test_split(X, y, test_size = 0.25, random_state = 42)"
   ]
  },
  {
   "cell_type": "code",
   "execution_count": 23,
   "metadata": {},
   "outputs": [
    {
     "data": {
      "text/plain": [
       "RandomForestRegressor(bootstrap=True, criterion='mse', max_depth=2,\n",
       "           max_features='auto', max_leaf_nodes=None,\n",
       "           min_impurity_split=1e-07, min_samples_leaf=1,\n",
       "           min_samples_split=2, min_weight_fraction_leaf=0.0,\n",
       "           n_estimators=10, n_jobs=1, oob_score=False, random_state=0,\n",
       "           verbose=0, warm_start=False)"
      ]
     },
     "execution_count": 23,
     "metadata": {},
     "output_type": "execute_result"
    }
   ],
   "source": [
    "regr = RandomForestRegressor(max_depth=2, random_state=0)\n",
    "regr.fit(X_train, Y_train)"
   ]
  },
  {
   "cell_type": "code",
   "execution_count": 24,
   "metadata": {
    "scrolled": true
   },
   "outputs": [
    {
     "name": "stdout",
     "output_type": "stream",
     "text": [
      "[0.01590281 0.94405113 0.04004606]\n"
     ]
    }
   ],
   "source": [
    "print(regr.feature_importances_) #strength of importance of feature in the model\n",
    "#but is using the other two because they are not zero!!!"
   ]
  },
  {
   "cell_type": "code",
   "execution_count": 25,
   "metadata": {},
   "outputs": [
    {
     "name": "stdout",
     "output_type": "stream",
     "text": [
      "[1114.12674763  617.89886313  845.8458259  1087.26301234  845.8458259\n",
      " 1087.26301234  770.27835392  928.40434538  824.74849407  770.27835392\n",
      "  438.05447288  824.74849407  770.27835392  770.27835392  931.99236558\n",
      "  617.89886313  876.61368701  451.59475065  983.78302396  451.59475065\n",
      "  770.27835392  748.29913732 1087.26301234  418.84221573  983.78302396\n",
      "  770.27835392 1087.26301234  503.13590401  770.27835392  770.27835392\n",
      "  770.27835392  641.37032741]\n"
     ]
    }
   ],
   "source": [
    "print(regr.predict(X_test)) #predict y given x test"
   ]
  },
  {
   "cell_type": "code",
   "execution_count": 26,
   "metadata": {},
   "outputs": [
    {
     "data": {
      "text/plain": [
       "0.8017445780922451"
      ]
     },
     "execution_count": 26,
     "metadata": {},
     "output_type": "execute_result"
    }
   ],
   "source": [
    "#now can compare with the original X_train!!!\n",
    "#using score \n",
    "regr.score(X_test, Y_test) #X_test , as seen above...X_test has more dimensions than the output on predict"
   ]
  },
  {
   "cell_type": "code",
   "execution_count": 27,
   "metadata": {},
   "outputs": [
    {
     "data": {
      "text/plain": [
       "GridSearchCV(cv=5, error_score='raise',\n",
       "       estimator=RandomForestRegressor(bootstrap=True, criterion='mse', max_depth=2,\n",
       "           max_features='auto', max_leaf_nodes=None,\n",
       "           min_impurity_split=1e-07, min_samples_leaf=1,\n",
       "           min_samples_split=2, min_weight_fraction_leaf=0.0,\n",
       "           n_estimators=10, n_jobs=1, oob_score=False, random_state=0,\n",
       "           verbose=0, warm_start=False),\n",
       "       fit_params={}, iid=True, n_jobs=1,\n",
       "       param_grid={'criterion': ['mse', 'mae'], 'max_depth': [2, 6, 8], 'n_estimators': [50, 100, 200]},\n",
       "       pre_dispatch='2*n_jobs', refit=True, return_train_score=True,\n",
       "       scoring=None, verbose=0)"
      ]
     },
     "execution_count": 27,
     "metadata": {},
     "output_type": "execute_result"
    }
   ],
   "source": [
    "#use a grid search\n",
    "param_grid = {\"criterion\": [\"mse\", \"mae\"], #mean squared error and mean absolute error in documentation\n",
    "              #\"min_samples_split\": [10, 20, 40],\n",
    "              \"max_depth\": [2, 6, 8],\n",
    "              \"n_estimators\":[50, 100, 200]\n",
    "              #\"min_samples_leaf\": [20, 40, 100],\n",
    "              #\"max_leaf_nodes\": [5, 20, 100, 500, 800],\n",
    "              }\n",
    "\n",
    "grid_cv_regr = GridSearchCV(regr, param_grid, cv=5)\n",
    "\n",
    "grid_cv_regr.fit(X_train, Y_train) #features and labels"
   ]
  },
  {
   "cell_type": "code",
   "execution_count": 28,
   "metadata": {},
   "outputs": [
    {
     "data": {
      "text/plain": [
       "array([1128.501875  ,  512.14903   ,  832.76701111, 1050.22647357,\n",
       "        925.00969111, 1028.64646167,  715.78464003, 1066.31553952,\n",
       "        767.53275903,  749.61424075,  415.5053    ,  902.84316188,\n",
       "        780.90016533,  791.78052726,  933.56418   ,  484.02071929,\n",
       "        965.39498778,  470.2634    , 1169.45010952,  461.18355   ,\n",
       "        764.58507802,  725.66559992, 1047.346585  ,  416.2924    ,\n",
       "       1184.74674286,  751.40751671, 1041.08642214,  453.87266667,\n",
       "        829.65888079,  656.20527978,  771.78909282,  505.47520595])"
      ]
     },
     "execution_count": 28,
     "metadata": {},
     "output_type": "execute_result"
    }
   ],
   "source": [
    "grid_cv_regr.predict(X_test) "
   ]
  },
  {
   "cell_type": "markdown",
   "metadata": {},
   "source": [
    "We check the output and notice that its one dimensional which is what we want. We now set this variable to Y_predicted so that we can later graph it against Y_test."
   ]
  },
  {
   "cell_type": "code",
   "execution_count": 29,
   "metadata": {
    "collapsed": true
   },
   "outputs": [],
   "source": [
    "Y_predicted = grid_cv_regr.predict(X_test)"
   ]
  },
  {
   "cell_type": "code",
   "execution_count": 30,
   "metadata": {},
   "outputs": [
    {
     "name": "stdout",
     "output_type": "stream",
     "text": [
      "R-Squared::0.781573998077793\n",
      "Best Hyperparameters::\n",
      "{'criterion': 'mse', 'max_depth': 8, 'n_estimators': 100}\n"
     ]
    }
   ],
   "source": [
    "print(\"R-Squared::{}\".format(grid_cv_regr.best_score_))\n",
    "print(\"Best Hyperparameters::\\n{}\".format(grid_cv_regr.best_params_))\n",
    "\n",
    "#random forest builds multiple decision trees \n",
    "#best number of decision trees\n",
    "#depth of each tree shouldnt be more than 8 levels\n",
    "#go down to 8 levels(splits) but dont split it further"
   ]
  },
  {
   "cell_type": "code",
   "execution_count": 31,
   "metadata": {},
   "outputs": [
    {
     "data": {
      "text/html": [
       "<div>\n",
       "<style>\n",
       "    .dataframe thead tr:only-child th {\n",
       "        text-align: right;\n",
       "    }\n",
       "\n",
       "    .dataframe thead th {\n",
       "        text-align: left;\n",
       "    }\n",
       "\n",
       "    .dataframe tbody tr th {\n",
       "        vertical-align: top;\n",
       "    }\n",
       "</style>\n",
       "<table border=\"1\" class=\"dataframe\">\n",
       "  <thead>\n",
       "    <tr style=\"text-align: right;\">\n",
       "      <th></th>\n",
       "      <th>mean_fit_time</th>\n",
       "      <th>mean_score_time</th>\n",
       "      <th>mean_test_score</th>\n",
       "      <th>mean_train_score</th>\n",
       "      <th>param_criterion</th>\n",
       "      <th>param_max_depth</th>\n",
       "      <th>param_n_estimators</th>\n",
       "      <th>params</th>\n",
       "      <th>rank_test_score</th>\n",
       "      <th>split0_test_score</th>\n",
       "      <th>...</th>\n",
       "      <th>split2_test_score</th>\n",
       "      <th>split2_train_score</th>\n",
       "      <th>split3_test_score</th>\n",
       "      <th>split3_train_score</th>\n",
       "      <th>split4_test_score</th>\n",
       "      <th>split4_train_score</th>\n",
       "      <th>std_fit_time</th>\n",
       "      <th>std_score_time</th>\n",
       "      <th>std_test_score</th>\n",
       "      <th>std_train_score</th>\n",
       "    </tr>\n",
       "  </thead>\n",
       "  <tbody>\n",
       "    <tr>\n",
       "      <th>0</th>\n",
       "      <td>0.055080</td>\n",
       "      <td>0.002569</td>\n",
       "      <td>0.635309</td>\n",
       "      <td>0.778977</td>\n",
       "      <td>mse</td>\n",
       "      <td>2</td>\n",
       "      <td>50</td>\n",
       "      <td>{'criterion': 'mse', 'max_depth': 2, 'n_estima...</td>\n",
       "      <td>15</td>\n",
       "      <td>0.613964</td>\n",
       "      <td>...</td>\n",
       "      <td>0.451744</td>\n",
       "      <td>0.804077</td>\n",
       "      <td>0.656762</td>\n",
       "      <td>0.758853</td>\n",
       "      <td>0.675603</td>\n",
       "      <td>0.792493</td>\n",
       "      <td>0.014472</td>\n",
       "      <td>0.000094</td>\n",
       "      <td>0.107580</td>\n",
       "      <td>0.016929</td>\n",
       "    </tr>\n",
       "    <tr>\n",
       "      <th>1</th>\n",
       "      <td>0.090670</td>\n",
       "      <td>0.005130</td>\n",
       "      <td>0.642203</td>\n",
       "      <td>0.783669</td>\n",
       "      <td>mse</td>\n",
       "      <td>2</td>\n",
       "      <td>100</td>\n",
       "      <td>{'criterion': 'mse', 'max_depth': 2, 'n_estima...</td>\n",
       "      <td>14</td>\n",
       "      <td>0.632470</td>\n",
       "      <td>...</td>\n",
       "      <td>0.452446</td>\n",
       "      <td>0.807411</td>\n",
       "      <td>0.661534</td>\n",
       "      <td>0.761985</td>\n",
       "      <td>0.677862</td>\n",
       "      <td>0.795574</td>\n",
       "      <td>0.013662</td>\n",
       "      <td>0.000679</td>\n",
       "      <td>0.109303</td>\n",
       "      <td>0.016629</td>\n",
       "    </tr>\n",
       "    <tr>\n",
       "      <th>2</th>\n",
       "      <td>0.165446</td>\n",
       "      <td>0.009154</td>\n",
       "      <td>0.645046</td>\n",
       "      <td>0.783199</td>\n",
       "      <td>mse</td>\n",
       "      <td>2</td>\n",
       "      <td>200</td>\n",
       "      <td>{'criterion': 'mse', 'max_depth': 2, 'n_estima...</td>\n",
       "      <td>13</td>\n",
       "      <td>0.646579</td>\n",
       "      <td>...</td>\n",
       "      <td>0.453979</td>\n",
       "      <td>0.809105</td>\n",
       "      <td>0.664311</td>\n",
       "      <td>0.762408</td>\n",
       "      <td>0.674158</td>\n",
       "      <td>0.792468</td>\n",
       "      <td>0.006488</td>\n",
       "      <td>0.000613</td>\n",
       "      <td>0.108315</td>\n",
       "      <td>0.016699</td>\n",
       "    </tr>\n",
       "    <tr>\n",
       "      <th>3</th>\n",
       "      <td>0.050730</td>\n",
       "      <td>0.003537</td>\n",
       "      <td>0.772805</td>\n",
       "      <td>0.966819</td>\n",
       "      <td>mse</td>\n",
       "      <td>6</td>\n",
       "      <td>50</td>\n",
       "      <td>{'criterion': 'mse', 'max_depth': 6, 'n_estima...</td>\n",
       "      <td>6</td>\n",
       "      <td>0.779761</td>\n",
       "      <td>...</td>\n",
       "      <td>0.534255</td>\n",
       "      <td>0.973722</td>\n",
       "      <td>0.834329</td>\n",
       "      <td>0.969750</td>\n",
       "      <td>0.826922</td>\n",
       "      <td>0.963078</td>\n",
       "      <td>0.009542</td>\n",
       "      <td>0.001993</td>\n",
       "      <td>0.125263</td>\n",
       "      <td>0.004298</td>\n",
       "    </tr>\n",
       "    <tr>\n",
       "      <th>4</th>\n",
       "      <td>0.089234</td>\n",
       "      <td>0.005778</td>\n",
       "      <td>0.779033</td>\n",
       "      <td>0.967569</td>\n",
       "      <td>mse</td>\n",
       "      <td>6</td>\n",
       "      <td>100</td>\n",
       "      <td>{'criterion': 'mse', 'max_depth': 6, 'n_estima...</td>\n",
       "      <td>3</td>\n",
       "      <td>0.771612</td>\n",
       "      <td>...</td>\n",
       "      <td>0.537566</td>\n",
       "      <td>0.973433</td>\n",
       "      <td>0.843001</td>\n",
       "      <td>0.968763</td>\n",
       "      <td>0.847150</td>\n",
       "      <td>0.964772</td>\n",
       "      <td>0.008009</td>\n",
       "      <td>0.001522</td>\n",
       "      <td>0.128224</td>\n",
       "      <td>0.003374</td>\n",
       "    </tr>\n",
       "  </tbody>\n",
       "</table>\n",
       "<p>5 rows × 23 columns</p>\n",
       "</div>"
      ],
      "text/plain": [
       "   mean_fit_time  mean_score_time  mean_test_score  mean_train_score  \\\n",
       "0       0.055080         0.002569         0.635309          0.778977   \n",
       "1       0.090670         0.005130         0.642203          0.783669   \n",
       "2       0.165446         0.009154         0.645046          0.783199   \n",
       "3       0.050730         0.003537         0.772805          0.966819   \n",
       "4       0.089234         0.005778         0.779033          0.967569   \n",
       "\n",
       "  param_criterion param_max_depth param_n_estimators  \\\n",
       "0             mse               2                 50   \n",
       "1             mse               2                100   \n",
       "2             mse               2                200   \n",
       "3             mse               6                 50   \n",
       "4             mse               6                100   \n",
       "\n",
       "                                              params  rank_test_score  \\\n",
       "0  {'criterion': 'mse', 'max_depth': 2, 'n_estima...               15   \n",
       "1  {'criterion': 'mse', 'max_depth': 2, 'n_estima...               14   \n",
       "2  {'criterion': 'mse', 'max_depth': 2, 'n_estima...               13   \n",
       "3  {'criterion': 'mse', 'max_depth': 6, 'n_estima...                6   \n",
       "4  {'criterion': 'mse', 'max_depth': 6, 'n_estima...                3   \n",
       "\n",
       "   split0_test_score       ...         split2_test_score  split2_train_score  \\\n",
       "0           0.613964       ...                  0.451744            0.804077   \n",
       "1           0.632470       ...                  0.452446            0.807411   \n",
       "2           0.646579       ...                  0.453979            0.809105   \n",
       "3           0.779761       ...                  0.534255            0.973722   \n",
       "4           0.771612       ...                  0.537566            0.973433   \n",
       "\n",
       "   split3_test_score  split3_train_score  split4_test_score  \\\n",
       "0           0.656762            0.758853           0.675603   \n",
       "1           0.661534            0.761985           0.677862   \n",
       "2           0.664311            0.762408           0.674158   \n",
       "3           0.834329            0.969750           0.826922   \n",
       "4           0.843001            0.968763           0.847150   \n",
       "\n",
       "   split4_train_score  std_fit_time  std_score_time  std_test_score  \\\n",
       "0            0.792493      0.014472        0.000094        0.107580   \n",
       "1            0.795574      0.013662        0.000679        0.109303   \n",
       "2            0.792468      0.006488        0.000613        0.108315   \n",
       "3            0.963078      0.009542        0.001993        0.125263   \n",
       "4            0.964772      0.008009        0.001522        0.128224   \n",
       "\n",
       "   std_train_score  \n",
       "0         0.016929  \n",
       "1         0.016629  \n",
       "2         0.016699  \n",
       "3         0.004298  \n",
       "4         0.003374  \n",
       "\n",
       "[5 rows x 23 columns]"
      ]
     },
     "execution_count": 31,
     "metadata": {},
     "output_type": "execute_result"
    }
   ],
   "source": [
    "df = pd.DataFrame(data=grid_cv_regr.cv_results_)\n",
    "df.head()"
   ]
  },
  {
   "cell_type": "code",
   "execution_count": 32,
   "metadata": {},
   "outputs": [
    {
     "name": "stdout",
     "output_type": "stream",
     "text": [
      "{'criterion': 'mse', 'max_depth': 2, 'n_estimators': 50} 0.6353 0.1076\n",
      "{'criterion': 'mse', 'max_depth': 2, 'n_estimators': 100} 0.6422 0.1093\n",
      "{'criterion': 'mse', 'max_depth': 2, 'n_estimators': 200} 0.645 0.1083\n",
      "{'criterion': 'mse', 'max_depth': 6, 'n_estimators': 50} 0.7728 0.1253\n",
      "{'criterion': 'mse', 'max_depth': 6, 'n_estimators': 100} 0.779 0.1282\n",
      "{'criterion': 'mse', 'max_depth': 6, 'n_estimators': 200} 0.7762 0.1262\n",
      "{'criterion': 'mse', 'max_depth': 8, 'n_estimators': 50} 0.7741 0.1249\n",
      "{'criterion': 'mse', 'max_depth': 8, 'n_estimators': 100} 0.7816 0.1313\n",
      "{'criterion': 'mse', 'max_depth': 8, 'n_estimators': 200} 0.7797 0.1288\n",
      "{'criterion': 'mae', 'max_depth': 2, 'n_estimators': 50} 0.589 0.1577\n",
      "{'criterion': 'mae', 'max_depth': 2, 'n_estimators': 100} 0.6003 0.16\n",
      "{'criterion': 'mae', 'max_depth': 2, 'n_estimators': 200} 0.6018 0.1695\n",
      "{'criterion': 'mae', 'max_depth': 6, 'n_estimators': 50} 0.739 0.1527\n",
      "{'criterion': 'mae', 'max_depth': 6, 'n_estimators': 100} 0.74 0.1553\n",
      "{'criterion': 'mae', 'max_depth': 6, 'n_estimators': 200} 0.7376 0.1603\n",
      "{'criterion': 'mae', 'max_depth': 8, 'n_estimators': 50} 0.7405 0.1567\n",
      "{'criterion': 'mae', 'max_depth': 8, 'n_estimators': 100} 0.7454 0.1541\n",
      "{'criterion': 'mae', 'max_depth': 8, 'n_estimators': 200} 0.7421 0.1601\n"
     ]
    }
   ],
   "source": [
    "results = grid_cv_regr.cv_results_\n",
    "for param, score_mean, score_sd in zip(results['params'], results['mean_test_score'], results['std_test_score']):\n",
    "    print(param, round(score_mean, 4), round(score_sd, 4))\n",
    "    \n",
    "#the highest is n=100, and mx depth 8 "
   ]
  },
  {
   "cell_type": "code",
   "execution_count": 33,
   "metadata": {},
   "outputs": [
    {
     "data": {
      "text/plain": [
       "0.9439053866082423"
      ]
     },
     "execution_count": 33,
     "metadata": {},
     "output_type": "execute_result"
    }
   ],
   "source": [
    "grid_cv_regr.score(X_test, Y_test) #this is really great!!!"
   ]
  },
  {
   "cell_type": "markdown",
   "metadata": {},
   "source": [
    "From here we see that hyperparameterization worked!!"
   ]
  },
  {
   "cell_type": "code",
   "execution_count": 37,
   "metadata": {},
   "outputs": [
    {
     "data": {
      "text/plain": [
       "32"
      ]
     },
     "execution_count": 37,
     "metadata": {},
     "output_type": "execute_result"
    }
   ],
   "source": []
  },
  {
   "cell_type": "code",
   "execution_count": 36,
   "metadata": {
    "scrolled": false
   },
   "outputs": [
    {
     "data": {
      "image/png": "[encoded data removed]",
      "text/plain": [
       "<Figure size 720x432 with 1 Axes>"
      ]
     },
     "metadata": {},
     "output_type": "display_data"
    }
   ],
   "source": [
    "plt.figure(figsize=(10, 6))\n",
    "plt.plot(Y_test, alpha = 1)\n",
    "plt.plot(Y_predicted, alpha = 1)\n",
    "\n",
    "# need to add legend\n",
    "plt.ylabel('normalized scale')\n",
    "plt.xticks(rotation=70)\n",
    "plt.show()"
   ]
  },
  {
   "cell_type": "markdown",
   "metadata": {},
   "source": [
    "grid_cv_regr.score(X_test, Y_test), performs the same thing, (notice the number is the same) it runs the model again with the optimized parameters\n",
    "\n",
    "Note: this doesn't forcast what is to come. This model tells us How changes in the Dow Jones (and other features) might cause changes in ethereum. If you can use Time series analysis to forecast changes in the dow jones, you might be able to predict changes in ethereum, but you dont have the ability to do forecasting with this model.\n",
    "\n",
    "Can A Regression model forecast? The most you can forcast Is If you predicted dow jones values and fed that prediction into a model to forcast ethereum price. Dow jones index has a lot of historical data backing it up as opposed to etheruem, so thats why it could posible be used as an exogeneous variable in a time series model (ARIMAX was looked into breifly for this prroject and more will be included on that.\n",
    "\n",
    "A classification model can be put into place in order to predict if the price of ethereum will go up or down. In order to do this all of the features that are deemed significant must also be converted to a binary list of 0's or 1's. A 0 signifying that the price dropped since the day before and a 1 signifying that the price rose since then.\n",
    "\n",
    "We will now look at classification and for this we weill drop the sentiment feature."
   ]
  },
  {
   "cell_type": "markdown",
   "metadata": {},
   "source": [
    "### now for classification "
   ]
  },
  {
   "cell_type": "code",
   "execution_count": 215,
   "metadata": {
    "collapsed": true
   },
   "outputs": [],
   "source": [
    "y = df_ultra_mega_frame['rise_lower']"
   ]
  },
  {
   "cell_type": "code",
   "execution_count": 216,
   "metadata": {
    "collapsed": true
   },
   "outputs": [],
   "source": [
    "y = np.array(df_ultra_mega_frame['rise_lower'])\n",
    "# Remove the labels from the features\n",
    "# axis 1 refers to the columns\n",
    "features= df_ultra_mega_frame.drop(['date','rise_lower','price_eth','sentiment'], axis = 1)\n",
    "# Saving feature names for later use\n",
    "feature_list = list(features.columns) #this way we remeber the column names\n",
    "# Convert to numpy array\n",
    "X = np.array(features) #because once we convert to np array it drops the names"
   ]
  },
  {
   "cell_type": "code",
   "execution_count": 217,
   "metadata": {
    "collapsed": true
   },
   "outputs": [],
   "source": [
    "#features #toggle this to double check"
   ]
  },
  {
   "cell_type": "code",
   "execution_count": 218,
   "metadata": {
    "collapsed": true
   },
   "outputs": [],
   "source": [
    "from sklearn.model_selection import train_test_split\n",
    "# Split the data into training and testing sets\n",
    "\n",
    "X_train, X_test, Y_train, Y_test = train_test_split(X, y, test_size = 0.25, random_state = 42)"
   ]
  },
  {
   "cell_type": "code",
   "execution_count": 219,
   "metadata": {},
   "outputs": [
    {
     "data": {
      "text/plain": [
       "RandomForestClassifier(bootstrap=True, class_weight=None, criterion='gini',\n",
       "            max_depth=2, max_features='auto', max_leaf_nodes=None,\n",
       "            min_impurity_split=1e-07, min_samples_leaf=1,\n",
       "            min_samples_split=2, min_weight_fraction_leaf=0.0,\n",
       "            n_estimators=10, n_jobs=1, oob_score=False, random_state=0,\n",
       "            verbose=0, warm_start=False)"
      ]
     },
     "execution_count": 219,
     "metadata": {},
     "output_type": "execute_result"
    }
   ],
   "source": [
    "clf = RandomForestClassifier(max_depth=2, random_state=0)\n",
    "clf.fit(X_train, Y_train)"
   ]
  },
  {
   "cell_type": "code",
   "execution_count": 220,
   "metadata": {},
   "outputs": [
    {
     "data": {
      "text/plain": [
       "array([0.06095095, 0.29641318, 0.29611777, 0.        , 0.11169043,\n",
       "       0.23482766])"
      ]
     },
     "execution_count": 220,
     "metadata": {},
     "output_type": "execute_result"
    }
   ],
   "source": [
    "clf.feature_importances_"
   ]
  },
  {
   "cell_type": "code",
   "execution_count": 221,
   "metadata": {
    "collapsed": true
   },
   "outputs": [],
   "source": [
    "#features"
   ]
  },
  {
   "cell_type": "code",
   "execution_count": 222,
   "metadata": {},
   "outputs": [
    {
     "data": {
      "text/plain": [
       "array([1, 1, 1, 1, 0, 0, 1, 1, 0, 1, 1, 0, 0, 0, 0, 1, 0, 1, 1, 1, 1, 1,\n",
       "       1, 1, 0, 1, 1, 1, 0, 0, 1, 1])"
      ]
     },
     "execution_count": 222,
     "metadata": {},
     "output_type": "execute_result"
    }
   ],
   "source": [
    "clf.predict(X_test)"
   ]
  },
  {
   "cell_type": "code",
   "execution_count": 223,
   "metadata": {},
   "outputs": [
    {
     "data": {
      "text/plain": [
       "0.625"
      ]
     },
     "execution_count": 223,
     "metadata": {},
     "output_type": "execute_result"
    }
   ],
   "source": [
    "clf.score(X_test, Y_test)"
   ]
  },
  {
   "cell_type": "code",
   "execution_count": 224,
   "metadata": {},
   "outputs": [
    {
     "data": {
      "text/plain": [
       "GridSearchCV(cv=5, error_score='raise',\n",
       "       estimator=RandomForestClassifier(bootstrap=True, class_weight=None, criterion='gini',\n",
       "            max_depth=2, max_features='auto', max_leaf_nodes=None,\n",
       "            min_impurity_split=1e-07, min_samples_leaf=1,\n",
       "            min_samples_split=2, min_weight_fraction_leaf=0.0,\n",
       "            n_estimators=10, n_jobs=1, oob_score=False, random_state=0,\n",
       "            verbose=0, warm_start=False),\n",
       "       fit_params={}, iid=True, n_jobs=1,\n",
       "       param_grid={'max_depth': [2, 6, 8], 'n_estimators': [50, 100, 200]},\n",
       "       pre_dispatch='2*n_jobs', refit=True, return_train_score=True,\n",
       "       scoring=None, verbose=0)"
      ]
     },
     "execution_count": 224,
     "metadata": {},
     "output_type": "execute_result"
    }
   ],
   "source": [
    "#use a grid search\n",
    "\n",
    "param_grid = {#\"criterion\": [\"mse\", \"mae\"], #mean squared error and mean absolute error in documentation\n",
    "              #\"min_samples_split\": [10, 20, 40],\n",
    "              \"max_depth\": [2, 6, 8],\n",
    "              \"n_estimators\":[50, 100, 200]\n",
    "              #\"min_samples_leaf\": [20, 40, 100],\n",
    "              #\"max_leaf_nodes\": [5, 20, 100, 500, 800],\n",
    "              }\n",
    "\n",
    "grid_cv_clf = GridSearchCV(clf, param_grid, cv=5)\n",
    "grid_cv_clf.fit(X_train, Y_train) #features and labels"
   ]
  },
  {
   "cell_type": "code",
   "execution_count": 225,
   "metadata": {},
   "outputs": [
    {
     "name": "stdout",
     "output_type": "stream",
     "text": [
      "R-Squared::0.781573998077793\n",
      "Best Hyperparameters::\n",
      "{'criterion': 'mse', 'max_depth': 8, 'n_estimators': 100}\n"
     ]
    }
   ],
   "source": [
    "print(\"R-Squared::{}\".format(grid_cv_regr.best_score_))\n",
    "print(\"Best Hyperparameters::\\n{}\".format(grid_cv_regr.best_params_))\n",
    "\n",
    "#random forest builds multiple decision trees \n",
    "#best number of decision trees\n",
    "#depth of each tree shouldnt be more than 8 levels\n",
    "#go down to 8 levels(splits) but dont split it further"
   ]
  },
  {
   "cell_type": "code",
   "execution_count": 226,
   "metadata": {},
   "outputs": [
    {
     "data": {
      "text/html": [
       "<div>\n",
       "<style>\n",
       "    .dataframe thead tr:only-child th {\n",
       "        text-align: right;\n",
       "    }\n",
       "\n",
       "    .dataframe thead th {\n",
       "        text-align: left;\n",
       "    }\n",
       "\n",
       "    .dataframe tbody tr th {\n",
       "        vertical-align: top;\n",
       "    }\n",
       "</style>\n",
       "<table border=\"1\" class=\"dataframe\">\n",
       "  <thead>\n",
       "    <tr style=\"text-align: right;\">\n",
       "      <th></th>\n",
       "      <th>mean_fit_time</th>\n",
       "      <th>mean_score_time</th>\n",
       "      <th>mean_test_score</th>\n",
       "      <th>mean_train_score</th>\n",
       "      <th>param_criterion</th>\n",
       "      <th>param_max_depth</th>\n",
       "      <th>param_n_estimators</th>\n",
       "      <th>params</th>\n",
       "      <th>rank_test_score</th>\n",
       "      <th>split0_test_score</th>\n",
       "      <th>...</th>\n",
       "      <th>split2_test_score</th>\n",
       "      <th>split2_train_score</th>\n",
       "      <th>split3_test_score</th>\n",
       "      <th>split3_train_score</th>\n",
       "      <th>split4_test_score</th>\n",
       "      <th>split4_train_score</th>\n",
       "      <th>std_fit_time</th>\n",
       "      <th>std_score_time</th>\n",
       "      <th>std_test_score</th>\n",
       "      <th>std_train_score</th>\n",
       "    </tr>\n",
       "  </thead>\n",
       "  <tbody>\n",
       "    <tr>\n",
       "      <th>0</th>\n",
       "      <td>0.047817</td>\n",
       "      <td>0.003355</td>\n",
       "      <td>0.635309</td>\n",
       "      <td>0.778977</td>\n",
       "      <td>mse</td>\n",
       "      <td>2</td>\n",
       "      <td>50</td>\n",
       "      <td>{'criterion': 'mse', 'max_depth': 2, 'n_estima...</td>\n",
       "      <td>15</td>\n",
       "      <td>0.613964</td>\n",
       "      <td>...</td>\n",
       "      <td>0.451744</td>\n",
       "      <td>0.804077</td>\n",
       "      <td>0.656762</td>\n",
       "      <td>0.758853</td>\n",
       "      <td>0.675603</td>\n",
       "      <td>0.792493</td>\n",
       "      <td>0.004595</td>\n",
       "      <td>0.000730</td>\n",
       "      <td>0.107580</td>\n",
       "      <td>0.016929</td>\n",
       "    </tr>\n",
       "    <tr>\n",
       "      <th>1</th>\n",
       "      <td>0.079651</td>\n",
       "      <td>0.004593</td>\n",
       "      <td>0.642203</td>\n",
       "      <td>0.783669</td>\n",
       "      <td>mse</td>\n",
       "      <td>2</td>\n",
       "      <td>100</td>\n",
       "      <td>{'criterion': 'mse', 'max_depth': 2, 'n_estima...</td>\n",
       "      <td>14</td>\n",
       "      <td>0.632470</td>\n",
       "      <td>...</td>\n",
       "      <td>0.452446</td>\n",
       "      <td>0.807411</td>\n",
       "      <td>0.661534</td>\n",
       "      <td>0.761985</td>\n",
       "      <td>0.677862</td>\n",
       "      <td>0.795574</td>\n",
       "      <td>0.003166</td>\n",
       "      <td>0.000032</td>\n",
       "      <td>0.109303</td>\n",
       "      <td>0.016629</td>\n",
       "    </tr>\n",
       "    <tr>\n",
       "      <th>2</th>\n",
       "      <td>0.156604</td>\n",
       "      <td>0.008930</td>\n",
       "      <td>0.645046</td>\n",
       "      <td>0.783199</td>\n",
       "      <td>mse</td>\n",
       "      <td>2</td>\n",
       "      <td>200</td>\n",
       "      <td>{'criterion': 'mse', 'max_depth': 2, 'n_estima...</td>\n",
       "      <td>13</td>\n",
       "      <td>0.646579</td>\n",
       "      <td>...</td>\n",
       "      <td>0.453979</td>\n",
       "      <td>0.809105</td>\n",
       "      <td>0.664311</td>\n",
       "      <td>0.762408</td>\n",
       "      <td>0.674158</td>\n",
       "      <td>0.792468</td>\n",
       "      <td>0.003978</td>\n",
       "      <td>0.000223</td>\n",
       "      <td>0.108315</td>\n",
       "      <td>0.016699</td>\n",
       "    </tr>\n",
       "    <tr>\n",
       "      <th>3</th>\n",
       "      <td>0.042447</td>\n",
       "      <td>0.002823</td>\n",
       "      <td>0.772805</td>\n",
       "      <td>0.966819</td>\n",
       "      <td>mse</td>\n",
       "      <td>6</td>\n",
       "      <td>50</td>\n",
       "      <td>{'criterion': 'mse', 'max_depth': 6, 'n_estima...</td>\n",
       "      <td>6</td>\n",
       "      <td>0.779761</td>\n",
       "      <td>...</td>\n",
       "      <td>0.534255</td>\n",
       "      <td>0.973722</td>\n",
       "      <td>0.834329</td>\n",
       "      <td>0.969750</td>\n",
       "      <td>0.826922</td>\n",
       "      <td>0.963078</td>\n",
       "      <td>0.001884</td>\n",
       "      <td>0.000285</td>\n",
       "      <td>0.125263</td>\n",
       "      <td>0.004298</td>\n",
       "    </tr>\n",
       "    <tr>\n",
       "      <th>4</th>\n",
       "      <td>0.082083</td>\n",
       "      <td>0.004693</td>\n",
       "      <td>0.779033</td>\n",
       "      <td>0.967569</td>\n",
       "      <td>mse</td>\n",
       "      <td>6</td>\n",
       "      <td>100</td>\n",
       "      <td>{'criterion': 'mse', 'max_depth': 6, 'n_estima...</td>\n",
       "      <td>3</td>\n",
       "      <td>0.771612</td>\n",
       "      <td>...</td>\n",
       "      <td>0.537566</td>\n",
       "      <td>0.973433</td>\n",
       "      <td>0.843001</td>\n",
       "      <td>0.968763</td>\n",
       "      <td>0.847150</td>\n",
       "      <td>0.964772</td>\n",
       "      <td>0.002411</td>\n",
       "      <td>0.000024</td>\n",
       "      <td>0.128224</td>\n",
       "      <td>0.003374</td>\n",
       "    </tr>\n",
       "  </tbody>\n",
       "</table>\n",
       "<p>5 rows × 23 columns</p>\n",
       "</div>"
      ],
      "text/plain": [
       "   mean_fit_time  mean_score_time  mean_test_score  mean_train_score  \\\n",
       "0       0.047817         0.003355         0.635309          0.778977   \n",
       "1       0.079651         0.004593         0.642203          0.783669   \n",
       "2       0.156604         0.008930         0.645046          0.783199   \n",
       "3       0.042447         0.002823         0.772805          0.966819   \n",
       "4       0.082083         0.004693         0.779033          0.967569   \n",
       "\n",
       "  param_criterion param_max_depth param_n_estimators  \\\n",
       "0             mse               2                 50   \n",
       "1             mse               2                100   \n",
       "2             mse               2                200   \n",
       "3             mse               6                 50   \n",
       "4             mse               6                100   \n",
       "\n",
       "                                              params  rank_test_score  \\\n",
       "0  {'criterion': 'mse', 'max_depth': 2, 'n_estima...               15   \n",
       "1  {'criterion': 'mse', 'max_depth': 2, 'n_estima...               14   \n",
       "2  {'criterion': 'mse', 'max_depth': 2, 'n_estima...               13   \n",
       "3  {'criterion': 'mse', 'max_depth': 6, 'n_estima...                6   \n",
       "4  {'criterion': 'mse', 'max_depth': 6, 'n_estima...                3   \n",
       "\n",
       "   split0_test_score       ...         split2_test_score  split2_train_score  \\\n",
       "0           0.613964       ...                  0.451744            0.804077   \n",
       "1           0.632470       ...                  0.452446            0.807411   \n",
       "2           0.646579       ...                  0.453979            0.809105   \n",
       "3           0.779761       ...                  0.534255            0.973722   \n",
       "4           0.771612       ...                  0.537566            0.973433   \n",
       "\n",
       "   split3_test_score  split3_train_score  split4_test_score  \\\n",
       "0           0.656762            0.758853           0.675603   \n",
       "1           0.661534            0.761985           0.677862   \n",
       "2           0.664311            0.762408           0.674158   \n",
       "3           0.834329            0.969750           0.826922   \n",
       "4           0.843001            0.968763           0.847150   \n",
       "\n",
       "   split4_train_score  std_fit_time  std_score_time  std_test_score  \\\n",
       "0            0.792493      0.004595        0.000730        0.107580   \n",
       "1            0.795574      0.003166        0.000032        0.109303   \n",
       "2            0.792468      0.003978        0.000223        0.108315   \n",
       "3            0.963078      0.001884        0.000285        0.125263   \n",
       "4            0.964772      0.002411        0.000024        0.128224   \n",
       "\n",
       "   std_train_score  \n",
       "0         0.016929  \n",
       "1         0.016629  \n",
       "2         0.016699  \n",
       "3         0.004298  \n",
       "4         0.003374  \n",
       "\n",
       "[5 rows x 23 columns]"
      ]
     },
     "execution_count": 226,
     "metadata": {},
     "output_type": "execute_result"
    }
   ],
   "source": [
    "df = pd.DataFrame(data=grid_cv_regr.cv_results_)\n",
    "df.head()"
   ]
  },
  {
   "cell_type": "code",
   "execution_count": 227,
   "metadata": {},
   "outputs": [
    {
     "data": {
      "text/plain": [
       "0.46875"
      ]
     },
     "execution_count": 227,
     "metadata": {},
     "output_type": "execute_result"
    }
   ],
   "source": [
    "grid_cv_clf.score(X_test, Y_test)"
   ]
  },
  {
   "cell_type": "markdown",
   "metadata": {},
   "source": [
    "It feels as if what we did here was comparing apples and oranges. Comparing apples with apples would be more like, did dow jones increase? did google search frequency increase? a score around 50 percent is actually a likely result here, because this is a binary target, and nothing in my features say anything about the previous day. Here we are taking a bunch of values and trying to figure out weather these values were higher or lower than the previous day, but we have no information about the previous day in our dfeatures matrix. For example when looking at one line of data from our features matrix, does any cell in this line tell us something about the previous day? On any given line how does it compare to the one before it? All these values are independent from the day before, acording to my model, because we are not saying how they are related.\n",
    "\n",
    "Now we will explore another idea for a classifier. For every single feature, make it an up or down binary vector. We should get way better results because we are not simply flipping a coin anymore. The binary of dow jones having gone up or down up or down should be more predictive."
   ]
  },
  {
   "cell_type": "markdown",
   "metadata": {
    "collapsed": true
   },
   "source": [
    "### Classification with binary features:\n",
    "first we will make some binary features from lists utilizing the enumerate function. What the binary representation will indicate is the following: if the value went up from the day before we will attribute a 1 to that value. Each element in the vector is saying something about what direction price went from the day before."
   ]
  },
  {
   "cell_type": "code",
   "execution_count": 228,
   "metadata": {
    "collapsed": true
   },
   "outputs": [],
   "source": [
    "rise_fall_list_DJI = []\n",
    "\n",
    "for index, item in enumerate(df_ultra_mega_frame['DJI']):\n",
    "    if df_ultra_mega_frame['DJI'].iloc[index-1] < df_ultra_mega_frame['DJI'].iloc[index]:\n",
    "        rise_fall_list_DJI.append(1)\n",
    "    else:\n",
    "        rise_fall_list_DJI.append(0)\n",
    "        \n",
    "\n",
    "df_ultra_mega_frame['rise_lower_dji'] = rise_fall_list_DJI\n",
    "\n",
    "#--------\n",
    "rise_fall_list_BTC = []\n",
    "\n",
    "for index, item in enumerate(df_ultra_mega_frame['price_btc']):\n",
    "    if df_ultra_mega_frame['price_btc'].iloc[index-1] < df_ultra_mega_frame['price_btc'].iloc[index]:\n",
    "        rise_fall_list_BTC.append(1)\n",
    "    else:\n",
    "        rise_fall_list_BTC.append(0)\n",
    "        \n",
    "\n",
    "df_ultra_mega_frame['rise_lower_btc'] = rise_fall_list_BTC\n",
    "\n",
    "#---------\n",
    "rise_fall_list_SF = []\n",
    "\n",
    "for index, item in enumerate(df_ultra_mega_frame['SearchFrequency']):\n",
    "    if df_ultra_mega_frame['SearchFrequency'].iloc[index-1] < df_ultra_mega_frame['SearchFrequency'].iloc[index]:\n",
    "        rise_fall_list_SF.append(1)\n",
    "    else:\n",
    "        rise_fall_list_SF.append(0)\n",
    "        \n",
    "\n",
    "df_ultra_mega_frame['rise_lower_sf'] = rise_fall_list_SF\n",
    "\n",
    "df_ultra_mega_frame = df_ultra_mega_frame['2017-11-17':]"
   ]
  },
  {
   "cell_type": "markdown",
   "metadata": {},
   "source": [
    "Note that at the bottom of this code block we chop off the first line of the data frame because at this pint we are only dealing with the binary features and we do not have information to say whether the first element of our data set rose in price or fell in price."
   ]
  },
  {
   "cell_type": "code",
   "execution_count": 229,
   "metadata": {
    "collapsed": true
   },
   "outputs": [],
   "source": [
    "y = df_ultra_mega_frame['rise_lower'] #setting our label y"
   ]
  },
  {
   "cell_type": "code",
   "execution_count": 230,
   "metadata": {
    "collapsed": true
   },
   "outputs": [],
   "source": [
    "y = np.array(df_ultra_mega_frame['rise_lower'])\n",
    "# Remove the labels from the features\n",
    "# axis 1 refers to the columns\n",
    "features= df_ultra_mega_frame.filter(['rise_lower_dji','rise_lower_btc','rise_lower_sf'], axis = 1)\n",
    "# Saving feature names for later use\n",
    "feature_list = list(features.columns) #this way we remeber the column names\n",
    "# Convert to numpy array\n",
    "X = np.array(features) #because once we convert to np array it drops the names"
   ]
  },
  {
   "cell_type": "code",
   "execution_count": 231,
   "metadata": {
    "collapsed": true
   },
   "outputs": [],
   "source": [
    "#features"
   ]
  },
  {
   "cell_type": "code",
   "execution_count": 232,
   "metadata": {},
   "outputs": [
    {
     "data": {
      "text/plain": [
       "RandomForestClassifier(bootstrap=True, class_weight=None, criterion='gini',\n",
       "            max_depth=2, max_features='auto', max_leaf_nodes=None,\n",
       "            min_impurity_split=1e-07, min_samples_leaf=1,\n",
       "            min_samples_split=2, min_weight_fraction_leaf=0.0,\n",
       "            n_estimators=10, n_jobs=1, oob_score=False, random_state=0,\n",
       "            verbose=0, warm_start=False)"
      ]
     },
     "execution_count": 232,
     "metadata": {},
     "output_type": "execute_result"
    }
   ],
   "source": [
    "X_train, X_test, Y_train, Y_test = train_test_split(X, y, test_size = 0.25, random_state = 42)\n",
    "clf = RandomForestClassifier(max_depth=2, random_state=0)\n",
    "clf.fit(X_train, Y_train)"
   ]
  },
  {
   "cell_type": "code",
   "execution_count": 233,
   "metadata": {},
   "outputs": [
    {
     "data": {
      "text/plain": [
       "array([0.12937936, 0.78567976, 0.08494088])"
      ]
     },
     "execution_count": 233,
     "metadata": {},
     "output_type": "execute_result"
    }
   ],
   "source": [
    "clf.feature_importances_"
   ]
  },
  {
   "cell_type": "code",
   "execution_count": 234,
   "metadata": {},
   "outputs": [
    {
     "data": {
      "text/plain": [
       "array([1, 1, 1, 0, 0, 1, 1, 1, 0, 0, 1, 0, 1, 0, 1, 0, 1, 1, 1, 1, 1, 1,\n",
       "       0, 0, 0, 0, 0, 1, 0, 1, 1, 0])"
      ]
     },
     "execution_count": 234,
     "metadata": {},
     "output_type": "execute_result"
    }
   ],
   "source": [
    "clf.predict(X_test)"
   ]
  },
  {
   "cell_type": "code",
   "execution_count": 235,
   "metadata": {},
   "outputs": [
    {
     "data": {
      "text/plain": [
       "0.6875"
      ]
     },
     "execution_count": 235,
     "metadata": {},
     "output_type": "execute_result"
    }
   ],
   "source": [
    "clf.score(X_test, Y_test)"
   ]
  },
  {
   "cell_type": "code",
   "execution_count": 236,
   "metadata": {},
   "outputs": [
    {
     "data": {
      "text/plain": [
       "GridSearchCV(cv=5, error_score='raise',\n",
       "       estimator=RandomForestClassifier(bootstrap=True, class_weight=None, criterion='gini',\n",
       "            max_depth=2, max_features='auto', max_leaf_nodes=None,\n",
       "            min_impurity_split=1e-07, min_samples_leaf=1,\n",
       "            min_samples_split=2, min_weight_fraction_leaf=0.0,\n",
       "            n_estimators=10, n_jobs=1, oob_score=False, random_state=0,\n",
       "            verbose=0, warm_start=False),\n",
       "       fit_params={}, iid=True, n_jobs=1,\n",
       "       param_grid={'max_depth': [2, 6, 8], 'n_estimators': [50, 100, 200]},\n",
       "       pre_dispatch='2*n_jobs', refit=True, return_train_score=True,\n",
       "       scoring=None, verbose=0)"
      ]
     },
     "execution_count": 236,
     "metadata": {},
     "output_type": "execute_result"
    }
   ],
   "source": [
    "#use a grid search\n",
    "\n",
    "param_grid = {#\"criterion\": [\"mse\", \"mae\"], #mean squared error and mean absolute error in documentation\n",
    "              #\"min_samples_split\": [10, 20, 40],\n",
    "              \"max_depth\": [2, 6, 8],\n",
    "              \"n_estimators\":[50, 100, 200]\n",
    "              #\"min_samples_leaf\": [20, 40, 100],\n",
    "              #\"max_leaf_nodes\": [5, 20, 100, 500, 800],\n",
    "              }\n",
    "\n",
    "grid_cv_clf = GridSearchCV(clf, param_grid, cv=5)\n",
    "\n",
    "grid_cv_clf.fit(X_train, Y_train) #features and labels"
   ]
  },
  {
   "cell_type": "code",
   "execution_count": 237,
   "metadata": {},
   "outputs": [
    {
     "name": "stdout",
     "output_type": "stream",
     "text": [
      "R-Squared::0.781573998077793\n",
      "Best Hyperparameters::\n",
      "{'criterion': 'mse', 'max_depth': 8, 'n_estimators': 100}\n"
     ]
    }
   ],
   "source": [
    "print(\"R-Squared::{}\".format(grid_cv_regr.best_score_))\n",
    "print(\"Best Hyperparameters::\\n{}\".format(grid_cv_regr.best_params_))\n",
    "\n",
    "#random forest builds multiple decision trees \n",
    "#best number of decision trees\n",
    "#depth of each tree shouldnt be more than 8 levels\n",
    "#go down to 8 levels(splits) but dont split it further"
   ]
  },
  {
   "cell_type": "code",
   "execution_count": 238,
   "metadata": {},
   "outputs": [
    {
     "data": {
      "text/html": [
       "<div>\n",
       "<style>\n",
       "    .dataframe thead tr:only-child th {\n",
       "        text-align: right;\n",
       "    }\n",
       "\n",
       "    .dataframe thead th {\n",
       "        text-align: left;\n",
       "    }\n",
       "\n",
       "    .dataframe tbody tr th {\n",
       "        vertical-align: top;\n",
       "    }\n",
       "</style>\n",
       "<table border=\"1\" class=\"dataframe\">\n",
       "  <thead>\n",
       "    <tr style=\"text-align: right;\">\n",
       "      <th></th>\n",
       "      <th>mean_fit_time</th>\n",
       "      <th>mean_score_time</th>\n",
       "      <th>mean_test_score</th>\n",
       "      <th>mean_train_score</th>\n",
       "      <th>param_criterion</th>\n",
       "      <th>param_max_depth</th>\n",
       "      <th>param_n_estimators</th>\n",
       "      <th>params</th>\n",
       "      <th>rank_test_score</th>\n",
       "      <th>split0_test_score</th>\n",
       "      <th>...</th>\n",
       "      <th>split2_test_score</th>\n",
       "      <th>split2_train_score</th>\n",
       "      <th>split3_test_score</th>\n",
       "      <th>split3_train_score</th>\n",
       "      <th>split4_test_score</th>\n",
       "      <th>split4_train_score</th>\n",
       "      <th>std_fit_time</th>\n",
       "      <th>std_score_time</th>\n",
       "      <th>std_test_score</th>\n",
       "      <th>std_train_score</th>\n",
       "    </tr>\n",
       "  </thead>\n",
       "  <tbody>\n",
       "    <tr>\n",
       "      <th>0</th>\n",
       "      <td>0.047817</td>\n",
       "      <td>0.003355</td>\n",
       "      <td>0.635309</td>\n",
       "      <td>0.778977</td>\n",
       "      <td>mse</td>\n",
       "      <td>2</td>\n",
       "      <td>50</td>\n",
       "      <td>{'criterion': 'mse', 'max_depth': 2, 'n_estima...</td>\n",
       "      <td>15</td>\n",
       "      <td>0.613964</td>\n",
       "      <td>...</td>\n",
       "      <td>0.451744</td>\n",
       "      <td>0.804077</td>\n",
       "      <td>0.656762</td>\n",
       "      <td>0.758853</td>\n",
       "      <td>0.675603</td>\n",
       "      <td>0.792493</td>\n",
       "      <td>0.004595</td>\n",
       "      <td>0.000730</td>\n",
       "      <td>0.107580</td>\n",
       "      <td>0.016929</td>\n",
       "    </tr>\n",
       "    <tr>\n",
       "      <th>1</th>\n",
       "      <td>0.079651</td>\n",
       "      <td>0.004593</td>\n",
       "      <td>0.642203</td>\n",
       "      <td>0.783669</td>\n",
       "      <td>mse</td>\n",
       "      <td>2</td>\n",
       "      <td>100</td>\n",
       "      <td>{'criterion': 'mse', 'max_depth': 2, 'n_estima...</td>\n",
       "      <td>14</td>\n",
       "      <td>0.632470</td>\n",
       "      <td>...</td>\n",
       "      <td>0.452446</td>\n",
       "      <td>0.807411</td>\n",
       "      <td>0.661534</td>\n",
       "      <td>0.761985</td>\n",
       "      <td>0.677862</td>\n",
       "      <td>0.795574</td>\n",
       "      <td>0.003166</td>\n",
       "      <td>0.000032</td>\n",
       "      <td>0.109303</td>\n",
       "      <td>0.016629</td>\n",
       "    </tr>\n",
       "    <tr>\n",
       "      <th>2</th>\n",
       "      <td>0.156604</td>\n",
       "      <td>0.008930</td>\n",
       "      <td>0.645046</td>\n",
       "      <td>0.783199</td>\n",
       "      <td>mse</td>\n",
       "      <td>2</td>\n",
       "      <td>200</td>\n",
       "      <td>{'criterion': 'mse', 'max_depth': 2, 'n_estima...</td>\n",
       "      <td>13</td>\n",
       "      <td>0.646579</td>\n",
       "      <td>...</td>\n",
       "      <td>0.453979</td>\n",
       "      <td>0.809105</td>\n",
       "      <td>0.664311</td>\n",
       "      <td>0.762408</td>\n",
       "      <td>0.674158</td>\n",
       "      <td>0.792468</td>\n",
       "      <td>0.003978</td>\n",
       "      <td>0.000223</td>\n",
       "      <td>0.108315</td>\n",
       "      <td>0.016699</td>\n",
       "    </tr>\n",
       "    <tr>\n",
       "      <th>3</th>\n",
       "      <td>0.042447</td>\n",
       "      <td>0.002823</td>\n",
       "      <td>0.772805</td>\n",
       "      <td>0.966819</td>\n",
       "      <td>mse</td>\n",
       "      <td>6</td>\n",
       "      <td>50</td>\n",
       "      <td>{'criterion': 'mse', 'max_depth': 6, 'n_estima...</td>\n",
       "      <td>6</td>\n",
       "      <td>0.779761</td>\n",
       "      <td>...</td>\n",
       "      <td>0.534255</td>\n",
       "      <td>0.973722</td>\n",
       "      <td>0.834329</td>\n",
       "      <td>0.969750</td>\n",
       "      <td>0.826922</td>\n",
       "      <td>0.963078</td>\n",
       "      <td>0.001884</td>\n",
       "      <td>0.000285</td>\n",
       "      <td>0.125263</td>\n",
       "      <td>0.004298</td>\n",
       "    </tr>\n",
       "    <tr>\n",
       "      <th>4</th>\n",
       "      <td>0.082083</td>\n",
       "      <td>0.004693</td>\n",
       "      <td>0.779033</td>\n",
       "      <td>0.967569</td>\n",
       "      <td>mse</td>\n",
       "      <td>6</td>\n",
       "      <td>100</td>\n",
       "      <td>{'criterion': 'mse', 'max_depth': 6, 'n_estima...</td>\n",
       "      <td>3</td>\n",
       "      <td>0.771612</td>\n",
       "      <td>...</td>\n",
       "      <td>0.537566</td>\n",
       "      <td>0.973433</td>\n",
       "      <td>0.843001</td>\n",
       "      <td>0.968763</td>\n",
       "      <td>0.847150</td>\n",
       "      <td>0.964772</td>\n",
       "      <td>0.002411</td>\n",
       "      <td>0.000024</td>\n",
       "      <td>0.128224</td>\n",
       "      <td>0.003374</td>\n",
       "    </tr>\n",
       "  </tbody>\n",
       "</table>\n",
       "<p>5 rows × 23 columns</p>\n",
       "</div>"
      ],
      "text/plain": [
       "   mean_fit_time  mean_score_time  mean_test_score  mean_train_score  \\\n",
       "0       0.047817         0.003355         0.635309          0.778977   \n",
       "1       0.079651         0.004593         0.642203          0.783669   \n",
       "2       0.156604         0.008930         0.645046          0.783199   \n",
       "3       0.042447         0.002823         0.772805          0.966819   \n",
       "4       0.082083         0.004693         0.779033          0.967569   \n",
       "\n",
       "  param_criterion param_max_depth param_n_estimators  \\\n",
       "0             mse               2                 50   \n",
       "1             mse               2                100   \n",
       "2             mse               2                200   \n",
       "3             mse               6                 50   \n",
       "4             mse               6                100   \n",
       "\n",
       "                                              params  rank_test_score  \\\n",
       "0  {'criterion': 'mse', 'max_depth': 2, 'n_estima...               15   \n",
       "1  {'criterion': 'mse', 'max_depth': 2, 'n_estima...               14   \n",
       "2  {'criterion': 'mse', 'max_depth': 2, 'n_estima...               13   \n",
       "3  {'criterion': 'mse', 'max_depth': 6, 'n_estima...                6   \n",
       "4  {'criterion': 'mse', 'max_depth': 6, 'n_estima...                3   \n",
       "\n",
       "   split0_test_score       ...         split2_test_score  split2_train_score  \\\n",
       "0           0.613964       ...                  0.451744            0.804077   \n",
       "1           0.632470       ...                  0.452446            0.807411   \n",
       "2           0.646579       ...                  0.453979            0.809105   \n",
       "3           0.779761       ...                  0.534255            0.973722   \n",
       "4           0.771612       ...                  0.537566            0.973433   \n",
       "\n",
       "   split3_test_score  split3_train_score  split4_test_score  \\\n",
       "0           0.656762            0.758853           0.675603   \n",
       "1           0.661534            0.761985           0.677862   \n",
       "2           0.664311            0.762408           0.674158   \n",
       "3           0.834329            0.969750           0.826922   \n",
       "4           0.843001            0.968763           0.847150   \n",
       "\n",
       "   split4_train_score  std_fit_time  std_score_time  std_test_score  \\\n",
       "0            0.792493      0.004595        0.000730        0.107580   \n",
       "1            0.795574      0.003166        0.000032        0.109303   \n",
       "2            0.792468      0.003978        0.000223        0.108315   \n",
       "3            0.963078      0.001884        0.000285        0.125263   \n",
       "4            0.964772      0.002411        0.000024        0.128224   \n",
       "\n",
       "   std_train_score  \n",
       "0         0.016929  \n",
       "1         0.016629  \n",
       "2         0.016699  \n",
       "3         0.004298  \n",
       "4         0.003374  \n",
       "\n",
       "[5 rows x 23 columns]"
      ]
     },
     "execution_count": 238,
     "metadata": {},
     "output_type": "execute_result"
    }
   ],
   "source": [
    "df = pd.DataFrame(data=grid_cv_regr.cv_results_)\n",
    "df.head()"
   ]
  },
  {
   "cell_type": "code",
   "execution_count": 239,
   "metadata": {},
   "outputs": [
    {
     "data": {
      "text/plain": [
       "0.6875"
      ]
     },
     "execution_count": 239,
     "metadata": {},
     "output_type": "execute_result"
    }
   ],
   "source": [
    "grid_cv_clf.score(X_test,Y_test)"
   ]
  },
  {
   "cell_type": "markdown",
   "metadata": {},
   "source": [
    "here hyperparameterization did not improve!"
   ]
  }
 ],
 "metadata": {
  "anaconda-cloud": {},
  "kernelspec": {
   "display_name": "Python 3",
   "language": "python",
   "name": "python3"
  },
  "language_info": {
   "codemirror_mode": {
    "name": "ipython",
    "version": 3
   },
   "file_extension": ".py",
   "mimetype": "text/x-python",
   "name": "python",
   "nbconvert_exporter": "python",
   "pygments_lexer": "ipython3",
   "version": "3.6.5"
  }
 },
 "nbformat": 4,
 "nbformat_minor": 2
}
