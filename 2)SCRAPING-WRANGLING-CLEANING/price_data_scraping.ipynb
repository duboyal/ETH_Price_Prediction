{
 "cells": [
  {
   "cell_type": "code",
   "execution_count": 1,
   "metadata": {
    "collapsed": true
   },
   "outputs": [],
   "source": [
    "#OK I need to slice the data frame and then plot it. this is in blue\n",
    "#I need to the plot the search frequency, this is in orange"
   ]
  },
  {
   "cell_type": "code",
   "execution_count": null,
   "metadata": {
    "collapsed": true
   },
   "outputs": [],
   "source": [
    "import matplotlib.pyplot as plt\n",
    "import requests\n",
    "import json\n",
    "import pandas as pd\n",
    "from pandas.io.json import json_normalize\n",
    "import datetime\n",
    "from pytrends.request import TrendReq\n",
    "%matplotlib inline"
   ]
  },
  {
   "cell_type": "markdown",
   "metadata": {},
   "source": [
    "##### following API worked\n",
    "pip install cryptocmd required"
   ]
  },
  {
   "cell_type": "code",
   "execution_count": 3,
   "metadata": {
    "collapsed": true
   },
   "outputs": [],
   "source": [
    "from cryptocmd import CmcScraper\n",
    "\n",
    "# initialise scraper\n",
    "scraper = CmcScraper('ETH', '15-11-2017', '21-3-2018')\n",
    "\n",
    "# get data as list of list\n",
    "headers, data = scraper.get_data()\n",
    "\n",
    "# export the data to csv\n",
    "scraper.export_csv()\n",
    "\n",
    "df = pd.read_csv('ETH_15-11-2017_21-03-2018.csv', dtype=str)\n",
    "\n",
    "# get dataframe for the data\n",
    "#df = scraper.get_dataframe()"
   ]
  },
  {
   "cell_type": "code",
   "execution_count": 19,
   "metadata": {
    "collapsed": true
   },
   "outputs": [],
   "source": [
    "# BITCOIN\n",
    "# initialise scraper\n",
    "\n",
    "scraper = CmcScraper('BTC', '15-11-2017', '21-3-2018')\n",
    "\n",
    "# get data as list of list\n",
    "headers, data = scraper.get_data()\n",
    "\n",
    "# export the data to csv\n",
    "scraper.export_csv()\n",
    "\n",
    "df1 = pd.read_csv('BTC_15-11-2017_21-03-2018.csv', dtype=str)"
   ]
  },
  {
   "cell_type": "code",
   "execution_count": 4,
   "metadata": {
    "scrolled": true
   },
   "outputs": [
    {
     "name": "stdout",
     "output_type": "stream",
     "text": [
      "          Date    Open    High     Low   Close      Volume   Market Cap\n",
      "0   21-03-2018   559.1  589.61  550.57  561.73  1781270000  54967300000\n",
      "1   20-03-2018  556.72  567.09   521.2  557.17  1833680000  54722100000\n",
      "2   19-03-2018  546.63   558.1  519.12  556.73  2046790000  53718600000\n",
      "3   18-03-2018  551.64  551.64  460.09  538.64  2685500000  54200100000\n",
      "4   17-03-2018  601.68  609.15   549.1  552.78  1267810000  59104200000\n",
      "5   16-03-2018  611.78  623.17  587.86  601.67  1417350000  60083700000\n",
      "6   15-03-2018  614.84  620.62   579.5   611.3  1770460000  60371800000\n",
      "7   14-03-2018  691.22  702.78   594.1  614.29  1810560000  67857600000\n",
      "8   13-03-2018  698.15  713.74  682.35  690.83  1425960000  68524000000\n",
      "9   12-03-2018  724.41  742.51  683.27  699.83  1765000000  71086000000\n",
      "10  11-03-2018  685.31  735.83  668.12  723.34  1562680000  67235700000\n",
      "11  10-03-2018  730.16  748.03   682.7  686.89  1532960000  71620700000\n",
      "12  09-03-2018   702.2  729.16  648.11  728.92  2233020000  68863600000\n",
      "13  08-03-2018  752.57  773.77  696.17   704.6  1891640000  73788400000\n",
      "14  07-03-2018  816.27  825.61  726.55  752.83  2175420000  80017300000\n"
     ]
    }
   ],
   "source": [
    "print(df[0:15]) #debugging"
   ]
  },
  {
   "cell_type": "markdown",
   "metadata": {},
   "source": [
    "#here do the conversion \n",
    "for date in x:\n",
    "    nums = date.split('-')\n",
    "    print('{:0>2s}-{:0>2s}-{:0>4s}'.format(nums[1], nums[0], nums[2]))"
   ]
  },
  {
   "cell_type": "code",
   "execution_count": 5,
   "metadata": {},
   "outputs": [
    {
     "name": "stdout",
     "output_type": "stream",
     "text": [
      "03-21-2018\n",
      "03-20-2018\n",
      "03-19-2018\n",
      "03-18-2018\n",
      "03-17-2018\n"
     ]
    }
   ],
   "source": [
    "for date in df['Date'][0:5]:\n",
    "    nums = date.split('-')\n",
    "    stuff = '{}-{}-{}'.format(nums[1], nums[0], nums[2])\n",
    "    print(stuff)"
   ]
  },
  {
   "cell_type": "markdown",
   "metadata": {},
   "source": [
    "do list comprehension (also learn string comprehension!!)\n"
   ]
  },
  {
   "cell_type": "code",
   "execution_count": 6,
   "metadata": {
    "collapsed": true
   },
   "outputs": [],
   "source": [
    "def convert_date(date_string):\n",
    "    nums = date_string.split('-')\n",
    "    alt_format = '{}-{}-{}'.format(nums[1], nums[0], nums[2])\n",
    "    #alt_format = datetime.datetime(int(nums[2]), int(nums[0]), int(nums[1]), 0, 0)\n",
    "    return alt_format\n",
    "\n",
    "df['Date'] = df['Date'].apply(convert_date)\n",
    "#df['Date']"
   ]
  },
  {
   "cell_type": "code",
   "execution_count": 21,
   "metadata": {
    "collapsed": true
   },
   "outputs": [],
   "source": [
    "df['Date'] = pd.to_datetime(df['Date'],infer_datetime_format=True)\n",
    "df1['Date'] = pd.to_datetime(df1['Date'],infer_datetime_format=True)"
   ]
  },
  {
   "cell_type": "code",
   "execution_count": 22,
   "metadata": {},
   "outputs": [
    {
     "data": {
      "text/html": [
       "<div>\n",
       "<style>\n",
       "    .dataframe thead tr:only-child th {\n",
       "        text-align: right;\n",
       "    }\n",
       "\n",
       "    .dataframe thead th {\n",
       "        text-align: left;\n",
       "    }\n",
       "\n",
       "    .dataframe tbody tr th {\n",
       "        vertical-align: top;\n",
       "    }\n",
       "</style>\n",
       "<table border=\"1\" class=\"dataframe\">\n",
       "  <thead>\n",
       "    <tr style=\"text-align: right;\">\n",
       "      <th></th>\n",
       "      <th>Date</th>\n",
       "      <th>Open</th>\n",
       "      <th>High</th>\n",
       "      <th>Low</th>\n",
       "      <th>Close</th>\n",
       "      <th>Volume</th>\n",
       "      <th>Market Cap</th>\n",
       "    </tr>\n",
       "  </thead>\n",
       "  <tbody>\n",
       "    <tr>\n",
       "      <th>0</th>\n",
       "      <td>2018-03-21</td>\n",
       "      <td>8937.48</td>\n",
       "      <td>9177.37</td>\n",
       "      <td>8846.33</td>\n",
       "      <td>8929.28</td>\n",
       "      <td>6043130000</td>\n",
       "      <td>151316000000</td>\n",
       "    </tr>\n",
       "    <tr>\n",
       "      <th>1</th>\n",
       "      <td>2018-03-20</td>\n",
       "      <td>8619.67</td>\n",
       "      <td>9051.02</td>\n",
       "      <td>8389.89</td>\n",
       "      <td>8913.47</td>\n",
       "      <td>6361790000</td>\n",
       "      <td>145922000000</td>\n",
       "    </tr>\n",
       "    <tr>\n",
       "      <th>2</th>\n",
       "      <td>2018-03-19</td>\n",
       "      <td>8344.12</td>\n",
       "      <td>8675.87</td>\n",
       "      <td>8182.4</td>\n",
       "      <td>8630.65</td>\n",
       "      <td>6729110000</td>\n",
       "      <td>141240000000</td>\n",
       "    </tr>\n",
       "    <tr>\n",
       "      <th>3</th>\n",
       "      <td>2018-03-18</td>\n",
       "      <td>7890.52</td>\n",
       "      <td>8245.51</td>\n",
       "      <td>7397.99</td>\n",
       "      <td>8223.68</td>\n",
       "      <td>6639190000</td>\n",
       "      <td>133547000000</td>\n",
       "    </tr>\n",
       "    <tr>\n",
       "      <th>4</th>\n",
       "      <td>2018-03-17</td>\n",
       "      <td>8321.91</td>\n",
       "      <td>8346.53</td>\n",
       "      <td>7812.82</td>\n",
       "      <td>7916.88</td>\n",
       "      <td>4426150000</td>\n",
       "      <td>140834000000</td>\n",
       "    </tr>\n",
       "  </tbody>\n",
       "</table>\n",
       "</div>"
      ],
      "text/plain": [
       "        Date     Open     High      Low    Close      Volume    Market Cap\n",
       "0 2018-03-21  8937.48  9177.37  8846.33  8929.28  6043130000  151316000000\n",
       "1 2018-03-20  8619.67  9051.02  8389.89  8913.47  6361790000  145922000000\n",
       "2 2018-03-19  8344.12  8675.87   8182.4  8630.65  6729110000  141240000000\n",
       "3 2018-03-18  7890.52  8245.51  7397.99  8223.68  6639190000  133547000000\n",
       "4 2018-03-17  8321.91  8346.53  7812.82  7916.88  4426150000  140834000000"
      ]
     },
     "execution_count": 22,
     "metadata": {},
     "output_type": "execute_result"
    }
   ],
   "source": [
    "df1[0:5]"
   ]
  },
  {
   "cell_type": "markdown",
   "metadata": {},
   "source": [
    "this gave error:\n",
    "\n",
    "def convert_date(date_string):\n",
    "    nums1 = date_string.split('-')\n",
    "    nums2 = '{}-{}-{}'.format(nums1[1], nums1[0], nums1[2])\n",
    "    alt_format = datetime.datetime(int(nums2[2]), int(nums2[0]), int(nums2[1]), 0, 0)\n",
    "    return alt_format\n",
    "\n",
    "df['Date'] = df['Date'].apply(convert_date)\n",
    "#df['Date']\n"
   ]
  },
  {
   "cell_type": "code",
   "execution_count": 23,
   "metadata": {
    "collapsed": true
   },
   "outputs": [],
   "source": [
    "df = df.sort_values('Date')\n",
    "df1 = df1.sort_values('Date')"
   ]
  },
  {
   "cell_type": "code",
   "execution_count": 24,
   "metadata": {},
   "outputs": [
    {
     "data": {
      "text/html": [
       "<div>\n",
       "<style>\n",
       "    .dataframe thead tr:only-child th {\n",
       "        text-align: right;\n",
       "    }\n",
       "\n",
       "    .dataframe thead th {\n",
       "        text-align: left;\n",
       "    }\n",
       "\n",
       "    .dataframe tbody tr th {\n",
       "        vertical-align: top;\n",
       "    }\n",
       "</style>\n",
       "<table border=\"1\" class=\"dataframe\">\n",
       "  <thead>\n",
       "    <tr style=\"text-align: right;\">\n",
       "      <th></th>\n",
       "      <th>Date</th>\n",
       "      <th>Open</th>\n",
       "      <th>High</th>\n",
       "      <th>Low</th>\n",
       "      <th>Close</th>\n",
       "      <th>Volume</th>\n",
       "      <th>Market Cap</th>\n",
       "    </tr>\n",
       "  </thead>\n",
       "  <tbody>\n",
       "    <tr>\n",
       "      <th>126</th>\n",
       "      <td>2017-11-15</td>\n",
       "      <td>6634.76</td>\n",
       "      <td>7342.25</td>\n",
       "      <td>6634.76</td>\n",
       "      <td>7315.54</td>\n",
       "      <td>4200880000</td>\n",
       "      <td>110667000000</td>\n",
       "    </tr>\n",
       "    <tr>\n",
       "      <th>125</th>\n",
       "      <td>2017-11-16</td>\n",
       "      <td>7323.24</td>\n",
       "      <td>7967.38</td>\n",
       "      <td>7176.58</td>\n",
       "      <td>7871.69</td>\n",
       "      <td>5123810000</td>\n",
       "      <td>122164000000</td>\n",
       "    </tr>\n",
       "    <tr>\n",
       "      <th>124</th>\n",
       "      <td>2017-11-17</td>\n",
       "      <td>7853.57</td>\n",
       "      <td>8004.59</td>\n",
       "      <td>7561.09</td>\n",
       "      <td>7708.99</td>\n",
       "      <td>4651670000</td>\n",
       "      <td>131026000000</td>\n",
       "    </tr>\n",
       "    <tr>\n",
       "      <th>123</th>\n",
       "      <td>2017-11-18</td>\n",
       "      <td>7697.21</td>\n",
       "      <td>7884.99</td>\n",
       "      <td>7463.44</td>\n",
       "      <td>7790.15</td>\n",
       "      <td>3667190000</td>\n",
       "      <td>128425000000</td>\n",
       "    </tr>\n",
       "    <tr>\n",
       "      <th>122</th>\n",
       "      <td>2017-11-19</td>\n",
       "      <td>7766.03</td>\n",
       "      <td>8101.91</td>\n",
       "      <td>7694.1</td>\n",
       "      <td>8036.49</td>\n",
       "      <td>3149320000</td>\n",
       "      <td>129595000000</td>\n",
       "    </tr>\n",
       "  </tbody>\n",
       "</table>\n",
       "</div>"
      ],
      "text/plain": [
       "          Date     Open     High      Low    Close      Volume    Market Cap\n",
       "126 2017-11-15  6634.76  7342.25  6634.76  7315.54  4200880000  110667000000\n",
       "125 2017-11-16  7323.24  7967.38  7176.58  7871.69  5123810000  122164000000\n",
       "124 2017-11-17  7853.57  8004.59  7561.09  7708.99  4651670000  131026000000\n",
       "123 2017-11-18  7697.21  7884.99  7463.44  7790.15  3667190000  128425000000\n",
       "122 2017-11-19  7766.03  8101.91   7694.1  8036.49  3149320000  129595000000"
      ]
     },
     "execution_count": 24,
     "metadata": {},
     "output_type": "execute_result"
    }
   ],
   "source": [
    "df1[0:5]"
   ]
  },
  {
   "cell_type": "code",
   "execution_count": 11,
   "metadata": {},
   "outputs": [
    {
     "data": {
      "text/plain": [
       "Timestamp('2018-03-21 00:00:00')"
      ]
     },
     "execution_count": 11,
     "metadata": {},
     "output_type": "execute_result"
    }
   ],
   "source": [
    "df['Date'][0]"
   ]
  },
  {
   "cell_type": "code",
   "execution_count": 12,
   "metadata": {},
   "outputs": [
    {
     "data": {
      "text/plain": [
       "pandas._libs.tslib.Timestamp"
      ]
     },
     "execution_count": 12,
     "metadata": {},
     "output_type": "execute_result"
    }
   ],
   "source": [
    "type(df['Date'][0])"
   ]
  },
  {
   "cell_type": "code",
   "execution_count": 18,
   "metadata": {
    "collapsed": true
   },
   "outputs": [],
   "source": [
    "df_final_eth = df['Close']\n",
    "df_final_eth.index = df['Date']\n",
    "df_final_eth.to_csv('final_eth_price.csv')"
   ]
  },
  {
   "cell_type": "code",
   "execution_count": 25,
   "metadata": {
    "collapsed": true
   },
   "outputs": [],
   "source": [
    "df_final_btc = df1['Close']\n",
    "df_final_btc.index = df1['Date']\n",
    "df_final_btc.to_csv('final_btc_price.csv')"
   ]
  }
 ],
 "metadata": {
  "kernelspec": {
   "display_name": "Python 3",
   "language": "python",
   "name": "python3"
  },
  "language_info": {
   "codemirror_mode": {
    "name": "ipython",
    "version": 3
   },
   "file_extension": ".py",
   "mimetype": "text/x-python",
   "name": "python",
   "nbconvert_exporter": "python",
   "pygments_lexer": "ipython3",
   "version": "3.6.5"
  }
 },
 "nbformat": 4,
 "nbformat_minor": 2
}
