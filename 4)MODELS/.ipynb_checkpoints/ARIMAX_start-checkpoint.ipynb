{
 "cells": [
  {
   "cell_type": "code",
   "execution_count": 1,
   "metadata": {
    "collapsed": true
   },
   "outputs": [],
   "source": [
    "#OK I need to slice the data frame and then plot it. this is in blue\n",
    "#I need to the plot the search frequency, this is in orange"
   ]
  },
  {
   "cell_type": "code",
   "execution_count": 153,
   "metadata": {
    "collapsed": true
   },
   "outputs": [],
   "source": [
    "import matplotlib.pyplot as plt\n",
    "import requests\n",
    "import json\n",
    "import pandas as pd\n",
    "from pandas.io.json import json_normalize\n",
    "import datetime\n",
    "from pytrends.request import TrendReq\n",
    "%matplotlib inline"
   ]
  },
  {
   "cell_type": "markdown",
   "metadata": {},
   "source": [
    "##### following API worked\n",
    "pip install cryptocmd required"
   ]
  },
  {
   "cell_type": "code",
   "execution_count": 154,
   "metadata": {
    "collapsed": true
   },
   "outputs": [],
   "source": [
    "from cryptocmd import CmcScraper\n",
    "\n",
    "# initialise scraper\n",
    "\n",
    "###scraper = CmcScraper('ETH', '15-11-2017', '21-3-2018')\n",
    "\n",
    "# get data as list of list\n",
    "\n",
    "####headers, data = scraper.get_data()\n",
    "\n",
    "# export the data to csv\n",
    "\n",
    "####scraper.export_csv()\n",
    "\n",
    "df = pd.read_csv('ETH_15-11-2017_21-03-2018.csv', dtype=str)\n",
    "\n",
    "# get dataframe for the data\n",
    "#df = scraper.get_dataframe()"
   ]
  },
  {
   "cell_type": "code",
   "execution_count": 155,
   "metadata": {
    "scrolled": true
   },
   "outputs": [
    {
     "name": "stdout",
     "output_type": "stream",
     "text": [
      "          Date    Open    High     Low   Close      Volume   Market Cap\n",
      "0   21-03-2018   559.1  589.61  550.57  561.73  1781270000  54967300000\n",
      "1   20-03-2018  556.72  567.09   521.2  557.17  1833680000  54722100000\n",
      "2   19-03-2018  546.63   558.1  519.12  556.73  2046790000  53718600000\n",
      "3   18-03-2018  551.64  551.64  460.09  538.64  2685500000  54200100000\n",
      "4   17-03-2018  601.68  609.15   549.1  552.78  1267810000  59104200000\n",
      "5   16-03-2018  611.78  623.17  587.86  601.67  1417350000  60083700000\n",
      "6   15-03-2018  614.84  620.62   579.5   611.3  1770460000  60371800000\n",
      "7   14-03-2018  691.22  702.78   594.1  614.29  1810560000  67857600000\n",
      "8   13-03-2018  698.15  713.74  682.35  690.83  1425960000  68524000000\n",
      "9   12-03-2018  724.41  742.51  683.27  699.83  1765000000  71086000000\n",
      "10  11-03-2018  685.31  735.83  668.12  723.34  1562680000  67235700000\n",
      "11  10-03-2018  730.16  748.03   682.7  686.89  1532960000  71620700000\n",
      "12  09-03-2018   702.2  729.16  648.11  728.92  2233020000  68863600000\n",
      "13  08-03-2018  752.57  773.77  696.17   704.6  1891640000  73788400000\n",
      "14  07-03-2018  816.27  825.61  726.55  752.83  2175420000  80017300000\n"
     ]
    }
   ],
   "source": [
    "print(df[0:15]) #debugging"
   ]
  },
  {
   "cell_type": "markdown",
   "metadata": {},
   "source": [
    "#here do the conversion \n",
    "for date in x:\n",
    "    nums = date.split('-')\n",
    "    print('{:0>2s}-{:0>2s}-{:0>4s}'.format(nums[1], nums[0], nums[2]))"
   ]
  },
  {
   "cell_type": "code",
   "execution_count": 156,
   "metadata": {},
   "outputs": [
    {
     "name": "stdout",
     "output_type": "stream",
     "text": [
      "03-21-2018\n",
      "03-20-2018\n",
      "03-19-2018\n",
      "03-18-2018\n",
      "03-17-2018\n"
     ]
    }
   ],
   "source": [
    "for date in df['Date'][0:5]:\n",
    "    nums = date.split('-')\n",
    "    stuff = '{}-{}-{}'.format(nums[1], nums[0], nums[2])\n",
    "    print(stuff)"
   ]
  },
  {
   "cell_type": "markdown",
   "metadata": {},
   "source": [
    "do list comprehension (also learn string comprehension!!)\n"
   ]
  },
  {
   "cell_type": "code",
   "execution_count": 157,
   "metadata": {
    "collapsed": true
   },
   "outputs": [],
   "source": [
    "def convert_date(date_string):\n",
    "    nums = date_string.split('-')\n",
    "    alt_format = '{}-{}-{}'.format(nums[1], nums[0], nums[2])\n",
    "    #alt_format = datetime.datetime(int(nums[2]), int(nums[0]), int(nums[1]), 0, 0)\n",
    "    return alt_format\n",
    "\n",
    "df['Date'] = df['Date'].apply(convert_date)\n",
    "#df['Date']\n",
    "\n"
   ]
  },
  {
   "cell_type": "code",
   "execution_count": 158,
   "metadata": {
    "collapsed": true
   },
   "outputs": [],
   "source": [
    "df['Date'] = pd.to_datetime(df['Date'],infer_datetime_format=True)"
   ]
  },
  {
   "cell_type": "code",
   "execution_count": 159,
   "metadata": {},
   "outputs": [
    {
     "data": {
      "text/html": [
       "<div>\n",
       "<style>\n",
       "    .dataframe thead tr:only-child th {\n",
       "        text-align: right;\n",
       "    }\n",
       "\n",
       "    .dataframe thead th {\n",
       "        text-align: left;\n",
       "    }\n",
       "\n",
       "    .dataframe tbody tr th {\n",
       "        vertical-align: top;\n",
       "    }\n",
       "</style>\n",
       "<table border=\"1\" class=\"dataframe\">\n",
       "  <thead>\n",
       "    <tr style=\"text-align: right;\">\n",
       "      <th></th>\n",
       "      <th>Date</th>\n",
       "      <th>Open</th>\n",
       "      <th>High</th>\n",
       "      <th>Low</th>\n",
       "      <th>Close</th>\n",
       "      <th>Volume</th>\n",
       "      <th>Market Cap</th>\n",
       "    </tr>\n",
       "  </thead>\n",
       "  <tbody>\n",
       "    <tr>\n",
       "      <th>0</th>\n",
       "      <td>2018-03-21</td>\n",
       "      <td>559.1</td>\n",
       "      <td>589.61</td>\n",
       "      <td>550.57</td>\n",
       "      <td>561.73</td>\n",
       "      <td>1781270000</td>\n",
       "      <td>54967300000</td>\n",
       "    </tr>\n",
       "    <tr>\n",
       "      <th>1</th>\n",
       "      <td>2018-03-20</td>\n",
       "      <td>556.72</td>\n",
       "      <td>567.09</td>\n",
       "      <td>521.2</td>\n",
       "      <td>557.17</td>\n",
       "      <td>1833680000</td>\n",
       "      <td>54722100000</td>\n",
       "    </tr>\n",
       "    <tr>\n",
       "      <th>2</th>\n",
       "      <td>2018-03-19</td>\n",
       "      <td>546.63</td>\n",
       "      <td>558.1</td>\n",
       "      <td>519.12</td>\n",
       "      <td>556.73</td>\n",
       "      <td>2046790000</td>\n",
       "      <td>53718600000</td>\n",
       "    </tr>\n",
       "    <tr>\n",
       "      <th>3</th>\n",
       "      <td>2018-03-18</td>\n",
       "      <td>551.64</td>\n",
       "      <td>551.64</td>\n",
       "      <td>460.09</td>\n",
       "      <td>538.64</td>\n",
       "      <td>2685500000</td>\n",
       "      <td>54200100000</td>\n",
       "    </tr>\n",
       "    <tr>\n",
       "      <th>4</th>\n",
       "      <td>2018-03-17</td>\n",
       "      <td>601.68</td>\n",
       "      <td>609.15</td>\n",
       "      <td>549.1</td>\n",
       "      <td>552.78</td>\n",
       "      <td>1267810000</td>\n",
       "      <td>59104200000</td>\n",
       "    </tr>\n",
       "  </tbody>\n",
       "</table>\n",
       "</div>"
      ],
      "text/plain": [
       "        Date    Open    High     Low   Close      Volume   Market Cap\n",
       "0 2018-03-21   559.1  589.61  550.57  561.73  1781270000  54967300000\n",
       "1 2018-03-20  556.72  567.09   521.2  557.17  1833680000  54722100000\n",
       "2 2018-03-19  546.63   558.1  519.12  556.73  2046790000  53718600000\n",
       "3 2018-03-18  551.64  551.64  460.09  538.64  2685500000  54200100000\n",
       "4 2018-03-17  601.68  609.15   549.1  552.78  1267810000  59104200000"
      ]
     },
     "execution_count": 159,
     "metadata": {},
     "output_type": "execute_result"
    }
   ],
   "source": [
    "df[0:5]"
   ]
  },
  {
   "cell_type": "markdown",
   "metadata": {},
   "source": [
    "this gave error:\n",
    "\n",
    "def convert_date(date_string):\n",
    "    nums1 = date_string.split('-')\n",
    "    nums2 = '{}-{}-{}'.format(nums1[1], nums1[0], nums1[2])\n",
    "    alt_format = datetime.datetime(int(nums2[2]), int(nums2[0]), int(nums2[1]), 0, 0)\n",
    "    return alt_format\n",
    "\n",
    "df['Date'] = df['Date'].apply(convert_date)\n",
    "#df['Date']\n"
   ]
  },
  {
   "cell_type": "code",
   "execution_count": 160,
   "metadata": {
    "collapsed": true
   },
   "outputs": [],
   "source": [
    "df = df.sort_values('Date')"
   ]
  },
  {
   "cell_type": "code",
   "execution_count": 161,
   "metadata": {},
   "outputs": [
    {
     "data": {
      "text/html": [
       "<div>\n",
       "<style>\n",
       "    .dataframe thead tr:only-child th {\n",
       "        text-align: right;\n",
       "    }\n",
       "\n",
       "    .dataframe thead th {\n",
       "        text-align: left;\n",
       "    }\n",
       "\n",
       "    .dataframe tbody tr th {\n",
       "        vertical-align: top;\n",
       "    }\n",
       "</style>\n",
       "<table border=\"1\" class=\"dataframe\">\n",
       "  <thead>\n",
       "    <tr style=\"text-align: right;\">\n",
       "      <th></th>\n",
       "      <th>Date</th>\n",
       "      <th>Open</th>\n",
       "      <th>High</th>\n",
       "      <th>Low</th>\n",
       "      <th>Close</th>\n",
       "      <th>Volume</th>\n",
       "      <th>Market Cap</th>\n",
       "    </tr>\n",
       "  </thead>\n",
       "  <tbody>\n",
       "    <tr>\n",
       "      <th>126</th>\n",
       "      <td>2017-11-15</td>\n",
       "      <td>337.96</td>\n",
       "      <td>340.91</td>\n",
       "      <td>329.81</td>\n",
       "      <td>333.36</td>\n",
       "      <td>722666000</td>\n",
       "      <td>32353200000</td>\n",
       "    </tr>\n",
       "    <tr>\n",
       "      <th>125</th>\n",
       "      <td>2017-11-16</td>\n",
       "      <td>333.44</td>\n",
       "      <td>336.16</td>\n",
       "      <td>323.61</td>\n",
       "      <td>330.92</td>\n",
       "      <td>797254000</td>\n",
       "      <td>31927300000</td>\n",
       "    </tr>\n",
       "    <tr>\n",
       "      <th>124</th>\n",
       "      <td>2017-11-17</td>\n",
       "      <td>330.17</td>\n",
       "      <td>334.96</td>\n",
       "      <td>327.52</td>\n",
       "      <td>332.39</td>\n",
       "      <td>621733000</td>\n",
       "      <td>31620300000</td>\n",
       "    </tr>\n",
       "    <tr>\n",
       "      <th>123</th>\n",
       "      <td>2017-11-18</td>\n",
       "      <td>331.98</td>\n",
       "      <td>349.62</td>\n",
       "      <td>327.69</td>\n",
       "      <td>347.61</td>\n",
       "      <td>649639000</td>\n",
       "      <td>31800700000</td>\n",
       "    </tr>\n",
       "    <tr>\n",
       "      <th>122</th>\n",
       "      <td>2017-11-19</td>\n",
       "      <td>347.4</td>\n",
       "      <td>371.29</td>\n",
       "      <td>344.74</td>\n",
       "      <td>354.39</td>\n",
       "      <td>1181530000</td>\n",
       "      <td>33284900000</td>\n",
       "    </tr>\n",
       "  </tbody>\n",
       "</table>\n",
       "</div>"
      ],
      "text/plain": [
       "          Date    Open    High     Low   Close      Volume   Market Cap\n",
       "126 2017-11-15  337.96  340.91  329.81  333.36   722666000  32353200000\n",
       "125 2017-11-16  333.44  336.16  323.61  330.92   797254000  31927300000\n",
       "124 2017-11-17  330.17  334.96  327.52  332.39   621733000  31620300000\n",
       "123 2017-11-18  331.98  349.62  327.69  347.61   649639000  31800700000\n",
       "122 2017-11-19   347.4  371.29  344.74  354.39  1181530000  33284900000"
      ]
     },
     "execution_count": 161,
     "metadata": {},
     "output_type": "execute_result"
    }
   ],
   "source": [
    "df[0:5]"
   ]
  },
  {
   "cell_type": "code",
   "execution_count": 162,
   "metadata": {},
   "outputs": [
    {
     "data": {
      "text/plain": [
       "Timestamp('2018-03-21 00:00:00')"
      ]
     },
     "execution_count": 162,
     "metadata": {},
     "output_type": "execute_result"
    }
   ],
   "source": [
    "df['Date'][0]"
   ]
  },
  {
   "cell_type": "code",
   "execution_count": 163,
   "metadata": {},
   "outputs": [
    {
     "data": {
      "text/plain": [
       "pandas._libs.tslib.Timestamp"
      ]
     },
     "execution_count": 163,
     "metadata": {},
     "output_type": "execute_result"
    }
   ],
   "source": [
    "type(df['Date'][0])"
   ]
  },
  {
   "cell_type": "markdown",
   "metadata": {},
   "source": [
    "### Candlestick"
   ]
  },
  {
   "cell_type": "code",
   "execution_count": 164,
   "metadata": {
    "collapsed": true
   },
   "outputs": [],
   "source": [
    "import matplotlib.pyplot as plt\n",
    "import requests\n",
    "import json\n",
    "import pandas as pd\n",
    "from pandas.io.json import json_normalize\n",
    "import datetime\n",
    "from pytrends.request import TrendReq\n",
    "%matplotlib inline"
   ]
  },
  {
   "cell_type": "code",
   "execution_count": 165,
   "metadata": {},
   "outputs": [
    {
     "data": {
      "text/html": [
       "<script>requirejs.config({paths: { 'plotly': ['https://cdn.plot.ly/plotly-latest.min']},});if(!window.Plotly) {{require(['plotly'],function(plotly) {window.Plotly=plotly;});}}</script>"
      ],
      "text/vnd.plotly.v1+html": [
       "<script>requirejs.config({paths: { 'plotly': ['https://cdn.plot.ly/plotly-latest.min']},});if(!window.Plotly) {{require(['plotly'],function(plotly) {window.Plotly=plotly;});}}</script>"
      ]
     },
     "metadata": {},
     "output_type": "display_data"
    }
   ],
   "source": [
    "import matplotlib.pyplot as plt\n",
    "import matplotlib\n",
    "import plotly.plotly as py\n",
    "import datetime as dt\n",
    "import matplotlib.dates as mdates \n",
    "plt.style.use('fivethirtyeight')\n",
    "import plotly.graph_objs as go\n",
    "from plotly.offline import download_plotlyjs,init_notebook_mode,plot,iplot\n",
    "init_notebook_mode(connected=True)\n",
    "import seaborn as sns \n",
    "import numpy as np\n",
    "import pandas as pd\n",
    "import numpy as np\n",
    "import random as rnd\n",
    "import re\n",
    "import io\n",
    "from sklearn.metrics import confusion_matrix\n",
    "import seaborn as sns\n",
    "import matplotlib.gridspec as gridspec\n",
    "from sklearn.preprocessing import StandardScaler\n",
    "from numpy import genfromtxt\n",
    "from scipy.stats import multivariate_normal\n",
    "from sklearn.metrics import f1_score\n",
    "from sklearn.metrics import recall_score , average_precision_score\n",
    "from sklearn.metrics import precision_score, precision_recall_curve\n",
    "%matplotlib inline\n",
    "\n",
    "#from mpl_toolkits.basemap import Basemap\n",
    "from matplotlib import animation, rc\n",
    "from IPython.display import HTML\n",
    "\n",
    "import warnings\n",
    "warnings.filterwarnings('ignore')\n",
    "\n",
    "import base64\n",
    "from IPython.display import HTML, display\n",
    "import warnings\n",
    "warnings.filterwarnings('ignore')\n",
    "from scipy.misc import imread\n",
    "import codecs"
   ]
  },
  {
   "cell_type": "code",
   "execution_count": 166,
   "metadata": {},
   "outputs": [
    {
     "data": {
      "text/plain": [
       "126   2017-11-15\n",
       "125   2017-11-16\n",
       "124   2017-11-17\n",
       "123   2017-11-18\n",
       "122   2017-11-19\n",
       "Name: Date, dtype: datetime64[ns]"
      ]
     },
     "execution_count": 166,
     "metadata": {},
     "output_type": "execute_result"
    }
   ],
   "source": [
    "df['Date'][0:5]"
   ]
  },
  {
   "cell_type": "code",
   "execution_count": 167,
   "metadata": {
    "collapsed": true
   },
   "outputs": [],
   "source": [
    "import datetime as dt\n",
    "import time\n",
    "from matplotlib import dates\n",
    "\n",
    "#Bitcoin = Allcrypto[Allcrypto['ranknow'] == 1]\n",
    "#Ethereum = Allcrypto[Allcrypto['ranknow'] == 2]\n",
    "#Ripple  = Allcrypto[Allcrypto['ranknow'] == 3]\n",
    "import mpl_finance\n",
    "from mpl_finance import candlestick_ohlc\n",
    "#from matplotlib.finance import candlestick_ohalc\n",
    "#BitcoinOHLC = Bitcoin[['Date','Open','High','Low','Close']]\n",
    "EthereumOHLC = df[['Date','Open','High','Low','Close']]\n",
    "#RippleOHLC = Ripple[['date','open','high','low','close']]\n",
    "\n",
    "import matplotlib.dates as mdates\n",
    "#BitcoinOHLC['date'] = pd.to_datetime(BitcoinOHLC['date'])\n",
    "#BitcoinOHLC['date'] = mdates.date2num(BitcoinOHLC['date'].astype(dt.date))\n",
    "#RippleOHLC['date'] = pd.to_datetime(RippleOHLC['date'])\n",
    "#RippleOHLC['date'] = mdates.date2num(RippleOHLC['date'].astype(dt.date))\n",
    "\n",
    "\n",
    "# ok, the below line is what keeps it in datetime format but the candlestick plot does not like this format\n",
    "# it wants integer!! toggle this line on vs line underneath that on\n",
    "# FOR ARIMA MODEL we are not using the plot we'll use datetime\n",
    "\n",
    "EthereumOHLC['Date'] = pd.to_datetime(EthereumOHLC['Date'])\n",
    "#EthereumOHLC['Date'] = mdates.date2num(EthereumOHLC['Date'].astype(dt.date))\n",
    "\n",
    "EthereumOHLC['Open'] = EthereumOHLC['Open'].convert_objects(convert_numeric=True)\n",
    "EthereumOHLC['High'] = EthereumOHLC['High'].convert_objects(convert_numeric=True)\n",
    "EthereumOHLC['Low'] = EthereumOHLC['Low'].convert_objects(convert_numeric=True)\n",
    "EthereumOHLC['Close'] = EthereumOHLC['Close'].convert_objects(convert_numeric=True)\n",
    "\n",
    "\n"
   ]
  },
  {
   "cell_type": "code",
   "execution_count": 168,
   "metadata": {},
   "outputs": [
    {
     "data": {
      "text/plain": [
       "pandas.core.frame.DataFrame"
      ]
     },
     "execution_count": 168,
     "metadata": {},
     "output_type": "execute_result"
    }
   ],
   "source": [
    "type(EthereumOHLC)"
   ]
  },
  {
   "cell_type": "code",
   "execution_count": 169,
   "metadata": {
    "collapsed": true
   },
   "outputs": [],
   "source": [
    "EthereumOHLC.to_csv('formatted_datetime_eth_pricedata.csv')"
   ]
  },
  {
   "cell_type": "code",
   "execution_count": 170,
   "metadata": {},
   "outputs": [
    {
     "data": {
      "text/plain": [
       "126   2017-11-15\n",
       "125   2017-11-16\n",
       "124   2017-11-17\n",
       "123   2017-11-18\n",
       "122   2017-11-19\n",
       "Name: Date, dtype: datetime64[ns]"
      ]
     },
     "execution_count": 170,
     "metadata": {},
     "output_type": "execute_result"
    }
   ],
   "source": [
    "EthereumOHLC['Date'][0:5]"
   ]
  },
  {
   "cell_type": "code",
   "execution_count": 171,
   "metadata": {},
   "outputs": [
    {
     "data": {
      "text/plain": [
       "pandas.core.series.Series"
      ]
     },
     "execution_count": 171,
     "metadata": {},
     "output_type": "execute_result"
    }
   ],
   "source": [
    "type(EthereumOHLC['Date'])"
   ]
  },
  {
   "cell_type": "markdown",
   "metadata": {},
   "source": [
    "### Now for the ARIMA model, since we have our data nicely formatted."
   ]
  },
  {
   "cell_type": "code",
   "execution_count": 172,
   "metadata": {
    "collapsed": true
   },
   "outputs": [],
   "source": [
    "import pandas\n",
    "import matplotlib.mlab as mlab\n",
    "import matplotlib.pyplot as plt\n",
    "import numpy as np\n",
    "import math\n",
    "from statsmodels.tsa.stattools import acf, pacf\n",
    "import statsmodels.tsa.stattools as ts\n",
    "from statsmodels.tsa.arima_model import ARIMA"
   ]
  },
  {
   "cell_type": "code",
   "execution_count": 173,
   "metadata": {
    "collapsed": true
   },
   "outputs": [],
   "source": [
    "variables = pandas.read_csv('formatted_datetime_eth_pricedata.csv')\n",
    "variables = variables[['Date','Open','High','Low','Close']]\n",
    "price = variables['Close']\n",
    "date = variables['Date']"
   ]
  },
  {
   "cell_type": "code",
   "execution_count": 224,
   "metadata": {},
   "outputs": [
    {
     "name": "stdout",
     "output_type": "stream",
     "text": [
      "RangeIndex(start=0, stop=127, step=1)\n"
     ]
    }
   ],
   "source": [
    "print(price.index)"
   ]
  },
  {
   "cell_type": "code",
   "execution_count": 225,
   "metadata": {
    "collapsed": true
   },
   "outputs": [],
   "source": [
    "price_series = pd.Series(price.values)\n",
    "price_series.index = date"
   ]
  },
  {
   "cell_type": "code",
   "execution_count": 227,
   "metadata": {},
   "outputs": [
    {
     "data": {
      "text/plain": [
       "Date\n",
       "2017-11-15    333.36\n",
       "2017-11-16    330.92\n",
       "2017-11-17    332.39\n",
       "2017-11-18    347.61\n",
       "2017-11-19    354.39\n",
       "dtype: float64"
      ]
     },
     "execution_count": 227,
     "metadata": {},
     "output_type": "execute_result"
    }
   ],
   "source": [
    "price_series[0:5]"
   ]
  },
  {
   "cell_type": "code",
   "execution_count": 228,
   "metadata": {},
   "outputs": [
    {
     "data": {
      "text/plain": [
       "pandas.core.series.Series"
      ]
     },
     "execution_count": 228,
     "metadata": {},
     "output_type": "execute_result"
    }
   ],
   "source": [
    "type(price_series)"
   ]
  },
  {
   "cell_type": "code",
   "execution_count": 174,
   "metadata": {},
   "outputs": [
    {
     "data": {
      "text/html": [
       "<div>\n",
       "<style>\n",
       "    .dataframe thead tr:only-child th {\n",
       "        text-align: right;\n",
       "    }\n",
       "\n",
       "    .dataframe thead th {\n",
       "        text-align: left;\n",
       "    }\n",
       "\n",
       "    .dataframe tbody tr th {\n",
       "        vertical-align: top;\n",
       "    }\n",
       "</style>\n",
       "<table border=\"1\" class=\"dataframe\">\n",
       "  <thead>\n",
       "    <tr style=\"text-align: right;\">\n",
       "      <th></th>\n",
       "      <th>Date</th>\n",
       "      <th>Open</th>\n",
       "      <th>High</th>\n",
       "      <th>Low</th>\n",
       "      <th>Close</th>\n",
       "    </tr>\n",
       "  </thead>\n",
       "  <tbody>\n",
       "    <tr>\n",
       "      <th>0</th>\n",
       "      <td>2017-11-15</td>\n",
       "      <td>337.96</td>\n",
       "      <td>340.91</td>\n",
       "      <td>329.81</td>\n",
       "      <td>333.36</td>\n",
       "    </tr>\n",
       "    <tr>\n",
       "      <th>1</th>\n",
       "      <td>2017-11-16</td>\n",
       "      <td>333.44</td>\n",
       "      <td>336.16</td>\n",
       "      <td>323.61</td>\n",
       "      <td>330.92</td>\n",
       "    </tr>\n",
       "    <tr>\n",
       "      <th>2</th>\n",
       "      <td>2017-11-17</td>\n",
       "      <td>330.17</td>\n",
       "      <td>334.96</td>\n",
       "      <td>327.52</td>\n",
       "      <td>332.39</td>\n",
       "    </tr>\n",
       "    <tr>\n",
       "      <th>3</th>\n",
       "      <td>2017-11-18</td>\n",
       "      <td>331.98</td>\n",
       "      <td>349.62</td>\n",
       "      <td>327.69</td>\n",
       "      <td>347.61</td>\n",
       "    </tr>\n",
       "    <tr>\n",
       "      <th>4</th>\n",
       "      <td>2017-11-19</td>\n",
       "      <td>347.40</td>\n",
       "      <td>371.29</td>\n",
       "      <td>344.74</td>\n",
       "      <td>354.39</td>\n",
       "    </tr>\n",
       "  </tbody>\n",
       "</table>\n",
       "</div>"
      ],
      "text/plain": [
       "         Date    Open    High     Low   Close\n",
       "0  2017-11-15  337.96  340.91  329.81  333.36\n",
       "1  2017-11-16  333.44  336.16  323.61  330.92\n",
       "2  2017-11-17  330.17  334.96  327.52  332.39\n",
       "3  2017-11-18  331.98  349.62  327.69  347.61\n",
       "4  2017-11-19  347.40  371.29  344.74  354.39"
      ]
     },
     "execution_count": 174,
     "metadata": {},
     "output_type": "execute_result"
    }
   ],
   "source": [
    "variables[0:5]"
   ]
  },
  {
   "cell_type": "code",
   "execution_count": 175,
   "metadata": {},
   "outputs": [
    {
     "data": {
      "image/png": "[encoded data removed]",
      "text/plain": [
       "<Figure size 432x288 with 1 Axes>"
      ]
     },
     "metadata": {},
     "output_type": "display_data"
    }
   ],
   "source": [
    "lnprice=np.log(price)\n",
    "lnprice\n",
    "plt.plot(lnprice)\n",
    "plt.show()"
   ]
  },
  {
   "cell_type": "code",
   "execution_count": 176,
   "metadata": {},
   "outputs": [
    {
     "data": {
      "image/png": "[encoded data removed]",
      "text/plain": [
       "<Figure size 432x288 with 1 Axes>"
      ]
     },
     "metadata": {},
     "output_type": "display_data"
    }
   ],
   "source": [
    "acf_1 =  acf(lnprice)[1:20]\n",
    "plt.plot(acf_1)\n",
    "plt.show()"
   ]
  },
  {
   "cell_type": "code",
   "execution_count": 177,
   "metadata": {},
   "outputs": [
    {
     "data": {
      "text/plain": [
       "<matplotlib.axes._subplots.AxesSubplot at 0x11470bba8>"
      ]
     },
     "execution_count": 177,
     "metadata": {},
     "output_type": "execute_result"
    },
    {
     "data": {
      "image/png": "[encoded data removed]",
      "text/plain": [
       "<Figure size 432x288 with 1 Axes>"
      ]
     },
     "metadata": {},
     "output_type": "display_data"
    }
   ],
   "source": [
    "test_df = pandas.DataFrame([acf_1]).T\n",
    "test_df.columns = ['Pandas Autocorrelation']\n",
    "test_df.index += 1\n",
    "test_df.plot(kind='bar')"
   ]
  },
  {
   "cell_type": "code",
   "execution_count": 178,
   "metadata": {},
   "outputs": [
    {
     "data": {
      "image/png": "[encoded data removed]",
      "text/plain": [
       "<Figure size 432x288 with 1 Axes>"
      ]
     },
     "metadata": {},
     "output_type": "display_data"
    }
   ],
   "source": [
    "pacf_1 =  pacf(lnprice)[1:20]\n",
    "plt.plot(pacf_1)\n",
    "plt.show()"
   ]
  },
  {
   "cell_type": "code",
   "execution_count": 179,
   "metadata": {},
   "outputs": [
    {
     "data": {
      "text/plain": [
       "(-2.150022903769058,\n",
       " 0.22488132404830247,\n",
       " 0,\n",
       " 126,\n",
       " {'1%': -3.4833462346078936,\n",
       "  '10%': -2.5791564575459813,\n",
       "  '5%': -2.8847655969877666},\n",
       " -314.9399338264909)"
      ]
     },
     "execution_count": 179,
     "metadata": {},
     "output_type": "execute_result"
    },
    {
     "data": {
      "image/png": "[encoded data removed]",
      "text/plain": [
       "<Figure size 432x288 with 1 Axes>"
      ]
     },
     "metadata": {},
     "output_type": "display_data"
    }
   ],
   "source": [
    "test_df = pandas.DataFrame([pacf_1]).T\n",
    "test_df.columns = ['Pandas Partial Autocorrelation']\n",
    "test_df.index += 1\n",
    "test_df.plot(kind='bar')\n",
    "result = ts.adfuller(lnprice, 1)\n",
    "result"
   ]
  },
  {
   "cell_type": "markdown",
   "metadata": {
    "collapsed": true
   },
   "source": [
    "we can see we have have an AR(1) stationary proces. (one with a constant mean, variance, and autocorrelation), and we see that the price plot now shows a stationary process."
   ]
  },
  {
   "cell_type": "code",
   "execution_count": 180,
   "metadata": {},
   "outputs": [
    {
     "data": {
      "image/png": "[encoded data removed]",
      "text/plain": [
       "<Figure size 432x288 with 1 Axes>"
      ]
     },
     "metadata": {},
     "output_type": "display_data"
    }
   ],
   "source": [
    "lnprice_diff=lnprice-lnprice.shift()\n",
    "diff=lnprice_diff.dropna()\n",
    "acf_1_diff =  acf(diff)[1:20]\n",
    "test_df = pandas.DataFrame([acf_1_diff]).T\n",
    "test_df.columns = ['First Difference Autocorrelation']\n",
    "test_df.index += 1\n",
    "test_df.plot(kind='bar')\n",
    "pacf_1_diff =  pacf(diff)[1:20]\n",
    "plt.plot(pacf_1_diff)\n",
    "plt.show()"
   ]
  },
  {
   "cell_type": "markdown",
   "metadata": {},
   "source": [
    "## From notebook"
   ]
  },
  {
   "cell_type": "code",
   "execution_count": 230,
   "metadata": {
    "collapsed": true
   },
   "outputs": [],
   "source": [
    "#lnprice = lnprice[1:20]\n",
    "#price_matrix=lnprice.as_matrix()\n",
    "price_matrix = price_series"
   ]
  },
  {
   "cell_type": "code",
   "execution_count": 231,
   "metadata": {},
   "outputs": [
    {
     "data": {
      "text/plain": [
       "pandas.core.series.Series"
      ]
     },
     "execution_count": 231,
     "metadata": {},
     "output_type": "execute_result"
    }
   ],
   "source": [
    "type(price_matrix)"
   ]
  },
  {
   "cell_type": "code",
   "execution_count": 232,
   "metadata": {},
   "outputs": [
    {
     "data": {
      "text/plain": [
       "(127,)"
      ]
     },
     "execution_count": 232,
     "metadata": {},
     "output_type": "execute_result"
    }
   ],
   "source": [
    "price_matrix.shape"
   ]
  },
  {
   "cell_type": "code",
   "execution_count": 233,
   "metadata": {},
   "outputs": [
    {
     "data": {
      "text/plain": [
       "pandas.core.series.Series"
      ]
     },
     "execution_count": 233,
     "metadata": {},
     "output_type": "execute_result"
    }
   ],
   "source": [
    "type(price_matrix)"
   ]
  },
  {
   "cell_type": "code",
   "execution_count": 234,
   "metadata": {
    "collapsed": true
   },
   "outputs": [],
   "source": [
    "#price_matrix = pd.Series(price_matrix)"
   ]
  },
  {
   "cell_type": "code",
   "execution_count": 235,
   "metadata": {},
   "outputs": [],
   "source": [
    "#need to reindex to dates\n",
    "#price_matrix = price_matrix.set_index(EthereumOHLC['Date'])\n",
    "#price_matrix.columns = [\"lnprice\"]"
   ]
  },
  {
   "cell_type": "code",
   "execution_count": 236,
   "metadata": {},
   "outputs": [
    {
     "data": {
      "text/plain": [
       "Date\n",
       "2017-11-15    333.36\n",
       "2017-11-16    330.92\n",
       "2017-11-17    332.39\n",
       "2017-11-18    347.61\n",
       "2017-11-19    354.39\n",
       "dtype: float64"
      ]
     },
     "execution_count": 236,
     "metadata": {},
     "output_type": "execute_result"
    }
   ],
   "source": [
    "price_matrix[0:5]"
   ]
  },
  {
   "cell_type": "code",
   "execution_count": 237,
   "metadata": {},
   "outputs": [
    {
     "name": "stdout",
     "output_type": "stream",
     "text": [
      "                              ARMA Model Results                              \n",
      "==============================================================================\n",
      "Dep. Variable:                      y   No. Observations:                  127\n",
      "Model:                     ARMA(1, 0)   Log Likelihood                -699.185\n",
      "Method:                       css-mle   S.D. of innovations             58.811\n",
      "Date:                Thu, 19 Apr 2018   AIC                           1404.370\n",
      "Time:                        10:19:41   BIC                           1412.902\n",
      "Sample:                    11-15-2017   HQIC                          1407.837\n",
      "                         - 03-21-2018                                         \n",
      "==============================================================================\n",
      "                 coef    std err          z      P>|z|      [0.025      0.975]\n",
      "------------------------------------------------------------------------------\n",
      "const        650.6504    184.175      3.533      0.001     289.673    1011.627\n",
      "ar.L1.y        0.9767      0.017     57.645      0.000       0.944       1.010\n",
      "                                    Roots                                    \n",
      "=============================================================================\n",
      "                 Real           Imaginary           Modulus         Frequency\n",
      "-----------------------------------------------------------------------------\n",
      "AR.1            1.0238           +0.0000j            1.0238            0.0000\n",
      "-----------------------------------------------------------------------------\n"
     ]
    }
   ],
   "source": [
    "model = ARIMA(price_matrix, order=(1,0,0))\n",
    "model_fit = model.fit(disp=0)\n",
    "print(model_fit.summary())"
   ]
  },
  {
   "cell_type": "code",
   "execution_count": 238,
   "metadata": {},
   "outputs": [
    {
     "data": {
      "text/plain": [
       "2018-03-17    6.262141e+261\n",
       "2018-03-18    1.142653e+241\n",
       "2018-03-19    1.147683e+235\n",
       "2018-03-20    5.413496e+242\n",
       "2018-03-21    8.319991e+242\n",
       "2018-03-22    7.152274e+244\n",
       "Freq: D, dtype: float64"
      ]
     },
     "execution_count": 238,
     "metadata": {},
     "output_type": "execute_result"
    }
   ],
   "source": [
    "predictions=model_fit.predict(122, 127)\n",
    "#predictions=model_fit.predict(122, 127, typ='levels')\n",
    "predictions\n",
    "predictionsadjusted=np.exp(predictions)\n",
    "predictionsadjusted"
   ]
  },
  {
   "cell_type": "markdown",
   "metadata": {},
   "source": [
    "https://stackoverflow.com/questions/27304955/why-is-unexpected-keyword-argument-typ-error-thrown"
   ]
  },
  {
   "cell_type": "code",
   "execution_count": 239,
   "metadata": {
    "collapsed": true
   },
   "outputs": [],
   "source": [
    "#import arima_utils\n",
    "from arima_utils import arima_gridsearch_cv\n",
    "from sklearn.model_selection import TimeSeriesSplit\n",
    "import itertools\n",
    "import statsmodels.api as sm"
   ]
  },
  {
   "cell_type": "code",
   "execution_count": 240,
   "metadata": {
    "collapsed": true
   },
   "outputs": [],
   "source": [
    "def auto_arima(param_max=1,series=pd.Series(),verbose=True):\n",
    "    # Define the p, d and q parameters to take any value \n",
    "    # between 0 and param_max\n",
    "    p = d = q = range(0, param_max+1)\n",
    "\n",
    "    # Generate all different combinations of seasonal p, d and q triplets\n",
    "    pdq = [(x[0], x[1], x[2]) for x in list(itertools.product(p, d, q))]\n",
    "    \n",
    "    model_resuls = []\n",
    "    best_model = {}\n",
    "    min_aic = 10000000\n",
    "    for param in pdq:\n",
    "        try:\n",
    "            mod = sm.tsa.ARIMA(series, order=param)\n",
    "\n",
    "            results = mod.fit()\n",
    "            \n",
    "            if verbose:\n",
    "                print('ARIMA{}- AIC:{}'.format(param, results.aic))\n",
    "            model_resuls.append({'aic':results.aic,\n",
    "                                 'params':param,\n",
    "                                 'model_obj':results})\n",
    "            if min_aic>results.aic:\n",
    "                best_model={'aic':results.aic,\n",
    "                            'params':param,\n",
    "                            'model_obj':results}\n",
    "                min_aic = results.aic\n",
    "        except Exception as ex:\n",
    "            print(ex)\n",
    "    if verbose:\n",
    "        print(\"Best Model params:{} AIC:{}\".format(best_model['params'],\n",
    "              best_model['aic']))  \n",
    "        \n",
    "    return best_model, model_resuls"
   ]
  },
  {
   "cell_type": "markdown",
   "metadata": {},
   "source": [
    "##### definition of arima_gridsearch_cv, for reference"
   ]
  },
  {
   "cell_type": "code",
   "execution_count": 241,
   "metadata": {
    "collapsed": true
   },
   "outputs": [],
   "source": [
    "def arima_gridsearch_cv(series, cv_splits=2,verbose=True,show_plots=True):\n",
    "    # prepare train-test split object\n",
    "    tscv = TimeSeriesSplit(n_splits=cv_splits)\n",
    "    \n",
    "    # initialize variables\n",
    "    splits = []\n",
    "    best_models = []\n",
    "    all_models = []\n",
    "    i = 1\n",
    "    \n",
    "    # loop through each CV split\n",
    "    for train_index, test_index in tscv.split(series):\n",
    "        print(\"*\"*20)\n",
    "        print(\"Iteration {} of {}\".format(i,cv_splits))\n",
    "        i = i + 1\n",
    "        \n",
    "        # print train and test indices\n",
    "        if verbose:\n",
    "            print(\"TRAIN:\", train_index, \"TEST:\", test_index)\n",
    "        splits.append({'train':train_index,'test':test_index})\n",
    "        \n",
    "        # split train and test sets\n",
    "        train_series = series.ix[train_index]\n",
    "        test_series = series.ix[test_index]\n",
    "        \n",
    "        print(\"Train shape:{}, Test shape:{}\".format(train_series.shape,\n",
    "              test_series.shape))\n",
    "        \n",
    "        # perform auto arima\n",
    "        _best_model, _all_models = auto_arima(series=train_series)\n",
    "        best_models.append(_best_model)\n",
    "        all_models.append(_all_models)\n",
    "        \n",
    "        # display summary for best fitting model\n",
    "        if verbose:\n",
    "            print(_best_model['model_obj'].summary())\n",
    "        results = _best_model['model_obj']\n",
    "        \n",
    "        if show_plots:\n",
    "            # show residual plots\n",
    "            residuals = pd.DataFrame(results.resid)\n",
    "            residuals.plot()\n",
    "            plt.title('Residual Plot')\n",
    "            plt.show()\n",
    "            residuals.plot(kind='kde')\n",
    "            plt.title('KDE Plot')\n",
    "            plt.show()\n",
    "            print(residuals.describe())\n",
    "        \n",
    "            # show forecast plot\n",
    "            fig, ax = plt.subplots(figsize=(18, 4))\n",
    "            fig.autofmt_xdate()\n",
    "            ax = train_series.plot(ax=ax)\n",
    "            test_series.plot(ax=ax)\n",
    "            fig = results.plot_predict(test_series.index.min(), \n",
    "                                       test_series.index.max(), \n",
    "                                       dynamic=True,ax=ax,\n",
    "                                       plot_insample=False)\n",
    "            plt.title('Forecast Plot ')\n",
    "            plt.legend()\n",
    "            plt.show()\n",
    "\n",
    "            # show error plot\n",
    "            insample_fit = list(results.predict(train_series.index.min()+1, \n",
    "                                                train_series.index.max(),\n",
    "                                                typ='levels')) \n",
    "            plt.plot((np.exp(train_series.ix[1:].tolist())-\\\n",
    "                             np.exp(insample_fit)))\n",
    "            plt.title('Error Plot')\n",
    "            plt.show()\n",
    "    return {'cv_split_index':splits,\n",
    "            'all_models':all_models,\n",
    "            'best_models':best_models}"
   ]
  },
  {
   "cell_type": "code",
   "execution_count": 242,
   "metadata": {},
   "outputs": [
    {
     "name": "stdout",
     "output_type": "stream",
     "text": [
      "********************\n",
      "Iteration 1 of 5\n",
      "TRAIN: [ 0  1  2  3  4  5  6  7  8  9 10 11 12 13 14 15 16 17 18 19 20 21] TEST: [22 23 24 25 26 27 28 29 30 31 32 33 34 35 36 37 38 39 40 41 42]\n",
      "Train shape:(22,), Test shape:(21,)\n",
      "ARIMA(0, 0, 0)- AIC:242.67867344612745\n",
      "ARIMA(0, 0, 1)- AIC:226.33207701019637\n",
      "ARIMA(0, 1, 0)- AIC:192.78644398145468\n",
      "ARIMA(0, 1, 1)- AIC:194.3092565634489\n",
      "ARIMA(1, 0, 0)- AIC:205.64912175120662\n",
      "ARIMA(1, 0, 1)- AIC:206.4264160034918\n",
      "ARIMA(1, 1, 0)- AIC:194.4000015607204\n",
      "ARIMA(1, 1, 1)- AIC:196.2825337823295\n",
      "Best Model params:(0, 1, 0) AIC:192.78644398145468\n"
     ]
    },
    {
     "ename": "IndexError",
     "evalue": "list index out of range",
     "output_type": "error",
     "traceback": [
      "\u001b[0;31m---------------------------------------------------------------------------\u001b[0m",
      "\u001b[0;31mIndexError\u001b[0m                                Traceback (most recent call last)",
      "\u001b[0;32m<ipython-input-242-64d49c7413c2>\u001b[0m in \u001b[0;36m<module>\u001b[0;34m()\u001b[0m\n\u001b[0;32m----> 1\u001b[0;31m \u001b[0mresults_dict\u001b[0m \u001b[0;34m=\u001b[0m \u001b[0marima_gridsearch_cv\u001b[0m\u001b[0;34m(\u001b[0m\u001b[0mprice_matrix\u001b[0m\u001b[0;34m,\u001b[0m\u001b[0mcv_splits\u001b[0m\u001b[0;34m=\u001b[0m\u001b[0;36m5\u001b[0m\u001b[0;34m)\u001b[0m\u001b[0;34m\u001b[0m\u001b[0m\n\u001b[0m",
      "\u001b[0;32m<ipython-input-241-a85ff2af6099>\u001b[0m in \u001b[0;36marima_gridsearch_cv\u001b[0;34m(series, cv_splits, verbose, show_plots)\u001b[0m\n\u001b[1;32m     34\u001b[0m         \u001b[0;31m# display summary for best fitting model\u001b[0m\u001b[0;34m\u001b[0m\u001b[0;34m\u001b[0m\u001b[0m\n\u001b[1;32m     35\u001b[0m         \u001b[0;32mif\u001b[0m \u001b[0mverbose\u001b[0m\u001b[0;34m:\u001b[0m\u001b[0;34m\u001b[0m\u001b[0m\n\u001b[0;32m---> 36\u001b[0;31m             \u001b[0mprint\u001b[0m\u001b[0;34m(\u001b[0m\u001b[0m_best_model\u001b[0m\u001b[0;34m[\u001b[0m\u001b[0;34m'model_obj'\u001b[0m\u001b[0;34m]\u001b[0m\u001b[0;34m.\u001b[0m\u001b[0msummary\u001b[0m\u001b[0;34m(\u001b[0m\u001b[0;34m)\u001b[0m\u001b[0;34m)\u001b[0m\u001b[0;34m\u001b[0m\u001b[0m\n\u001b[0m\u001b[1;32m     37\u001b[0m         \u001b[0mresults\u001b[0m \u001b[0;34m=\u001b[0m \u001b[0m_best_model\u001b[0m\u001b[0;34m[\u001b[0m\u001b[0;34m'model_obj'\u001b[0m\u001b[0;34m]\u001b[0m\u001b[0;34m\u001b[0m\u001b[0m\n\u001b[1;32m     38\u001b[0m \u001b[0;34m\u001b[0m\u001b[0m\n",
      "\u001b[0;32m/Users/Alexandra/anaconda/lib/python3.6/site-packages/statsmodels/tsa/arima_model.py\u001b[0m in \u001b[0;36msummary\u001b[0;34m(self, alpha)\u001b[0m\n\u001b[1;32m   1622\u001b[0m         smry.add_table_2cols(self, gleft=top_left, gright=top_right,\n\u001b[1;32m   1623\u001b[0m                              title=title)\n\u001b[0;32m-> 1624\u001b[0;31m         \u001b[0msmry\u001b[0m\u001b[0;34m.\u001b[0m\u001b[0madd_table_params\u001b[0m\u001b[0;34m(\u001b[0m\u001b[0mself\u001b[0m\u001b[0;34m,\u001b[0m \u001b[0malpha\u001b[0m\u001b[0;34m=\u001b[0m\u001b[0malpha\u001b[0m\u001b[0;34m,\u001b[0m \u001b[0muse_t\u001b[0m\u001b[0;34m=\u001b[0m\u001b[0;32mFalse\u001b[0m\u001b[0;34m)\u001b[0m\u001b[0;34m\u001b[0m\u001b[0m\n\u001b[0m\u001b[1;32m   1625\u001b[0m \u001b[0;34m\u001b[0m\u001b[0m\n\u001b[1;32m   1626\u001b[0m         \u001b[0;31m# Make the roots table\u001b[0m\u001b[0;34m\u001b[0m\u001b[0;34m\u001b[0m\u001b[0m\n",
      "\u001b[0;32m/Users/Alexandra/anaconda/lib/python3.6/site-packages/statsmodels/iolib/summary.py\u001b[0m in \u001b[0;36madd_table_params\u001b[0;34m(self, res, yname, xname, alpha, use_t)\u001b[0m\n\u001b[1;32m    859\u001b[0m         \u001b[0;32mif\u001b[0m \u001b[0mres\u001b[0m\u001b[0;34m.\u001b[0m\u001b[0mparams\u001b[0m\u001b[0;34m.\u001b[0m\u001b[0mndim\u001b[0m \u001b[0;34m==\u001b[0m \u001b[0;36m1\u001b[0m\u001b[0;34m:\u001b[0m\u001b[0;34m\u001b[0m\u001b[0m\n\u001b[1;32m    860\u001b[0m             table = summary_params(res, yname=yname, xname=xname, alpha=alpha,\n\u001b[0;32m--> 861\u001b[0;31m                                    use_t=use_t)\n\u001b[0m\u001b[1;32m    862\u001b[0m         \u001b[0;32melif\u001b[0m \u001b[0mres\u001b[0m\u001b[0;34m.\u001b[0m\u001b[0mparams\u001b[0m\u001b[0;34m.\u001b[0m\u001b[0mndim\u001b[0m \u001b[0;34m==\u001b[0m \u001b[0;36m2\u001b[0m\u001b[0;34m:\u001b[0m\u001b[0;34m\u001b[0m\u001b[0m\n\u001b[1;32m    863\u001b[0m \u001b[0;31m#            _, table = summary_params_2dflat(res, yname=yname, xname=xname,\u001b[0m\u001b[0;34m\u001b[0m\u001b[0;34m\u001b[0m\u001b[0m\n",
      "\u001b[0;32m/Users/Alexandra/anaconda/lib/python3.6/site-packages/statsmodels/iolib/summary.py\u001b[0m in \u001b[0;36msummary_params\u001b[0;34m(results, yname, xname, alpha, use_t, skip_header, title)\u001b[0m\n\u001b[1;32m    479\u001b[0m                                   \u001b[0mparams_stubs\u001b[0m\u001b[0;34m,\u001b[0m\u001b[0;34m\u001b[0m\u001b[0m\n\u001b[1;32m    480\u001b[0m                                   \u001b[0mtitle\u001b[0m \u001b[0;34m=\u001b[0m \u001b[0mtitle\u001b[0m\u001b[0;34m,\u001b[0m\u001b[0;34m\u001b[0m\u001b[0m\n\u001b[0;32m--> 481\u001b[0;31m                                   \u001b[0mtxt_fmt\u001b[0m \u001b[0;34m=\u001b[0m \u001b[0mfmt_params\u001b[0m \u001b[0;31m#gen_fmt #fmt_2, #gen_fmt,\u001b[0m\u001b[0;34m\u001b[0m\u001b[0m\n\u001b[0m\u001b[1;32m    482\u001b[0m                                   )\n\u001b[1;32m    483\u001b[0m \u001b[0;34m\u001b[0m\u001b[0m\n",
      "\u001b[0;32m/Users/Alexandra/anaconda/lib/python3.6/site-packages/statsmodels/iolib/table.py\u001b[0m in \u001b[0;36m__init__\u001b[0;34m(self, data, headers, stubs, title, datatypes, csv_fmt, txt_fmt, ltx_fmt, html_fmt, celltype, rowtype, **fmt_dict)\u001b[0m\n\u001b[1;32m    184\u001b[0m         \"\"\"\n\u001b[1;32m    185\u001b[0m         \u001b[0mself\u001b[0m\u001b[0;34m.\u001b[0m\u001b[0mtitle\u001b[0m \u001b[0;34m=\u001b[0m \u001b[0mtitle\u001b[0m\u001b[0;34m\u001b[0m\u001b[0m\n\u001b[0;32m--> 186\u001b[0;31m         \u001b[0mself\u001b[0m\u001b[0;34m.\u001b[0m\u001b[0m_datatypes\u001b[0m \u001b[0;34m=\u001b[0m \u001b[0mdatatypes\u001b[0m \u001b[0;32mor\u001b[0m \u001b[0mlrange\u001b[0m\u001b[0;34m(\u001b[0m\u001b[0mlen\u001b[0m\u001b[0;34m(\u001b[0m\u001b[0mdata\u001b[0m\u001b[0;34m[\u001b[0m\u001b[0;36m0\u001b[0m\u001b[0;34m]\u001b[0m\u001b[0;34m)\u001b[0m\u001b[0;34m)\u001b[0m\u001b[0;34m\u001b[0m\u001b[0m\n\u001b[0m\u001b[1;32m    187\u001b[0m         \u001b[0;31m# start with default formatting\u001b[0m\u001b[0;34m\u001b[0m\u001b[0;34m\u001b[0m\u001b[0m\n\u001b[1;32m    188\u001b[0m         \u001b[0mself\u001b[0m\u001b[0;34m.\u001b[0m\u001b[0m_txt_fmt\u001b[0m \u001b[0;34m=\u001b[0m \u001b[0mdefault_txt_fmt\u001b[0m\u001b[0;34m.\u001b[0m\u001b[0mcopy\u001b[0m\u001b[0;34m(\u001b[0m\u001b[0;34m)\u001b[0m\u001b[0;34m\u001b[0m\u001b[0m\n",
      "\u001b[0;31mIndexError\u001b[0m: list index out of range"
     ]
    }
   ],
   "source": [
    "results_dict = arima_gridsearch_cv(price_matrix,cv_splits=5)"
   ]
  },
  {
   "cell_type": "code",
   "execution_count": null,
   "metadata": {
    "collapsed": true
   },
   "outputs": [],
   "source": []
  }
 ],
 "metadata": {
  "kernelspec": {
   "display_name": "Python 3",
   "language": "python",
   "name": "python3"
  },
  "language_info": {
   "codemirror_mode": {
    "name": "ipython",
    "version": 3
   },
   "file_extension": ".py",
   "mimetype": "text/x-python",
   "name": "python",
   "nbconvert_exporter": "python",
   "pygments_lexer": "ipython3",
   "version": "3.6.5"
  }
 },
 "nbformat": 4,
 "nbformat_minor": 2
}
