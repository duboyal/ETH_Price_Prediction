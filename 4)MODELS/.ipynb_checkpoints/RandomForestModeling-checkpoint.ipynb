{
 "cells": [
  {
   "cell_type": "code",
   "execution_count": 387,
   "metadata": {
    "collapsed": true
   },
   "outputs": [],
   "source": [
    "import pandas as pd\n",
    "import numpy as np\n",
    "from sklearn.model_selection import GridSearchCV\n",
    "from sklearn.ensemble import RandomForestClassifier\n",
    "from sklearn.ensemble import RandomForestRegressor\n",
    "from sklearn.model_selection import train_test_split"
   ]
  },
  {
   "cell_type": "markdown",
   "metadata": {},
   "source": [
    "## MODELING: Exploring the random forest regressor and classifier to predict price\n",
    "first we read in the data, and also make the classifier target list 'rise_lower' from our existing data frame"
   ]
  },
  {
   "cell_type": "code",
   "execution_count": 388,
   "metadata": {
    "collapsed": true
   },
   "outputs": [],
   "source": [
    "df_ultra_mega_frame = pd.read_csv('df_ultra_mega_frame1.csv')\n",
    "df_ultra_mega_frame['date'] = pd.to_datetime(df_ultra_mega_frame['date'],infer_datetime_format=True)\n",
    "df_ultra_mega_frame.index = df_ultra_mega_frame['date']\n",
    "#df_ultra_mega_classifier = df_ultra_mega_frame #starting here"
   ]
  },
  {
   "cell_type": "markdown",
   "metadata": {},
   "source": [
    "Below we create 'rise_fall_list' for ethereum that will be inserted back into the dataframe to be used as a feature in the classifier model. We later do this for the other selected features as well. The features we selected were Bitcoin price, Dow Jones Index and google search frequency. Sentiment was included originally but it was deemed to return an \"importance value\" too close to zero to be considered more useful than unuseful to the model due to the curse of dimensionality."
   ]
  },
  {
   "cell_type": "code",
   "execution_count": 389,
   "metadata": {},
   "outputs": [],
   "source": [
    "price_list = df_ultra_mega_frame['price_eth']\n",
    "rise_fall_list = []\n",
    "\n",
    "for index, item in enumerate(df_ultra_mega_frame['price_eth']):\n",
    "    if df_ultra_mega_frame['price_eth'].iloc[index-1] < df_ultra_mega_frame['price_eth'].iloc[index]:\n",
    "        rise_fall_list.append(1)\n",
    "    else:\n",
    "        rise_fall_list.append(0)\n",
    "        \n",
    "df_ultra_mega_frame['rise_lower'] = rise_fall_list\n",
    "#df_ultra_mega_classifier = df_ultra_mega_classifier['2017-11-17':]"
   ]
  },
  {
   "cell_type": "markdown",
   "metadata": {},
   "source": [
    "### Random Forest Regressor \n",
    "Here below we convert our y (being the target variable or label by formalism) to a numpy array"
   ]
  },
  {
   "cell_type": "code",
   "execution_count": 394,
   "metadata": {
    "collapsed": true
   },
   "outputs": [],
   "source": [
    "y = np.array(df_ultra_mega_frame['price_eth'])\n",
    "# Remove the labels from the features\n",
    "# axis 1 refers to the columns\n",
    "features= df_ultra_mega_frame.drop(['price_eth','date','rise_lower'], axis = 1)\n",
    "# Saving feature names for later use\n",
    "feature_list = list(features.columns) #this way we remeber the column names\n",
    "# Convert to numpy array\n",
    "X = np.array(features) #because once we convert to np array it drops the names"
   ]
  },
  {
   "cell_type": "markdown",
   "metadata": {},
   "source": [
    "At this point it's a good moment to to check X.shape and y.shape to make sure our y array is one dimensional and our X array is an 'nd array' with n corresponding to the number of features."
   ]
  },
  {
   "cell_type": "code",
   "execution_count": 395,
   "metadata": {
    "collapsed": true
   },
   "outputs": [],
   "source": [
    "#X.shape\n",
    "#y.shape "
   ]
  },
  {
   "cell_type": "markdown",
   "metadata": {},
   "source": [
    "Now we perform our test train split"
   ]
  },
  {
   "cell_type": "code",
   "execution_count": 396,
   "metadata": {
    "collapsed": true
   },
   "outputs": [],
   "source": [
    "X_train, X_test, Y_train, Y_test = train_test_split(X, y, test_size = 0.25, random_state = 42)"
   ]
  },
  {
   "cell_type": "markdown",
   "metadata": {},
   "source": [
    "And here we instantiate our Random Forest regressor. We first pick max_depth=2 and random_state=0 to begin with and then we later perform a Cv grid search to optimize the parameters."
   ]
  },
  {
   "cell_type": "code",
   "execution_count": 397,
   "metadata": {},
   "outputs": [
    {
     "data": {
      "text/plain": [
       "RandomForestRegressor(bootstrap=True, criterion='mse', max_depth=2,\n",
       "           max_features='auto', max_leaf_nodes=None,\n",
       "           min_impurity_split=1e-07, min_samples_leaf=1,\n",
       "           min_samples_split=2, min_weight_fraction_leaf=0.0,\n",
       "           n_estimators=10, n_jobs=1, oob_score=False, random_state=0,\n",
       "           verbose=0, warm_start=False)"
      ]
     },
     "execution_count": 397,
     "metadata": {},
     "output_type": "execute_result"
    }
   ],
   "source": [
    "regr = RandomForestRegressor(max_depth=2, random_state=0)\n",
    "regr.fit(X_train, Y_train)"
   ]
  },
  {
   "cell_type": "markdown",
   "metadata": {},
   "source": [
    "Below we print out our feature importancce values to give us an idea of which feature is the most important to our model. Here we note that any features that go to zero would be considered to not play any role in improving our model. There are two features that are close to zero but still non-zero, so they technically are still marginally improving our model."
   ]
  },
  {
   "cell_type": "code",
   "execution_count": 398,
   "metadata": {
    "scrolled": true
   },
   "outputs": [
    {
     "name": "stdout",
     "output_type": "stream",
     "text": [
      "[0.01590281 0.93945925 0.04004606 0.00459188]\n"
     ]
    }
   ],
   "source": [
    "print(regr.feature_importances_) #strength of importance of feature in the model\n",
    "#but is using the other two because they are not zero!!!"
   ]
  },
  {
   "cell_type": "markdown",
   "metadata": {},
   "source": [
    "We originally had input a feature column of the polarity score of Ethereum sentiment for each day (all reddit data that was scraped) and then this feature went to zero so we chose not to include it in our model.\n",
    "\n",
    "when you have more features, you are basically saying you need more data to adequetly sample the space or else you run into the curse of dimensionality. This is what tells you that for the more dimenions you have, you need more data in total in order to sample your entire space. What do you run the risk of otherwise? of being innaccurate. in which way? in the way that your data set you have doesnt adequatley cover sample space."
   ]
  },
  {
   "cell_type": "code",
   "execution_count": 351,
   "metadata": {},
   "outputs": [
    {
     "name": "stdout",
     "output_type": "stream",
     "text": [
      "[1114.12674763  620.96853455  845.8458259  1087.26301234  845.8458259\n",
      " 1087.26301234  770.27835392  928.40434538  824.74849407  770.27835392\n",
      "  442.39962843  824.74849407  770.27835392  770.27835392  931.99236558\n",
      "  604.21856313  876.61368701  455.93990621  983.78302396  472.68987764\n",
      "  770.27835392  748.29913732 1087.26301234  423.18737129  983.78302396\n",
      "  770.27835392 1087.26301234  489.45560401  770.27835392  770.27835392\n",
      "  770.27835392  644.43999884]\n"
     ]
    }
   ],
   "source": [
    "print(regr.predict(X_test)) #predict y given x test"
   ]
  },
  {
   "cell_type": "markdown",
   "metadata": {},
   "source": [
    "As seen above: X_test is the argument taken in, but the output for the predict function is only one dimension just like y. We can later graph this result from predict against Y test to explicitly see if our model worked."
   ]
  },
  {
   "cell_type": "code",
   "execution_count": 399,
   "metadata": {},
   "outputs": [
    {
     "data": {
      "text/plain": [
       "0.8025878227463432"
      ]
     },
     "execution_count": 399,
     "metadata": {},
     "output_type": "execute_result"
    }
   ],
   "source": [
    "#now can compare with the original X and Y_train!!!\n",
    "#using score \n",
    "regr.score(X_test, Y_test) #X_test , as seen above...X_test has more dimensions than the output on predict"
   ]
  },
  {
   "cell_type": "markdown",
   "metadata": {},
   "source": [
    "This score returns an r squared value. It is a percentage, how well the variablity of your data is captured by a given model comparisons betweeen different models scores tells you which model is better.\n",
    "\n",
    "below we perform a CV grid search across the following parameters: \"criterion\": [\"mse\", \"mae\"], \"max_depth\": [2, 6, 8], \"n_estimators\":[50, 100, 200], and we optimize our score based off of the grid search. We also see that we perporm a cross validation of 5."
   ]
  },
  {
   "cell_type": "code",
   "execution_count": 400,
   "metadata": {},
   "outputs": [
    {
     "data": {
      "text/plain": [
       "GridSearchCV(cv=5, error_score='raise',\n",
       "       estimator=RandomForestRegressor(bootstrap=True, criterion='mse', max_depth=2,\n",
       "           max_features='auto', max_leaf_nodes=None,\n",
       "           min_impurity_split=1e-07, min_samples_leaf=1,\n",
       "           min_samples_split=2, min_weight_fraction_leaf=0.0,\n",
       "           n_estimators=10, n_jobs=1, oob_score=False, random_state=0,\n",
       "           verbose=0, warm_start=False),\n",
       "       fit_params={}, iid=True, n_jobs=1,\n",
       "       param_grid={'criterion': ['mse', 'mae'], 'max_depth': [2, 6, 8], 'n_estimators': [50, 100, 200]},\n",
       "       pre_dispatch='2*n_jobs', refit=True, return_train_score=True,\n",
       "       scoring=None, verbose=0)"
      ]
     },
     "execution_count": 400,
     "metadata": {},
     "output_type": "execute_result"
    }
   ],
   "source": [
    "#use a grid search\n",
    "param_grid = {\"criterion\": [\"mse\", \"mae\"], #mean squared error and mean absolute error in documentation\n",
    "              #\"min_samples_split\": [10, 20, 40],\n",
    "              \"max_depth\": [2, 6, 8],\n",
    "              \"n_estimators\":[50, 100, 200]\n",
    "              #\"min_samples_leaf\": [20, 40, 100],\n",
    "              #\"max_leaf_nodes\": [5, 20, 100, 500, 800],\n",
    "              }\n",
    "\n",
    "grid_cv_regr = GridSearchCV(regr, param_grid, cv=5)\n",
    "\n",
    "grid_cv_regr.fit(X_train, Y_train) #features and labels"
   ]
  },
  {
   "cell_type": "code",
   "execution_count": 354,
   "metadata": {},
   "outputs": [
    {
     "name": "stdout",
     "output_type": "stream",
     "text": [
      "R-Squared::0.7578143092865796\n",
      "Best Hyperparameters::\n",
      "{'criterion': 'mse', 'max_depth': 8, 'n_estimators': 200}\n"
     ]
    }
   ],
   "source": [
    "print(\"R-Squared::{}\".format(grid_cv_regr.best_score_))\n",
    "print(\"Best Hyperparameters::\\n{}\".format(grid_cv_regr.best_params_))\n",
    "\n",
    "#random forest builds multiple decision trees \n",
    "#best number of decision trees\n",
    "#depth of each tree shouldnt be more than 8 levels\n",
    "#go down to 8 levels(splits) but dont split it further"
   ]
  },
  {
   "cell_type": "markdown",
   "metadata": {},
   "source": [
    "How is it that after the hyperparameter tuning, our R squared went down? difference between rsquared is that this one tells how well did this model work for hyperparametrization on the train data, because we dont give it the test data. You don't want any part of you model to be trained on the test data. So this part is NOT the same R squared from our score output."
   ]
  },
  {
   "cell_type": "code",
   "execution_count": 401,
   "metadata": {},
   "outputs": [
    {
     "data": {
      "text/html": [
       "<div>\n",
       "<style>\n",
       "    .dataframe thead tr:only-child th {\n",
       "        text-align: right;\n",
       "    }\n",
       "\n",
       "    .dataframe thead th {\n",
       "        text-align: left;\n",
       "    }\n",
       "\n",
       "    .dataframe tbody tr th {\n",
       "        vertical-align: top;\n",
       "    }\n",
       "</style>\n",
       "<table border=\"1\" class=\"dataframe\">\n",
       "  <thead>\n",
       "    <tr style=\"text-align: right;\">\n",
       "      <th></th>\n",
       "      <th>mean_fit_time</th>\n",
       "      <th>mean_score_time</th>\n",
       "      <th>mean_test_score</th>\n",
       "      <th>mean_train_score</th>\n",
       "      <th>param_criterion</th>\n",
       "      <th>param_max_depth</th>\n",
       "      <th>param_n_estimators</th>\n",
       "      <th>params</th>\n",
       "      <th>rank_test_score</th>\n",
       "      <th>split0_test_score</th>\n",
       "      <th>...</th>\n",
       "      <th>split2_test_score</th>\n",
       "      <th>split2_train_score</th>\n",
       "      <th>split3_test_score</th>\n",
       "      <th>split3_train_score</th>\n",
       "      <th>split4_test_score</th>\n",
       "      <th>split4_train_score</th>\n",
       "      <th>std_fit_time</th>\n",
       "      <th>std_score_time</th>\n",
       "      <th>std_test_score</th>\n",
       "      <th>std_train_score</th>\n",
       "    </tr>\n",
       "  </thead>\n",
       "  <tbody>\n",
       "    <tr>\n",
       "      <th>0</th>\n",
       "      <td>0.044096</td>\n",
       "      <td>0.002738</td>\n",
       "      <td>0.632955</td>\n",
       "      <td>0.780526</td>\n",
       "      <td>mse</td>\n",
       "      <td>2</td>\n",
       "      <td>50</td>\n",
       "      <td>{'criterion': 'mse', 'max_depth': 2, 'n_estima...</td>\n",
       "      <td>15</td>\n",
       "      <td>0.617288</td>\n",
       "      <td>...</td>\n",
       "      <td>0.447800</td>\n",
       "      <td>0.805174</td>\n",
       "      <td>0.646998</td>\n",
       "      <td>0.759603</td>\n",
       "      <td>0.673381</td>\n",
       "      <td>0.794549</td>\n",
       "      <td>0.004664</td>\n",
       "      <td>0.000354</td>\n",
       "      <td>0.108574</td>\n",
       "      <td>0.017029</td>\n",
       "    </tr>\n",
       "    <tr>\n",
       "      <th>1</th>\n",
       "      <td>0.083797</td>\n",
       "      <td>0.004804</td>\n",
       "      <td>0.639019</td>\n",
       "      <td>0.785335</td>\n",
       "      <td>mse</td>\n",
       "      <td>2</td>\n",
       "      <td>100</td>\n",
       "      <td>{'criterion': 'mse', 'max_depth': 2, 'n_estima...</td>\n",
       "      <td>14</td>\n",
       "      <td>0.635662</td>\n",
       "      <td>...</td>\n",
       "      <td>0.449978</td>\n",
       "      <td>0.807935</td>\n",
       "      <td>0.651251</td>\n",
       "      <td>0.764959</td>\n",
       "      <td>0.670829</td>\n",
       "      <td>0.798628</td>\n",
       "      <td>0.005109</td>\n",
       "      <td>0.000383</td>\n",
       "      <td>0.109542</td>\n",
       "      <td>0.016325</td>\n",
       "    </tr>\n",
       "    <tr>\n",
       "      <th>2</th>\n",
       "      <td>0.218486</td>\n",
       "      <td>0.013004</td>\n",
       "      <td>0.643336</td>\n",
       "      <td>0.785868</td>\n",
       "      <td>mse</td>\n",
       "      <td>2</td>\n",
       "      <td>200</td>\n",
       "      <td>{'criterion': 'mse', 'max_depth': 2, 'n_estima...</td>\n",
       "      <td>13</td>\n",
       "      <td>0.652159</td>\n",
       "      <td>...</td>\n",
       "      <td>0.459526</td>\n",
       "      <td>0.809317</td>\n",
       "      <td>0.651598</td>\n",
       "      <td>0.768111</td>\n",
       "      <td>0.664318</td>\n",
       "      <td>0.795938</td>\n",
       "      <td>0.042923</td>\n",
       "      <td>0.003131</td>\n",
       "      <td>0.106309</td>\n",
       "      <td>0.015436</td>\n",
       "    </tr>\n",
       "    <tr>\n",
       "      <th>3</th>\n",
       "      <td>0.046247</td>\n",
       "      <td>0.003299</td>\n",
       "      <td>0.750655</td>\n",
       "      <td>0.961659</td>\n",
       "      <td>mse</td>\n",
       "      <td>6</td>\n",
       "      <td>50</td>\n",
       "      <td>{'criterion': 'mse', 'max_depth': 6, 'n_estima...</td>\n",
       "      <td>5</td>\n",
       "      <td>0.798894</td>\n",
       "      <td>...</td>\n",
       "      <td>0.537258</td>\n",
       "      <td>0.968786</td>\n",
       "      <td>0.808032</td>\n",
       "      <td>0.962481</td>\n",
       "      <td>0.762024</td>\n",
       "      <td>0.957009</td>\n",
       "      <td>0.000798</td>\n",
       "      <td>0.000954</td>\n",
       "      <td>0.110758</td>\n",
       "      <td>0.003971</td>\n",
       "    </tr>\n",
       "    <tr>\n",
       "      <th>4</th>\n",
       "      <td>0.096011</td>\n",
       "      <td>0.005785</td>\n",
       "      <td>0.750550</td>\n",
       "      <td>0.962756</td>\n",
       "      <td>mse</td>\n",
       "      <td>6</td>\n",
       "      <td>100</td>\n",
       "      <td>{'criterion': 'mse', 'max_depth': 6, 'n_estima...</td>\n",
       "      <td>6</td>\n",
       "      <td>0.797518</td>\n",
       "      <td>...</td>\n",
       "      <td>0.522546</td>\n",
       "      <td>0.970501</td>\n",
       "      <td>0.811358</td>\n",
       "      <td>0.961804</td>\n",
       "      <td>0.766210</td>\n",
       "      <td>0.957153</td>\n",
       "      <td>0.007199</td>\n",
       "      <td>0.000714</td>\n",
       "      <td>0.118293</td>\n",
       "      <td>0.004367</td>\n",
       "    </tr>\n",
       "  </tbody>\n",
       "</table>\n",
       "<p>5 rows × 23 columns</p>\n",
       "</div>"
      ],
      "text/plain": [
       "   mean_fit_time  mean_score_time  mean_test_score  mean_train_score  \\\n",
       "0       0.044096         0.002738         0.632955          0.780526   \n",
       "1       0.083797         0.004804         0.639019          0.785335   \n",
       "2       0.218486         0.013004         0.643336          0.785868   \n",
       "3       0.046247         0.003299         0.750655          0.961659   \n",
       "4       0.096011         0.005785         0.750550          0.962756   \n",
       "\n",
       "  param_criterion param_max_depth param_n_estimators  \\\n",
       "0             mse               2                 50   \n",
       "1             mse               2                100   \n",
       "2             mse               2                200   \n",
       "3             mse               6                 50   \n",
       "4             mse               6                100   \n",
       "\n",
       "                                              params  rank_test_score  \\\n",
       "0  {'criterion': 'mse', 'max_depth': 2, 'n_estima...               15   \n",
       "1  {'criterion': 'mse', 'max_depth': 2, 'n_estima...               14   \n",
       "2  {'criterion': 'mse', 'max_depth': 2, 'n_estima...               13   \n",
       "3  {'criterion': 'mse', 'max_depth': 6, 'n_estima...                5   \n",
       "4  {'criterion': 'mse', 'max_depth': 6, 'n_estima...                6   \n",
       "\n",
       "   split0_test_score       ...         split2_test_score  split2_train_score  \\\n",
       "0           0.617288       ...                  0.447800            0.805174   \n",
       "1           0.635662       ...                  0.449978            0.807935   \n",
       "2           0.652159       ...                  0.459526            0.809317   \n",
       "3           0.798894       ...                  0.537258            0.968786   \n",
       "4           0.797518       ...                  0.522546            0.970501   \n",
       "\n",
       "   split3_test_score  split3_train_score  split4_test_score  \\\n",
       "0           0.646998            0.759603           0.673381   \n",
       "1           0.651251            0.764959           0.670829   \n",
       "2           0.651598            0.768111           0.664318   \n",
       "3           0.808032            0.962481           0.762024   \n",
       "4           0.811358            0.961804           0.766210   \n",
       "\n",
       "   split4_train_score  std_fit_time  std_score_time  std_test_score  \\\n",
       "0            0.794549      0.004664        0.000354        0.108574   \n",
       "1            0.798628      0.005109        0.000383        0.109542   \n",
       "2            0.795938      0.042923        0.003131        0.106309   \n",
       "3            0.957009      0.000798        0.000954        0.110758   \n",
       "4            0.957153      0.007199        0.000714        0.118293   \n",
       "\n",
       "   std_train_score  \n",
       "0         0.017029  \n",
       "1         0.016325  \n",
       "2         0.015436  \n",
       "3         0.003971  \n",
       "4         0.004367  \n",
       "\n",
       "[5 rows x 23 columns]"
      ]
     },
     "execution_count": 401,
     "metadata": {},
     "output_type": "execute_result"
    }
   ],
   "source": [
    "df = pd.DataFrame(data=grid_cv_regr.cv_results_)\n",
    "df.head()"
   ]
  },
  {
   "cell_type": "code",
   "execution_count": 402,
   "metadata": {},
   "outputs": [
    {
     "name": "stdout",
     "output_type": "stream",
     "text": [
      "{'criterion': 'mse', 'max_depth': 2, 'n_estimators': 50} 0.633 0.1086\n",
      "{'criterion': 'mse', 'max_depth': 2, 'n_estimators': 100} 0.639 0.1095\n",
      "{'criterion': 'mse', 'max_depth': 2, 'n_estimators': 200} 0.6433 0.1063\n",
      "{'criterion': 'mse', 'max_depth': 6, 'n_estimators': 50} 0.7507 0.1108\n",
      "{'criterion': 'mse', 'max_depth': 6, 'n_estimators': 100} 0.7505 0.1183\n",
      "{'criterion': 'mse', 'max_depth': 6, 'n_estimators': 200} 0.7535 0.1134\n",
      "{'criterion': 'mse', 'max_depth': 8, 'n_estimators': 50} 0.7563 0.1055\n",
      "{'criterion': 'mse', 'max_depth': 8, 'n_estimators': 100} 0.7523 0.118\n",
      "{'criterion': 'mse', 'max_depth': 8, 'n_estimators': 200} 0.7578 0.1143\n",
      "{'criterion': 'mae', 'max_depth': 2, 'n_estimators': 50} 0.5833 0.1618\n",
      "{'criterion': 'mae', 'max_depth': 2, 'n_estimators': 100} 0.5969 0.1596\n",
      "{'criterion': 'mae', 'max_depth': 2, 'n_estimators': 200} 0.5976 0.1679\n",
      "{'criterion': 'mae', 'max_depth': 6, 'n_estimators': 50} 0.7134 0.1721\n",
      "{'criterion': 'mae', 'max_depth': 6, 'n_estimators': 100} 0.7196 0.1696\n",
      "{'criterion': 'mae', 'max_depth': 6, 'n_estimators': 200} 0.7235 0.1722\n",
      "{'criterion': 'mae', 'max_depth': 8, 'n_estimators': 50} 0.7253 0.1692\n",
      "{'criterion': 'mae', 'max_depth': 8, 'n_estimators': 100} 0.7316 0.1706\n",
      "{'criterion': 'mae', 'max_depth': 8, 'n_estimators': 200} 0.7307 0.175\n"
     ]
    }
   ],
   "source": [
    "results = grid_cv_regr.cv_results_\n",
    "for param, score_mean, score_sd in zip(results['params'], results['mean_test_score'], results['std_test_score']):\n",
    "    print(param, round(score_mean, 4), round(score_sd, 4))\n",
    "    \n",
    "#the highest is n=100, and mx depth 8 "
   ]
  },
  {
   "cell_type": "code",
   "execution_count": 403,
   "metadata": {},
   "outputs": [
    {
     "data": {
      "text/plain": [
       "0.923392828420277"
      ]
     },
     "execution_count": 403,
     "metadata": {},
     "output_type": "execute_result"
    }
   ],
   "source": [
    "grid_cv_regr.score(X_test, Y_test) #this is really great!!!"
   ]
  },
  {
   "cell_type": "markdown",
   "metadata": {},
   "source": [
    "This was a good score! since the feature of 'sentiment' was so close to zero, lets see if removing the feasture improves the accuracy of the model! "
   ]
  },
  {
   "cell_type": "markdown",
   "metadata": {},
   "source": [
    "## Now compare to dropping a feature"
   ]
  },
  {
   "cell_type": "code",
   "execution_count": 404,
   "metadata": {
    "collapsed": true
   },
   "outputs": [],
   "source": [
    "y = np.array(df_ultra_mega_frame['price_eth'])\n",
    "# Remove the labels from the features\n",
    "# axis 1 refers to the columns\n",
    "features= df_ultra_mega_frame.drop(['price_eth','date','rise_lower','sentiment'], axis = 1)\n",
    "# Saving feature names for later use\n",
    "feature_list = list(features.columns) #this way we remeber the column names\n",
    "# Convert to numpy array\n",
    "X = np.array(features) #because once we convert to np array it drops the names"
   ]
  },
  {
   "cell_type": "code",
   "execution_count": 405,
   "metadata": {
    "collapsed": true
   },
   "outputs": [],
   "source": [
    "# Using Skicit-learn to split data into training and testing sets\n",
    "from sklearn.model_selection import train_test_split\n",
    "# Split the data into training and testing sets\n",
    "X_train, X_test, Y_train, Y_test = train_test_split(X, y, test_size = 0.25, random_state = 42)"
   ]
  },
  {
   "cell_type": "code",
   "execution_count": 406,
   "metadata": {},
   "outputs": [
    {
     "data": {
      "text/plain": [
       "RandomForestRegressor(bootstrap=True, criterion='mse', max_depth=2,\n",
       "           max_features='auto', max_leaf_nodes=None,\n",
       "           min_impurity_split=1e-07, min_samples_leaf=1,\n",
       "           min_samples_split=2, min_weight_fraction_leaf=0.0,\n",
       "           n_estimators=10, n_jobs=1, oob_score=False, random_state=0,\n",
       "           verbose=0, warm_start=False)"
      ]
     },
     "execution_count": 406,
     "metadata": {},
     "output_type": "execute_result"
    }
   ],
   "source": [
    "regr = RandomForestRegressor(max_depth=2, random_state=0)\n",
    "regr.fit(X_train, Y_train)"
   ]
  },
  {
   "cell_type": "code",
   "execution_count": 407,
   "metadata": {
    "scrolled": true
   },
   "outputs": [
    {
     "name": "stdout",
     "output_type": "stream",
     "text": [
      "[0.01590281 0.94405113 0.04004606]\n"
     ]
    }
   ],
   "source": [
    "print(regr.feature_importances_) #strength of importance of feature in the model\n",
    "#but is using the other two because they are not zero!!!"
   ]
  },
  {
   "cell_type": "code",
   "execution_count": 408,
   "metadata": {},
   "outputs": [
    {
     "name": "stdout",
     "output_type": "stream",
     "text": [
      "[1114.12674763  617.89886313  845.8458259  1087.26301234  845.8458259\n",
      " 1087.26301234  770.27835392  928.40434538  824.74849407  770.27835392\n",
      "  438.05447288  824.74849407  770.27835392  770.27835392  931.99236558\n",
      "  617.89886313  876.61368701  451.59475065  983.78302396  451.59475065\n",
      "  770.27835392  748.29913732 1087.26301234  418.84221573  983.78302396\n",
      "  770.27835392 1087.26301234  503.13590401  770.27835392  770.27835392\n",
      "  770.27835392  641.37032741]\n"
     ]
    }
   ],
   "source": [
    "print(regr.predict(X_test)) #predict y given x test"
   ]
  },
  {
   "cell_type": "code",
   "execution_count": 409,
   "metadata": {},
   "outputs": [
    {
     "data": {
      "text/plain": [
       "0.8017445780922451"
      ]
     },
     "execution_count": 409,
     "metadata": {},
     "output_type": "execute_result"
    }
   ],
   "source": [
    "#now can compare with the original X_train!!!\n",
    "#using score \n",
    "regr.score(X_test, Y_test) #X_test , as seen above...X_test has more dimensions than the output on predict"
   ]
  },
  {
   "cell_type": "code",
   "execution_count": 410,
   "metadata": {},
   "outputs": [
    {
     "data": {
      "text/plain": [
       "GridSearchCV(cv=5, error_score='raise',\n",
       "       estimator=RandomForestRegressor(bootstrap=True, criterion='mse', max_depth=2,\n",
       "           max_features='auto', max_leaf_nodes=None,\n",
       "           min_impurity_split=1e-07, min_samples_leaf=1,\n",
       "           min_samples_split=2, min_weight_fraction_leaf=0.0,\n",
       "           n_estimators=10, n_jobs=1, oob_score=False, random_state=0,\n",
       "           verbose=0, warm_start=False),\n",
       "       fit_params={}, iid=True, n_jobs=1,\n",
       "       param_grid={'criterion': ['mse', 'mae'], 'max_depth': [2, 6, 8], 'n_estimators': [50, 100, 200]},\n",
       "       pre_dispatch='2*n_jobs', refit=True, return_train_score=True,\n",
       "       scoring=None, verbose=0)"
      ]
     },
     "execution_count": 410,
     "metadata": {},
     "output_type": "execute_result"
    }
   ],
   "source": [
    "#use a grid search\n",
    "param_grid = {\"criterion\": [\"mse\", \"mae\"], #mean squared error and mean absolute error in documentation\n",
    "              #\"min_samples_split\": [10, 20, 40],\n",
    "              \"max_depth\": [2, 6, 8],\n",
    "              \"n_estimators\":[50, 100, 200]\n",
    "              #\"min_samples_leaf\": [20, 40, 100],\n",
    "              #\"max_leaf_nodes\": [5, 20, 100, 500, 800],\n",
    "              }\n",
    "\n",
    "grid_cv_regr = GridSearchCV(regr, param_grid, cv=5)\n",
    "\n",
    "grid_cv_regr.fit(X_train, Y_train) #features and labels"
   ]
  },
  {
   "cell_type": "code",
   "execution_count": 366,
   "metadata": {},
   "outputs": [
    {
     "data": {
      "text/plain": [
       "array([1128.501875  ,  512.14903   ,  832.76701111, 1050.22647357,\n",
       "        925.00969111, 1028.64646167,  715.78464003, 1066.31553952,\n",
       "        767.53275903,  749.61424075,  415.5053    ,  902.84316188,\n",
       "        780.90016533,  791.78052726,  933.56418   ,  484.02071929,\n",
       "        965.39498778,  470.2634    , 1169.45010952,  461.18355   ,\n",
       "        764.58507802,  725.66559992, 1047.346585  ,  416.2924    ,\n",
       "       1184.74674286,  751.40751671, 1041.08642214,  453.87266667,\n",
       "        829.65888079,  656.20527978,  771.78909282,  505.47520595])"
      ]
     },
     "execution_count": 366,
     "metadata": {},
     "output_type": "execute_result"
    }
   ],
   "source": [
    "grid_cv_regr.predict(X_test) "
   ]
  },
  {
   "cell_type": "markdown",
   "metadata": {},
   "source": [
    "We check the output and notice that its one dimensional which is what we want. We now set this variable to Y_predicted so that we can later graph it against Y_test."
   ]
  },
  {
   "cell_type": "code",
   "execution_count": 412,
   "metadata": {
    "collapsed": true
   },
   "outputs": [],
   "source": [
    "Y_predicted = grid_cv_regr.predict(X_test)"
   ]
  },
  {
   "cell_type": "code",
   "execution_count": 413,
   "metadata": {},
   "outputs": [
    {
     "name": "stdout",
     "output_type": "stream",
     "text": [
      "R-Squared::0.781573998077793\n",
      "Best Hyperparameters::\n",
      "{'criterion': 'mse', 'max_depth': 8, 'n_estimators': 100}\n"
     ]
    }
   ],
   "source": [
    "print(\"R-Squared::{}\".format(grid_cv_regr.best_score_))\n",
    "print(\"Best Hyperparameters::\\n{}\".format(grid_cv_regr.best_params_))\n",
    "\n",
    "#random forest builds multiple decision trees \n",
    "#best number of decision trees\n",
    "#depth of each tree shouldnt be more than 8 levels\n",
    "#go down to 8 levels(splits) but dont split it further"
   ]
  },
  {
   "cell_type": "code",
   "execution_count": 414,
   "metadata": {},
   "outputs": [
    {
     "data": {
      "text/html": [
       "<div>\n",
       "<style>\n",
       "    .dataframe thead tr:only-child th {\n",
       "        text-align: right;\n",
       "    }\n",
       "\n",
       "    .dataframe thead th {\n",
       "        text-align: left;\n",
       "    }\n",
       "\n",
       "    .dataframe tbody tr th {\n",
       "        vertical-align: top;\n",
       "    }\n",
       "</style>\n",
       "<table border=\"1\" class=\"dataframe\">\n",
       "  <thead>\n",
       "    <tr style=\"text-align: right;\">\n",
       "      <th></th>\n",
       "      <th>mean_fit_time</th>\n",
       "      <th>mean_score_time</th>\n",
       "      <th>mean_test_score</th>\n",
       "      <th>mean_train_score</th>\n",
       "      <th>param_criterion</th>\n",
       "      <th>param_max_depth</th>\n",
       "      <th>param_n_estimators</th>\n",
       "      <th>params</th>\n",
       "      <th>rank_test_score</th>\n",
       "      <th>split0_test_score</th>\n",
       "      <th>...</th>\n",
       "      <th>split2_test_score</th>\n",
       "      <th>split2_train_score</th>\n",
       "      <th>split3_test_score</th>\n",
       "      <th>split3_train_score</th>\n",
       "      <th>split4_test_score</th>\n",
       "      <th>split4_train_score</th>\n",
       "      <th>std_fit_time</th>\n",
       "      <th>std_score_time</th>\n",
       "      <th>std_test_score</th>\n",
       "      <th>std_train_score</th>\n",
       "    </tr>\n",
       "  </thead>\n",
       "  <tbody>\n",
       "    <tr>\n",
       "      <th>0</th>\n",
       "      <td>0.041888</td>\n",
       "      <td>0.002651</td>\n",
       "      <td>0.635309</td>\n",
       "      <td>0.778977</td>\n",
       "      <td>mse</td>\n",
       "      <td>2</td>\n",
       "      <td>50</td>\n",
       "      <td>{'criterion': 'mse', 'max_depth': 2, 'n_estima...</td>\n",
       "      <td>15</td>\n",
       "      <td>0.613964</td>\n",
       "      <td>...</td>\n",
       "      <td>0.451744</td>\n",
       "      <td>0.804077</td>\n",
       "      <td>0.656762</td>\n",
       "      <td>0.758853</td>\n",
       "      <td>0.675603</td>\n",
       "      <td>0.792493</td>\n",
       "      <td>0.003935</td>\n",
       "      <td>0.000214</td>\n",
       "      <td>0.107580</td>\n",
       "      <td>0.016929</td>\n",
       "    </tr>\n",
       "    <tr>\n",
       "      <th>1</th>\n",
       "      <td>0.077543</td>\n",
       "      <td>0.004552</td>\n",
       "      <td>0.642203</td>\n",
       "      <td>0.783669</td>\n",
       "      <td>mse</td>\n",
       "      <td>2</td>\n",
       "      <td>100</td>\n",
       "      <td>{'criterion': 'mse', 'max_depth': 2, 'n_estima...</td>\n",
       "      <td>14</td>\n",
       "      <td>0.632470</td>\n",
       "      <td>...</td>\n",
       "      <td>0.452446</td>\n",
       "      <td>0.807411</td>\n",
       "      <td>0.661534</td>\n",
       "      <td>0.761985</td>\n",
       "      <td>0.677862</td>\n",
       "      <td>0.795574</td>\n",
       "      <td>0.002597</td>\n",
       "      <td>0.000045</td>\n",
       "      <td>0.109303</td>\n",
       "      <td>0.016629</td>\n",
       "    </tr>\n",
       "    <tr>\n",
       "      <th>2</th>\n",
       "      <td>0.158933</td>\n",
       "      <td>0.009298</td>\n",
       "      <td>0.645046</td>\n",
       "      <td>0.783199</td>\n",
       "      <td>mse</td>\n",
       "      <td>2</td>\n",
       "      <td>200</td>\n",
       "      <td>{'criterion': 'mse', 'max_depth': 2, 'n_estima...</td>\n",
       "      <td>13</td>\n",
       "      <td>0.646579</td>\n",
       "      <td>...</td>\n",
       "      <td>0.453979</td>\n",
       "      <td>0.809105</td>\n",
       "      <td>0.664311</td>\n",
       "      <td>0.762408</td>\n",
       "      <td>0.674158</td>\n",
       "      <td>0.792468</td>\n",
       "      <td>0.005065</td>\n",
       "      <td>0.000535</td>\n",
       "      <td>0.108315</td>\n",
       "      <td>0.016699</td>\n",
       "    </tr>\n",
       "    <tr>\n",
       "      <th>3</th>\n",
       "      <td>0.041263</td>\n",
       "      <td>0.002623</td>\n",
       "      <td>0.772805</td>\n",
       "      <td>0.966819</td>\n",
       "      <td>mse</td>\n",
       "      <td>6</td>\n",
       "      <td>50</td>\n",
       "      <td>{'criterion': 'mse', 'max_depth': 6, 'n_estima...</td>\n",
       "      <td>6</td>\n",
       "      <td>0.779761</td>\n",
       "      <td>...</td>\n",
       "      <td>0.534255</td>\n",
       "      <td>0.973722</td>\n",
       "      <td>0.834329</td>\n",
       "      <td>0.969750</td>\n",
       "      <td>0.826922</td>\n",
       "      <td>0.963078</td>\n",
       "      <td>0.001896</td>\n",
       "      <td>0.000175</td>\n",
       "      <td>0.125263</td>\n",
       "      <td>0.004298</td>\n",
       "    </tr>\n",
       "    <tr>\n",
       "      <th>4</th>\n",
       "      <td>0.091718</td>\n",
       "      <td>0.005263</td>\n",
       "      <td>0.779033</td>\n",
       "      <td>0.967569</td>\n",
       "      <td>mse</td>\n",
       "      <td>6</td>\n",
       "      <td>100</td>\n",
       "      <td>{'criterion': 'mse', 'max_depth': 6, 'n_estima...</td>\n",
       "      <td>3</td>\n",
       "      <td>0.771612</td>\n",
       "      <td>...</td>\n",
       "      <td>0.537566</td>\n",
       "      <td>0.973433</td>\n",
       "      <td>0.843001</td>\n",
       "      <td>0.968763</td>\n",
       "      <td>0.847150</td>\n",
       "      <td>0.964772</td>\n",
       "      <td>0.006922</td>\n",
       "      <td>0.000456</td>\n",
       "      <td>0.128224</td>\n",
       "      <td>0.003374</td>\n",
       "    </tr>\n",
       "  </tbody>\n",
       "</table>\n",
       "<p>5 rows × 23 columns</p>\n",
       "</div>"
      ],
      "text/plain": [
       "   mean_fit_time  mean_score_time  mean_test_score  mean_train_score  \\\n",
       "0       0.041888         0.002651         0.635309          0.778977   \n",
       "1       0.077543         0.004552         0.642203          0.783669   \n",
       "2       0.158933         0.009298         0.645046          0.783199   \n",
       "3       0.041263         0.002623         0.772805          0.966819   \n",
       "4       0.091718         0.005263         0.779033          0.967569   \n",
       "\n",
       "  param_criterion param_max_depth param_n_estimators  \\\n",
       "0             mse               2                 50   \n",
       "1             mse               2                100   \n",
       "2             mse               2                200   \n",
       "3             mse               6                 50   \n",
       "4             mse               6                100   \n",
       "\n",
       "                                              params  rank_test_score  \\\n",
       "0  {'criterion': 'mse', 'max_depth': 2, 'n_estima...               15   \n",
       "1  {'criterion': 'mse', 'max_depth': 2, 'n_estima...               14   \n",
       "2  {'criterion': 'mse', 'max_depth': 2, 'n_estima...               13   \n",
       "3  {'criterion': 'mse', 'max_depth': 6, 'n_estima...                6   \n",
       "4  {'criterion': 'mse', 'max_depth': 6, 'n_estima...                3   \n",
       "\n",
       "   split0_test_score       ...         split2_test_score  split2_train_score  \\\n",
       "0           0.613964       ...                  0.451744            0.804077   \n",
       "1           0.632470       ...                  0.452446            0.807411   \n",
       "2           0.646579       ...                  0.453979            0.809105   \n",
       "3           0.779761       ...                  0.534255            0.973722   \n",
       "4           0.771612       ...                  0.537566            0.973433   \n",
       "\n",
       "   split3_test_score  split3_train_score  split4_test_score  \\\n",
       "0           0.656762            0.758853           0.675603   \n",
       "1           0.661534            0.761985           0.677862   \n",
       "2           0.664311            0.762408           0.674158   \n",
       "3           0.834329            0.969750           0.826922   \n",
       "4           0.843001            0.968763           0.847150   \n",
       "\n",
       "   split4_train_score  std_fit_time  std_score_time  std_test_score  \\\n",
       "0            0.792493      0.003935        0.000214        0.107580   \n",
       "1            0.795574      0.002597        0.000045        0.109303   \n",
       "2            0.792468      0.005065        0.000535        0.108315   \n",
       "3            0.963078      0.001896        0.000175        0.125263   \n",
       "4            0.964772      0.006922        0.000456        0.128224   \n",
       "\n",
       "   std_train_score  \n",
       "0         0.016929  \n",
       "1         0.016629  \n",
       "2         0.016699  \n",
       "3         0.004298  \n",
       "4         0.003374  \n",
       "\n",
       "[5 rows x 23 columns]"
      ]
     },
     "execution_count": 414,
     "metadata": {},
     "output_type": "execute_result"
    }
   ],
   "source": [
    "df = pd.DataFrame(data=grid_cv_regr.cv_results_)\n",
    "df.head()"
   ]
  },
  {
   "cell_type": "code",
   "execution_count": 415,
   "metadata": {},
   "outputs": [
    {
     "name": "stdout",
     "output_type": "stream",
     "text": [
      "{'criterion': 'mse', 'max_depth': 2, 'n_estimators': 50} 0.6353 0.1076\n",
      "{'criterion': 'mse', 'max_depth': 2, 'n_estimators': 100} 0.6422 0.1093\n",
      "{'criterion': 'mse', 'max_depth': 2, 'n_estimators': 200} 0.645 0.1083\n",
      "{'criterion': 'mse', 'max_depth': 6, 'n_estimators': 50} 0.7728 0.1253\n",
      "{'criterion': 'mse', 'max_depth': 6, 'n_estimators': 100} 0.779 0.1282\n",
      "{'criterion': 'mse', 'max_depth': 6, 'n_estimators': 200} 0.7762 0.1262\n",
      "{'criterion': 'mse', 'max_depth': 8, 'n_estimators': 50} 0.7741 0.1249\n",
      "{'criterion': 'mse', 'max_depth': 8, 'n_estimators': 100} 0.7816 0.1313\n",
      "{'criterion': 'mse', 'max_depth': 8, 'n_estimators': 200} 0.7797 0.1288\n",
      "{'criterion': 'mae', 'max_depth': 2, 'n_estimators': 50} 0.589 0.1577\n",
      "{'criterion': 'mae', 'max_depth': 2, 'n_estimators': 100} 0.6003 0.16\n",
      "{'criterion': 'mae', 'max_depth': 2, 'n_estimators': 200} 0.6018 0.1695\n",
      "{'criterion': 'mae', 'max_depth': 6, 'n_estimators': 50} 0.739 0.1527\n",
      "{'criterion': 'mae', 'max_depth': 6, 'n_estimators': 100} 0.74 0.1553\n",
      "{'criterion': 'mae', 'max_depth': 6, 'n_estimators': 200} 0.7376 0.1603\n",
      "{'criterion': 'mae', 'max_depth': 8, 'n_estimators': 50} 0.7405 0.1567\n",
      "{'criterion': 'mae', 'max_depth': 8, 'n_estimators': 100} 0.7454 0.1541\n",
      "{'criterion': 'mae', 'max_depth': 8, 'n_estimators': 200} 0.7421 0.1601\n"
     ]
    }
   ],
   "source": [
    "results = grid_cv_regr.cv_results_\n",
    "for param, score_mean, score_sd in zip(results['params'], results['mean_test_score'], results['std_test_score']):\n",
    "    print(param, round(score_mean, 4), round(score_sd, 4))\n",
    "    \n",
    "#the highest is n=100, and mx depth 8 "
   ]
  },
  {
   "cell_type": "code",
   "execution_count": 416,
   "metadata": {},
   "outputs": [
    {
     "data": {
      "text/plain": [
       "0.9439053866082423"
      ]
     },
     "execution_count": 416,
     "metadata": {},
     "output_type": "execute_result"
    }
   ],
   "source": [
    "grid_cv_regr.score(X_test, Y_test) #this is really great!!!"
   ]
  },
  {
   "cell_type": "markdown",
   "metadata": {},
   "source": [
    "From here we see that hyperparameterization worked!!"
   ]
  },
  {
   "cell_type": "code",
   "execution_count": 372,
   "metadata": {
    "scrolled": false
   },
   "outputs": [
    {
     "data": {
      "image/png": "[encoded data removed]",
      "text/plain": [
       "<Figure size 1224x720 with 1 Axes>"
      ]
     },
     "metadata": {},
     "output_type": "display_data"
    }
   ],
   "source": [
    "plt.figure(figsize=(17, 10))\n",
    "plt.plot(Y_test, alpha = 0.3)\n",
    "plt.plot(Y_predicted, alpha = 0.4)\n",
    "\n",
    "# need to add legend\n",
    "plt.ylabel('normalized scale')\n",
    "plt.xticks(rotation=70)\n",
    "plt.show()"
   ]
  },
  {
   "cell_type": "markdown",
   "metadata": {},
   "source": [
    "grid_cv_regr.score(X_test, Y_test), performs the same thing, (notice the number is the same) it runs the model again with the optimized parameters\n",
    "\n",
    "Note: this doesn't forcast what is to come. This model tells us How changes in the Dow Jones (and other features) might cause changes in ethereum. If you can use Time series analysis to forecast changes in the dow jones, you might be able to predict changes in ethereum, but you dont have the ability to do forecasting with this model.\n",
    "\n",
    "Can A Regression model forecast? The most you can forcast Is If you predicted dow jones values and fed that prediction into a model to forcast ethereum price. Dow jones index has a lot of historical data backing it up as opposed to etheruem, so thats why it could posible be used as an exogeneous variable in a time series model (ARIMAX was looked into breifly for this prroject and more will be included on that.\n",
    "\n",
    "A classification model can be put into place in order to predict if the price of ethereum will go up or down. In order to do this all of the features that are deemed significant must also be converted to a binary list of 0's or 1's. A 0 signifying that the price dropped since the day before and a 1 signifying that the price rose since then.\n",
    "\n",
    "We will now look at classification and for this we weill drop the sentiment feature."
   ]
  },
  {
   "cell_type": "markdown",
   "metadata": {},
   "source": [
    "### now for classification "
   ]
  },
  {
   "cell_type": "code",
   "execution_count": 421,
   "metadata": {
    "collapsed": true
   },
   "outputs": [],
   "source": [
    "y = df_ultra_mega_frame['rise_lower']"
   ]
  },
  {
   "cell_type": "code",
   "execution_count": 422,
   "metadata": {
    "collapsed": true
   },
   "outputs": [],
   "source": [
    "y = np.array(df_ultra_mega_frame['rise_lower'])\n",
    "# Remove the labels from the features\n",
    "# axis 1 refers to the columns\n",
    "features= df_ultra_mega_frame.drop(['date','rise_lower','price_eth','sentiment'], axis = 1)\n",
    "# Saving feature names for later use\n",
    "feature_list = list(features.columns) #this way we remeber the column names\n",
    "# Convert to numpy array\n",
    "X = np.array(features) #because once we convert to np array it drops the names"
   ]
  },
  {
   "cell_type": "code",
   "execution_count": 461,
   "metadata": {},
   "outputs": [],
   "source": [
    "#features #toggle this to double check"
   ]
  },
  {
   "cell_type": "code",
   "execution_count": 424,
   "metadata": {
    "collapsed": true
   },
   "outputs": [],
   "source": [
    "from sklearn.model_selection import train_test_split\n",
    "# Split the data into training and testing sets\n",
    "\n",
    "X_train, X_test, Y_train, Y_test = train_test_split(X, y, test_size = 0.25, random_state = 42)"
   ]
  },
  {
   "cell_type": "code",
   "execution_count": 425,
   "metadata": {},
   "outputs": [
    {
     "data": {
      "text/plain": [
       "RandomForestClassifier(bootstrap=True, class_weight=None, criterion='gini',\n",
       "            max_depth=2, max_features='auto', max_leaf_nodes=None,\n",
       "            min_impurity_split=1e-07, min_samples_leaf=1,\n",
       "            min_samples_split=2, min_weight_fraction_leaf=0.0,\n",
       "            n_estimators=10, n_jobs=1, oob_score=False, random_state=0,\n",
       "            verbose=0, warm_start=False)"
      ]
     },
     "execution_count": 425,
     "metadata": {},
     "output_type": "execute_result"
    }
   ],
   "source": [
    "clf = RandomForestClassifier(max_depth=2, random_state=0)\n",
    "clf.fit(X_train, Y_train)"
   ]
  },
  {
   "cell_type": "code",
   "execution_count": 426,
   "metadata": {},
   "outputs": [
    {
     "data": {
      "text/plain": [
       "array([0.28857295, 0.24358315, 0.46784389])"
      ]
     },
     "execution_count": 426,
     "metadata": {},
     "output_type": "execute_result"
    }
   ],
   "source": [
    "clf.feature_importances_"
   ]
  },
  {
   "cell_type": "code",
   "execution_count": 427,
   "metadata": {},
   "outputs": [],
   "source": [
    "#features"
   ]
  },
  {
   "cell_type": "code",
   "execution_count": 428,
   "metadata": {},
   "outputs": [
    {
     "data": {
      "text/plain": [
       "array([1, 1, 0, 0, 1, 0, 1, 1, 1, 1, 1, 1, 0, 0, 0, 1, 0, 1, 1, 1, 1, 1,\n",
       "       0, 1, 0, 1, 0, 1, 1, 1, 1, 1])"
      ]
     },
     "execution_count": 428,
     "metadata": {},
     "output_type": "execute_result"
    }
   ],
   "source": [
    "clf.predict(X_test)"
   ]
  },
  {
   "cell_type": "code",
   "execution_count": 429,
   "metadata": {},
   "outputs": [
    {
     "data": {
      "text/plain": [
       "0.59375"
      ]
     },
     "execution_count": 429,
     "metadata": {},
     "output_type": "execute_result"
    }
   ],
   "source": [
    "clf.score(X_test, Y_test)"
   ]
  },
  {
   "cell_type": "code",
   "execution_count": 430,
   "metadata": {},
   "outputs": [
    {
     "data": {
      "text/plain": [
       "GridSearchCV(cv=5, error_score='raise',\n",
       "       estimator=RandomForestClassifier(bootstrap=True, class_weight=None, criterion='gini',\n",
       "            max_depth=2, max_features='auto', max_leaf_nodes=None,\n",
       "            min_impurity_split=1e-07, min_samples_leaf=1,\n",
       "            min_samples_split=2, min_weight_fraction_leaf=0.0,\n",
       "            n_estimators=10, n_jobs=1, oob_score=False, random_state=0,\n",
       "            verbose=0, warm_start=False),\n",
       "       fit_params={}, iid=True, n_jobs=1,\n",
       "       param_grid={'max_depth': [2, 6, 8], 'n_estimators': [50, 100, 200]},\n",
       "       pre_dispatch='2*n_jobs', refit=True, return_train_score=True,\n",
       "       scoring=None, verbose=0)"
      ]
     },
     "execution_count": 430,
     "metadata": {},
     "output_type": "execute_result"
    }
   ],
   "source": [
    "#use a grid search\n",
    "\n",
    "param_grid = {#\"criterion\": [\"mse\", \"mae\"], #mean squared error and mean absolute error in documentation\n",
    "              #\"min_samples_split\": [10, 20, 40],\n",
    "              \"max_depth\": [2, 6, 8],\n",
    "              \"n_estimators\":[50, 100, 200]\n",
    "              #\"min_samples_leaf\": [20, 40, 100],\n",
    "              #\"max_leaf_nodes\": [5, 20, 100, 500, 800],\n",
    "              }\n",
    "\n",
    "grid_cv_clf = GridSearchCV(clf, param_grid, cv=5)\n",
    "grid_cv_clf.fit(X_train, Y_train) #features and labels"
   ]
  },
  {
   "cell_type": "code",
   "execution_count": 432,
   "metadata": {},
   "outputs": [
    {
     "name": "stdout",
     "output_type": "stream",
     "text": [
      "R-Squared::0.781573998077793\n",
      "Best Hyperparameters::\n",
      "{'criterion': 'mse', 'max_depth': 8, 'n_estimators': 100}\n"
     ]
    }
   ],
   "source": [
    "print(\"R-Squared::{}\".format(grid_cv_regr.best_score_))\n",
    "print(\"Best Hyperparameters::\\n{}\".format(grid_cv_regr.best_params_))\n",
    "\n",
    "#random forest builds multiple decision trees \n",
    "#best number of decision trees\n",
    "#depth of each tree shouldnt be more than 8 levels\n",
    "#go down to 8 levels(splits) but dont split it further"
   ]
  },
  {
   "cell_type": "code",
   "execution_count": 433,
   "metadata": {},
   "outputs": [
    {
     "data": {
      "text/html": [
       "<div>\n",
       "<style>\n",
       "    .dataframe thead tr:only-child th {\n",
       "        text-align: right;\n",
       "    }\n",
       "\n",
       "    .dataframe thead th {\n",
       "        text-align: left;\n",
       "    }\n",
       "\n",
       "    .dataframe tbody tr th {\n",
       "        vertical-align: top;\n",
       "    }\n",
       "</style>\n",
       "<table border=\"1\" class=\"dataframe\">\n",
       "  <thead>\n",
       "    <tr style=\"text-align: right;\">\n",
       "      <th></th>\n",
       "      <th>mean_fit_time</th>\n",
       "      <th>mean_score_time</th>\n",
       "      <th>mean_test_score</th>\n",
       "      <th>mean_train_score</th>\n",
       "      <th>param_criterion</th>\n",
       "      <th>param_max_depth</th>\n",
       "      <th>param_n_estimators</th>\n",
       "      <th>params</th>\n",
       "      <th>rank_test_score</th>\n",
       "      <th>split0_test_score</th>\n",
       "      <th>...</th>\n",
       "      <th>split2_test_score</th>\n",
       "      <th>split2_train_score</th>\n",
       "      <th>split3_test_score</th>\n",
       "      <th>split3_train_score</th>\n",
       "      <th>split4_test_score</th>\n",
       "      <th>split4_train_score</th>\n",
       "      <th>std_fit_time</th>\n",
       "      <th>std_score_time</th>\n",
       "      <th>std_test_score</th>\n",
       "      <th>std_train_score</th>\n",
       "    </tr>\n",
       "  </thead>\n",
       "  <tbody>\n",
       "    <tr>\n",
       "      <th>0</th>\n",
       "      <td>0.041888</td>\n",
       "      <td>0.002651</td>\n",
       "      <td>0.635309</td>\n",
       "      <td>0.778977</td>\n",
       "      <td>mse</td>\n",
       "      <td>2</td>\n",
       "      <td>50</td>\n",
       "      <td>{'criterion': 'mse', 'max_depth': 2, 'n_estima...</td>\n",
       "      <td>15</td>\n",
       "      <td>0.613964</td>\n",
       "      <td>...</td>\n",
       "      <td>0.451744</td>\n",
       "      <td>0.804077</td>\n",
       "      <td>0.656762</td>\n",
       "      <td>0.758853</td>\n",
       "      <td>0.675603</td>\n",
       "      <td>0.792493</td>\n",
       "      <td>0.003935</td>\n",
       "      <td>0.000214</td>\n",
       "      <td>0.107580</td>\n",
       "      <td>0.016929</td>\n",
       "    </tr>\n",
       "    <tr>\n",
       "      <th>1</th>\n",
       "      <td>0.077543</td>\n",
       "      <td>0.004552</td>\n",
       "      <td>0.642203</td>\n",
       "      <td>0.783669</td>\n",
       "      <td>mse</td>\n",
       "      <td>2</td>\n",
       "      <td>100</td>\n",
       "      <td>{'criterion': 'mse', 'max_depth': 2, 'n_estima...</td>\n",
       "      <td>14</td>\n",
       "      <td>0.632470</td>\n",
       "      <td>...</td>\n",
       "      <td>0.452446</td>\n",
       "      <td>0.807411</td>\n",
       "      <td>0.661534</td>\n",
       "      <td>0.761985</td>\n",
       "      <td>0.677862</td>\n",
       "      <td>0.795574</td>\n",
       "      <td>0.002597</td>\n",
       "      <td>0.000045</td>\n",
       "      <td>0.109303</td>\n",
       "      <td>0.016629</td>\n",
       "    </tr>\n",
       "    <tr>\n",
       "      <th>2</th>\n",
       "      <td>0.158933</td>\n",
       "      <td>0.009298</td>\n",
       "      <td>0.645046</td>\n",
       "      <td>0.783199</td>\n",
       "      <td>mse</td>\n",
       "      <td>2</td>\n",
       "      <td>200</td>\n",
       "      <td>{'criterion': 'mse', 'max_depth': 2, 'n_estima...</td>\n",
       "      <td>13</td>\n",
       "      <td>0.646579</td>\n",
       "      <td>...</td>\n",
       "      <td>0.453979</td>\n",
       "      <td>0.809105</td>\n",
       "      <td>0.664311</td>\n",
       "      <td>0.762408</td>\n",
       "      <td>0.674158</td>\n",
       "      <td>0.792468</td>\n",
       "      <td>0.005065</td>\n",
       "      <td>0.000535</td>\n",
       "      <td>0.108315</td>\n",
       "      <td>0.016699</td>\n",
       "    </tr>\n",
       "    <tr>\n",
       "      <th>3</th>\n",
       "      <td>0.041263</td>\n",
       "      <td>0.002623</td>\n",
       "      <td>0.772805</td>\n",
       "      <td>0.966819</td>\n",
       "      <td>mse</td>\n",
       "      <td>6</td>\n",
       "      <td>50</td>\n",
       "      <td>{'criterion': 'mse', 'max_depth': 6, 'n_estima...</td>\n",
       "      <td>6</td>\n",
       "      <td>0.779761</td>\n",
       "      <td>...</td>\n",
       "      <td>0.534255</td>\n",
       "      <td>0.973722</td>\n",
       "      <td>0.834329</td>\n",
       "      <td>0.969750</td>\n",
       "      <td>0.826922</td>\n",
       "      <td>0.963078</td>\n",
       "      <td>0.001896</td>\n",
       "      <td>0.000175</td>\n",
       "      <td>0.125263</td>\n",
       "      <td>0.004298</td>\n",
       "    </tr>\n",
       "    <tr>\n",
       "      <th>4</th>\n",
       "      <td>0.091718</td>\n",
       "      <td>0.005263</td>\n",
       "      <td>0.779033</td>\n",
       "      <td>0.967569</td>\n",
       "      <td>mse</td>\n",
       "      <td>6</td>\n",
       "      <td>100</td>\n",
       "      <td>{'criterion': 'mse', 'max_depth': 6, 'n_estima...</td>\n",
       "      <td>3</td>\n",
       "      <td>0.771612</td>\n",
       "      <td>...</td>\n",
       "      <td>0.537566</td>\n",
       "      <td>0.973433</td>\n",
       "      <td>0.843001</td>\n",
       "      <td>0.968763</td>\n",
       "      <td>0.847150</td>\n",
       "      <td>0.964772</td>\n",
       "      <td>0.006922</td>\n",
       "      <td>0.000456</td>\n",
       "      <td>0.128224</td>\n",
       "      <td>0.003374</td>\n",
       "    </tr>\n",
       "  </tbody>\n",
       "</table>\n",
       "<p>5 rows × 23 columns</p>\n",
       "</div>"
      ],
      "text/plain": [
       "   mean_fit_time  mean_score_time  mean_test_score  mean_train_score  \\\n",
       "0       0.041888         0.002651         0.635309          0.778977   \n",
       "1       0.077543         0.004552         0.642203          0.783669   \n",
       "2       0.158933         0.009298         0.645046          0.783199   \n",
       "3       0.041263         0.002623         0.772805          0.966819   \n",
       "4       0.091718         0.005263         0.779033          0.967569   \n",
       "\n",
       "  param_criterion param_max_depth param_n_estimators  \\\n",
       "0             mse               2                 50   \n",
       "1             mse               2                100   \n",
       "2             mse               2                200   \n",
       "3             mse               6                 50   \n",
       "4             mse               6                100   \n",
       "\n",
       "                                              params  rank_test_score  \\\n",
       "0  {'criterion': 'mse', 'max_depth': 2, 'n_estima...               15   \n",
       "1  {'criterion': 'mse', 'max_depth': 2, 'n_estima...               14   \n",
       "2  {'criterion': 'mse', 'max_depth': 2, 'n_estima...               13   \n",
       "3  {'criterion': 'mse', 'max_depth': 6, 'n_estima...                6   \n",
       "4  {'criterion': 'mse', 'max_depth': 6, 'n_estima...                3   \n",
       "\n",
       "   split0_test_score       ...         split2_test_score  split2_train_score  \\\n",
       "0           0.613964       ...                  0.451744            0.804077   \n",
       "1           0.632470       ...                  0.452446            0.807411   \n",
       "2           0.646579       ...                  0.453979            0.809105   \n",
       "3           0.779761       ...                  0.534255            0.973722   \n",
       "4           0.771612       ...                  0.537566            0.973433   \n",
       "\n",
       "   split3_test_score  split3_train_score  split4_test_score  \\\n",
       "0           0.656762            0.758853           0.675603   \n",
       "1           0.661534            0.761985           0.677862   \n",
       "2           0.664311            0.762408           0.674158   \n",
       "3           0.834329            0.969750           0.826922   \n",
       "4           0.843001            0.968763           0.847150   \n",
       "\n",
       "   split4_train_score  std_fit_time  std_score_time  std_test_score  \\\n",
       "0            0.792493      0.003935        0.000214        0.107580   \n",
       "1            0.795574      0.002597        0.000045        0.109303   \n",
       "2            0.792468      0.005065        0.000535        0.108315   \n",
       "3            0.963078      0.001896        0.000175        0.125263   \n",
       "4            0.964772      0.006922        0.000456        0.128224   \n",
       "\n",
       "   std_train_score  \n",
       "0         0.016929  \n",
       "1         0.016629  \n",
       "2         0.016699  \n",
       "3         0.004298  \n",
       "4         0.003374  \n",
       "\n",
       "[5 rows x 23 columns]"
      ]
     },
     "execution_count": 433,
     "metadata": {},
     "output_type": "execute_result"
    }
   ],
   "source": [
    "df = pd.DataFrame(data=grid_cv_regr.cv_results_)\n",
    "df.head()"
   ]
  },
  {
   "cell_type": "code",
   "execution_count": 434,
   "metadata": {},
   "outputs": [
    {
     "data": {
      "text/plain": [
       "0.46875"
      ]
     },
     "execution_count": 434,
     "metadata": {},
     "output_type": "execute_result"
    }
   ],
   "source": [
    "grid_cv_clf.score(X_test, Y_test)"
   ]
  },
  {
   "cell_type": "markdown",
   "metadata": {},
   "source": [
    "It feels as if what we did here was comparing apples and oranges. Comparing apples with apples would be more like, did dow jones increase? did google search frequency increase? a score around 50 percent is actually a likely result here, because this is a binary target, and nothing in my features say anything about the previous day. Here we are taking a bunch of values and trying to figure out weather these values were higher or lower than the previous day, but we have no information about the previous day in our dfeatures matrix. For example when looking at one line of data from our features matrix, does any cell in this line tell us something about the previous day? On any given line how does it compare to the one before it? All these values are independent from the day before, acording to my model, because we are not saying how they are related.\n",
    "\n",
    "Now we will explore another idea for a classifier. For every single feature, make it an up or down binary vector. We should get way better results because we are not simply flipping a coin anymore. The binary of dow jones having gone up or down up or down should be more predictive."
   ]
  },
  {
   "cell_type": "markdown",
   "metadata": {
    "collapsed": true
   },
   "source": [
    "### Classification with binary features:\n",
    "first we will make some binary features from lists utilizing the enumerate function. What the binary representation will indicate is the following: if the value went up from the day before we will attribute a 1 to that value. Each element in the vector is saying something about what direction price went from the day before."
   ]
  },
  {
   "cell_type": "code",
   "execution_count": 436,
   "metadata": {},
   "outputs": [],
   "source": [
    "rise_fall_list_DJI = []\n",
    "\n",
    "for index, item in enumerate(df_ultra_mega_frame['DJI']):\n",
    "    if df_ultra_mega_frame['DJI'].iloc[index-1] < df_ultra_mega_frame['DJI'].iloc[index]:\n",
    "        rise_fall_list_DJI.append(1)\n",
    "    else:\n",
    "        rise_fall_list_DJI.append(0)\n",
    "        \n",
    "\n",
    "df_ultra_mega_frame['rise_lower_dji'] = rise_fall_list_DJI\n",
    "\n",
    "#--------\n",
    "rise_fall_list_BTC = []\n",
    "\n",
    "for index, item in enumerate(df_ultra_mega_frame['price_btc']):\n",
    "    if df_ultra_mega_frame['price_btc'].iloc[index-1] < df_ultra_mega_frame['price_btc'].iloc[index]:\n",
    "        rise_fall_list_BTC.append(1)\n",
    "    else:\n",
    "        rise_fall_list_BTC.append(0)\n",
    "        \n",
    "\n",
    "df_ultra_mega_frame['rise_lower_btc'] = rise_fall_list_BTC\n",
    "\n",
    "#---------\n",
    "rise_fall_list_SF = []\n",
    "\n",
    "for index, item in enumerate(df_ultra_mega_frame['SearchFrequency']):\n",
    "    if df_ultra_mega_frame['SearchFrequency'].iloc[index-1] < df_ultra_mega_frame['SearchFrequency'].iloc[index]:\n",
    "        rise_fall_list_SF.append(1)\n",
    "    else:\n",
    "        rise_fall_list_SF.append(0)\n",
    "        \n",
    "\n",
    "df_ultra_mega_frame['rise_lower_sf'] = rise_fall_list_SF\n",
    "\n",
    "df_ultra_mega_frame = df_ultra_mega_frame['2017-11-17':]"
   ]
  },
  {
   "cell_type": "markdown",
   "metadata": {},
   "source": [
    "Note that at the bottom of this code block we chop off the first line of the data frame because at this pint we are only dealing with the binary features and we do not have information to say whether the first element of our data set rose in price or fell in price."
   ]
  },
  {
   "cell_type": "code",
   "execution_count": 449,
   "metadata": {
    "collapsed": true
   },
   "outputs": [],
   "source": [
    "y = df_ultra_mega_frame['rise_lower'] #setting our label y"
   ]
  },
  {
   "cell_type": "code",
   "execution_count": 450,
   "metadata": {
    "collapsed": true
   },
   "outputs": [],
   "source": [
    "y = np.array(df_ultra_mega_frame['rise_lower'])\n",
    "# Remove the labels from the features\n",
    "# axis 1 refers to the columns\n",
    "features= df_ultra_mega_frame.filter(['rise_lower_dji','rise_lower_btc','rise_lower_sf'], axis = 1)\n",
    "# Saving feature names for later use\n",
    "feature_list = list(features.columns) #this way we remeber the column names\n",
    "# Convert to numpy array\n",
    "X = np.array(features) #because once we convert to np array it drops the names"
   ]
  },
  {
   "cell_type": "code",
   "execution_count": 451,
   "metadata": {},
   "outputs": [],
   "source": [
    "#features"
   ]
  },
  {
   "cell_type": "code",
   "execution_count": 452,
   "metadata": {},
   "outputs": [
    {
     "data": {
      "text/plain": [
       "RandomForestClassifier(bootstrap=True, class_weight=None, criterion='gini',\n",
       "            max_depth=2, max_features='auto', max_leaf_nodes=None,\n",
       "            min_impurity_split=1e-07, min_samples_leaf=1,\n",
       "            min_samples_split=2, min_weight_fraction_leaf=0.0,\n",
       "            n_estimators=10, n_jobs=1, oob_score=False, random_state=0,\n",
       "            verbose=0, warm_start=False)"
      ]
     },
     "execution_count": 452,
     "metadata": {},
     "output_type": "execute_result"
    }
   ],
   "source": [
    "X_train, X_test, Y_train, Y_test = train_test_split(X, y, test_size = 0.25, random_state = 42)\n",
    "clf = RandomForestClassifier(max_depth=2, random_state=0)\n",
    "clf.fit(X_train, Y_train)"
   ]
  },
  {
   "cell_type": "code",
   "execution_count": 453,
   "metadata": {},
   "outputs": [
    {
     "data": {
      "text/plain": [
       "array([0.12937936, 0.78567976, 0.08494088])"
      ]
     },
     "execution_count": 453,
     "metadata": {},
     "output_type": "execute_result"
    }
   ],
   "source": [
    "clf.feature_importances_"
   ]
  },
  {
   "cell_type": "code",
   "execution_count": 454,
   "metadata": {},
   "outputs": [
    {
     "data": {
      "text/plain": [
       "array([1, 1, 1, 0, 0, 1, 1, 1, 0, 0, 1, 0, 1, 0, 1, 0, 1, 1, 1, 1, 1, 1,\n",
       "       0, 0, 0, 0, 0, 1, 0, 1, 1, 0])"
      ]
     },
     "execution_count": 454,
     "metadata": {},
     "output_type": "execute_result"
    }
   ],
   "source": [
    "clf.predict(X_test)"
   ]
  },
  {
   "cell_type": "code",
   "execution_count": 455,
   "metadata": {},
   "outputs": [
    {
     "data": {
      "text/plain": [
       "0.6875"
      ]
     },
     "execution_count": 455,
     "metadata": {},
     "output_type": "execute_result"
    }
   ],
   "source": [
    "clf.score(X_test, Y_test)"
   ]
  },
  {
   "cell_type": "code",
   "execution_count": 456,
   "metadata": {},
   "outputs": [
    {
     "data": {
      "text/plain": [
       "GridSearchCV(cv=5, error_score='raise',\n",
       "       estimator=RandomForestClassifier(bootstrap=True, class_weight=None, criterion='gini',\n",
       "            max_depth=2, max_features='auto', max_leaf_nodes=None,\n",
       "            min_impurity_split=1e-07, min_samples_leaf=1,\n",
       "            min_samples_split=2, min_weight_fraction_leaf=0.0,\n",
       "            n_estimators=10, n_jobs=1, oob_score=False, random_state=0,\n",
       "            verbose=0, warm_start=False),\n",
       "       fit_params={}, iid=True, n_jobs=1,\n",
       "       param_grid={'max_depth': [2, 6, 8], 'n_estimators': [50, 100, 200]},\n",
       "       pre_dispatch='2*n_jobs', refit=True, return_train_score=True,\n",
       "       scoring=None, verbose=0)"
      ]
     },
     "execution_count": 456,
     "metadata": {},
     "output_type": "execute_result"
    }
   ],
   "source": [
    "#use a grid search\n",
    "\n",
    "param_grid = {#\"criterion\": [\"mse\", \"mae\"], #mean squared error and mean absolute error in documentation\n",
    "              #\"min_samples_split\": [10, 20, 40],\n",
    "              \"max_depth\": [2, 6, 8],\n",
    "              \"n_estimators\":[50, 100, 200]\n",
    "              #\"min_samples_leaf\": [20, 40, 100],\n",
    "              #\"max_leaf_nodes\": [5, 20, 100, 500, 800],\n",
    "              }\n",
    "\n",
    "grid_cv_clf = GridSearchCV(clf, param_grid, cv=5)\n",
    "\n",
    "grid_cv_clf.fit(X_train, Y_train) #features and labels"
   ]
  },
  {
   "cell_type": "code",
   "execution_count": 457,
   "metadata": {},
   "outputs": [
    {
     "name": "stdout",
     "output_type": "stream",
     "text": [
      "R-Squared::0.781573998077793\n",
      "Best Hyperparameters::\n",
      "{'criterion': 'mse', 'max_depth': 8, 'n_estimators': 100}\n"
     ]
    }
   ],
   "source": [
    "print(\"R-Squared::{}\".format(grid_cv_regr.best_score_))\n",
    "print(\"Best Hyperparameters::\\n{}\".format(grid_cv_regr.best_params_))\n",
    "\n",
    "#random forest builds multiple decision trees \n",
    "#best number of decision trees\n",
    "#depth of each tree shouldnt be more than 8 levels\n",
    "#go down to 8 levels(splits) but dont split it further"
   ]
  },
  {
   "cell_type": "code",
   "execution_count": 458,
   "metadata": {},
   "outputs": [
    {
     "data": {
      "text/html": [
       "<div>\n",
       "<style>\n",
       "    .dataframe thead tr:only-child th {\n",
       "        text-align: right;\n",
       "    }\n",
       "\n",
       "    .dataframe thead th {\n",
       "        text-align: left;\n",
       "    }\n",
       "\n",
       "    .dataframe tbody tr th {\n",
       "        vertical-align: top;\n",
       "    }\n",
       "</style>\n",
       "<table border=\"1\" class=\"dataframe\">\n",
       "  <thead>\n",
       "    <tr style=\"text-align: right;\">\n",
       "      <th></th>\n",
       "      <th>mean_fit_time</th>\n",
       "      <th>mean_score_time</th>\n",
       "      <th>mean_test_score</th>\n",
       "      <th>mean_train_score</th>\n",
       "      <th>param_criterion</th>\n",
       "      <th>param_max_depth</th>\n",
       "      <th>param_n_estimators</th>\n",
       "      <th>params</th>\n",
       "      <th>rank_test_score</th>\n",
       "      <th>split0_test_score</th>\n",
       "      <th>...</th>\n",
       "      <th>split2_test_score</th>\n",
       "      <th>split2_train_score</th>\n",
       "      <th>split3_test_score</th>\n",
       "      <th>split3_train_score</th>\n",
       "      <th>split4_test_score</th>\n",
       "      <th>split4_train_score</th>\n",
       "      <th>std_fit_time</th>\n",
       "      <th>std_score_time</th>\n",
       "      <th>std_test_score</th>\n",
       "      <th>std_train_score</th>\n",
       "    </tr>\n",
       "  </thead>\n",
       "  <tbody>\n",
       "    <tr>\n",
       "      <th>0</th>\n",
       "      <td>0.041888</td>\n",
       "      <td>0.002651</td>\n",
       "      <td>0.635309</td>\n",
       "      <td>0.778977</td>\n",
       "      <td>mse</td>\n",
       "      <td>2</td>\n",
       "      <td>50</td>\n",
       "      <td>{'criterion': 'mse', 'max_depth': 2, 'n_estima...</td>\n",
       "      <td>15</td>\n",
       "      <td>0.613964</td>\n",
       "      <td>...</td>\n",
       "      <td>0.451744</td>\n",
       "      <td>0.804077</td>\n",
       "      <td>0.656762</td>\n",
       "      <td>0.758853</td>\n",
       "      <td>0.675603</td>\n",
       "      <td>0.792493</td>\n",
       "      <td>0.003935</td>\n",
       "      <td>0.000214</td>\n",
       "      <td>0.107580</td>\n",
       "      <td>0.016929</td>\n",
       "    </tr>\n",
       "    <tr>\n",
       "      <th>1</th>\n",
       "      <td>0.077543</td>\n",
       "      <td>0.004552</td>\n",
       "      <td>0.642203</td>\n",
       "      <td>0.783669</td>\n",
       "      <td>mse</td>\n",
       "      <td>2</td>\n",
       "      <td>100</td>\n",
       "      <td>{'criterion': 'mse', 'max_depth': 2, 'n_estima...</td>\n",
       "      <td>14</td>\n",
       "      <td>0.632470</td>\n",
       "      <td>...</td>\n",
       "      <td>0.452446</td>\n",
       "      <td>0.807411</td>\n",
       "      <td>0.661534</td>\n",
       "      <td>0.761985</td>\n",
       "      <td>0.677862</td>\n",
       "      <td>0.795574</td>\n",
       "      <td>0.002597</td>\n",
       "      <td>0.000045</td>\n",
       "      <td>0.109303</td>\n",
       "      <td>0.016629</td>\n",
       "    </tr>\n",
       "    <tr>\n",
       "      <th>2</th>\n",
       "      <td>0.158933</td>\n",
       "      <td>0.009298</td>\n",
       "      <td>0.645046</td>\n",
       "      <td>0.783199</td>\n",
       "      <td>mse</td>\n",
       "      <td>2</td>\n",
       "      <td>200</td>\n",
       "      <td>{'criterion': 'mse', 'max_depth': 2, 'n_estima...</td>\n",
       "      <td>13</td>\n",
       "      <td>0.646579</td>\n",
       "      <td>...</td>\n",
       "      <td>0.453979</td>\n",
       "      <td>0.809105</td>\n",
       "      <td>0.664311</td>\n",
       "      <td>0.762408</td>\n",
       "      <td>0.674158</td>\n",
       "      <td>0.792468</td>\n",
       "      <td>0.005065</td>\n",
       "      <td>0.000535</td>\n",
       "      <td>0.108315</td>\n",
       "      <td>0.016699</td>\n",
       "    </tr>\n",
       "    <tr>\n",
       "      <th>3</th>\n",
       "      <td>0.041263</td>\n",
       "      <td>0.002623</td>\n",
       "      <td>0.772805</td>\n",
       "      <td>0.966819</td>\n",
       "      <td>mse</td>\n",
       "      <td>6</td>\n",
       "      <td>50</td>\n",
       "      <td>{'criterion': 'mse', 'max_depth': 6, 'n_estima...</td>\n",
       "      <td>6</td>\n",
       "      <td>0.779761</td>\n",
       "      <td>...</td>\n",
       "      <td>0.534255</td>\n",
       "      <td>0.973722</td>\n",
       "      <td>0.834329</td>\n",
       "      <td>0.969750</td>\n",
       "      <td>0.826922</td>\n",
       "      <td>0.963078</td>\n",
       "      <td>0.001896</td>\n",
       "      <td>0.000175</td>\n",
       "      <td>0.125263</td>\n",
       "      <td>0.004298</td>\n",
       "    </tr>\n",
       "    <tr>\n",
       "      <th>4</th>\n",
       "      <td>0.091718</td>\n",
       "      <td>0.005263</td>\n",
       "      <td>0.779033</td>\n",
       "      <td>0.967569</td>\n",
       "      <td>mse</td>\n",
       "      <td>6</td>\n",
       "      <td>100</td>\n",
       "      <td>{'criterion': 'mse', 'max_depth': 6, 'n_estima...</td>\n",
       "      <td>3</td>\n",
       "      <td>0.771612</td>\n",
       "      <td>...</td>\n",
       "      <td>0.537566</td>\n",
       "      <td>0.973433</td>\n",
       "      <td>0.843001</td>\n",
       "      <td>0.968763</td>\n",
       "      <td>0.847150</td>\n",
       "      <td>0.964772</td>\n",
       "      <td>0.006922</td>\n",
       "      <td>0.000456</td>\n",
       "      <td>0.128224</td>\n",
       "      <td>0.003374</td>\n",
       "    </tr>\n",
       "  </tbody>\n",
       "</table>\n",
       "<p>5 rows × 23 columns</p>\n",
       "</div>"
      ],
      "text/plain": [
       "   mean_fit_time  mean_score_time  mean_test_score  mean_train_score  \\\n",
       "0       0.041888         0.002651         0.635309          0.778977   \n",
       "1       0.077543         0.004552         0.642203          0.783669   \n",
       "2       0.158933         0.009298         0.645046          0.783199   \n",
       "3       0.041263         0.002623         0.772805          0.966819   \n",
       "4       0.091718         0.005263         0.779033          0.967569   \n",
       "\n",
       "  param_criterion param_max_depth param_n_estimators  \\\n",
       "0             mse               2                 50   \n",
       "1             mse               2                100   \n",
       "2             mse               2                200   \n",
       "3             mse               6                 50   \n",
       "4             mse               6                100   \n",
       "\n",
       "                                              params  rank_test_score  \\\n",
       "0  {'criterion': 'mse', 'max_depth': 2, 'n_estima...               15   \n",
       "1  {'criterion': 'mse', 'max_depth': 2, 'n_estima...               14   \n",
       "2  {'criterion': 'mse', 'max_depth': 2, 'n_estima...               13   \n",
       "3  {'criterion': 'mse', 'max_depth': 6, 'n_estima...                6   \n",
       "4  {'criterion': 'mse', 'max_depth': 6, 'n_estima...                3   \n",
       "\n",
       "   split0_test_score       ...         split2_test_score  split2_train_score  \\\n",
       "0           0.613964       ...                  0.451744            0.804077   \n",
       "1           0.632470       ...                  0.452446            0.807411   \n",
       "2           0.646579       ...                  0.453979            0.809105   \n",
       "3           0.779761       ...                  0.534255            0.973722   \n",
       "4           0.771612       ...                  0.537566            0.973433   \n",
       "\n",
       "   split3_test_score  split3_train_score  split4_test_score  \\\n",
       "0           0.656762            0.758853           0.675603   \n",
       "1           0.661534            0.761985           0.677862   \n",
       "2           0.664311            0.762408           0.674158   \n",
       "3           0.834329            0.969750           0.826922   \n",
       "4           0.843001            0.968763           0.847150   \n",
       "\n",
       "   split4_train_score  std_fit_time  std_score_time  std_test_score  \\\n",
       "0            0.792493      0.003935        0.000214        0.107580   \n",
       "1            0.795574      0.002597        0.000045        0.109303   \n",
       "2            0.792468      0.005065        0.000535        0.108315   \n",
       "3            0.963078      0.001896        0.000175        0.125263   \n",
       "4            0.964772      0.006922        0.000456        0.128224   \n",
       "\n",
       "   std_train_score  \n",
       "0         0.016929  \n",
       "1         0.016629  \n",
       "2         0.016699  \n",
       "3         0.004298  \n",
       "4         0.003374  \n",
       "\n",
       "[5 rows x 23 columns]"
      ]
     },
     "execution_count": 458,
     "metadata": {},
     "output_type": "execute_result"
    }
   ],
   "source": [
    "df = pd.DataFrame(data=grid_cv_regr.cv_results_)\n",
    "df.head()"
   ]
  },
  {
   "cell_type": "code",
   "execution_count": 459,
   "metadata": {},
   "outputs": [
    {
     "data": {
      "text/plain": [
       "0.6875"
      ]
     },
     "execution_count": 459,
     "metadata": {},
     "output_type": "execute_result"
    }
   ],
   "source": [
    "grid_cv_clf.score(X_test,Y_test)"
   ]
  },
  {
   "cell_type": "markdown",
   "metadata": {},
   "source": [
    "here hyperparameterization did not improve!"
   ]
  },
  {
   "cell_type": "code",
   "execution_count": null,
   "metadata": {
    "collapsed": true
   },
   "outputs": [],
   "source": []
  }
 ],
 "metadata": {
  "anaconda-cloud": {},
  "kernelspec": {
   "display_name": "Python 3",
   "language": "python",
   "name": "python3"
  },
  "language_info": {
   "codemirror_mode": {
    "name": "ipython",
    "version": 3
   },
   "file_extension": ".py",
   "mimetype": "text/x-python",
   "name": "python",
   "nbconvert_exporter": "python",
   "pygments_lexer": "ipython3",
   "version": "3.6.5"
  }
 },
 "nbformat": 4,
 "nbformat_minor": 2
}
