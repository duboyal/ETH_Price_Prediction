{
 "cells": [
  {
   "cell_type": "code",
   "execution_count": 1,
   "metadata": {
    "collapsed": true
   },
   "outputs": [],
   "source": [
    "import pandas as pd\n",
    "import numpy as np\n",
    "from sklearn.model_selection import GridSearchCV\n",
    "from sklearn.ensemble import RandomForestClassifier"
   ]
  },
  {
   "cell_type": "markdown",
   "metadata": {},
   "source": [
    "#### Reading in the data\n",
    "First we read in the data properly format the index as datetime and load all features into a dataframe "
   ]
  },
  {
   "cell_type": "code",
   "execution_count": 2,
   "metadata": {
    "collapsed": true
   },
   "outputs": [],
   "source": [
    "#loading in the google search frequency Data\n",
    "\n",
    "df1 = pd.read_csv('../1)DATA/Google_Trends/google_trends_bitcoin.csv')\n",
    "df1['date'] = df1['date'].dropna()\n",
    "df1 = df1[df1['date'].isnull() == False]\n",
    "\n",
    "df2 = pd.read_csv('../1)DATA/Google_Trends/google_trends_blockchain.csv')\n",
    "df2['date'] = df2['date'].dropna()\n",
    "df2 = df2[df2['date'].isnull() == False]\n",
    "\n",
    "df3 = pd.read_csv('../1)DATA/Google_Trends/google_trends_cryp.csv')\n",
    "df3['date'] = df3['date'].dropna()\n",
    "df3 = df3[df3['date'].isnull() == False]\n",
    "\n",
    "df4 = pd.read_csv('../1)DATA/Google_Trends/google_trends_eth.csv')\n",
    "df4['date'] = df4['date'].dropna()\n",
    "df4 = df4[df4['date'].isnull() == False]\n"
   ]
  },
  {
   "cell_type": "code",
   "execution_count": 3,
   "metadata": {
    "collapsed": true
   },
   "outputs": [],
   "source": [
    "df_list1 = [df1, df2, df3, df4]"
   ]
  },
  {
   "cell_type": "code",
   "execution_count": 4,
   "metadata": {
    "collapsed": true
   },
   "outputs": [],
   "source": [
    "df_google_mega = df1.append(df2)\n",
    "df_google_mega = df_google_mega.append(df3)\n",
    "df_google_mega = df_google_mega.append(df4)"
   ]
  },
  {
   "cell_type": "code",
   "execution_count": 5,
   "metadata": {
    "collapsed": true
   },
   "outputs": [],
   "source": [
    "df_google_mega = df_google_mega.sort_values('date')"
   ]
  },
  {
   "cell_type": "code",
   "execution_count": 6,
   "metadata": {
    "collapsed": true
   },
   "outputs": [],
   "source": [
    "df_google_mega = df_google_mega.groupby('date').sum()\n",
    "#i think groupby set it to be the index?\n",
    "# print(df_google_mega.index) is telling me the index is the date"
   ]
  },
  {
   "cell_type": "code",
   "execution_count": 7,
   "metadata": {
    "collapsed": true
   },
   "outputs": [],
   "source": [
    "df_google_mega = df_google_mega['2017-11-16':'2018-03-21']"
   ]
  },
  {
   "cell_type": "code",
   "execution_count": 8,
   "metadata": {
    "collapsed": true
   },
   "outputs": [],
   "source": [
    "df_google_mega.to_csv('google_mega.csv')"
   ]
  },
  {
   "cell_type": "code",
   "execution_count": 9,
   "metadata": {
    "collapsed": true
   },
   "outputs": [],
   "source": [
    "#df_google_mega"
   ]
  },
  {
   "cell_type": "code",
   "execution_count": 10,
   "metadata": {
    "collapsed": true
   },
   "outputs": [],
   "source": [
    "#loading in the DJI feature\n",
    "\n",
    "df_DJI = pd.read_csv('../1)DATA/DJI.csv')\n",
    "df_DJI.index = df_DJI['Date']\n",
    "#df_DJI = df_DJI['Close']\n",
    "df_DJI = df_DJI['2017-11-16':'2018-03-21']\n"
   ]
  },
  {
   "cell_type": "code",
   "execution_count": 11,
   "metadata": {
    "collapsed": true
   },
   "outputs": [],
   "source": [
    "df_btc = pd.read_csv('../1)DATA/final_btc_price.csv', header=None, names = ['Date','Price'])\n",
    "df_eth = pd.read_csv('../1)DATA/final_eth_price.csv', header=None, names = ['Date','Price'])\n",
    "#Header = none is essential or else it would replace first data point with names"
   ]
  },
  {
   "cell_type": "code",
   "execution_count": 12,
   "metadata": {
    "collapsed": true
   },
   "outputs": [],
   "source": [
    "df_sent = pd.read_csv('../1)DATA/sent_polarity_feature.csv', header=None, names = ['Date','Sent'])\n",
    "df_sent.index = df_sent['Date']"
   ]
  },
  {
   "cell_type": "code",
   "execution_count": 13,
   "metadata": {
    "collapsed": true
   },
   "outputs": [],
   "source": [
    "#pd.read_csv(data, usecols=['foo', 'bar'])\n",
    "#df_btc = pd.read_csv('final_btc_price.csv', header=None, names = ['Date','Price'])\n",
    "\n",
    "df_btc.index = df_btc['Date']\n",
    "#df_btc = df_btc['Price']\n",
    "df_btc = df_btc['2017-11-16':'2018-03-21']\n"
   ]
  },
  {
   "cell_type": "code",
   "execution_count": 14,
   "metadata": {
    "collapsed": true
   },
   "outputs": [],
   "source": [
    "#df_btc"
   ]
  },
  {
   "cell_type": "code",
   "execution_count": 15,
   "metadata": {
    "collapsed": true
   },
   "outputs": [],
   "source": [
    "#pd.read_csv(data, usecols=['foo', 'bar'])\n",
    "#df_btc = pd.read_csv('final_btc_price.csv', header=None, names = ['Date','Price'])\n",
    "\n",
    "df_eth.index = df_eth['Date']\n",
    "#df_eth = df_eth['Price']\n",
    "df_eth = df_eth['2017-11-16':'2018-03-21']\n"
   ]
  },
  {
   "cell_type": "code",
   "execution_count": 16,
   "metadata": {
    "collapsed": true
   },
   "outputs": [],
   "source": [
    "#MAKING ONE DATAFRAME \n",
    "df_ultra_mega_frame = df_google_mega"
   ]
  },
  {
   "cell_type": "code",
   "execution_count": 17,
   "metadata": {
    "collapsed": true
   },
   "outputs": [],
   "source": [
    "df_ultra_mega_frame['DJI'] = df_DJI['Close']"
   ]
  },
  {
   "cell_type": "code",
   "execution_count": 18,
   "metadata": {},
   "outputs": [
    {
     "name": "stderr",
     "output_type": "stream",
     "text": [
      "/Users/Alexandra/anaconda/lib/python3.6/site-packages/pandas/core/indexing.py:179: SettingWithCopyWarning: \n",
      "A value is trying to be set on a copy of a slice from a DataFrame\n",
      "\n",
      "See the caveats in the documentation: http://pandas.pydata.org/pandas-docs/stable/indexing.html#indexing-view-versus-copy\n",
      "  self._setitem_with_indexer(indexer, value)\n"
     ]
    }
   ],
   "source": [
    "for index, item in enumerate(df_ultra_mega_frame['DJI']):\n",
    "    if np.isnan(item) == True:\n",
    "        df_ultra_mega_frame['DJI'].iloc[index] = df_ultra_mega_frame['DJI'].iloc[index-1]\n",
    "        #THANK YOU DAN!\n",
    "        \n",
    "#df_ultra_mega_frame['DJI'] = "
   ]
  },
  {
   "cell_type": "code",
   "execution_count": 19,
   "metadata": {
    "collapsed": true
   },
   "outputs": [],
   "source": [
    "df_ultra_mega_frame['price_btc'] = df_btc['Price']"
   ]
  },
  {
   "cell_type": "code",
   "execution_count": 20,
   "metadata": {
    "collapsed": true
   },
   "outputs": [],
   "source": [
    "df_ultra_mega_frame['price_eth'] = df_eth['Price']"
   ]
  },
  {
   "cell_type": "code",
   "execution_count": 21,
   "metadata": {
    "collapsed": true
   },
   "outputs": [],
   "source": [
    "df_ultra_mega_frame['sentiment'] = df_sent['Sent']"
   ]
  },
  {
   "cell_type": "code",
   "execution_count": 22,
   "metadata": {},
   "outputs": [
    {
     "name": "stdout",
     "output_type": "stream",
     "text": [
      "<class 'pandas.core.frame.DataFrame'>\n",
      "Index: 126 entries, 2017-11-16 to 2018-03-21\n",
      "Data columns (total 5 columns):\n",
      "SearchFrequency    126 non-null int64\n",
      "DJI                126 non-null float64\n",
      "price_btc          126 non-null float64\n",
      "price_eth          126 non-null float64\n",
      "sentiment          126 non-null float64\n",
      "dtypes: float64(4), int64(1)\n",
      "memory usage: 5.9+ KB\n"
     ]
    }
   ],
   "source": [
    "df_ultra_mega_frame.info()"
   ]
  },
  {
   "cell_type": "code",
   "execution_count": 23,
   "metadata": {
    "collapsed": true
   },
   "outputs": [],
   "source": [
    "df_ultra_mega_frame.to_csv('../1)DATA/df_ultra_mega_frame1.csv') #we later split this into "
   ]
  },
  {
   "cell_type": "markdown",
   "metadata": {},
   "source": [
    "### Read in here"
   ]
  }
 ],
 "metadata": {
  "anaconda-cloud": {},
  "kernelspec": {
   "display_name": "Python 3",
   "language": "python",
   "name": "python3"
  },
  "language_info": {
   "codemirror_mode": {
    "name": "ipython",
    "version": 3
   },
   "file_extension": ".py",
   "mimetype": "text/x-python",
   "name": "python",
   "nbconvert_exporter": "python",
   "pygments_lexer": "ipython3",
   "version": "3.6.5"
  }
 },
 "nbformat": 4,
 "nbformat_minor": 2
}
