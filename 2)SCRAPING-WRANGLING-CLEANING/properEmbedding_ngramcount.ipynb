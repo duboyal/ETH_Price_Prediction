{
 "cells": [
  {
   "cell_type": "code",
   "execution_count": 5,
   "metadata": {},
   "outputs": [
    {
     "data": {
      "text/plain": [
       "20976"
      ]
     },
     "execution_count": 5,
     "metadata": {},
     "output_type": "execute_result"
    }
   ],
   "source": [
    "import pandas as pd\n",
    "from textblob import TextBlob\n",
    "import datetime\n",
    "import time\n",
    "import string\n",
    "from string import punctuation\n",
    "\n",
    "#df2 = pd.read_csv('df_mega_eth.csv')\n",
    "#df3 = pd.read_csv('df_mega_binance.csv')\n",
    "df = pd.read_csv('__SELF_CONTAINED/1)DATA/reddit_posts/df_mega_crypmkts_117.csv')\n",
    "df = df.sort_values('timestamp')\n",
    "#df5 = pd.read_csv('df_mega_bitcoinnews.csv')\n",
    "#df6 = pd.read_csv('df_mega_block.csv')\n",
    "\n",
    "df1 = df[0:103430]\n",
    "df1 = df[103430:206860]\n",
    "df2 = df[206860:310290]\n",
    "#df3 = df[310290:413720]\n",
    "#df4 = df[413720:517150]\n",
    "#df5 = df[517150:620580]\n",
    "#df6 = df[620580:724010]\n",
    "#df7 = df[724010:827440]\n",
    "#df8 = df[827440:930870]\n",
    "#df9 = df[930870:1034300]\n",
    "#df10 = df[1034300:1137730]\n",
    "#df11 = df[1137730:1241160]\n",
    "#df12 = df[1241160:1344590]\n",
    "#df13 = df[1344590:1448020]\n",
    "#df14 = df[1448020:1551450]\n",
    "\n",
    "#print(len(df5))\n",
    "#print(len(df8))\n",
    "\n",
    "len(df)\n",
    "len(df1)"
   ]
  },
  {
   "cell_type": "markdown",
   "metadata": {},
   "source": [
    "first we strip of punctuation"
   ]
  },
  {
   "cell_type": "code",
   "execution_count": 6,
   "metadata": {
    "collapsed": true
   },
   "outputs": [],
   "source": [
    "def strip_punctuation(s):\n",
    "    return ''.join(c for c in s if c not in ascii(string.punctuation))"
   ]
  },
  {
   "cell_type": "code",
   "execution_count": 7,
   "metadata": {},
   "outputs": [
    {
     "name": "stdout",
     "output_type": "stream",
     "text": [
      "!\"#$%&'()*+,-./:;<=>?@[\\]^_`{|}~\n"
     ]
    }
   ],
   "source": [
    "print(string.punctuation) #check if apostrophe unicode"
   ]
  },
  {
   "cell_type": "code",
   "execution_count": 8,
   "metadata": {},
   "outputs": [
    {
     "name": "stderr",
     "output_type": "stream",
     "text": [
      "/Users/Alexandra/anaconda/lib/python3.6/site-packages/ipykernel_launcher.py:2: SettingWithCopyWarning: \n",
      "A value is trying to be set on a copy of a slice from a DataFrame.\n",
      "Try using .loc[row_indexer,col_indexer] = value instead\n",
      "\n",
      "See the caveats in the documentation: http://pandas.pydata.org/pandas-docs/stable/indexing.html#indexing-view-versus-copy\n",
      "  \n",
      "/Users/Alexandra/anaconda/lib/python3.6/site-packages/ipykernel_launcher.py:4: SettingWithCopyWarning: \n",
      "A value is trying to be set on a copy of a slice from a DataFrame.\n",
      "Try using .loc[row_indexer,col_indexer] = value instead\n",
      "\n",
      "See the caveats in the documentation: http://pandas.pydata.org/pandas-docs/stable/indexing.html#indexing-view-versus-copy\n",
      "  after removing the cwd from sys.path.\n",
      "/Users/Alexandra/anaconda/lib/python3.6/site-packages/ipykernel_launcher.py:10: SettingWithCopyWarning: \n",
      "A value is trying to be set on a copy of a slice from a DataFrame.\n",
      "Try using .loc[row_indexer,col_indexer] = value instead\n",
      "\n",
      "See the caveats in the documentation: http://pandas.pydata.org/pandas-docs/stable/indexing.html#indexing-view-versus-copy\n",
      "  # Remove the CWD from sys.path while we load stuff.\n"
     ]
    }
   ],
   "source": [
    "#convert to string first\n",
    "df1['text'] = [str(item) for item in df1['text']]\n",
    "\n",
    "df1['text'] = [strip_punctuation(item) for item in df1['text']]\n",
    "#     for some reason does not get rid of all apostrophes upon inspecting\n",
    "#     the dataframe so we handle that later\n",
    "\n",
    "#  now make it text blob objects\n",
    "textblob_objects = [TextBlob(item) for item in df1['text']]\n",
    "df1['text'] = textblob_objects"
   ]
  },
  {
   "cell_type": "code",
   "execution_count": 9,
   "metadata": {},
   "outputs": [
    {
     "name": "stderr",
     "output_type": "stream",
     "text": [
      "/Users/Alexandra/anaconda/lib/python3.6/site-packages/ipykernel_launcher.py:1: SettingWithCopyWarning: \n",
      "A value is trying to be set on a copy of a slice from a DataFrame.\n",
      "Try using .loc[row_indexer,col_indexer] = value instead\n",
      "\n",
      "See the caveats in the documentation: http://pandas.pydata.org/pandas-docs/stable/indexing.html#indexing-view-versus-copy\n",
      "  \"\"\"Entry point for launching an IPython kernel.\n"
     ]
    }
   ],
   "source": [
    "df1['timestamp'] = df1['timestamp'].dropna()\n",
    "df1 = df1[df1['timestamp'].isnull() == False] #i think does same thing as one above"
   ]
  },
  {
   "cell_type": "code",
   "execution_count": 10,
   "metadata": {},
   "outputs": [
    {
     "name": "stdout",
     "output_type": "stream",
     "text": [
      "20976\n"
     ]
    }
   ],
   "source": [
    "int_time1 = df1['timestamp'].apply(int) \n",
    "\n",
    "#^^^^sometimes need to toggle comment, above line if rerunning cell for second time will give error\n",
    "\n",
    "df1['timestamp'] = [datetime.datetime.fromtimestamp(item) for item in int_time1]\n",
    "print(len(df1))"
   ]
  },
  {
   "cell_type": "code",
   "execution_count": 4,
   "metadata": {
    "collapsed": true
   },
   "outputs": [],
   "source": [
    "\n",
    "backs_list = ['back','backs','backed','backing','support','supports',\n",
    "              'supporting', 'endorse', 'endorsing','endorsed']\n",
    "\n",
    "\n",
    "bans_list = ['bans','banned','banning','ban','opposes','oppose','opposed','anti','against']\n",
    "\n",
    "cryptolist = ['bitcoin','ethereum','ripple','btc','eth',\n",
    "              'xrp','crypto','cryptocurrency','blockchain']"
   ]
  },
  {
   "cell_type": "markdown",
   "metadata": {},
   "source": [
    "The functions findPosGrams and findNegGrams take in a textBlob object (which is now what every element under df1['text'] is.. and then check for the occurence of the possible gram: 'NNP' 'backs' 'bitcoin' .... or similar styles of 3-grams. Note that the first element is the Part Of Speech embedding of the textblob tagged object.\n",
    "\n",
    "these functions have been tested and work on dataframes about 5000 rows long but always end up breaking or taking too long for things larger, and a try except was put into place because i kept getting an index out of range when I shouldn't have been (investigated all cases because the \" 's \" is considered its own seperate word when breaking the blob into its tagged parts)"
   ]
  },
  {
   "cell_type": "code",
   "execution_count": 23,
   "metadata": {
    "collapsed": true
   },
   "outputs": [],
   "source": [
    "\n",
    "def findPosGrams(blob2):\n",
    "    num = len(blob2.words) - 2\n",
    "    i = 0\n",
    "    count = 0\n",
    "    try:\n",
    "        for a in range(0,len(backs_list)):\n",
    "            for b in range(0,len(cryptolist)):\n",
    "                for j in range(0,num):\n",
    "                    if blob2.tags[j][i+1] == 'NN' and blob2.tags[j+1][i].lower() == backs_list[a] and blob2.tags[j+2][i].lower() == cryptolist[b]:\n",
    "                        count += 1\n",
    "                        print('hi')\n",
    "                    if blob2.tags[j][i+1] == 'NNP' and blob2.tags[j+1][i].lower() == backs_list[a] and blob2.tags[j+2][i].lower() == cryptolist[b]:\n",
    "                        count += 1\n",
    "                        print('ho')\n",
    "                    if blob2.tags[j][i+1] == 'NN' and blob2.tags[j+1][i].lower() == backs_list[a] and blob2.tags[j+2][i].lower() == \"'s\" and blob2.tags[j+3][i].lower() == cryptolist[b]:\n",
    "                        count += 1\n",
    "                        print('hi8')\n",
    "                    if blob2.tags[j][i+1] == 'NNP' and blob2.tags[j+1][i].lower() == backs_list[a] and blob2.tags[j+2][i].lower() == \"'s\" and blob2.tags[j+3][i].lower() == cryptolist[b]:\n",
    "                        count += 1\n",
    "                        print('hi9')\n",
    "    except IndexError:\n",
    "        count = 0\n",
    "        \n",
    "    return count"
   ]
  },
  {
   "cell_type": "code",
   "execution_count": 24,
   "metadata": {},
   "outputs": [
    {
     "name": "stdout",
     "output_type": "stream",
     "text": [
      "[('but', 'CC'), ('really', 'RB'), ('JPMorgan', 'NNP'), ('Back', 'NNP'), (\"'s\", 'POS'), ('ripple', 'NN'), ('China', 'NNP'), ('Back', 'NNP'), (\"'s\", 'POS'), ('Bitcoin', 'NNP'), ('hello', 'NN')]\n",
      "['but', 'really', 'JPMorgan', 'Back', \"'s\", 'ripple', 'China', 'Back', \"'s\", 'Bitcoin', 'hello']\n"
     ]
    }
   ],
   "source": [
    "\n",
    "from textblob import TextBlob\n",
    "blob1 = TextBlob(\"but really JPMorgan Back's ripple China Back's Bitcoin hello\")\n",
    "print(blob1.tags)\n",
    "print(blob1.words)\n"
   ]
  },
  {
   "cell_type": "code",
   "execution_count": 25,
   "metadata": {},
   "outputs": [
    {
     "name": "stdout",
     "output_type": "stream",
     "text": [
      "hi9\n",
      "hi9\n"
     ]
    },
    {
     "data": {
      "text/plain": [
       "2"
      ]
     },
     "execution_count": 25,
     "metadata": {},
     "output_type": "execute_result"
    }
   ],
   "source": [
    "findPosGrams(blob1)"
   ]
  },
  {
   "cell_type": "code",
   "execution_count": 28,
   "metadata": {},
   "outputs": [],
   "source": [
    "def findNegGrams(blob2):\n",
    "    num = len(blob2.words) - 2\n",
    "    i = 0\n",
    "    count = 0\n",
    "    try:\n",
    "        for a in range(0,len(bans_list)):\n",
    "            for b in range(0,len(cryptolist)):\n",
    "                for j in range(0,num):\n",
    "                    if blob2.tags[j][i+1] == 'NN' and blob2.tags[j+1][i].lower() == bans_list[a] and blob2.tags[j+2][i].lower() == cryptolist[b]:\n",
    "                        count += 1\n",
    "                        print('hi')\n",
    "                    if blob2.tags[j][i+1] == 'NNP' and blob2.tags[j+1][i].lower() == bans_list[a] and blob2.tags[j+2][i].lower() == cryptolist[b]:\n",
    "                        count += 1\n",
    "                        print('ho')\n",
    "                    if blob2.tags[j][i+1] == 'NN' and blob2.tags[j+1][i].lower() == bans_list[a] and blob2.tags[j+2][i].lower() == \"'s\" and blob2.tags[j+3][i].lower() == cryptolist[b]:\n",
    "                        count += 1\n",
    "                        print('hi8')\n",
    "                    if blob2.tags[j][i+1] == 'NNP' and blob2.tags[j+1][i].lower() == bans_list[a] and blob2.tags[j+2][i].lower() == \"'s\" and blob2.tags[j+3][i].lower() == cryptolist[b]:\n",
    "                        count += 1\n",
    "                        print('hi9')\n",
    "    except IndexError:\n",
    "        count = 0\n",
    "        \n",
    "    return count"
   ]
  },
  {
   "cell_type": "code",
   "execution_count": 29,
   "metadata": {},
   "outputs": [
    {
     "name": "stdout",
     "output_type": "stream",
     "text": [
      "hi9\n",
      "hi9\n"
     ]
    },
    {
     "data": {
      "text/plain": [
       "2"
      ]
     },
     "execution_count": 29,
     "metadata": {},
     "output_type": "execute_result"
    }
   ],
   "source": [
    "blob_neg = TextBlob(\"but really JPMorgan ban's ripple China ban's Bitcoin hello\")\n",
    "findNegGrams(blob_neg)"
   ]
  },
  {
   "cell_type": "markdown",
   "metadata": {},
   "source": [
    "###### ok see if this works, ok it doesn't"
   ]
  },
  {
   "cell_type": "code",
   "execution_count": 15,
   "metadata": {
    "collapsed": true
   },
   "outputs": [],
   "source": [
    "#df1['neg_ngram_count'] = df1['text'].apply(findNegGrams)"
   ]
  },
  {
   "cell_type": "code",
   "execution_count": 5,
   "metadata": {
    "collapsed": true
   },
   "outputs": [],
   "source": [
    "df1 = df1.sort_values('timestamp')"
   ]
  },
  {
   "cell_type": "code",
   "execution_count": 4,
   "metadata": {
    "collapsed": true
   },
   "outputs": [],
   "source": [
    "df1['day'] = [item.strftime('%Y-%m-%d') for item in df1['timestamp']]"
   ]
  },
  {
   "cell_type": "code",
   "execution_count": null,
   "metadata": {
    "collapsed": true
   },
   "outputs": [],
   "source": [
    "df1_tstp_bigr = df1.filter(items=['timestamp', 'pos_gram_count'])"
   ]
  },
  {
   "cell_type": "code",
   "execution_count": null,
   "metadata": {
    "collapsed": true
   },
   "outputs": [],
   "source": [
    "df_negcount1 = df1.filter(items=['day', 'neg_gram_count'])\n",
    "df_poscount1 = df1.filter(items=['day', 'pos_gram_count'])"
   ]
  },
  {
   "cell_type": "code",
   "execution_count": null,
   "metadata": {
    "collapsed": true
   },
   "outputs": [],
   "source": [
    "df_negperday1 = df_negcount1.groupby('day').sum()\n",
    "df_posperday1 = df_poscount1.groupby('day').sum()"
   ]
  },
  {
   "cell_type": "code",
   "execution_count": null,
   "metadata": {
    "collapsed": true
   },
   "outputs": [],
   "source": [
    "df_posperday1.to_csv('df_posperday_bitcoin_df1_.csv')\n",
    "df_negperday1.to_csv('df_negperday_bitcoin_df1_.csv')"
   ]
  },
  {
   "cell_type": "code",
   "execution_count": null,
   "metadata": {
    "collapsed": true
   },
   "outputs": [],
   "source": [
    "import matplotlib.pylab as plt\n",
    "%matplotlib inline\n",
    "import seaborn; seaborn.set()\n",
    "\n",
    "#plt.figure(figsize=(12,6))\n",
    "fig, ax = plt.subplots(figsize = (12,6))\n",
    "\n",
    "plt.plot(df_negperday1)\n",
    "plt.plot(df_posperday1) #,marker = 'o', linestyle = 'None')\n",
    "\n",
    "#beautiful, text itself is tick labels. the 3 is step\n",
    "step = 3\n",
    "ax.xaxis.set_ticklabels(df_negperday1.index.values[::step]) #.index as opposed to ['day']\n",
    "#tick labels are the text that appear, need to be same size \n",
    "#so they know at every spot, what do i place?\n",
    "ax.xaxis.set_ticks(df_negperday1.index.values[::step]) #where i want labels to go\n",
    "_ = plt.xticks(rotation = 70)\n",
    "\n",
    "\n",
    "#probably an ovelapping histogram\n",
    "#sparse ticks, and add plt legend"
   ]
  },
  {
   "cell_type": "code",
   "execution_count": null,
   "metadata": {
    "collapsed": true
   },
   "outputs": [],
   "source": []
  }
 ],
 "metadata": {
  "kernelspec": {
   "display_name": "Python 3",
   "language": "python",
   "name": "python3"
  },
  "language_info": {
   "codemirror_mode": {
    "name": "ipython",
    "version": 3
   },
   "file_extension": ".py",
   "mimetype": "text/x-python",
   "name": "python",
   "nbconvert_exporter": "python",
   "pygments_lexer": "ipython3",
   "version": "3.6.5"
  }
 },
 "nbformat": 4,
 "nbformat_minor": 2
}
