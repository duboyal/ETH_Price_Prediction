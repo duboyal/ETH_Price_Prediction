{
 "cells": [
  {
   "cell_type": "code",
   "execution_count": 115,
   "metadata": {
    "collapsed": true
   },
   "outputs": [],
   "source": [
    "# This Python 3 environment comes with many helpful analytics libraries installed\n",
    "# It is defined by the kaggle/python docker image: https://github.com/kaggle/docker-python\n",
    "# For example, here's several helpful packages to load in \n",
    "\n",
    "import numpy as np # linear algebra\n",
    "import pandas as pd # data processing, CSV file I/O (e.g. pd.read_csv)\n",
    "import seaborn; seaborn.set()\n",
    "from sklearn.metrics import mean_squared_error\n",
    "# Input data files are available in the \"../input/\" directory.\n",
    "# For example, running this (by clicking run or pressing Shift+Enter) will list the files in the input directory\n",
    "\n",
    "# Any results you write to the current directory are saved as output.\n",
    "import matplotlib.pylab as plt\n",
    "%matplotlib inline\n",
    "from matplotlib.pylab import rcParams\n",
    "rcParams['figure.figsize'] = 15,6\n",
    "from statsmodels.tsa.stattools import adfuller\n",
    "from statsmodels.tsa.seasonal import seasonal_decompose\n",
    "from statsmodels.tsa.stattools import acf, pacf\n",
    "from statsmodels.tsa.arima_model import ARIMA"
   ]
  },
  {
   "cell_type": "code",
   "execution_count": 116,
   "metadata": {
    "collapsed": true
   },
   "outputs": [],
   "source": [
    "from cryptocmd import CmcScraper\n",
    "\n",
    "# initialise scraper\n",
    "scraper1 = CmcScraper('ETH', '10-08-2015', '21-3-2018')\n",
    "\n",
    "# get data as list of list\n",
    "headers, data = scraper1.get_data()\n",
    "\n",
    "# export the data to csv\n",
    "scraper1.export_csv()\n",
    "\n",
    "df_e = pd.read_csv('ETH_10-08-2015_21-03-2018.csv', dtype=str)\n",
    "\n",
    "# get dataframe for the data\n",
    "#df = scraper.get_dataframe()\n",
    "\n",
    "scraper2 = CmcScraper('BTC', '10-08-2015', '21-3-2018')\n",
    "headers, data = scraper2.get_data()\n",
    "scraper2.export_csv()\n",
    "df_b = pd.read_csv('BTC_10-08-2015_21-03-2018.csv', dtype=str)"
   ]
  },
  {
   "cell_type": "code",
   "execution_count": 117,
   "metadata": {
    "collapsed": true
   },
   "outputs": [],
   "source": [
    "def convert_date(date_string):\n",
    "    nums = date_string.split('-')\n",
    "    alt_format = '{}-{}-{}'.format(nums[1], nums[0], nums[2])\n",
    "    #alt_format = datetime.datetime(int(nums[2]), int(nums[0]), int(nums[1]), 0, 0)\n",
    "    return alt_format\n",
    "\n",
    "df_e['Date'] = df_e['Date'].apply(convert_date)\n",
    "df_b['Date'] = df_b['Date'].apply(convert_date)\n",
    "\n",
    "\n",
    "\n",
    "df_e['Date'] = pd.to_datetime(df_e['Date'],infer_datetime_format=True)\n",
    "df_b['Date'] = pd.to_datetime(df_b['Date'],infer_datetime_format=True)"
   ]
  },
  {
   "cell_type": "code",
   "execution_count": 118,
   "metadata": {
    "collapsed": true
   },
   "outputs": [],
   "source": [
    "df_e = df_e.sort_values('Date')\n",
    "df_b = df_b.sort_values('Date')"
   ]
  },
  {
   "cell_type": "code",
   "execution_count": 119,
   "metadata": {
    "collapsed": true
   },
   "outputs": [],
   "source": [
    "df_b.index = df_b['Date']\n",
    "df_e.index = df_e['Date']"
   ]
  },
  {
   "cell_type": "code",
   "execution_count": 120,
   "metadata": {
    "collapsed": true
   },
   "outputs": [],
   "source": [
    "#now need to fill into a 2d array"
   ]
  },
  {
   "cell_type": "code",
   "execution_count": 121,
   "metadata": {
    "collapsed": true
   },
   "outputs": [],
   "source": [
    "array_e = np.array(df_e['Close'])\n",
    "array_b = np.array(df_b['Close'])\n",
    "#array2d = np.array(array_e, array_b)\n",
    "x = np.array([array_e, array_b], np.float)"
   ]
  },
  {
   "cell_type": "code",
   "execution_count": 122,
   "metadata": {},
   "outputs": [
    {
     "data": {
      "text/plain": [
       "numpy.ndarray"
      ]
     },
     "execution_count": 122,
     "metadata": {},
     "output_type": "execute_result"
    }
   ],
   "source": [
    "type(x)"
   ]
  },
  {
   "cell_type": "code",
   "execution_count": 123,
   "metadata": {},
   "outputs": [
    {
     "data": {
      "text/plain": [
       "(2, 955)"
      ]
     },
     "execution_count": 123,
     "metadata": {},
     "output_type": "execute_result"
    }
   ],
   "source": [
    "x.shape"
   ]
  },
  {
   "cell_type": "code",
   "execution_count": 124,
   "metadata": {
    "collapsed": true
   },
   "outputs": [],
   "source": [
    "x = x.transpose()"
   ]
  },
  {
   "cell_type": "code",
   "execution_count": 127,
   "metadata": {},
   "outputs": [
    {
     "name": "stdout",
     "output_type": "stream",
     "text": [
      "\n",
      "Granger Causality\n",
      "number of lags (no zero) 1\n",
      "ssr based F test:         F=41.7256 , p=0.0000  , df_denom=951, df_num=1\n",
      "ssr based chi2 test:   chi2=41.8573 , p=0.0000  , df=1\n",
      "likelihood ratio test: chi2=40.9650 , p=0.0000  , df=1\n",
      "parameter F test:         F=41.7256 , p=0.0000  , df_denom=951, df_num=1\n"
     ]
    },
    {
     "data": {
      "text/plain": [
       "{1: ({'lrtest': (40.965014831330336, 1.5497877315681566e-10, 1),\n",
       "   'params_ftest': (41.72563786926958, 1.6736024729315687e-10, 951.0, 1),\n",
       "   'ssr_chi2test': (41.857264487152136, 9.818530557633372e-11, 1),\n",
       "   'ssr_ftest': (41.72563786926801, 1.6736024729328885e-10, 951.0, 1)},\n",
       "  [<statsmodels.regression.linear_model.RegressionResultsWrapper at 0x11e1eabe0>,\n",
       "   <statsmodels.regression.linear_model.RegressionResultsWrapper at 0x11e1f7940>,\n",
       "   array([[0., 1., 0.]])])}"
      ]
     },
     "execution_count": 127,
     "metadata": {},
     "output_type": "execute_result"
    }
   ],
   "source": [
    "import statsmodels.tsa.stattools as sm\n",
    "lag = 1\n",
    "\n",
    "sm.grangercausalitytests(x, lag)"
   ]
  },
  {
   "cell_type": "code",
   "execution_count": 1,
   "metadata": {
    "collapsed": true
   },
   "outputs": [],
   "source": [
    "#p value is less than 0.05 so its correlated"
   ]
  },
  {
   "cell_type": "code",
   "execution_count": null,
   "metadata": {
    "collapsed": true
   },
   "outputs": [],
   "source": []
  }
 ],
 "metadata": {
  "kernelspec": {
   "display_name": "Python 3",
   "language": "python",
   "name": "python3"
  },
  "language_info": {
   "codemirror_mode": {
    "name": "ipython",
    "version": 3
   },
   "file_extension": ".py",
   "mimetype": "text/x-python",
   "name": "python",
   "nbconvert_exporter": "python",
   "pygments_lexer": "ipython3",
   "version": "3.6.5"
  }
 },
 "nbformat": 4,
 "nbformat_minor": 2
}
