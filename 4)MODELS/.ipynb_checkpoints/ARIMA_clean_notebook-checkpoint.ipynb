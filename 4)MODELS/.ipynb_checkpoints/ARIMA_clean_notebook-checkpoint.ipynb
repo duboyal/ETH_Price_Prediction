{
 "cells": [
  {
   "cell_type": "code",
   "execution_count": 2,
   "metadata": {
    "collapsed": true
   },
   "outputs": [],
   "source": [
    "import pandas as pd\n",
    "import numpy as np"
   ]
  },
  {
   "cell_type": "code",
   "execution_count": 3,
   "metadata": {},
   "outputs": [],
   "source": [
    "df = pd.read_csv('EtherPriceHistory(USD).csv')"
   ]
  },
  {
   "cell_type": "code",
   "execution_count": 2,
   "metadata": {},
   "outputs": [
    {
     "data": {
      "text/html": [
       "<div>\n",
       "<table border=\"1\" class=\"dataframe\">\n",
       "  <thead>\n",
       "    <tr style=\"text-align: right;\">\n",
       "      <th></th>\n",
       "      <th>Unnamed: 0</th>\n",
       "      <th>Date</th>\n",
       "      <th>Open</th>\n",
       "      <th>High</th>\n",
       "      <th>Low</th>\n",
       "      <th>Close</th>\n",
       "    </tr>\n",
       "  </thead>\n",
       "  <tbody>\n",
       "    <tr>\n",
       "      <th>0</th>\n",
       "      <td>126</td>\n",
       "      <td>2017-11-15</td>\n",
       "      <td>337.96</td>\n",
       "      <td>340.91</td>\n",
       "      <td>329.81</td>\n",
       "      <td>333.36</td>\n",
       "    </tr>\n",
       "    <tr>\n",
       "      <th>1</th>\n",
       "      <td>125</td>\n",
       "      <td>2017-11-16</td>\n",
       "      <td>333.44</td>\n",
       "      <td>336.16</td>\n",
       "      <td>323.61</td>\n",
       "      <td>330.92</td>\n",
       "    </tr>\n",
       "    <tr>\n",
       "      <th>2</th>\n",
       "      <td>124</td>\n",
       "      <td>2017-11-17</td>\n",
       "      <td>330.17</td>\n",
       "      <td>334.96</td>\n",
       "      <td>327.52</td>\n",
       "      <td>332.39</td>\n",
       "    </tr>\n",
       "    <tr>\n",
       "      <th>3</th>\n",
       "      <td>123</td>\n",
       "      <td>2017-11-18</td>\n",
       "      <td>331.98</td>\n",
       "      <td>349.62</td>\n",
       "      <td>327.69</td>\n",
       "      <td>347.61</td>\n",
       "    </tr>\n",
       "    <tr>\n",
       "      <th>4</th>\n",
       "      <td>122</td>\n",
       "      <td>2017-11-19</td>\n",
       "      <td>347.40</td>\n",
       "      <td>371.29</td>\n",
       "      <td>344.74</td>\n",
       "      <td>354.39</td>\n",
       "    </tr>\n",
       "  </tbody>\n",
       "</table>\n",
       "</div>"
      ],
      "text/plain": [
       "   Unnamed: 0        Date    Open    High     Low   Close\n",
       "0         126  2017-11-15  337.96  340.91  329.81  333.36\n",
       "1         125  2017-11-16  333.44  336.16  323.61  330.92\n",
       "2         124  2017-11-17  330.17  334.96  327.52  332.39\n",
       "3         123  2017-11-18  331.98  349.62  327.69  347.61\n",
       "4         122  2017-11-19  347.40  371.29  344.74  354.39"
      ]
     },
     "execution_count": 2,
     "metadata": {},
     "output_type": "execute_result"
    }
   ],
   "source": [
    "df = pd.read_csv('formatted_datetime_eth_pricedata.csv')\n",
    "\n",
    "df.head()"
   ]
  },
  {
   "cell_type": "code",
   "execution_count": 3,
   "metadata": {
    "collapsed": true
   },
   "outputs": [],
   "source": [
    "date = pd.to_datetime(df.Date)\n",
    "price = df.Close"
   ]
  },
  {
   "cell_type": "code",
   "execution_count": 4,
   "metadata": {},
   "outputs": [
    {
     "data": {
      "text/plain": [
       "(pandas.core.series.Series, pandas.core.series.Series)"
      ]
     },
     "execution_count": 4,
     "metadata": {},
     "output_type": "execute_result"
    }
   ],
   "source": [
    "type(date), type(price)"
   ]
  },
  {
   "cell_type": "code",
   "execution_count": 5,
   "metadata": {},
   "outputs": [
    {
     "data": {
      "text/plain": [
       "(127, 127)"
      ]
     },
     "execution_count": 5,
     "metadata": {},
     "output_type": "execute_result"
    }
   ],
   "source": [
    "len(date), len(price)"
   ]
  },
  {
   "cell_type": "code",
   "execution_count": 7,
   "metadata": {
    "collapsed": true
   },
   "outputs": [],
   "source": [
    "price.index = date"
   ]
  },
  {
   "cell_type": "code",
   "execution_count": 8,
   "metadata": {},
   "outputs": [
    {
     "data": {
      "text/plain": [
       "Date\n",
       "2017-11-15    333.36\n",
       "2017-11-16    330.92\n",
       "2017-11-17    332.39\n",
       "2017-11-18    347.61\n",
       "2017-11-19    354.39\n",
       "Name: Close, dtype: float64"
      ]
     },
     "execution_count": 8,
     "metadata": {},
     "output_type": "execute_result"
    }
   ],
   "source": [
    "price.head()"
   ]
  },
  {
   "cell_type": "code",
   "execution_count": 10,
   "metadata": {
    "collapsed": true
   },
   "outputs": [],
   "source": [
    "from statsmodels.tsa.arima_model import ARIMA"
   ]
  },
  {
   "cell_type": "code",
   "execution_count": 19,
   "metadata": {},
   "outputs": [
    {
     "name": "stdout",
     "output_type": "stream",
     "text": [
      "                             ARIMA Model Results                              \n",
      "==============================================================================\n",
      "Dep. Variable:                D.Close   No. Observations:                  126\n",
      "Model:                 ARIMA(0, 1, 0)   Log Likelihood                -692.900\n",
      "Method:                           css   S.D. of innovations             59.161\n",
      "Date:                Thu, 19 Apr 2018   AIC                           1389.800\n",
      "Time:                        20:19:00   BIC                           1395.473\n",
      "Sample:                    11-16-2017   HQIC                          1392.105\n",
      "                         - 03-21-2018                                         \n",
      "==============================================================================\n",
      "                 coef    std err          z      P>|z|      [95.0% Conf. Int.]\n",
      "------------------------------------------------------------------------------\n",
      "const          1.8125      5.271      0.344      0.732        -8.518    12.142\n",
      "==============================================================================\n"
     ]
    }
   ],
   "source": [
    "model = ARIMA(price, order=(0,1,0))\n",
    "model_fit = model.fit(disp=0)\n",
    "print(model_fit.summary())"
   ]
  },
  {
   "cell_type": "code",
   "execution_count": 20,
   "metadata": {},
   "outputs": [
    {
     "name": "stdout",
     "output_type": "stream",
     "text": [
      "                             ARIMA Model Results                              \n",
      "==============================================================================\n",
      "Dep. Variable:                D.Close   No. Observations:                  126\n",
      "Model:                 ARIMA(0, 1, 0)   Log Likelihood                -692.900\n",
      "Method:                           css   S.D. of innovations             59.161\n",
      "Date:                Thu, 19 Apr 2018   AIC                           1389.800\n",
      "Time:                        20:19:12   BIC                           1395.473\n",
      "Sample:                    11-16-2017   HQIC                          1392.105\n",
      "                         - 03-21-2018                                         \n",
      "==============================================================================\n",
      "                 coef    std err          z      P>|z|      [95.0% Conf. Int.]\n",
      "------------------------------------------------------------------------------\n",
      "const          1.8125      5.271      0.344      0.732        -8.518    12.142\n",
      "==============================================================================\n"
     ]
    }
   ],
   "source": [
    "model = ARIMA(price, order=(0,1,0))\n",
    "model_fit = model.fit(disp=0)\n",
    "print(model_fit.summary())"
   ]
  },
  {
   "cell_type": "code",
   "execution_count": 21,
   "metadata": {},
   "outputs": [
    {
     "name": "stdout",
     "output_type": "stream",
     "text": [
      "                              ARMA Model Results                              \n",
      "==============================================================================\n",
      "Dep. Variable:                  Close   No. Observations:                  127\n",
      "Model:                     ARMA(1, 0)   Log Likelihood                -699.185\n",
      "Method:                       css-mle   S.D. of innovations             58.811\n",
      "Date:                Thu, 19 Apr 2018   AIC                           1404.370\n",
      "Time:                        20:19:22   BIC                           1412.902\n",
      "Sample:                    11-15-2017   HQIC                          1407.837\n",
      "                         - 03-21-2018                                         \n",
      "===============================================================================\n",
      "                  coef    std err          z      P>|z|      [95.0% Conf. Int.]\n",
      "-------------------------------------------------------------------------------\n",
      "const         650.6060    184.188      3.532      0.001       289.604  1011.608\n",
      "ar.L1.Close     0.9767      0.017     57.642      0.000         0.944     1.010\n",
      "                                    Roots                                    \n",
      "=============================================================================\n",
      "                 Real           Imaginary           Modulus         Frequency\n",
      "-----------------------------------------------------------------------------\n",
      "AR.1            1.0238           +0.0000j            1.0238            0.0000\n",
      "-----------------------------------------------------------------------------\n"
     ]
    }
   ],
   "source": [
    "model = ARIMA(price, order=(1,0,0))\n",
    "model_fit = model.fit(disp=0)\n",
    "print(model_fit.summary())"
   ]
  },
  {
   "cell_type": "code",
   "execution_count": 22,
   "metadata": {},
   "outputs": [
    {
     "name": "stdout",
     "output_type": "stream",
     "text": [
      "                             ARIMA Model Results                              \n",
      "==============================================================================\n",
      "Dep. Variable:                D.Close   No. Observations:                  126\n",
      "Model:                 ARIMA(1, 1, 0)   Log Likelihood                -692.489\n",
      "Method:                       css-mle   S.D. of innovations             58.967\n",
      "Date:                Thu, 19 Apr 2018   AIC                           1390.979\n",
      "Time:                        20:19:29   BIC                           1399.487\n",
      "Sample:                    11-16-2017   HQIC                          1394.435\n",
      "                         - 03-21-2018                                         \n",
      "=================================================================================\n",
      "                    coef    std err          z      P>|z|      [95.0% Conf. Int.]\n",
      "---------------------------------------------------------------------------------\n",
      "const             1.8115      5.708      0.317      0.752        -9.376    12.999\n",
      "ar.L1.D.Close     0.0803      0.088      0.908      0.366        -0.093     0.254\n",
      "                                    Roots                                    \n",
      "=============================================================================\n",
      "                 Real           Imaginary           Modulus         Frequency\n",
      "-----------------------------------------------------------------------------\n",
      "AR.1           12.4518           +0.0000j           12.4518            0.0000\n",
      "-----------------------------------------------------------------------------\n"
     ]
    }
   ],
   "source": [
    "model = ARIMA(price, order=(1,1,0))\n",
    "model_fit = model.fit(disp=0)\n",
    "print(model_fit.summary())"
   ]
  },
  {
   "cell_type": "code",
   "execution_count": 23,
   "metadata": {},
   "outputs": [
    {
     "name": "stdout",
     "output_type": "stream",
     "text": [
      "                             ARIMA Model Results                              \n",
      "==============================================================================\n",
      "Dep. Variable:                D.Close   No. Observations:                  126\n",
      "Model:                 ARIMA(1, 1, 1)   Log Likelihood                -692.101\n",
      "Method:                       css-mle   S.D. of innovations             58.783\n",
      "Date:                Thu, 19 Apr 2018   AIC                           1392.201\n",
      "Time:                        20:19:39   BIC                           1403.547\n",
      "Sample:                    11-16-2017   HQIC                          1396.811\n",
      "                         - 03-21-2018                                         \n",
      "=================================================================================\n",
      "                    coef    std err          z      P>|z|      [95.0% Conf. Int.]\n",
      "---------------------------------------------------------------------------------\n",
      "const             1.8190      5.574      0.326      0.745        -9.106    12.744\n",
      "ar.L1.D.Close    -0.5023      0.399     -1.257      0.211        -1.285     0.281\n",
      "ma.L1.D.Close     0.5996      0.366      1.637      0.104        -0.118     1.317\n",
      "                                    Roots                                    \n",
      "=============================================================================\n",
      "                 Real           Imaginary           Modulus         Frequency\n",
      "-----------------------------------------------------------------------------\n",
      "AR.1           -1.9909           +0.0000j            1.9909            0.5000\n",
      "MA.1           -1.6678           +0.0000j            1.6678            0.5000\n",
      "-----------------------------------------------------------------------------\n"
     ]
    }
   ],
   "source": [
    "model = ARIMA(price, order=(1,1,1))\n",
    "model_fit = model.fit(disp=0)\n",
    "print(model_fit.summary())"
   ]
  },
  {
   "cell_type": "code",
   "execution_count": null,
   "metadata": {
    "collapsed": true
   },
   "outputs": [],
   "source": []
  }
 ],
 "metadata": {
  "kernelspec": {
   "display_name": "Python 3",
   "language": "python",
   "name": "python3"
  },
  "language_info": {
   "codemirror_mode": {
    "name": "ipython",
    "version": 3
   },
   "file_extension": ".py",
   "mimetype": "text/x-python",
   "name": "python",
   "nbconvert_exporter": "python",
   "pygments_lexer": "ipython3",
   "version": "3.6.5"
  }
 },
 "nbformat": 4,
 "nbformat_minor": 2
}
